{
 "metadata": {
  "name": "",
  "signature": "sha256:ec54c337b41b167c35b6f15cf13eb1d6aa2f417407247d83846dc4ad72d88cb1"
 },
 "nbformat": 3,
 "nbformat_minor": 0,
 "worksheets": [
  {
   "cells": [
    {
     "cell_type": "code",
     "collapsed": false,
     "input": [
      "%load_ext vimception"
     ],
     "language": "python",
     "metadata": {},
     "outputs": [
      {
       "javascript": [
        "\n",
        "var cmd = IPython.keyboard_manager.command_shortcuts;\n",
        "var edit = IPython.keyboard_manager.edit_shortcuts;\n",
        "var def_cmd = IPython.default_command_shortcuts;\n",
        "var def_edit = IPython.default_edit_shortcuts;\n",
        "\n",
        "// get the code mirror editor of a curently selected cell\n",
        "function C() { return IPython.notebook.get_selected_cell().code_mirror; };\n",
        "\n",
        "// Change the mode of all current and future CodeMirror instances\n",
        "// Emacs users can use this function as just to('emacs') so long as they've\n",
        "// required/loaded emacs.js from CodeMirror\n",
        "function to(mode) {\n",
        "    var mode = mode || 'vim'\n",
        "    // first let's apply vim mode to all current cells\n",
        "    function to_mode(c) { return c.code_mirror.setOption('keyMap', mode);};\n",
        "    IPython.notebook.get_cells().map(to_mode);\n",
        "    // apply the mode to future cells created\n",
        "    IPython.Cell.options_default.cm_config.keyMap = mode;\n",
        "}\n",
        "\n",
        "function getCSS(path) {\n",
        "    $('<link/>', {\n",
        "       rel: 'stylesheet',\n",
        "       type: 'text/css',\n",
        "       href: path,\n",
        "    }).appendTo('head');\n",
        "}\n",
        "\n",
        "// I messed around with trying to get requireJS going here, but gave up and\n",
        "// just using this answer from SO \n",
        "// http://stackoverflow.com/questions/11803215/how-to-include-multiple-js-files-using-jquery-getscript-method\n",
        "\n",
        "var p = \"/static/components/codemirror/addon/\";\n",
        "\n",
        "$.when(\n",
        "// Grab the CodeMirror vim keymap\n",
        "$.getScript(p + \"../keymap/vim.js\"),\n",
        "// also make search work via /\n",
        "$.getScript(p + \"search/search.js\"),\n",
        "$.getScript(p + \"search/searchcursor.js\"),\n",
        "\n",
        "// TODO: hook-up gq to perform a harwrap\n",
        "$.getScript(p + \"wrap/hardwrap.js\"),\n",
        "$.getScript(p + \"selection/active-line.js\"),\n",
        "\n",
        "$.getScript(p + \"display/fullscreen.js\"),\n",
        "getCSS(p + \"display/fullscreen.css\"),\n",
        "getCSS(p + \"dialog/dialog.css\"),\n",
        "$.getScript(p + \"dialog/dialog.js\"),\n",
        "\n",
        "\n",
        "    $.Deferred(function( deferred ){\n",
        "        $( deferred.resolve );\n",
        "    })\n",
        ").then(function success(){\n",
        "\n",
        "console.log('Great success');\n",
        "\n",
        "IPython.CodeCell.options_default.cm_config.foldGutter = true;\n",
        "IPython.CodeCell.options_default.cm_config.gutters =  [\"CodeMirror-linenumbers\", \"CodeMirror-foldgutter\"];\n",
        "\n",
        "IPython.Cell.prototype.at_top = function () {\n",
        "        var cm = this.code_mirror;\n",
        "        var cursor = cm.getCursor();\n",
        "        if (cursor.line === 0) {\n",
        "            return true;\n",
        "        }\n",
        "        return false;\n",
        "    };\n",
        "\n",
        "\n",
        "IPython.Cell.prototype.at_bottom = function () {\n",
        "    var cm = this.code_mirror;\n",
        "    var cursor = cm.getCursor();\n",
        "    if (cursor.line === (cm.lineCount()-1)) {\n",
        "        return true;\n",
        "    }\n",
        "    return false;\n",
        "};\n",
        "// on all code mirror instances on this page, apply the function f\n",
        "function all_cm(f) {\n",
        "    // apply f to every code mirror instance. f takes one parameter\n",
        "    IPython.notebook.get_cells().map(function (c) { f(c.code_mirror); } );\n",
        "}\n",
        "\n",
        "\n",
        "to('vim');\n",
        "function vim_up(event) {\n",
        "    var cell = IPython.notebook.get_selected_cell();\n",
        "    if (cell && cell.at_top() && cell.code_mirror.options.keyMap === 'vim') {\n",
        "        console.log('inside the business logic k');\n",
        "        event.preventDefault();\n",
        "        IPython.notebook.command_mode()\n",
        "        IPython.notebook.select_prev();\n",
        "        IPython.notebook.edit_mode();\n",
        "        return false;\n",
        "    };\n",
        "}\n",
        "\n",
        "function vim_down(event) {\n",
        "            var cell = IPython.notebook.get_selected_cell();\n",
        "            if (cell && cell.at_bottom() && cell.code_mirror.options.keyMap === 'vim') {\n",
        "                event.preventDefault();\n",
        "                IPython.notebook.command_mode()\n",
        "                IPython.notebook.select_next();\n",
        "                IPython.notebook.edit_mode();\n",
        "                return false;\n",
        "            };\n",
        "        }\n",
        "\n",
        "var m = '(vim) '\n",
        "var edit_shortcuts = {\n",
        "    'k' : {\n",
        "        help    : m + 'up a line, even across cells',\n",
        "        help_index : 'AA',\n",
        "        handler : vim_up\n",
        "    },\n",
        "    'j' : {\n",
        "        help    : m + 'down a line, even across cells',\n",
        "        help_index : 'AA',\n",
        "        handler : vim_down\n",
        "    },\n",
        "\n",
        "};\n",
        "\n",
        "var command_shortcuts = {\n",
        "    'c' :  {\n",
        "        help    : m + def_cmd['y'].help,\n",
        "        help_index : 'AA',\n",
        "        handler : def_cmd['y'].handler\n",
        "    }\n",
        "\n",
        "\n",
        "};\n",
        "\n",
        "edit.add_shortcuts(edit_shortcuts);\n",
        "cmd.add_shortcuts(command_shortcuts);\n",
        "//edit.add_shortcuts('k', def_edit['up'].handler);\n",
        "//edit.add_shortcut('j', def_edit['down'].handler);\n",
        "\n",
        "// N.B. This code looks fairly simple, but it took me forever to \n",
        "// figure out how to do this, \n",
        "// \n",
        "// there's a problem here, Ctrl-[ is already handled by CodeMirror by the time we \n",
        "// (IPython.keyboard_manager) get it CodeMirror issues signals on mode change, \n",
        "// so we have to hook into that to get Ctrl-[\n",
        "edit.remove_shortcut('Ctrl-[');\n",
        "edit.remove_shortcut('Esc');\n",
        "\n",
        "CodeMirror.commands.leaveInsertOrEdit = function (cm) {\n",
        "    if ( cm.state.vim.insertMode ) {\n",
        "        // do magic here to get out of insert mode\n",
        "        CodeMirror.keyMap['vim-insert']['Esc'](cm);\n",
        "    } else {\n",
        "        IPython.notebook.command_mode();\n",
        "        IPython.notebook.focus_cell();\n",
        "    }\n",
        "};\n",
        "        \n",
        "//C().options.extraKeys['Ctrl-['] = 'leaveInsertOrEdit';\n",
        "all_cm( function (cm) {\n",
        "    cm.options.extraKeys['Ctrl-['] = 'leaveInsertOrEdit';\n",
        "    cm.options.extraKeys['Esc'] = 'leaveInsertOrEdit';\n",
        "    if ( CodeMirror.defaults.extraKeys === null ) { \n",
        "        CodeMirror.defaults.extraKeys = {};\n",
        "    }\n",
        "    // TODO: make this change permanent\n",
        "    // this part seems to be ignore when adding a new cell\n",
        "    // - alternative solution would be to listen for NewCell events and rerun the CM function on it\n",
        "    // - it could also be the case that when we instatiate CodeMirror, we somehow leave out CM.defaults.extraKeys\n",
        "    IPython.CodeCell.options_default.cm_config.extraKeys['Ctrl-['] = 'leaveInsertOrEdit';\n",
        "    IPython.TextCell.options_default.cm_config.extraKeys['Ctrl-['] = 'leaveInsertOrEdit';\n",
        "    IPython.CodeCell.options_default.cm_config.extraKeys['Esc'] = 'leaveInsertOrEdit';\n",
        "    IPython.TextCell.options_default.cm_config.extraKeys['Esc'] = 'leaveInsertOrEdit';\n",
        "})\n",
        "\n",
        "// On blur, make sure we go back to command mode for CodeMirror (in case user clicked away)\n",
        "// TODO: Make this permanent - how to get CodeMirror to do this for new cells created after\n",
        "all_cm( function (cm) {\n",
        "    cm.on('blur', function(cm) {\n",
        "        // TODO: I wish I understood a better way to do this, but fake pressing Escape work\n",
        "        CodeMirror.keyMap['vim-insert']['Esc'](cm);\n",
        "        CodeMirror.keyMap['vim']['Esc'](cm);\n",
        "        cm.setOption('styleActiveLine', false);\n",
        "        if (cm.getOption(\"fullScreen\")) {\n",
        "            cm.setOption('fullScreen', false); \n",
        "            // fullScreen the newly selected code mirror (doesn't work)\n",
        "            //setTimeout(100, function() {\n",
        "            //    console.log(IPython.notebook.get_selected_cell().code_mirror);\n",
        "            //    IPython.notebook.get_selected_cell().code_mirror.setOption('fullScreen', true); \n",
        "            //});\n",
        "        }\n",
        "    });\n",
        "    cm.on('focus', function(cm) {\n",
        "        cm.setOption('styleActiveLine', true);\n",
        "    });\n",
        "});\n",
        "\n",
        "// 'i' by default interrupts the kernel (what Ctrl-C does at the terminal)\n",
        "cmd.remove_shortcut('i');\n",
        "cmd.add_shortcut('i', def_cmd.enter);\n",
        "\n",
        "// not quite what we want - 'i' requires a double-tap\n",
        "// add documentation for this.\n",
        "cmd.add_shortcut('ctrl-c', function(e) { IPython.notebook.kernel.interrupt(); return false});\n",
        "\n",
        "\n",
        "function focus_last(e) {\n",
        "    var cells = IPython.notebook.get_cells();\n",
        "    cells[cells.length-1].focus_cell();\n",
        "};\n",
        "\n",
        "function focus_first(e) {\n",
        "    var cells = IPython.notebook.get_cells();\n",
        "    cells[0].focus_cell();\n",
        "};\n",
        "\n",
        "function combo_tap(combo, action) {\n",
        "    var that = this;\n",
        "    var timeout;\n",
        "    function f() {\n",
        "        console.log('f called once');\n",
        "        \n",
        "        // redo this so that when an action is performed, we restore the original combo\n",
        "        cmd.add_shortcut(combo[1], \n",
        "                function() { console.log(\"doing action\", combo); reset(); action(); timeout.clear();} );\n",
        "        timeout = setTimeout(function () {\n",
        "            console.log('resetting f');\n",
        "            reset();\n",
        "            //cmd.add_shortcut(combo[0], reset)\n",
        "        }, 800);\n",
        "    }\n",
        "    function reset(e) {\n",
        "        //cmd.remove_shortcut(combo[0]);\n",
        "        console.log('reset called');\n",
        "        //if (timeout) {\n",
        "        //    console.log('resetting aborted');\n",
        "        //    clearTimeout(timeout);\n",
        "        //    timeout = null;\n",
        "        //}\n",
        "        //that(combo, action); \n",
        "        cmd.add_shortcut(combo[0], f);\n",
        "    }\n",
        "    console.log(\"combo tap for\", combo);\n",
        "    \n",
        "    reset();\n",
        "};\n",
        "cmd.add_shortcut('shift-g', focus_last);\n",
        "combo_tap('gg', focus_first);\n",
        "\n",
        "// XXX: the way combo tap is currently implemented, this won't work\n",
        "// need a more generic mechanism for combo-taps with common prefixes\n",
        "// combo_tap('gq', f();\n",
        "//cmd.remove_shortcut('d');\n",
        "// cut\n",
        "combo_tap('dd', def_cmd['x'].handler);\n",
        "\n",
        "// copy\n",
        "combo_tap('yy', def_cmd['c'].handler);\n",
        "\n",
        "// paste\n",
        "cmd.add_shortcut('p', def_cmd['v']);\n",
        "\n",
        "// undo\n",
        "cmd.add_shortcut('u', def_cmd['z']);\n",
        "\n",
        "// Join (merge down with cell below)\n",
        "cmd.add_shortcut('shift-j', def_cmd['shift-m'])\n",
        "\n",
        "//edit.add_shortcut('k', def_edit['up'].handler);\n",
        "//[edit.add_shortcut('j', def_edit['down'].handler);\n",
        "\n",
        "CodeMirror.prototype.save = function() { \n",
        "    IPython.notebook.save_checkpoint()\n",
        "}\n",
        "\n",
        "function focus_last(e) {\n",
        "    var cells = IPython.notebook.get_cells();\n",
        "    cells[cells.length-1].focus_cell();\n",
        "};\n",
        "\n",
        "function focus_first(e) {\n",
        "    console.log('focus first called');\n",
        "    var cells = IPython.notebook.get_cells();\n",
        "    cells[0].focus_cell();\n",
        "};\n",
        "\n",
        "\n",
        "cmd.add_shortcut('shift-g', focus_last);\n",
        "combo_tap('gg', focus_first);\n",
        "\n",
        "// get rid of the default Ctrl-W binding\n",
        "// this only works for Firefox\n",
        "$(document).ready(function() {\n",
        "\t$(this).bind('keypress', function(e) {\n",
        "\t\tvar key = (e.keyCode ? e.keyCode : e.charCode);\n",
        "\t\tif (key == '119' && e.ctrlKey) {\n",
        "\t\t\treturn false;\n",
        "\t\t}\n",
        "\t});\n",
        "});\n",
        "\n",
        "window.addEventListener(\"beforeunload\", function( event ) {\n",
        "    var press = jQuery.Event(\"keypress\");\n",
        "    press.ctrlKey = false;\n",
        "    press.which = 27; // escape\n",
        "    $(document).trigger(press);\n",
        "    event.returnValue = \"\\nXXXXXXXXXXXXXXXXXXXXXXXXXXXXXXXXXXXXXXXXXXXXXX\";\n",
        "    event.returnValue +=\"\\nX  Chrome sucks at captruring Ctrl-W, sorry  X\";\n",
        "    event.returnValue += \"\\nXXXXXXXXXXXXXXXXXXXXXXXXXXXXXXXXXXXXXXXXXXXXXX\";\n",
        "});\n",
        "\n",
        "// update the keyboard shortcuts\n",
        "IPython.quick_help = new IPython.QuickHelp();\n",
        "\n",
        "//IPython.CodeCell.options_default.cm_config.styleActiveLine = true;\n",
        "\n",
        "all_cm( function (cm) {\n",
        "    cm.setOption('foldGutter', true);\n",
        "    cm.setOption('gutters',  [\"CodeMirror-linenumbers\", \"CodeMirror-foldgutter\"]);\n",
        "    cm.options.extraKeys[\"Ctrl-F\"] = function(cm){ cm.foldCode(cm.getCursor()); };\n",
        "    var wrapOptions = {column: 78, killTrailingSpace: true, wrapOn: /\\s\\S|[^\\.\\d]/ };\n",
        "    // XXX: add a hardwrap-range to this as well\n",
        "    cm.options.extraKeys[\"F2\"] =  function(cm) { cm.wrapParagraph(cm.getCursor(), wrapOptions); };\n",
        "    //cm.options.extraKeys[\"[\"] =  function(cm) { cm.setOption(\"fullScreen\", !cm.getOption(\"fullScreen\"))};\n",
        "    IPython.CodeCell.options_default.cm_config.extraKeys['Ctrl-F'] = function(cm){ cm.foldCode(cm.getCursor()); };\n",
        "    IPython.TextCell.options_default.cm_config.extraKeys['Ctrl-F'] = function(cm){ cm.foldCode(cm.getCursor()); };\n",
        "\n",
        "    // todo - do this for new cells as well\n",
        "    // support this a :only? turn off full screen on blur\n",
        "    cm.options.extraKeys[\"F11\"] =  function(cm) { cm.setOption(\"fullScreen\", !cm.getOption(\"fullScreen\"))};\n",
        "    cm.options.extraKeys[\"Ctrl-A\"] =  function(cm) {\n",
        "          if (cm.getOption(\"fullScreen\")) cm.setOption(\"fullScreen\", false);\n",
        "        };\n",
        "    //all_cm( function (cm) {\n",
        "});\n",
        "\n",
        "//setTimeout(function() {IPython.notebook.get_selected_cell().set_input_prompt('vim');}, 200)\n",
        "\n",
        "$(\"#ipython_notebook\").find('img').remove('#vim');\n",
        "$(\"#ipython_notebook\").append('<img id=\"vim\" src=\"http://www.vim.org/images/vim_on_fire.gif\"'\n",
        "        // XXX: add it to the distribution\n",
        "        // /static/custom/vim_on_fire.gif\" \n",
        "    + ' style=\"'\n",
        "    + 'position: absolute; left: 51px; top: -10px; height: initial;\">')\n",
        "$(\"#vim\").click( function () {$(this).hide()});\n",
        "\n",
        "\n",
        "// XXX: Autowrapping is kind of broken - you can write a line that will have\n",
        "// its last word (if it's 1 or 2 characters just go back and forth between the\n",
        "// current and the next lines)\n",
        "//all_cm(function (cm) {\n",
        "//    var wait, options = {column: 78, killTrailingSpace: true, wrapOn: /\\s\\S|[^\\.\\d]/};\n",
        "//    cm.on(\"change\", function(cm, change) {\n",
        "//      clearTimeout(wait);\n",
        "//      wait = setTimeout(function() {\n",
        "//        console.log(cm.wrapParagraphsInRange(change.from, CodeMirror.changeEnd(change), options));\n",
        "//      }, 300);\n",
        "//    });\n",
        "//});\n",
        "\n",
        "}, function  failure() { \n",
        "    alert('le sucks, something went wrong');\n",
        "\n",
        "});\n",
        "\n",
        "\n",
        "// at_top  and at_bottom methods for ipython-vimception\n",
        "    /**\n",
        "     * @method at_top\n",
        "     * @return {Boolean}\n",
        "     */\n",
        "    Cell.prototype.at_top = function () {\n",
        "        var cm = this.code_mirror;\n",
        "        var cursor = cm.getCursor();\n",
        "        if (cursor.line === 0 && cm.findPosV(cursor, -1, 'line').hitSide) {\n",
        "            return true;\n",
        "        } else {\n",
        "            return false;\n",
        "        }\n",
        "    };\n",
        "\n",
        "    /**\n",
        "     * @method at_bottom\n",
        "     * @return {Boolean}\n",
        "     * */\n",
        "    Cell.prototype.at_bottom = function () {\n",
        "        var cm = this.code_mirror;\n",
        "        var cursor = cm.getCursor();\n",
        "        if (cursor.line === (cm.lineCount()-1) && cm.findPosV(cursor, 1, 'line').hitSide) {\n",
        "            return true;\n",
        "        } else {\n",
        "            return false;\n",
        "        }\n",
        "    };\n"
       ],
       "metadata": {},
       "output_type": "display_data",
       "text": [
        "<IPython.core.display.Javascript at 0x104730a10>"
       ]
      },
      {
       "javascript": [
        "\n",
        "var cmd = IPython.keyboard_manager.command_shortcuts;\n",
        "var edit = IPython.keyboard_manager.edit_shortcuts;\n",
        "var def_cmd = IPython.default_command_shortcuts;\n",
        "var def_edit = IPython.default_edit_shortcuts;\n",
        "\n",
        "// get the code mirror editor of a curently selected cell\n",
        "function C() { return IPython.notebook.get_selected_cell().code_mirror; };\n",
        "\n",
        "// Change the mode of all current and future CodeMirror instances\n",
        "// Emacs users can use this function as just to('emacs') so long as they've\n",
        "// required/loaded emacs.js from CodeMirror\n",
        "function to(mode) {\n",
        "    var mode = mode || 'vim'\n",
        "    // first let's apply vim mode to all current cells\n",
        "    function to_mode(c) { return c.code_mirror.setOption('keyMap', mode);};\n",
        "    IPython.notebook.get_cells().map(to_mode);\n",
        "    // apply the mode to future cells created\n",
        "    IPython.Cell.options_default.cm_config.keyMap = mode;\n",
        "}\n",
        "\n",
        "function getCSS(path) {\n",
        "    $('<link/>', {\n",
        "       rel: 'stylesheet',\n",
        "       type: 'text/css',\n",
        "       href: path,\n",
        "    }).appendTo('head');\n",
        "}\n",
        "\n",
        "// I messed around with trying to get requireJS going here, but gave up and\n",
        "// just using this answer from SO \n",
        "// http://stackoverflow.com/questions/11803215/how-to-include-multiple-js-files-using-jquery-getscript-method\n",
        "\n",
        "var p = \"/static/components/codemirror/addon/\";\n",
        "\n",
        "$.when(\n",
        "// Grab the CodeMirror vim keymap\n",
        "$.getScript(p + \"../keymap/vim.js\"),\n",
        "// also make search work via /\n",
        "$.getScript(p + \"search/search.js\"),\n",
        "$.getScript(p + \"search/searchcursor.js\"),\n",
        "\n",
        "// TODO: hook-up gq to perform a harwrap\n",
        "$.getScript(p + \"wrap/hardwrap.js\"),\n",
        "$.getScript(p + \"selection/active-line.js\"),\n",
        "\n",
        "$.getScript(p + \"display/fullscreen.js\"),\n",
        "getCSS(p + \"display/fullscreen.css\"),\n",
        "getCSS(p + \"dialog/dialog.css\"),\n",
        "$.getScript(p + \"dialog/dialog.js\"),\n",
        "\n",
        "\n",
        "    $.Deferred(function( deferred ){\n",
        "        $( deferred.resolve );\n",
        "    })\n",
        ").then(function success(){\n",
        "\n",
        "console.log('Great success');\n",
        "\n",
        "IPython.CodeCell.options_default.cm_config.foldGutter = true;\n",
        "IPython.CodeCell.options_default.cm_config.gutters =  [\"CodeMirror-linenumbers\", \"CodeMirror-foldgutter\"];\n",
        "\n",
        "IPython.Cell.prototype.at_top = function () {\n",
        "        var cm = this.code_mirror;\n",
        "        var cursor = cm.getCursor();\n",
        "        if (cursor.line === 0) {\n",
        "            return true;\n",
        "        }\n",
        "        return false;\n",
        "    };\n",
        "\n",
        "\n",
        "IPython.Cell.prototype.at_bottom = function () {\n",
        "    var cm = this.code_mirror;\n",
        "    var cursor = cm.getCursor();\n",
        "    if (cursor.line === (cm.lineCount()-1)) {\n",
        "        return true;\n",
        "    }\n",
        "    return false;\n",
        "};\n",
        "// on all code mirror instances on this page, apply the function f\n",
        "function all_cm(f) {\n",
        "    // apply f to every code mirror instance. f takes one parameter\n",
        "    IPython.notebook.get_cells().map(function (c) { f(c.code_mirror); } );\n",
        "}\n",
        "\n",
        "\n",
        "to('vim');\n",
        "function vim_up(event) {\n",
        "    var cell = IPython.notebook.get_selected_cell();\n",
        "    if (cell && cell.at_top() && cell.code_mirror.options.keyMap === 'vim') {\n",
        "        console.log('inside the business logic k');\n",
        "        event.preventDefault();\n",
        "        IPython.notebook.command_mode()\n",
        "        IPython.notebook.select_prev();\n",
        "        IPython.notebook.edit_mode();\n",
        "        return false;\n",
        "    };\n",
        "}\n",
        "\n",
        "function vim_down(event) {\n",
        "            var cell = IPython.notebook.get_selected_cell();\n",
        "            if (cell && cell.at_bottom() && cell.code_mirror.options.keyMap === 'vim') {\n",
        "                event.preventDefault();\n",
        "                IPython.notebook.command_mode()\n",
        "                IPython.notebook.select_next();\n",
        "                IPython.notebook.edit_mode();\n",
        "                return false;\n",
        "            };\n",
        "        }\n",
        "\n",
        "var m = '(vim) '\n",
        "var edit_shortcuts = {\n",
        "    'k' : {\n",
        "        help    : m + 'up a line, even across cells',\n",
        "        help_index : 'AA',\n",
        "        handler : vim_up\n",
        "    },\n",
        "    'j' : {\n",
        "        help    : m + 'down a line, even across cells',\n",
        "        help_index : 'AA',\n",
        "        handler : vim_down\n",
        "    },\n",
        "\n",
        "};\n",
        "\n",
        "var command_shortcuts = {\n",
        "    'c' :  {\n",
        "        help    : m + def_cmd['y'].help,\n",
        "        help_index : 'AA',\n",
        "        handler : def_cmd['y'].handler\n",
        "    }\n",
        "\n",
        "\n",
        "};\n",
        "\n",
        "edit.add_shortcuts(edit_shortcuts);\n",
        "cmd.add_shortcuts(command_shortcuts);\n",
        "//edit.add_shortcuts('k', def_edit['up'].handler);\n",
        "//edit.add_shortcut('j', def_edit['down'].handler);\n",
        "\n",
        "// N.B. This code looks fairly simple, but it took me forever to \n",
        "// figure out how to do this, \n",
        "// \n",
        "// there's a problem here, Ctrl-[ is already handled by CodeMirror by the time we \n",
        "// (IPython.keyboard_manager) get it CodeMirror issues signals on mode change, \n",
        "// so we have to hook into that to get Ctrl-[\n",
        "edit.remove_shortcut('Ctrl-[');\n",
        "edit.remove_shortcut('Esc');\n",
        "\n",
        "CodeMirror.commands.leaveInsertOrEdit = function (cm) {\n",
        "    if ( cm.state.vim.insertMode ) {\n",
        "        // do magic here to get out of insert mode\n",
        "        CodeMirror.keyMap['vim-insert']['Esc'](cm);\n",
        "    } else {\n",
        "        IPython.notebook.command_mode();\n",
        "        IPython.notebook.focus_cell();\n",
        "    }\n",
        "};\n",
        "        \n",
        "//C().options.extraKeys['Ctrl-['] = 'leaveInsertOrEdit';\n",
        "all_cm( function (cm) {\n",
        "    cm.options.extraKeys['Ctrl-['] = 'leaveInsertOrEdit';\n",
        "    cm.options.extraKeys['Esc'] = 'leaveInsertOrEdit';\n",
        "    if ( CodeMirror.defaults.extraKeys === null ) { \n",
        "        CodeMirror.defaults.extraKeys = {};\n",
        "    }\n",
        "    // TODO: make this change permanent\n",
        "    // this part seems to be ignore when adding a new cell\n",
        "    // - alternative solution would be to listen for NewCell events and rerun the CM function on it\n",
        "    // - it could also be the case that when we instatiate CodeMirror, we somehow leave out CM.defaults.extraKeys\n",
        "    IPython.CodeCell.options_default.cm_config.extraKeys['Ctrl-['] = 'leaveInsertOrEdit';\n",
        "    IPython.TextCell.options_default.cm_config.extraKeys['Ctrl-['] = 'leaveInsertOrEdit';\n",
        "    IPython.CodeCell.options_default.cm_config.extraKeys['Esc'] = 'leaveInsertOrEdit';\n",
        "    IPython.TextCell.options_default.cm_config.extraKeys['Esc'] = 'leaveInsertOrEdit';\n",
        "})\n",
        "\n",
        "// On blur, make sure we go back to command mode for CodeMirror (in case user clicked away)\n",
        "// TODO: Make this permanent - how to get CodeMirror to do this for new cells created after\n",
        "all_cm( function (cm) {\n",
        "    cm.on('blur', function(cm) {\n",
        "        // TODO: I wish I understood a better way to do this, but fake pressing Escape work\n",
        "        CodeMirror.keyMap['vim-insert']['Esc'](cm);\n",
        "        CodeMirror.keyMap['vim']['Esc'](cm);\n",
        "        cm.setOption('styleActiveLine', false);\n",
        "        if (cm.getOption(\"fullScreen\")) {\n",
        "            cm.setOption('fullScreen', false); \n",
        "            // fullScreen the newly selected code mirror (doesn't work)\n",
        "            //setTimeout(100, function() {\n",
        "            //    console.log(IPython.notebook.get_selected_cell().code_mirror);\n",
        "            //    IPython.notebook.get_selected_cell().code_mirror.setOption('fullScreen', true); \n",
        "            //});\n",
        "        }\n",
        "    });\n",
        "    cm.on('focus', function(cm) {\n",
        "        cm.setOption('styleActiveLine', true);\n",
        "    });\n",
        "});\n",
        "\n",
        "// 'i' by default interrupts the kernel (what Ctrl-C does at the terminal)\n",
        "cmd.remove_shortcut('i');\n",
        "cmd.add_shortcut('i', def_cmd.enter);\n",
        "\n",
        "// not quite what we want - 'i' requires a double-tap\n",
        "// add documentation for this.\n",
        "cmd.add_shortcut('ctrl-c', function(e) { IPython.notebook.kernel.interrupt(); return false});\n",
        "\n",
        "\n",
        "function focus_last(e) {\n",
        "    var cells = IPython.notebook.get_cells();\n",
        "    cells[cells.length-1].focus_cell();\n",
        "};\n",
        "\n",
        "function focus_first(e) {\n",
        "    var cells = IPython.notebook.get_cells();\n",
        "    cells[0].focus_cell();\n",
        "};\n",
        "\n",
        "function combo_tap(combo, action) {\n",
        "    var that = this;\n",
        "    var timeout;\n",
        "    function f() {\n",
        "        console.log('f called once');\n",
        "        \n",
        "        // redo this so that when an action is performed, we restore the original combo\n",
        "        cmd.add_shortcut(combo[1], \n",
        "                function() { console.log(\"doing action\", combo); reset(); action(); timeout.clear();} );\n",
        "        timeout = setTimeout(function () {\n",
        "            console.log('resetting f');\n",
        "            reset();\n",
        "            //cmd.add_shortcut(combo[0], reset)\n",
        "        }, 800);\n",
        "    }\n",
        "    function reset(e) {\n",
        "        //cmd.remove_shortcut(combo[0]);\n",
        "        console.log('reset called');\n",
        "        //if (timeout) {\n",
        "        //    console.log('resetting aborted');\n",
        "        //    clearTimeout(timeout);\n",
        "        //    timeout = null;\n",
        "        //}\n",
        "        //that(combo, action); \n",
        "        cmd.add_shortcut(combo[0], f);\n",
        "    }\n",
        "    console.log(\"combo tap for\", combo);\n",
        "    \n",
        "    reset();\n",
        "};\n",
        "cmd.add_shortcut('shift-g', focus_last);\n",
        "combo_tap('gg', focus_first);\n",
        "\n",
        "// XXX: the way combo tap is currently implemented, this won't work\n",
        "// need a more generic mechanism for combo-taps with common prefixes\n",
        "// combo_tap('gq', f();\n",
        "//cmd.remove_shortcut('d');\n",
        "// cut\n",
        "combo_tap('dd', def_cmd['x'].handler);\n",
        "\n",
        "// copy\n",
        "combo_tap('yy', def_cmd['c'].handler);\n",
        "\n",
        "// paste\n",
        "cmd.add_shortcut('p', def_cmd['v']);\n",
        "\n",
        "// undo\n",
        "cmd.add_shortcut('u', def_cmd['z']);\n",
        "\n",
        "// Join (merge down with cell below)\n",
        "cmd.add_shortcut('shift-j', def_cmd['shift-m'])\n",
        "\n",
        "//edit.add_shortcut('k', def_edit['up'].handler);\n",
        "//[edit.add_shortcut('j', def_edit['down'].handler);\n",
        "\n",
        "CodeMirror.prototype.save = function() { \n",
        "    IPython.notebook.save_checkpoint()\n",
        "}\n",
        "\n",
        "function focus_last(e) {\n",
        "    var cells = IPython.notebook.get_cells();\n",
        "    cells[cells.length-1].focus_cell();\n",
        "};\n",
        "\n",
        "function focus_first(e) {\n",
        "    console.log('focus first called');\n",
        "    var cells = IPython.notebook.get_cells();\n",
        "    cells[0].focus_cell();\n",
        "};\n",
        "\n",
        "\n",
        "cmd.add_shortcut('shift-g', focus_last);\n",
        "combo_tap('gg', focus_first);\n",
        "\n",
        "// get rid of the default Ctrl-W binding\n",
        "// this only works for Firefox\n",
        "$(document).ready(function() {\n",
        "\t$(this).bind('keypress', function(e) {\n",
        "\t\tvar key = (e.keyCode ? e.keyCode : e.charCode);\n",
        "\t\tif (key == '119' && e.ctrlKey) {\n",
        "\t\t\treturn false;\n",
        "\t\t}\n",
        "\t});\n",
        "});\n",
        "\n",
        "window.addEventListener(\"beforeunload\", function( event ) {\n",
        "    var press = jQuery.Event(\"keypress\");\n",
        "    press.ctrlKey = false;\n",
        "    press.which = 27; // escape\n",
        "    $(document).trigger(press);\n",
        "    event.returnValue = \"\\nXXXXXXXXXXXXXXXXXXXXXXXXXXXXXXXXXXXXXXXXXXXXXX\";\n",
        "    event.returnValue +=\"\\nX  Chrome sucks at captruring Ctrl-W, sorry  X\";\n",
        "    event.returnValue += \"\\nXXXXXXXXXXXXXXXXXXXXXXXXXXXXXXXXXXXXXXXXXXXXXX\";\n",
        "});\n",
        "\n",
        "// update the keyboard shortcuts\n",
        "IPython.quick_help = new IPython.QuickHelp();\n",
        "\n",
        "//IPython.CodeCell.options_default.cm_config.styleActiveLine = true;\n",
        "\n",
        "all_cm( function (cm) {\n",
        "    cm.setOption('foldGutter', true);\n",
        "    cm.setOption('gutters',  [\"CodeMirror-linenumbers\", \"CodeMirror-foldgutter\"]);\n",
        "    cm.options.extraKeys[\"Ctrl-F\"] = function(cm){ cm.foldCode(cm.getCursor()); };\n",
        "    var wrapOptions = {column: 78, killTrailingSpace: true, wrapOn: /\\s\\S|[^\\.\\d]/ };\n",
        "    // XXX: add a hardwrap-range to this as well\n",
        "    cm.options.extraKeys[\"F2\"] =  function(cm) { cm.wrapParagraph(cm.getCursor(), wrapOptions); };\n",
        "    //cm.options.extraKeys[\"[\"] =  function(cm) { cm.setOption(\"fullScreen\", !cm.getOption(\"fullScreen\"))};\n",
        "    IPython.CodeCell.options_default.cm_config.extraKeys['Ctrl-F'] = function(cm){ cm.foldCode(cm.getCursor()); };\n",
        "    IPython.TextCell.options_default.cm_config.extraKeys['Ctrl-F'] = function(cm){ cm.foldCode(cm.getCursor()); };\n",
        "\n",
        "    // todo - do this for new cells as well\n",
        "    // support this a :only? turn off full screen on blur\n",
        "    cm.options.extraKeys[\"F11\"] =  function(cm) { cm.setOption(\"fullScreen\", !cm.getOption(\"fullScreen\"))};\n",
        "    cm.options.extraKeys[\"Ctrl-A\"] =  function(cm) {\n",
        "          if (cm.getOption(\"fullScreen\")) cm.setOption(\"fullScreen\", false);\n",
        "        };\n",
        "    //all_cm( function (cm) {\n",
        "});\n",
        "\n",
        "//setTimeout(function() {IPython.notebook.get_selected_cell().set_input_prompt('vim');}, 200)\n",
        "\n",
        "$(\"#ipython_notebook\").find('img').remove('#vim');\n",
        "$(\"#ipython_notebook\").append('<img id=\"vim\" src=\"http://www.vim.org/images/vim_on_fire.gif\"'\n",
        "        // XXX: add it to the distribution\n",
        "        // /static/custom/vim_on_fire.gif\" \n",
        "    + ' style=\"'\n",
        "    + 'position: absolute; left: 51px; top: -10px; height: initial;\">')\n",
        "$(\"#vim\").click( function () {$(this).hide()});\n",
        "\n",
        "\n",
        "// XXX: Autowrapping is kind of broken - you can write a line that will have\n",
        "// its last word (if it's 1 or 2 characters just go back and forth between the\n",
        "// current and the next lines)\n",
        "//all_cm(function (cm) {\n",
        "//    var wait, options = {column: 78, killTrailingSpace: true, wrapOn: /\\s\\S|[^\\.\\d]/};\n",
        "//    cm.on(\"change\", function(cm, change) {\n",
        "//      clearTimeout(wait);\n",
        "//      wait = setTimeout(function() {\n",
        "//        console.log(cm.wrapParagraphsInRange(change.from, CodeMirror.changeEnd(change), options));\n",
        "//      }, 300);\n",
        "//    });\n",
        "//});\n",
        "\n",
        "}, function  failure() { \n",
        "    alert('le sucks, something went wrong');\n",
        "\n",
        "});\n",
        "\n",
        "\n",
        "// at_top  and at_bottom methods for ipython-vimception\n",
        "    /**\n",
        "     * @method at_top\n",
        "     * @return {Boolean}\n",
        "     */\n",
        "    Cell.prototype.at_top = function () {\n",
        "        var cm = this.code_mirror;\n",
        "        var cursor = cm.getCursor();\n",
        "        if (cursor.line === 0 && cm.findPosV(cursor, -1, 'line').hitSide) {\n",
        "            return true;\n",
        "        } else {\n",
        "            return false;\n",
        "        }\n",
        "    };\n",
        "\n",
        "    /**\n",
        "     * @method at_bottom\n",
        "     * @return {Boolean}\n",
        "     * */\n",
        "    Cell.prototype.at_bottom = function () {\n",
        "        var cm = this.code_mirror;\n",
        "        var cursor = cm.getCursor();\n",
        "        if (cursor.line === (cm.lineCount()-1) && cm.findPosV(cursor, 1, 'line').hitSide) {\n",
        "            return true;\n",
        "        } else {\n",
        "            return false;\n",
        "        }\n",
        "    };\n"
       ],
       "metadata": {},
       "output_type": "display_data",
       "text": [
        "<IPython.core.display.Javascript at 0x104730950>"
       ]
      }
     ],
     "prompt_number": 1
    },
    {
     "cell_type": "code",
     "collapsed": false,
     "input": [
      "%load_ext autoreload\n",
      "%autoreload 2"
     ],
     "language": "python",
     "metadata": {},
     "outputs": [],
     "prompt_number": 1
    },
    {
     "cell_type": "code",
     "collapsed": false,
     "input": [
      "%reload_ext autoreload"
     ],
     "language": "python",
     "metadata": {},
     "outputs": [],
     "prompt_number": 2
    },
    {
     "cell_type": "code",
     "collapsed": false,
     "input": [
      "%matplotlib inline\n",
      "import matplotlib.pyplot as plt\n",
      "import numpy as np"
     ],
     "language": "python",
     "metadata": {},
     "outputs": [],
     "prompt_number": 3
    },
    {
     "cell_type": "markdown",
     "metadata": {},
     "source": [
      "# Hidden Alignment CRF for spelling correction\n",
      "\n",
      "This is an example to show how the model can be used to score candidate corrections."
     ]
    },
    {
     "cell_type": "markdown",
     "metadata": {},
     "source": [
      "## Training data\n",
      "\n",
      "Fei Liu and others collected string pairs from social media and this excellent source is available at:\n",
      "\n",
      "http://www.hlt.utdallas.edu/~yangl/data/Text_Norm_Data_Release_Fei_Liu/"
     ]
    },
    {
     "cell_type": "code",
     "collapsed": false,
     "input": [
      "lines = open('examples/Test_Set_3802_Pairs.txt', 'r').readlines()\n",
      "ppairs = [line.split('\\t')[1].strip().split(' | ') for line in lines]\n",
      "ppairs = [(pair[0], pair[i]) for pair in ppairs for i in xrange(1, len(pair))]\n",
      "print len(ppairs)\n",
      "ppairs[:5]"
     ],
     "language": "python",
     "metadata": {},
     "outputs": [
      {
       "output_type": "stream",
       "stream": "stdout",
       "text": [
        "3974\n"
       ]
      },
      {
       "metadata": {},
       "output_type": "pyout",
       "prompt_number": 4,
       "text": [
        "[('0kkay', 'okay'),\n",
        " ('0n', 'on'),\n",
        " ('0neee', 'one'),\n",
        " ('0r', 'or'),\n",
        " ('1s', 'once')]"
       ]
      }
     ],
     "prompt_number": 4
    },
    {
     "cell_type": "markdown",
     "metadata": {},
     "source": [
      "Let's keep 1000 of these pairs out to evaluate the final performance of the model."
     ]
    },
    {
     "cell_type": "code",
     "collapsed": false,
     "input": [
      "from sklearn.cross_validation import train_test_split\n",
      "ppairs_train, ppairs_test = train_test_split(ppairs, test_size=1000, random_state=1)\n",
      "ppairs_train = [tuple(ppair_train) for ppair_train in ppairs_train]\n",
      "ppairs_test = [tuple(ppair_test) for ppair_test in ppairs_test]\n",
      "print len(ppairs_train), len(ppairs_test)"
     ],
     "language": "python",
     "metadata": {},
     "outputs": [
      {
       "output_type": "stream",
       "stream": "stdout",
       "text": [
        "2974 1000\n"
       ]
      }
     ],
     "prompt_number": 5
    },
    {
     "cell_type": "markdown",
     "metadata": {},
     "source": [
      "## Negative training examples\n",
      "\n",
      "The model needs both positive examples (examples of matching string pairs) and negative examples (examples of strings that do not match). To generate the negative examples, let's just pair shuffle the positive examples:"
     ]
    },
    {
     "cell_type": "code",
     "collapsed": false,
     "input": [
      "from numpy.random import shuffle \n",
      "incorrect = list(zip(*ppairs_train)[0])\n",
      "shuffle(incorrect)\n",
      "correct = list(zip(*ppairs_train)[1])\n",
      "npairs_train = zip(incorrect, correct)\n",
      "npairs_train[:5]"
     ],
     "language": "python",
     "metadata": {},
     "outputs": [
      {
       "metadata": {},
       "output_type": "pyout",
       "prompt_number": 6,
       "text": [
        "[('mvmnts', 'uses'),\n",
        " ('saught', 'mummy'),\n",
        " ('sammich', 'shit'),\n",
        " ('chiilin', 'transfered'),\n",
        " ('likin', 'morning')]"
       ]
      }
     ],
     "prompt_number": 6
    },
    {
     "cell_type": "markdown",
     "metadata": {},
     "source": [
      "Concatenate the positive and negative examples and create labels - `0` for matching pairs and `1` for non-matching pairs."
     ]
    },
    {
     "cell_type": "code",
     "collapsed": true,
     "input": [
      "x_raw = ppairs_train + npairs_train\n",
      "y_orig = [0] * len(ppairs_train) + [1] * len(npairs_train)"
     ],
     "language": "python",
     "metadata": {},
     "outputs": [],
     "prompt_number": 7
    },
    {
     "cell_type": "markdown",
     "metadata": {},
     "source": [
      "## Extract features\n",
      "\n",
      "For this example let's just extract all possible features instead of doing feature selection."
     ]
    },
    {
     "cell_type": "code",
     "collapsed": false,
     "input": [
      "from pyhacrf import StringPairFeatureExtractor"
     ],
     "language": "python",
     "metadata": {},
     "outputs": [],
     "prompt_number": 9
    },
    {
     "cell_type": "code",
     "collapsed": false,
     "input": [
      "fe = StringPairFeatureExtractor(match=True, numeric=True, transition=True)\n",
      "x_orig = fe.fit_transform(x_raw)"
     ],
     "language": "python",
     "metadata": {},
     "outputs": [],
     "prompt_number": 10
    },
    {
     "cell_type": "markdown",
     "metadata": {},
     "source": [
      "## Split off testing examples to evaluate classification"
     ]
    },
    {
     "cell_type": "code",
     "collapsed": false,
     "input": [
      "from sklearn.cross_validation import train_test_split\n",
      "from sklearn.metrics import accuracy_score\n",
      "x_train, x_test, y_train, y_test = train_test_split(x_orig, y_orig, test_size=0.2, random_state=42)\n",
      "print y_train[:10], y_test[:10]\n",
      "print len(y_train), len(x_train), len(y_test), len(x_test)"
     ],
     "language": "python",
     "metadata": {},
     "outputs": [
      {
       "output_type": "stream",
       "stream": "stdout",
       "text": [
        "[0, 0, 0, 0, 1, 1, 1, 1, 1, 0] [1, 1, 0, 1, 1, 1, 1, 1, 0, 1]\n",
        "4758 4758 1190 1190\n"
       ]
      }
     ],
     "prompt_number": 44
    },
    {
     "cell_type": "markdown",
     "metadata": {},
     "source": [
      "## Cross-validation to find regularization parameter"
     ]
    },
    {
     "cell_type": "code",
     "collapsed": false,
     "input": [
      "from pyhacrf import Hacrf\n",
      "from scipy.optimize import fmin_l_bfgs_b"
     ],
     "language": "python",
     "metadata": {},
     "outputs": [],
     "prompt_number": 12
    },
    {
     "cell_type": "code",
     "collapsed": false,
     "input": [
      "models = []\n",
      "accs_train = []\n",
      "accs_val = []\n",
      "regs = []"
     ],
     "language": "python",
     "metadata": {},
     "outputs": [],
     "prompt_number": 69
    },
    {
     "cell_type": "code",
     "collapsed": false,
     "input": [
      "for n, i in enumerate(np.linspace(-1, 1, 20)):\n",
      "    for repeat in xrange(5):\n",
      "        print n, r, 10.0**(i)\n",
      "        m = Hacrf(l2_regularization=10.0**(i), optimizer=fmin_l_bfgs_b, optimizer_kwargs={'maxfun': 100})\n",
      "\n",
      "        x_t, x_v, y_t, y_v = train_test_split(x_train, y_train, test_size=0.5, random_state=42 + n + repeat * 1000)\n",
      "\n",
      "        m.fit(x_t, y_t, verbosity=20)\n",
      "\n",
      "        train_score = accuracy_score(m.predict(x_t), y_t)\n",
      "        val_score = accuracy_score(m.predict(x_v), y_v)\n",
      "        print 10.0**(i), train_score, val_score\n",
      "\n",
      "        regs.append(10.0**(i))\n",
      "        models.append(m)\n",
      "        accs_train.append(train_score)\n",
      "        accs_val.append(val_score)"
     ],
     "language": "python",
     "metadata": {},
     "outputs": [
      {
       "output_type": "stream",
       "stream": "stdout",
       "text": [
        "0.1\n",
        "Iteration  Log-likelihood |gradient|"
       ]
      },
      {
       "output_type": "stream",
       "stream": "stdout",
       "text": [
        "\n",
        "         0 -1.649e+03   2.06e+04\n",
        "        20     -128.3      852.4"
       ]
      },
      {
       "output_type": "stream",
       "stream": "stdout",
       "text": [
        "\n",
        "        40     -42.98      271.7"
       ]
      },
      {
       "output_type": "stream",
       "stream": "stdout",
       "text": [
        "\n",
        "        60     -37.34      74.94"
       ]
      },
      {
       "output_type": "stream",
       "stream": "stdout",
       "text": [
        "\n",
        "        80      -35.7      38.01"
       ]
      },
      {
       "output_type": "stream",
       "stream": "stdout",
       "text": [
        "\n",
        "       100     -35.46      17.73"
       ]
      },
      {
       "output_type": "stream",
       "stream": "stdout",
       "text": [
        "\n",
        "0.367879441171"
       ]
      },
      {
       "output_type": "stream",
       "stream": "stdout",
       "text": [
        " 1.0 0.974358974359\n",
        "0.1\n",
        "Iteration  Log-likelihood |gradient|"
       ]
      },
      {
       "output_type": "stream",
       "stream": "stdout",
       "text": [
        "\n",
        "         0 -1.649e+03  2.065e+04\n",
        "        20     -151.2  1.223e+03"
       ]
      },
      {
       "output_type": "stream",
       "stream": "stdout",
       "text": [
        "\n",
        "        40 -8.812e+03  8.261e+04"
       ]
      },
      {
       "output_type": "stream",
       "stream": "stdout",
       "text": [
        "\n",
        "        60     -36.62      99.96"
       ]
      },
      {
       "output_type": "stream",
       "stream": "stdout",
       "text": [
        "\n",
        "        80     -34.47      70.43"
       ]
      },
      {
       "output_type": "stream",
       "stream": "stdout",
       "text": [
        "\n",
        "       100     -33.59      35.17"
       ]
      },
      {
       "output_type": "stream",
       "stream": "stdout",
       "text": [
        "\n",
        "0.367879441171"
       ]
      },
      {
       "output_type": "stream",
       "stream": "stdout",
       "text": [
        " 1.0 0.970996216898\n",
        "0.1\n",
        "Iteration  Log-likelihood |gradient|"
       ]
      },
      {
       "output_type": "stream",
       "stream": "stdout",
       "text": [
        "\n",
        "         0 -1.649e+03  2.062e+04\n",
        "        20     -133.0      876.6"
       ]
      },
      {
       "output_type": "stream",
       "stream": "stdout",
       "text": [
        "\n",
        "        40     -47.92      419.3"
       ]
      },
      {
       "output_type": "stream",
       "stream": "stdout",
       "text": [
        "\n",
        "        60     -39.87       66.4"
       ]
      },
      {
       "output_type": "stream",
       "stream": "stdout",
       "text": [
        "\n",
        "        80     -37.99       45.8"
       ]
      },
      {
       "output_type": "stream",
       "stream": "stdout",
       "text": [
        "\n",
        "       100     -37.53      24.33"
       ]
      },
      {
       "output_type": "stream",
       "stream": "stdout",
       "text": [
        "\n",
        "0.367879441171"
       ]
      },
      {
       "output_type": "stream",
       "stream": "stdout",
       "text": [
        " 0.999159310635 0.97141656158\n",
        "0.1\n",
        "Iteration  Log-likelihood |gradient|"
       ]
      },
      {
       "output_type": "stream",
       "stream": "stdout",
       "text": [
        "\n",
        "         0 -1.649e+03  2.033e+04\n",
        "        20     -107.3  1.099e+03"
       ]
      },
      {
       "output_type": "stream",
       "stream": "stdout",
       "text": [
        "\n",
        "        40     -42.19      169.6"
       ]
      },
      {
       "output_type": "stream",
       "stream": "stdout",
       "text": [
        "\n",
        "        60     -33.82      73.29"
       ]
      },
      {
       "output_type": "stream",
       "stream": "stdout",
       "text": [
        "\n",
        "        80     -32.44      31.54"
       ]
      },
      {
       "output_type": "stream",
       "stream": "stdout",
       "text": [
        "\n",
        "       100     -31.99      20.71"
       ]
      },
      {
       "output_type": "stream",
       "stream": "stdout",
       "text": [
        "\n",
        "0.367879441171"
       ]
      },
      {
       "output_type": "stream",
       "stream": "stdout",
       "text": [
        " 1.0 0.974358974359\n",
        "0.1\n",
        "Iteration  Log-likelihood |gradient|"
       ]
      },
      {
       "output_type": "stream",
       "stream": "stdout",
       "text": [
        "\n",
        "         0 -1.649e+03  2.053e+04\n",
        "        20     -118.5      829.5"
       ]
      },
      {
       "output_type": "stream",
       "stream": "stdout",
       "text": [
        "\n",
        "        40     -41.51      130.4"
       ]
      },
      {
       "output_type": "stream",
       "stream": "stdout",
       "text": [
        "\n",
        "        60     -36.79       69.5"
       ]
      },
      {
       "output_type": "stream",
       "stream": "stdout",
       "text": [
        "\n",
        "        80     -36.13      31.75"
       ]
      },
      {
       "output_type": "stream",
       "stream": "stdout",
       "text": [
        "\n",
        "       100     -35.93       15.4"
       ]
      },
      {
       "output_type": "stream",
       "stream": "stdout",
       "text": [
        "\n",
        "0.367879441171"
       ]
      },
      {
       "output_type": "stream",
       "stream": "stdout",
       "text": [
        " 0.999159310635 0.970575872215\n",
        "0.12742749857\n",
        "Iteration  Log-likelihood |gradient|"
       ]
      },
      {
       "output_type": "stream",
       "stream": "stdout",
       "text": [
        "\n",
        "         0 -1.649e+03  2.065e+04\n",
        "        20     -151.4  1.241e+03"
       ]
      },
      {
       "output_type": "stream",
       "stream": "stdout",
       "text": [
        "\n",
        "        40     -278.4  7.459e+03"
       ]
      },
      {
       "output_type": "stream",
       "stream": "stdout",
       "text": [
        "\n",
        "        60      -42.1      129.7"
       ]
      },
      {
       "output_type": "stream",
       "stream": "stdout",
       "text": [
        "\n",
        "        80     -39.65      42.84"
       ]
      },
      {
       "output_type": "stream",
       "stream": "stdout",
       "text": [
        "\n",
        "       100     -39.07       31.7"
       ]
      },
      {
       "output_type": "stream",
       "stream": "stdout",
       "text": [
        "\n",
        "0.408715141106"
       ]
      },
      {
       "output_type": "stream",
       "stream": "stdout",
       "text": [
        " 1.0 0.970575872215\n",
        "0.12742749857\n",
        "Iteration  Log-likelihood |gradient|"
       ]
      },
      {
       "output_type": "stream",
       "stream": "stdout",
       "text": [
        "\n",
        "         0 -1.649e+03  2.062e+04\n",
        "        20     -134.8      886.5"
       ]
      },
      {
       "output_type": "stream",
       "stream": "stdout",
       "text": [
        "\n",
        "        40     -54.53      205.2"
       ]
      },
      {
       "output_type": "stream",
       "stream": "stdout",
       "text": [
        "\n",
        "        60     -47.54      122.9"
       ]
      },
      {
       "output_type": "stream",
       "stream": "stdout",
       "text": [
        "\n",
        "        80     -44.58      55.14"
       ]
      },
      {
       "output_type": "stream",
       "stream": "stdout",
       "text": [
        "\n",
        "       100     -43.89      40.53"
       ]
      },
      {
       "output_type": "stream",
       "stream": "stdout",
       "text": [
        "\n",
        "0.408715141106"
       ]
      },
      {
       "output_type": "stream",
       "stream": "stdout",
       "text": [
        " 0.999159310635 0.97141656158\n",
        "0.12742749857\n",
        "Iteration  Log-likelihood |gradient|"
       ]
      },
      {
       "output_type": "stream",
       "stream": "stdout",
       "text": [
        "\n",
        "         0 -1.649e+03  2.033e+04\n",
        "        20     -108.2  1.085e+03"
       ]
      },
      {
       "output_type": "stream",
       "stream": "stdout",
       "text": [
        "\n",
        "        40     -48.89      244.0"
       ]
      },
      {
       "output_type": "stream",
       "stream": "stdout",
       "text": [
        "\n",
        "        60     -39.43      91.91"
       ]
      },
      {
       "output_type": "stream",
       "stream": "stdout",
       "text": [
        "\n",
        "        80      -37.7      33.26"
       ]
      },
      {
       "output_type": "stream",
       "stream": "stdout",
       "text": [
        "\n",
        "       100     -37.26      19.28"
       ]
      },
      {
       "output_type": "stream",
       "stream": "stdout",
       "text": [
        "\n",
        "0.408715141106"
       ]
      },
      {
       "output_type": "stream",
       "stream": "stdout",
       "text": [
        " 1.0 0.974358974359\n",
        "0.12742749857\n",
        "Iteration  Log-likelihood |gradient|"
       ]
      },
      {
       "output_type": "stream",
       "stream": "stdout",
       "text": [
        "\n",
        "         0 -1.649e+03  2.053e+04\n",
        "        20     -120.3      798.0"
       ]
      },
      {
       "output_type": "stream",
       "stream": "stdout",
       "text": [
        "\n",
        "        40     -47.82      142.3"
       ]
      },
      {
       "output_type": "stream",
       "stream": "stdout",
       "text": [
        "\n",
        "        60     -43.03      90.12"
       ]
      },
      {
       "output_type": "stream",
       "stream": "stdout",
       "text": [
        "\n",
        "        80     -41.71      27.67"
       ]
      },
      {
       "output_type": "stream",
       "stream": "stdout",
       "text": [
        "\n",
        "       100     -41.47      19.55"
       ]
      },
      {
       "output_type": "stream",
       "stream": "stdout",
       "text": [
        "\n",
        "0.408715141106"
       ]
      },
      {
       "output_type": "stream",
       "stream": "stdout",
       "text": [
        " 0.999159310635 0.972257250946\n",
        "0.12742749857\n",
        "Iteration  Log-likelihood |gradient|"
       ]
      },
      {
       "output_type": "stream",
       "stream": "stdout",
       "text": [
        "\n",
        "         0 -1.649e+03  2.084e+04\n",
        "        20     -131.1  1.057e+03"
       ]
      },
      {
       "output_type": "stream",
       "stream": "stdout",
       "text": [
        "\n",
        "        40     -54.39      243.1"
       ]
      },
      {
       "output_type": "stream",
       "stream": "stdout",
       "text": [
        "\n",
        "        60     -43.25      94.99"
       ]
      },
      {
       "output_type": "stream",
       "stream": "stdout",
       "text": [
        "\n",
        "        80     -41.62      183.1"
       ]
      },
      {
       "output_type": "stream",
       "stream": "stdout",
       "text": [
        "\n",
        "       100     -40.65      34.41"
       ]
      },
      {
       "output_type": "stream",
       "stream": "stdout",
       "text": [
        "\n",
        "0.408715141106"
       ]
      },
      {
       "output_type": "stream",
       "stream": "stdout",
       "text": [
        " 1.0 0.97604035309\n",
        "0.162377673919\n",
        "Iteration  Log-likelihood |gradient|"
       ]
      },
      {
       "output_type": "stream",
       "stream": "stdout",
       "text": [
        "\n",
        "         0 -1.649e+03  2.062e+04\n",
        "        20     -136.7      907.1"
       ]
      },
      {
       "output_type": "stream",
       "stream": "stdout",
       "text": [
        "\n",
        "        40      -58.2      174.8"
       ]
      },
      {
       "output_type": "stream",
       "stream": "stdout",
       "text": [
        "\n",
        "        60     -51.24      75.85"
       ]
      },
      {
       "output_type": "stream",
       "stream": "stdout",
       "text": [
        "\n",
        "        80     -50.23      35.04"
       ]
      },
      {
       "output_type": "stream",
       "stream": "stdout",
       "text": [
        "\n",
        "       100     -49.86      24.62"
       ]
      },
      {
       "output_type": "stream",
       "stream": "stdout",
       "text": [
        "\n",
        "0.454083723835"
       ]
      },
      {
       "output_type": "stream",
       "stream": "stdout",
       "text": [
        " 0.998738965952 0.973518284994\n",
        "0.162377673919\n",
        "Iteration  Log-likelihood |gradient|"
       ]
      },
      {
       "output_type": "stream",
       "stream": "stdout",
       "text": [
        "\n",
        "         0 -1.649e+03  2.033e+04\n",
        "        20     -109.1  1.047e+03"
       ]
      },
      {
       "output_type": "stream",
       "stream": "stdout",
       "text": [
        "\n",
        "        40     -53.47      179.3"
       ]
      },
      {
       "output_type": "stream",
       "stream": "stdout",
       "text": [
        "\n",
        "        60     -46.03      93.89"
       ]
      },
      {
       "output_type": "stream",
       "stream": "stdout",
       "text": [
        "\n",
        "        80     -43.83      60.06"
       ]
      },
      {
       "output_type": "stream",
       "stream": "stdout",
       "text": [
        "\n",
        "       100      -43.4      26.24"
       ]
      },
      {
       "output_type": "stream",
       "stream": "stdout",
       "text": [
        "\n",
        "0.454083723835"
       ]
      },
      {
       "output_type": "stream",
       "stream": "stdout",
       "text": [
        " 0.999579655317 0.974779319042\n",
        "0.162377673919\n",
        "Iteration  Log-likelihood |gradient|"
       ]
      },
      {
       "output_type": "stream",
       "stream": "stdout",
       "text": [
        "\n",
        "         0 -1.649e+03  2.053e+04\n",
        "        20     -125.5      798.7"
       ]
      },
      {
       "output_type": "stream",
       "stream": "stdout",
       "text": [
        "\n",
        "        40     -56.31      229.3"
       ]
      },
      {
       "output_type": "stream",
       "stream": "stdout",
       "text": [
        "\n",
        "        60      -48.9      60.03"
       ]
      },
      {
       "output_type": "stream",
       "stream": "stdout",
       "text": [
        "\n",
        "        80     -48.05      33.32"
       ]
      },
      {
       "output_type": "stream",
       "stream": "stdout",
       "text": [
        "\n",
        "       100     -47.79      20.71"
       ]
      },
      {
       "output_type": "stream",
       "stream": "stdout",
       "text": [
        "\n",
        "0.454083723835"
       ]
      },
      {
       "output_type": "stream",
       "stream": "stdout",
       "text": [
        " 0.999159310635 0.971836906263\n",
        "0.162377673919\n",
        "Iteration  Log-likelihood |gradient|"
       ]
      },
      {
       "output_type": "stream",
       "stream": "stdout",
       "text": [
        "\n",
        "         0 -1.649e+03  2.084e+04\n",
        "        20     -132.9   1.07e+03"
       ]
      },
      {
       "output_type": "stream",
       "stream": "stdout",
       "text": [
        "\n",
        "        40     -60.08      239.5"
       ]
      },
      {
       "output_type": "stream",
       "stream": "stdout",
       "text": [
        "\n",
        "        60     -52.54      308.7"
       ]
      },
      {
       "output_type": "stream",
       "stream": "stdout",
       "text": [
        "\n",
        "        80     -88.41  3.217e+03"
       ]
      },
      {
       "output_type": "stream",
       "stream": "stdout",
       "text": [
        "\n",
        "       100     -47.04      40.55"
       ]
      },
      {
       "output_type": "stream",
       "stream": "stdout",
       "text": [
        "\n",
        "0.454083723835"
       ]
      },
      {
       "output_type": "stream",
       "stream": "stdout",
       "text": [
        " 1.0 0.975620008407\n",
        "0.162377673919\n",
        "Iteration  Log-likelihood |gradient|"
       ]
      },
      {
       "output_type": "stream",
       "stream": "stdout",
       "text": [
        "\n",
        "         0 -1.649e+03  2.057e+04\n",
        "        20     -96.71      640.7"
       ]
      },
      {
       "output_type": "stream",
       "stream": "stdout",
       "text": [
        "\n",
        "        40     -49.54      130.4"
       ]
      },
      {
       "output_type": "stream",
       "stream": "stdout",
       "text": [
        "\n",
        "        60     -46.68      56.18"
       ]
      },
      {
       "output_type": "stream",
       "stream": "stdout",
       "text": [
        "\n",
        "        80     -45.93       36.6"
       ]
      },
      {
       "output_type": "stream",
       "stream": "stdout",
       "text": [
        "\n",
        "       100     -45.61      23.14"
       ]
      },
      {
       "output_type": "stream",
       "stream": "stdout",
       "text": [
        "\n",
        "0.454083723835"
       ]
      },
      {
       "output_type": "stream",
       "stream": "stdout",
       "text": [
        " 0.999159310635 0.975620008407\n",
        "0.206913808111\n",
        "Iteration  Log-likelihood |gradient|"
       ]
      },
      {
       "output_type": "stream",
       "stream": "stdout",
       "text": [
        "\n",
        "         0 -1.649e+03  2.033e+04\n",
        "        20     -109.9      970.8"
       ]
      },
      {
       "output_type": "stream",
       "stream": "stdout",
       "text": [
        "\n",
        "        40      -57.9      184.5"
       ]
      },
      {
       "output_type": "stream",
       "stream": "stdout",
       "text": [
        "\n",
        "        60      -51.1      62.62"
       ]
      },
      {
       "output_type": "stream",
       "stream": "stdout",
       "text": [
        "\n",
        "        80     -50.78      289.3"
       ]
      },
      {
       "output_type": "stream",
       "stream": "stdout",
       "text": [
        "\n",
        "       100     -49.96      10.58"
       ]
      },
      {
       "output_type": "stream",
       "stream": "stdout",
       "text": [
        "\n",
        "0.504488352679"
       ]
      },
      {
       "output_type": "stream",
       "stream": "stdout",
       "text": [
        " 0.999159310635 0.973938629676\n",
        "0.206913808111\n",
        "Iteration  Log-likelihood |gradient|"
       ]
      },
      {
       "output_type": "stream",
       "stream": "stdout",
       "text": [
        "\n",
        "         0 -1.649e+03  2.053e+04\n",
        "        20     -128.9      813.0"
       ]
      },
      {
       "output_type": "stream",
       "stream": "stdout",
       "text": [
        "\n",
        "        40      -61.1      165.4"
       ]
      },
      {
       "output_type": "stream",
       "stream": "stdout",
       "text": [
        "\n",
        "        60     -56.42      75.22"
       ]
      },
      {
       "output_type": "stream",
       "stream": "stdout",
       "text": [
        "\n",
        "        80     -54.95      23.82"
       ]
      },
      {
       "output_type": "stream",
       "stream": "stdout",
       "text": [
        "\n",
        "       100      -54.8      25.66"
       ]
      },
      {
       "output_type": "stream",
       "stream": "stdout",
       "text": [
        "\n",
        "0.504488352679"
       ]
      },
      {
       "output_type": "stream",
       "stream": "stdout",
       "text": [
        " 0.999159310635 0.971836906263\n",
        "0.206913808111\n",
        "Iteration  Log-likelihood |gradient|"
       ]
      },
      {
       "output_type": "stream",
       "stream": "stdout",
       "text": [
        "\n",
        "         0 -1.649e+03  2.084e+04\n",
        "        20     -135.0  1.083e+03"
       ]
      },
      {
       "output_type": "stream",
       "stream": "stdout",
       "text": [
        "\n",
        "        40     -72.78      334.2"
       ]
      },
      {
       "output_type": "stream",
       "stream": "stdout",
       "text": [
        "\n",
        "        60     -57.68      170.5"
       ]
      },
      {
       "output_type": "stream",
       "stream": "stdout",
       "text": [
        "\n",
        "        80     -55.31      59.96"
       ]
      },
      {
       "output_type": "stream",
       "stream": "stdout",
       "text": [
        "\n",
        "       100     -54.58      60.48"
       ]
      },
      {
       "output_type": "stream",
       "stream": "stdout",
       "text": [
        "\n",
        "0.504488352679"
       ]
      },
      {
       "output_type": "stream",
       "stream": "stdout",
       "text": [
        " 0.999579655317 0.976460697772\n",
        "0.206913808111\n",
        "Iteration  Log-likelihood |gradient|"
       ]
      },
      {
       "output_type": "stream",
       "stream": "stdout",
       "text": [
        "\n",
        "         0 -1.649e+03  2.057e+04\n",
        "        20     -99.71      636.2"
       ]
      },
      {
       "output_type": "stream",
       "stream": "stdout",
       "text": [
        "\n",
        "        40     -54.54      86.95"
       ]
      },
      {
       "output_type": "stream",
       "stream": "stdout",
       "text": [
        "\n",
        "        60     -52.82       39.1"
       ]
      },
      {
       "output_type": "stream",
       "stream": "stdout",
       "text": [
        "\n",
        "        80      -52.4      19.46"
       ]
      },
      {
       "output_type": "stream",
       "stream": "stdout",
       "text": [
        "\n",
        "       100     -52.28      12.89"
       ]
      },
      {
       "output_type": "stream",
       "stream": "stdout",
       "text": [
        "\n",
        "0.504488352679"
       ]
      },
      {
       "output_type": "stream",
       "stream": "stdout",
       "text": [
        " 0.999159310635 0.973938629676\n",
        "0.206913808111\n",
        "Iteration  Log-likelihood |gradient|"
       ]
      },
      {
       "output_type": "stream",
       "stream": "stdout",
       "text": [
        "\n",
        "         0 -1.649e+03   2.04e+04\n",
        "        20     -126.5      913.2"
       ]
      },
      {
       "output_type": "stream",
       "stream": "stdout",
       "text": [
        "\n",
        "        40     -71.65      286.4"
       ]
      },
      {
       "output_type": "stream",
       "stream": "stdout",
       "text": [
        "\n",
        "        60     -59.66      158.5"
       ]
      },
      {
       "output_type": "stream",
       "stream": "stdout",
       "text": [
        "\n",
        "        80     -57.28      64.44"
       ]
      },
      {
       "output_type": "stream",
       "stream": "stdout",
       "text": [
        "\n",
        "       100     -56.81      237.4"
       ]
      },
      {
       "output_type": "stream",
       "stream": "stdout",
       "text": [
        "\n",
        "0.504488352679"
       ]
      },
      {
       "output_type": "stream",
       "stream": "stdout",
       "text": [
        " 0.999159310635 0.968894493485\n",
        "0.263665089873\n",
        "Iteration  Log-likelihood |gradient|"
       ]
      },
      {
       "output_type": "stream",
       "stream": "stdout",
       "text": [
        "\n",
        "         0 -1.649e+03  2.053e+04\n",
        "        20     -131.2      863.9"
       ]
      },
      {
       "output_type": "stream",
       "stream": "stdout",
       "text": [
        "\n",
        "        40     -69.56      184.3"
       ]
      },
      {
       "output_type": "stream",
       "stream": "stdout",
       "text": [
        "\n",
        "        60     -132.9  3.004e+03"
       ]
      },
      {
       "output_type": "stream",
       "stream": "stdout",
       "text": [
        "\n",
        "        80     -63.19      38.77"
       ]
      },
      {
       "output_type": "stream",
       "stream": "stdout",
       "text": [
        "\n",
        "       100     -64.16      414.0"
       ]
      },
      {
       "output_type": "stream",
       "stream": "stdout",
       "text": [
        "\n",
        "0.560488043569"
       ]
      },
      {
       "output_type": "stream",
       "stream": "stdout",
       "text": [
        " 0.998738965952 0.973518284994\n",
        "0.263665089873\n",
        "Iteration  Log-likelihood |gradient|"
       ]
      },
      {
       "output_type": "stream",
       "stream": "stdout",
       "text": [
        "\n",
        "         0 -1.649e+03  2.084e+04\n",
        "        20     -137.4  1.097e+03"
       ]
      },
      {
       "output_type": "stream",
       "stream": "stdout",
       "text": [
        "\n",
        "        40     -71.76      265.6"
       ]
      },
      {
       "output_type": "stream",
       "stream": "stdout",
       "text": [
        "\n",
        "        60     -64.25      117.3"
       ]
      },
      {
       "output_type": "stream",
       "stream": "stdout",
       "text": [
        "\n",
        "        80     -63.18      56.85"
       ]
      },
      {
       "output_type": "stream",
       "stream": "stdout",
       "text": [
        "\n",
        "       100     -62.72      35.21"
       ]
      },
      {
       "output_type": "stream",
       "stream": "stdout",
       "text": [
        "\n",
        "0.560488043569"
       ]
      },
      {
       "output_type": "stream",
       "stream": "stdout",
       "text": [
        " 0.999579655317 0.97604035309\n",
        "0.263665089873\n",
        "Iteration  Log-likelihood |gradient|"
       ]
      },
      {
       "output_type": "stream",
       "stream": "stdout",
       "text": [
        "\n",
        "         0 -1.649e+03  2.057e+04\n",
        "        20     -102.9      620.1"
       ]
      },
      {
       "output_type": "stream",
       "stream": "stdout",
       "text": [
        "\n",
        "        40     -74.51  1.115e+03"
       ]
      },
      {
       "output_type": "stream",
       "stream": "stdout",
       "text": [
        "\n",
        "        60     -61.52      65.99"
       ]
      },
      {
       "output_type": "stream",
       "stream": "stdout",
       "text": [
        "\n",
        "        80     -60.67      46.36"
       ]
      },
      {
       "output_type": "stream",
       "stream": "stdout",
       "text": [
        "\n",
        "       100     -60.38      26.59"
       ]
      },
      {
       "output_type": "stream",
       "stream": "stdout",
       "text": [
        "\n",
        "0.560488043569"
       ]
      },
      {
       "output_type": "stream",
       "stream": "stdout",
       "text": [
        " 0.999159310635 0.975199663724\n",
        "0.263665089873\n",
        "Iteration  Log-likelihood |gradient|"
       ]
      },
      {
       "output_type": "stream",
       "stream": "stdout",
       "text": [
        "\n",
        "         0 -1.649e+03   2.04e+04\n",
        "        20     -132.7      981.6"
       ]
      },
      {
       "output_type": "stream",
       "stream": "stdout",
       "text": [
        "\n",
        "        40     -78.09      254.6"
       ]
      },
      {
       "output_type": "stream",
       "stream": "stdout",
       "text": [
        "\n",
        "        60     -70.11      350.6"
       ]
      },
      {
       "output_type": "stream",
       "stream": "stdout",
       "text": [
        "\n",
        "        80     -65.82      84.06"
       ]
      },
      {
       "output_type": "stream",
       "stream": "stdout",
       "text": [
        "\n",
        "       100     -64.61      46.84"
       ]
      },
      {
       "output_type": "stream",
       "stream": "stdout",
       "text": [
        "\n",
        "0.560488043569"
       ]
      },
      {
       "output_type": "stream",
       "stream": "stdout",
       "text": [
        " 0.998738965952 0.969314838167\n",
        "0.263665089873\n",
        "Iteration  Log-likelihood |gradient|"
       ]
      },
      {
       "output_type": "stream",
       "stream": "stdout",
       "text": [
        "\n",
        "         0 -1.649e+03  2.089e+04\n",
        "        20     -113.1      839.4"
       ]
      },
      {
       "output_type": "stream",
       "stream": "stdout",
       "text": [
        "\n",
        "        40     -60.23      169.4"
       ]
      },
      {
       "output_type": "stream",
       "stream": "stdout",
       "text": [
        "\n",
        "        60     -56.57      87.21"
       ]
      },
      {
       "output_type": "stream",
       "stream": "stdout",
       "text": [
        "\n",
        "        80     -55.47      36.75"
       ]
      },
      {
       "output_type": "stream",
       "stream": "stdout",
       "text": [
        "\n",
        "       100     -55.16      26.69"
       ]
      },
      {
       "output_type": "stream",
       "stream": "stdout",
       "text": [
        "\n",
        "0.560488043569"
       ]
      },
      {
       "output_type": "stream",
       "stream": "stdout",
       "text": [
        " 0.999159310635 0.972677595628\n",
        "0.335981828628\n",
        "Iteration  Log-likelihood |gradient|"
       ]
      },
      {
       "output_type": "stream",
       "stream": "stdout",
       "text": [
        "\n",
        "         0 -1.649e+03  2.084e+04\n",
        "        20     -139.8  1.107e+03"
       ]
      },
      {
       "output_type": "stream",
       "stream": "stdout",
       "text": [
        "\n",
        "        40     -81.84      322.8"
       ]
      },
      {
       "output_type": "stream",
       "stream": "stdout",
       "text": [
        "\n",
        "        60     -74.59      99.96"
       ]
      },
      {
       "output_type": "stream",
       "stream": "stdout",
       "text": [
        "\n",
        "        80     -72.65       60.3"
       ]
      },
      {
       "output_type": "stream",
       "stream": "stdout",
       "text": [
        "\n",
        "       100     -72.12      37.74"
       ]
      },
      {
       "output_type": "stream",
       "stream": "stdout",
       "text": [
        "\n",
        "0.622703864848"
       ]
      },
      {
       "output_type": "stream",
       "stream": "stdout",
       "text": [
        " 0.999579655317 0.976460697772\n",
        "0.335981828628\n",
        "Iteration  Log-likelihood |gradient|"
       ]
      },
      {
       "output_type": "stream",
       "stream": "stdout",
       "text": [
        "\n",
        "         0 -1.649e+03  2.057e+04\n",
        "        20     -106.8      598.1"
       ]
      },
      {
       "output_type": "stream",
       "stream": "stdout",
       "text": [
        "\n",
        "        40     -74.22      231.0"
       ]
      },
      {
       "output_type": "stream",
       "stream": "stdout",
       "text": [
        "\n",
        "        60     -70.11      67.53"
       ]
      },
      {
       "output_type": "stream",
       "stream": "stdout",
       "text": [
        "\n",
        "        80     -69.19      30.12"
       ]
      },
      {
       "output_type": "stream",
       "stream": "stdout",
       "text": [
        "\n",
        "       100     -68.99      17.92"
       ]
      },
      {
       "output_type": "stream",
       "stream": "stdout",
       "text": [
        "\n",
        "0.622703864848"
       ]
      },
      {
       "output_type": "stream",
       "stream": "stdout",
       "text": [
        " 0.999159310635 0.975620008407\n",
        "0.335981828628\n",
        "Iteration  Log-likelihood |gradient|"
       ]
      },
      {
       "output_type": "stream",
       "stream": "stdout",
       "text": [
        "\n",
        "         0 -1.649e+03   2.04e+04\n",
        "        20     -128.1      756.6"
       ]
      },
      {
       "output_type": "stream",
       "stream": "stdout",
       "text": [
        "\n",
        "        40      -92.6      500.5"
       ]
      },
      {
       "output_type": "stream",
       "stream": "stdout",
       "text": [
        "\n",
        "        60     -80.85      207.0"
       ]
      },
      {
       "output_type": "stream",
       "stream": "stdout",
       "text": [
        "\n",
        "        80     -76.49      141.3"
       ]
      },
      {
       "output_type": "stream",
       "stream": "stdout",
       "text": [
        "\n",
        "       100     -74.15      61.28"
       ]
      },
      {
       "output_type": "stream",
       "stream": "stdout",
       "text": [
        "\n",
        "0.622703864848"
       ]
      },
      {
       "output_type": "stream",
       "stream": "stdout",
       "text": [
        " 0.998738965952 0.96973518285\n",
        "0.335981828628\n",
        "Iteration  Log-likelihood |gradient|"
       ]
      },
      {
       "output_type": "stream",
       "stream": "stdout",
       "text": [
        "\n",
        "         0 -1.649e+03  2.089e+04\n",
        "        20     -114.1  1.031e+03"
       ]
      },
      {
       "output_type": "stream",
       "stream": "stdout",
       "text": [
        "\n",
        "        40     -70.05      216.4"
       ]
      },
      {
       "output_type": "stream",
       "stream": "stdout",
       "text": [
        "\n",
        "        60     -66.73      340.1"
       ]
      },
      {
       "output_type": "stream",
       "stream": "stdout",
       "text": [
        "\n",
        "        80     -63.67      38.93"
       ]
      },
      {
       "output_type": "stream",
       "stream": "stdout",
       "text": [
        "\n",
        "       100     -63.35      21.13"
       ]
      },
      {
       "output_type": "stream",
       "stream": "stdout",
       "text": [
        "\n",
        "0.622703864848"
       ]
      },
      {
       "output_type": "stream",
       "stream": "stdout",
       "text": [
        " 0.999159310635 0.972677595628\n",
        "0.335981828628\n",
        "Iteration  Log-likelihood |gradient|"
       ]
      },
      {
       "output_type": "stream",
       "stream": "stdout",
       "text": [
        "\n",
        "         0 -1.649e+03   2.03e+04\n",
        "        20     -146.2      989.8"
       ]
      },
      {
       "output_type": "stream",
       "stream": "stdout",
       "text": [
        "\n",
        "        40     -83.09      324.7"
       ]
      },
      {
       "output_type": "stream",
       "stream": "stdout",
       "text": [
        "\n",
        "        60     -95.22      561.1"
       ]
      },
      {
       "output_type": "stream",
       "stream": "stdout",
       "text": [
        "\n",
        "        80     -72.39      213.8"
       ]
      },
      {
       "output_type": "stream",
       "stream": "stdout",
       "text": [
        "\n",
        "       100     -70.58      46.03"
       ]
      },
      {
       "output_type": "stream",
       "stream": "stdout",
       "text": [
        "\n",
        "0.622703864848"
       ]
      },
      {
       "output_type": "stream",
       "stream": "stdout",
       "text": [
        " 0.999579655317 0.972257250946\n",
        "0.428133239872\n",
        "Iteration  Log-likelihood |gradient|"
       ]
      },
      {
       "output_type": "stream",
       "stream": "stdout",
       "text": [
        "\n",
        "         0 -1.649e+03  2.057e+04\n",
        "        20     -111.4      589.8"
       ]
      },
      {
       "output_type": "stream",
       "stream": "stdout",
       "text": [
        "\n",
        "        40     -82.96      242.5"
       ]
      },
      {
       "output_type": "stream",
       "stream": "stdout",
       "text": [
        "\n",
        "        60     -80.12      86.23"
       ]
      },
      {
       "output_type": "stream",
       "stream": "stdout",
       "text": [
        "\n",
        "        80     -79.24      68.88"
       ]
      },
      {
       "output_type": "stream",
       "stream": "stdout",
       "text": [
        "\n",
        "       100      -79.0      39.79"
       ]
      },
      {
       "output_type": "stream",
       "stream": "stdout",
       "text": [
        "\n",
        "0.691825825271"
       ]
      },
      {
       "output_type": "stream",
       "stream": "stdout",
       "text": [
        " 0.997477931904 0.975199663724\n",
        "0.428133239872\n",
        "Iteration  Log-likelihood |gradient|"
       ]
      },
      {
       "output_type": "stream",
       "stream": "stdout",
       "text": [
        "\n",
        "         0 -1.649e+03   2.04e+04\n",
        "        20     -123.5      658.6"
       ]
      },
      {
       "output_type": "stream",
       "stream": "stdout",
       "text": [
        "\n",
        "        40      -91.1      245.7"
       ]
      },
      {
       "output_type": "stream",
       "stream": "stdout",
       "text": [
        "\n",
        "        60     -88.91      709.7"
       ]
      },
      {
       "output_type": "stream",
       "stream": "stdout",
       "text": [
        "\n",
        "        80     -84.89      89.13"
       ]
      },
      {
       "output_type": "stream",
       "stream": "stdout",
       "text": [
        "\n",
        "       100     -84.15      42.71"
       ]
      },
      {
       "output_type": "stream",
       "stream": "stdout",
       "text": [
        "\n",
        "0.691825825271"
       ]
      },
      {
       "output_type": "stream",
       "stream": "stdout",
       "text": [
        " 0.997898276587 0.969314838167\n",
        "0.428133239872\n",
        "Iteration  Log-likelihood |gradient|"
       ]
      },
      {
       "output_type": "stream",
       "stream": "stdout",
       "text": [
        "\n",
        "         0 -1.649e+03  2.089e+04\n",
        "        20     -117.1      662.4"
       ]
      },
      {
       "output_type": "stream",
       "stream": "stdout",
       "text": [
        "\n",
        "        40     -79.27      785.8"
       ]
      },
      {
       "output_type": "stream",
       "stream": "stdout",
       "text": [
        "\n",
        "        60     -73.76      96.95"
       ]
      },
      {
       "output_type": "stream",
       "stream": "stdout",
       "text": [
        "\n",
        "        80     -72.94      79.68"
       ]
      },
      {
       "output_type": "stream",
       "stream": "stdout",
       "text": [
        "\n",
        "       100     -72.44      17.05"
       ]
      },
      {
       "output_type": "stream",
       "stream": "stdout",
       "text": [
        "\n",
        "0.691825825271"
       ]
      },
      {
       "output_type": "stream",
       "stream": "stdout",
       "text": [
        " 0.998738965952 0.971836906263\n",
        "0.428133239872\n",
        "Iteration  Log-likelihood |gradient|"
       ]
      },
      {
       "output_type": "stream",
       "stream": "stdout",
       "text": [
        "\n",
        "         0 -1.649e+03   2.03e+04\n",
        "        20     -144.9      850.6"
       ]
      },
      {
       "output_type": "stream",
       "stream": "stdout",
       "text": [
        "\n",
        "        40     -93.49      963.5"
       ]
      },
      {
       "output_type": "stream",
       "stream": "stdout",
       "text": [
        "\n",
        "        60     -81.82      303.9"
       ]
      },
      {
       "output_type": "stream",
       "stream": "stdout",
       "text": [
        "\n",
        "        80     -80.52      49.85"
       ]
      },
      {
       "output_type": "stream",
       "stream": "stdout",
       "text": [
        "\n",
        "       100     -80.14      47.35"
       ]
      },
      {
       "output_type": "stream",
       "stream": "stdout",
       "text": [
        "\n",
        "0.691825825271"
       ]
      },
      {
       "output_type": "stream",
       "stream": "stdout",
       "text": [
        " 0.999579655317 0.97141656158\n",
        "0.428133239872\n",
        "Iteration  Log-likelihood |gradient|"
       ]
      },
      {
       "output_type": "stream",
       "stream": "stdout",
       "text": [
        "\n",
        "         0 -1.649e+03  2.147e+04\n",
        "        20     -121.9      666.1"
       ]
      },
      {
       "output_type": "stream",
       "stream": "stdout",
       "text": [
        "\n",
        "        40      -86.6      157.3"
       ]
      },
      {
       "output_type": "stream",
       "stream": "stdout",
       "text": [
        "\n",
        "        60     -83.76      67.66"
       ]
      },
      {
       "output_type": "stream",
       "stream": "stdout",
       "text": [
        "\n",
        "        80     -83.19      25.04"
       ]
      },
      {
       "output_type": "stream",
       "stream": "stdout",
       "text": [
        "\n",
        "       100     -83.32      101.2"
       ]
      },
      {
       "output_type": "stream",
       "stream": "stdout",
       "text": [
        "\n",
        "0.691825825271"
       ]
      },
      {
       "output_type": "stream",
       "stream": "stdout",
       "text": [
        " 0.999159310635 0.973097940311\n",
        "0.545559478117\n",
        "Iteration  Log-likelihood |gradient|"
       ]
      },
      {
       "output_type": "stream",
       "stream": "stdout",
       "text": [
        "\n",
        "         0 -1.649e+03   2.04e+04\n",
        "        20     -124.3      527.4"
       ]
      },
      {
       "output_type": "stream",
       "stream": "stdout",
       "text": [
        "\n",
        "        40     -98.14      136.3"
       ]
      },
      {
       "output_type": "stream",
       "stream": "stdout",
       "text": [
        "\n",
        "        60     -96.09      150.5"
       ]
      },
      {
       "output_type": "stream",
       "stream": "stdout",
       "text": [
        "\n",
        "        80     -95.16      29.21"
       ]
      },
      {
       "output_type": "stream",
       "stream": "stdout",
       "text": [
        "\n",
        "       100     -95.09      15.71"
       ]
      },
      {
       "output_type": "stream",
       "stream": "stdout",
       "text": [
        "\n",
        "0.768620526594"
       ]
      },
      {
       "output_type": "stream",
       "stream": "stdout",
       "text": [
        " 0.997898276587 0.969314838167\n",
        "0.545559478117\n",
        "Iteration  Log-likelihood |gradient|"
       ]
      },
      {
       "output_type": "stream",
       "stream": "stdout",
       "text": [
        "\n",
        "         0 -1.649e+03  2.089e+04\n",
        "        20     -119.0      754.4"
       ]
      },
      {
       "output_type": "stream",
       "stream": "stdout",
       "text": [
        "\n",
        "        40     -89.29      249.1"
       ]
      },
      {
       "output_type": "stream",
       "stream": "stdout",
       "text": [
        "\n",
        "        60     -84.12      151.4"
       ]
      },
      {
       "output_type": "stream",
       "stream": "stdout",
       "text": [
        "\n",
        "        80     -83.23      80.53"
       ]
      },
      {
       "output_type": "stream",
       "stream": "stdout",
       "text": [
        "\n",
        "       100     -82.77      32.06"
       ]
      },
      {
       "output_type": "stream",
       "stream": "stdout",
       "text": [
        "\n",
        "0.768620526594"
       ]
      },
      {
       "output_type": "stream",
       "stream": "stdout",
       "text": [
        " 0.998318621269 0.972677595628\n",
        "0.545559478117\n",
        "Iteration  Log-likelihood |gradient|"
       ]
      },
      {
       "output_type": "stream",
       "stream": "stdout",
       "text": [
        "\n",
        "         0 -1.649e+03   2.03e+04\n",
        "        20     -151.4      905.7"
       ]
      },
      {
       "output_type": "stream",
       "stream": "stdout",
       "text": [
        "\n",
        "        40     -97.44      551.1"
       ]
      },
      {
       "output_type": "stream",
       "stream": "stdout",
       "text": [
        "\n",
        "        60     -92.63      106.5"
       ]
      },
      {
       "output_type": "stream",
       "stream": "stdout",
       "text": [
        "\n",
        "        80     -91.72      71.05"
       ]
      },
      {
       "output_type": "stream",
       "stream": "stdout",
       "text": [
        "\n",
        "       100     -91.21      66.97"
       ]
      },
      {
       "output_type": "stream",
       "stream": "stdout",
       "text": [
        "\n",
        "0.768620526594"
       ]
      },
      {
       "output_type": "stream",
       "stream": "stdout",
       "text": [
        " 0.997057587222 0.970996216898\n",
        "0.545559478117\n",
        "Iteration  Log-likelihood |gradient|"
       ]
      },
      {
       "output_type": "stream",
       "stream": "stdout",
       "text": [
        "\n",
        "         0 -1.649e+03  2.147e+04\n",
        "        20     -129.8      640.0"
       ]
      },
      {
       "output_type": "stream",
       "stream": "stdout",
       "text": [
        "\n",
        "        40     -195.0  4.801e+03"
       ]
      },
      {
       "output_type": "stream",
       "stream": "stdout",
       "text": [
        "\n",
        "        60     -95.74      91.78"
       ]
      },
      {
       "output_type": "stream",
       "stream": "stdout",
       "text": [
        "\n",
        "        80     -95.05      50.67"
       ]
      },
      {
       "output_type": "stream",
       "stream": "stdout",
       "text": [
        "\n",
        "       100     -94.78      22.83"
       ]
      },
      {
       "output_type": "stream",
       "stream": "stdout",
       "text": [
        "\n",
        "0.768620526594"
       ]
      },
      {
       "output_type": "stream",
       "stream": "stdout",
       "text": [
        " 0.997477931904 0.973097940311\n",
        "0.545559478117\n",
        "Iteration  Log-likelihood |gradient|"
       ]
      },
      {
       "output_type": "stream",
       "stream": "stdout",
       "text": [
        "\n",
        "         0 -1.649e+03  2.098e+04\n",
        "        20     -142.6      753.7"
       ]
      },
      {
       "output_type": "stream",
       "stream": "stdout",
       "text": [
        "\n",
        "        40     -104.9      277.7"
       ]
      },
      {
       "output_type": "stream",
       "stream": "stdout",
       "text": [
        "\n",
        "        60     -97.52      158.2"
       ]
      },
      {
       "output_type": "stream",
       "stream": "stdout",
       "text": [
        "\n",
        "        80     -95.57      87.37"
       ]
      },
      {
       "output_type": "stream",
       "stream": "stdout",
       "text": [
        "\n",
        "       100     -94.88      47.69"
       ]
      },
      {
       "output_type": "stream",
       "stream": "stdout",
       "text": [
        "\n",
        "0.768620526594"
       ]
      },
      {
       "output_type": "stream",
       "stream": "stdout",
       "text": [
        " 0.997898276587 0.975199663724\n",
        "0.695192796178\n",
        "Iteration  Log-likelihood |gradient|"
       ]
      },
      {
       "output_type": "stream",
       "stream": "stdout",
       "text": [
        "\n",
        "         0 -1.649e+03  2.089e+04\n",
        "        20     -139.6      809.9"
       ]
      },
      {
       "output_type": "stream",
       "stream": "stdout",
       "text": [
        "\n",
        "        40      -95.1      117.7"
       ]
      },
      {
       "output_type": "stream",
       "stream": "stdout",
       "text": [
        "\n",
        "        60     -94.12      44.11"
       ]
      },
      {
       "output_type": "stream",
       "stream": "stdout",
       "text": [
        "\n",
        "        80     -93.87      48.61"
       ]
      },
      {
       "output_type": "stream",
       "stream": "stdout",
       "text": [
        "\n",
        "       100     -93.74      17.59"
       ]
      },
      {
       "output_type": "stream",
       "stream": "stdout",
       "text": [
        "\n",
        "0.853939665624"
       ]
      },
      {
       "output_type": "stream",
       "stream": "stdout",
       "text": [
        " 0.997477931904 0.971836906263\n",
        "0.695192796178\n",
        "Iteration  Log-likelihood |gradient|"
       ]
      },
      {
       "output_type": "stream",
       "stream": "stdout",
       "text": [
        "\n",
        "         0 -1.649e+03   2.03e+04\n",
        "        20     -154.7      909.6"
       ]
      },
      {
       "output_type": "stream",
       "stream": "stdout",
       "text": [
        "\n",
        "        40     -112.4      346.2"
       ]
      },
      {
       "output_type": "stream",
       "stream": "stdout",
       "text": [
        "\n",
        "        60     -104.2      97.96"
       ]
      },
      {
       "output_type": "stream",
       "stream": "stdout",
       "text": [
        "\n",
        "        80     -103.2      45.28"
       ]
      },
      {
       "output_type": "stream",
       "stream": "stdout",
       "text": [
        "\n",
        "       100     -102.9      36.14"
       ]
      },
      {
       "output_type": "stream",
       "stream": "stdout",
       "text": [
        "\n",
        "0.853939665624"
       ]
      },
      {
       "output_type": "stream",
       "stream": "stdout",
       "text": [
        " 0.996637242539 0.972257250946\n",
        "0.695192796178\n",
        "Iteration  Log-likelihood |gradient|"
       ]
      },
      {
       "output_type": "stream",
       "stream": "stdout",
       "text": [
        "\n",
        "         0 -1.649e+03  2.147e+04\n",
        "        20     -137.3      645.9"
       ]
      },
      {
       "output_type": "stream",
       "stream": "stdout",
       "text": [
        "\n",
        "        40     -110.8      186.9"
       ]
      },
      {
       "output_type": "stream",
       "stream": "stdout",
       "text": [
        "\n",
        "        60     -108.2      72.47"
       ]
      },
      {
       "output_type": "stream",
       "stream": "stdout",
       "text": [
        "\n",
        "        80     -107.4      40.59"
       ]
      },
      {
       "output_type": "stream",
       "stream": "stdout",
       "text": [
        "\n",
        "       100     -107.3      33.57"
       ]
      },
      {
       "output_type": "stream",
       "stream": "stdout",
       "text": [
        "\n",
        "0.853939665624"
       ]
      },
      {
       "output_type": "stream",
       "stream": "stdout",
       "text": [
        " 0.997057587222 0.973938629676\n",
        "0.695192796178\n",
        "Iteration  Log-likelihood |gradient|"
       ]
      },
      {
       "output_type": "stream",
       "stream": "stdout",
       "text": [
        "\n",
        "         0 -1.649e+03  2.098e+04\n",
        "        20     -152.5      744.4"
       ]
      },
      {
       "output_type": "stream",
       "stream": "stdout",
       "text": [
        "\n",
        "        40     -111.1      201.1"
       ]
      },
      {
       "output_type": "stream",
       "stream": "stdout",
       "text": [
        "\n",
        "        60     -108.0      95.87"
       ]
      },
      {
       "output_type": "stream",
       "stream": "stdout",
       "text": [
        "\n",
        "        80     -107.4      35.59"
       ]
      },
      {
       "output_type": "stream",
       "stream": "stdout",
       "text": [
        "\n",
        "       100     -107.2      42.65"
       ]
      },
      {
       "output_type": "stream",
       "stream": "stdout",
       "text": [
        "\n",
        "0.853939665624"
       ]
      },
      {
       "output_type": "stream",
       "stream": "stdout",
       "text": [
        " 0.997477931904 0.97604035309\n",
        "0.695192796178\n",
        "Iteration  Log-likelihood |gradient|"
       ]
      },
      {
       "output_type": "stream",
       "stream": "stdout",
       "text": [
        "\n",
        "         0 -1.649e+03  2.073e+04\n",
        "        20     -147.8      597.5"
       ]
      },
      {
       "output_type": "stream",
       "stream": "stdout",
       "text": [
        "\n",
        "        40     -172.3  3.062e+03"
       ]
      },
      {
       "output_type": "stream",
       "stream": "stdout",
       "text": [
        "\n",
        "        60     -106.9      107.8"
       ]
      },
      {
       "output_type": "stream",
       "stream": "stdout",
       "text": [
        "\n",
        "        80     -105.7      120.5"
       ]
      },
      {
       "output_type": "stream",
       "stream": "stdout",
       "text": [
        "\n",
        "       100     -105.2      48.99"
       ]
      },
      {
       "output_type": "stream",
       "stream": "stdout",
       "text": [
        "\n",
        "0.853939665624"
       ]
      },
      {
       "output_type": "stream",
       "stream": "stdout",
       "text": [
        " 0.997898276587 0.97604035309\n",
        "0.88586679041\n",
        "Iteration  Log-likelihood |gradient|"
       ]
      },
      {
       "output_type": "stream",
       "stream": "stdout",
       "text": [
        "\n",
        "         0 -1.649e+03   2.03e+04\n",
        "        20     -148.6      857.1"
       ]
      },
      {
       "output_type": "stream",
       "stream": "stdout",
       "text": [
        "\n",
        "        40     -119.3      198.8"
       ]
      },
      {
       "output_type": "stream",
       "stream": "stdout",
       "text": [
        "\n",
        "        60     -116.3      86.41"
       ]
      },
      {
       "output_type": "stream",
       "stream": "stdout",
       "text": [
        "\n",
        "        80     -115.8       49.0"
       ]
      },
      {
       "output_type": "stream",
       "stream": "stdout",
       "text": [
        "\n",
        "       100     -115.6      54.05"
       ]
      },
      {
       "output_type": "stream",
       "stream": "stdout",
       "text": [
        "\n",
        "0.948729480016"
       ]
      },
      {
       "output_type": "stream",
       "stream": "stdout",
       "text": [
        " 0.996216897856 0.97141656158\n",
        "0.88586679041\n",
        "Iteration  Log-likelihood |gradient|"
       ]
      },
      {
       "output_type": "stream",
       "stream": "stdout",
       "text": [
        "\n",
        "         0 -1.649e+03  2.147e+04\n",
        "        20     -211.5   3.05e+03"
       ]
      },
      {
       "output_type": "stream",
       "stream": "stdout",
       "text": [
        "\n",
        "        40     -122.0      104.5"
       ]
      },
      {
       "output_type": "stream",
       "stream": "stdout",
       "text": [
        "\n",
        "        60     -121.0      39.54"
       ]
      },
      {
       "output_type": "stream",
       "stream": "stdout",
       "text": [
        "\n",
        "        80     -120.8      19.43"
       ]
      },
      {
       "output_type": "stream",
       "stream": "stdout",
       "text": [
        "\n",
        "       100     -120.8      7.378"
       ]
      },
      {
       "output_type": "stream",
       "stream": "stdout",
       "text": [
        "\n",
        "0.948729480016"
       ]
      },
      {
       "output_type": "stream",
       "stream": "stdout",
       "text": [
        " 0.995376208491 0.973938629676\n",
        "0.88586679041\n",
        "Iteration  Log-likelihood |gradient|"
       ]
      },
      {
       "output_type": "stream",
       "stream": "stdout",
       "text": [
        "\n",
        "         0 -1.649e+03  2.098e+04\n",
        "        20     -164.6      793.2"
       ]
      },
      {
       "output_type": "stream",
       "stream": "stdout",
       "text": [
        "\n",
        "        40     -126.7      308.9"
       ]
      },
      {
       "output_type": "stream",
       "stream": "stdout",
       "text": [
        "\n",
        "        60     -122.9      211.3"
       ]
      },
      {
       "output_type": "stream",
       "stream": "stdout",
       "text": [
        "\n",
        "        80     -121.3      114.3"
       ]
      },
      {
       "output_type": "stream",
       "stream": "stdout",
       "text": [
        "\n",
        "       100     -121.0      37.25"
       ]
      },
      {
       "output_type": "stream",
       "stream": "stdout",
       "text": [
        "\n",
        "0.948729480016"
       ]
      },
      {
       "output_type": "stream",
       "stream": "stdout",
       "text": [
        " 0.996637242539 0.976460697772\n",
        "0.88586679041\n",
        "Iteration  Log-likelihood |gradient|"
       ]
      },
      {
       "output_type": "stream",
       "stream": "stdout",
       "text": [
        "\n",
        "         0 -1.649e+03  2.073e+04\n",
        "        20     -152.0      656.9"
       ]
      },
      {
       "output_type": "stream",
       "stream": "stdout",
       "text": [
        "\n",
        "        40     -125.7      349.2"
       ]
      },
      {
       "output_type": "stream",
       "stream": "stdout",
       "text": [
        "\n",
        "        60     -119.5      102.4"
       ]
      },
      {
       "output_type": "stream",
       "stream": "stdout",
       "text": [
        "\n",
        "        80     -136.9  2.546e+03"
       ]
      },
      {
       "output_type": "stream",
       "stream": "stdout",
       "text": [
        "\n",
        "       100     -118.0      26.47"
       ]
      },
      {
       "output_type": "stream",
       "stream": "stdout",
       "text": [
        "\n",
        "0.948729480016"
       ]
      },
      {
       "output_type": "stream",
       "stream": "stdout",
       "text": [
        " 0.996216897856 0.974779319042\n",
        "0.88586679041\n",
        "Iteration  Log-likelihood |gradient|"
       ]
      },
      {
       "output_type": "stream",
       "stream": "stdout",
       "text": [
        "\n",
        "         0 -1.649e+03  2.219e+04\n",
        "        20     -266.8  3.843e+03"
       ]
      },
      {
       "output_type": "stream",
       "stream": "stdout",
       "text": [
        "\n",
        "        40     -130.5      522.1"
       ]
      },
      {
       "output_type": "stream",
       "stream": "stdout",
       "text": [
        "\n",
        "        60     -121.4      189.4"
       ]
      },
      {
       "output_type": "stream",
       "stream": "stdout",
       "text": [
        "\n",
        "        80     -119.4      128.9"
       ]
      },
      {
       "output_type": "stream",
       "stream": "stdout",
       "text": [
        "\n",
        "       100     -118.9      160.4"
       ]
      },
      {
       "output_type": "stream",
       "stream": "stdout",
       "text": [
        "\n",
        "0.948729480016"
       ]
      },
      {
       "output_type": "stream",
       "stream": "stdout",
       "text": [
        " 0.994955863808 0.971836906263\n",
        "1.12883789168\n",
        "Iteration  Log-likelihood |gradient|"
       ]
      },
      {
       "output_type": "stream",
       "stream": "stdout",
       "text": [
        "\n",
        "         0 -1.649e+03  2.147e+04\n",
        "        20     -153.9      691.4"
       ]
      },
      {
       "output_type": "stream",
       "stream": "stdout",
       "text": [
        "\n",
        "        40     -136.9      145.7"
       ]
      },
      {
       "output_type": "stream",
       "stream": "stdout",
       "text": [
        "\n",
        "        60     -135.6      84.63"
       ]
      },
      {
       "output_type": "stream",
       "stream": "stdout",
       "text": [
        "\n",
        "        80     -135.4      38.42"
       ]
      },
      {
       "output_type": "stream",
       "stream": "stdout",
       "text": [
        "\n",
        "       100     -135.2       29.1"
       ]
      },
      {
       "output_type": "stream",
       "stream": "stdout",
       "text": [
        "\n",
        "1.05404124259"
       ]
      },
      {
       "output_type": "stream",
       "stream": "stdout",
       "text": [
        " 0.994115174443 0.974358974359\n",
        "1.12883789168\n",
        "Iteration  Log-likelihood |gradient|"
       ]
      },
      {
       "output_type": "stream",
       "stream": "stdout",
       "text": [
        "\n",
        "         0 -1.649e+03  2.098e+04\n",
        "        20     -174.3      857.1"
       ]
      },
      {
       "output_type": "stream",
       "stream": "stdout",
       "text": [
        "\n",
        "        40     -142.4      440.7"
       ]
      },
      {
       "output_type": "stream",
       "stream": "stdout",
       "text": [
        "\n",
        "        60     -136.9      148.8"
       ]
      },
      {
       "output_type": "stream",
       "stream": "stdout",
       "text": [
        "\n",
        "        80     -135.6      106.6"
       ]
      },
      {
       "output_type": "stream",
       "stream": "stdout",
       "text": [
        "\n",
        "       100     -135.5      33.05"
       ]
      },
      {
       "output_type": "stream",
       "stream": "stdout",
       "text": [
        "\n",
        "1.05404124259"
       ]
      },
      {
       "output_type": "stream",
       "stream": "stdout",
       "text": [
        " 0.994535519126 0.976460697772\n",
        "1.12883789168\n",
        "Iteration  Log-likelihood |gradient|"
       ]
      },
      {
       "output_type": "stream",
       "stream": "stdout",
       "text": [
        "\n",
        "         0 -1.649e+03  2.073e+04\n",
        "        20     -889.8  2.349e+04"
       ]
      },
      {
       "output_type": "stream",
       "stream": "stdout",
       "text": [
        "\n",
        "        40     -138.3      249.8"
       ]
      },
      {
       "output_type": "stream",
       "stream": "stdout",
       "text": [
        "\n",
        "        60     -134.2      182.9"
       ]
      },
      {
       "output_type": "stream",
       "stream": "stdout",
       "text": [
        "\n",
        "        80     -132.7      76.48"
       ]
      },
      {
       "output_type": "stream",
       "stream": "stdout",
       "text": [
        "\n",
        "       100     -132.2      46.97"
       ]
      },
      {
       "output_type": "stream",
       "stream": "stdout",
       "text": [
        "\n",
        "1.05404124259"
       ]
      },
      {
       "output_type": "stream",
       "stream": "stdout",
       "text": [
        " 0.994535519126 0.975199663724\n",
        "1.12883789168\n",
        "Iteration  Log-likelihood |gradient|"
       ]
      },
      {
       "output_type": "stream",
       "stream": "stdout",
       "text": [
        "\n",
        "         0 -1.649e+03  2.219e+04\n",
        "        20 -2.927e+03  3.518e+04"
       ]
      },
      {
       "output_type": "stream",
       "stream": "stdout",
       "text": [
        "\n",
        "        40     -138.9      330.2"
       ]
      },
      {
       "output_type": "stream",
       "stream": "stdout",
       "text": [
        "\n",
        "        60     -133.0      178.6"
       ]
      },
      {
       "output_type": "stream",
       "stream": "stdout",
       "text": [
        "\n",
        "        80     -132.6      55.28"
       ]
      },
      {
       "output_type": "stream",
       "stream": "stdout",
       "text": [
        "\n",
        "       100     -132.3      138.4"
       ]
      },
      {
       "output_type": "stream",
       "stream": "stdout",
       "text": [
        "\n",
        "1.05404124259"
       ]
      },
      {
       "output_type": "stream",
       "stream": "stdout",
       "text": [
        " 0.993274485078 0.971836906263\n",
        "1.12883789168\n",
        "Iteration  Log-likelihood |gradient|"
       ]
      },
      {
       "output_type": "stream",
       "stream": "stdout",
       "text": [
        "\n",
        "         0 -1.649e+03  2.129e+04\n",
        "        20     -134.5      402.7"
       ]
      },
      {
       "output_type": "stream",
       "stream": "stdout",
       "text": [
        "\n",
        "        40     -124.4      136.5"
       ]
      },
      {
       "output_type": "stream",
       "stream": "stdout",
       "text": [
        "\n",
        "        60     -123.6      73.86"
       ]
      },
      {
       "output_type": "stream",
       "stream": "stdout",
       "text": [
        "\n",
        "        80     -123.3      35.03"
       ]
      },
      {
       "output_type": "stream",
       "stream": "stdout",
       "text": [
        "\n",
        "       100     -123.2      17.82"
       ]
      },
      {
       "output_type": "stream",
       "stream": "stdout",
       "text": [
        "\n",
        "1.05404124259"
       ]
      },
      {
       "output_type": "stream",
       "stream": "stdout",
       "text": [
        " 0.995376208491 0.970155527533\n",
        "1.43844988829\n",
        "Iteration  Log-likelihood |gradient|"
       ]
      },
      {
       "output_type": "stream",
       "stream": "stdout",
       "text": [
        "\n",
        "         0 -1.649e+03  2.098e+04\n",
        "        20     -184.5      847.3"
       ]
      },
      {
       "output_type": "stream",
       "stream": "stdout",
       "text": [
        "\n",
        "        40     -154.1      218.9"
       ]
      },
      {
       "output_type": "stream",
       "stream": "stdout",
       "text": [
        "\n",
        "        60     -151.0       76.1"
       ]
      },
      {
       "output_type": "stream",
       "stream": "stdout",
       "text": [
        "\n",
        "        80     -150.7      27.75"
       ]
      },
      {
       "output_type": "stream",
       "stream": "stdout",
       "text": [
        "\n",
        "       100     -150.7      8.985"
       ]
      },
      {
       "output_type": "stream",
       "stream": "stdout",
       "text": [
        "\n",
        "1.17104292054"
       ]
      },
      {
       "output_type": "stream",
       "stream": "stdout",
       "text": [
        " 0.992433795712 0.976881042455\n",
        "1.43844988829\n",
        "Iteration  Log-likelihood |gradient|"
       ]
      },
      {
       "output_type": "stream",
       "stream": "stdout",
       "text": [
        "\n",
        "         0 -1.649e+03  2.073e+04\n",
        "        20     -208.1  1.705e+03"
       ]
      },
      {
       "output_type": "stream",
       "stream": "stdout",
       "text": [
        "\n",
        "        40     -149.8      199.3"
       ]
      },
      {
       "output_type": "stream",
       "stream": "stdout",
       "text": [
        "\n",
        "        60     -147.6      67.84"
       ]
      },
      {
       "output_type": "stream",
       "stream": "stdout",
       "text": [
        "\n",
        "        80     -147.3      61.21"
       ]
      },
      {
       "output_type": "stream",
       "stream": "stdout",
       "text": [
        "\n",
        "       100     -147.1      30.73"
       ]
      },
      {
       "output_type": "stream",
       "stream": "stdout",
       "text": [
        "\n",
        "1.17104292054"
       ]
      },
      {
       "output_type": "stream",
       "stream": "stdout",
       "text": [
        " 0.99369482976 0.975199663724\n",
        "1.43844988829\n",
        "Iteration  Log-likelihood |gradient|"
       ]
      },
      {
       "output_type": "stream",
       "stream": "stdout",
       "text": [
        "\n",
        "         0 -1.649e+03  2.219e+04\n",
        "        20 -2.434e+03  3.117e+04"
       ]
      },
      {
       "output_type": "stream",
       "stream": "stdout",
       "text": [
        "\n",
        "        40     -153.4      419.0"
       ]
      },
      {
       "output_type": "stream",
       "stream": "stdout",
       "text": [
        "\n",
        "        60     -147.7      160.9"
       ]
      },
      {
       "output_type": "stream",
       "stream": "stdout",
       "text": [
        "\n",
        "        80     -147.1      57.44"
       ]
      },
      {
       "output_type": "stream",
       "stream": "stdout",
       "text": [
        "\n",
        "       100     -146.9      31.47"
       ]
      },
      {
       "output_type": "stream",
       "stream": "stdout",
       "text": [
        "\n",
        "1.17104292054"
       ]
      },
      {
       "output_type": "stream",
       "stream": "stdout",
       "text": [
        " 0.990332072299 0.972257250946\n",
        "1.43844988829\n",
        "Iteration  Log-likelihood |gradient|"
       ]
      },
      {
       "output_type": "stream",
       "stream": "stdout",
       "text": [
        "\n",
        "         0 -1.649e+03  2.129e+04\n",
        "        20     -147.2      437.5"
       ]
      },
      {
       "output_type": "stream",
       "stream": "stdout",
       "text": [
        "\n",
        "        40     -138.0      148.5"
       ]
      },
      {
       "output_type": "stream",
       "stream": "stdout",
       "text": [
        "\n",
        "        60     -137.1      53.81"
       ]
      },
      {
       "output_type": "stream",
       "stream": "stdout",
       "text": [
        "\n",
        "        80     -136.9      16.89"
       ]
      },
      {
       "output_type": "stream",
       "stream": "stdout",
       "text": [
        "\n",
        "       100     -136.8      5.526"
       ]
      },
      {
       "output_type": "stream",
       "stream": "stdout",
       "text": [
        "\n",
        "1.17104292054"
       ]
      },
      {
       "output_type": "stream",
       "stream": "stdout",
       "text": [
        " 0.99201345103 0.96973518285\n",
        "1.43844988829\n",
        "Iteration  Log-likelihood |gradient|"
       ]
      },
      {
       "output_type": "stream",
       "stream": "stdout",
       "text": [
        "\n",
        "         0 -1.649e+03  2.029e+04\n",
        "        20     -180.6      938.8"
       ]
      },
      {
       "output_type": "stream",
       "stream": "stdout",
       "text": [
        "\n",
        "        40     -148.3      192.3"
       ]
      },
      {
       "output_type": "stream",
       "stream": "stdout",
       "text": [
        "\n",
        "        60     -147.0      187.3"
       ]
      },
      {
       "output_type": "stream",
       "stream": "stdout",
       "text": [
        "\n",
        "        80     -146.6      20.09"
       ]
      },
      {
       "output_type": "stream",
       "stream": "stdout",
       "text": [
        "\n",
        "       100     -146.5      11.36"
       ]
      },
      {
       "output_type": "stream",
       "stream": "stdout",
       "text": [
        "\n",
        "1.17104292054"
       ]
      },
      {
       "output_type": "stream",
       "stream": "stdout",
       "text": [
        " 0.992433795712 0.972677595628\n",
        "1.83298071083\n",
        "Iteration  Log-likelihood |gradient|"
       ]
      },
      {
       "output_type": "stream",
       "stream": "stdout",
       "text": [
        "\n",
        "         0 -1.649e+03  2.073e+04\n",
        "        20     -211.6  1.377e+03"
       ]
      },
      {
       "output_type": "stream",
       "stream": "stdout",
       "text": [
        "\n",
        "        40     -164.0      208.7"
       ]
      },
      {
       "output_type": "stream",
       "stream": "stdout",
       "text": [
        "\n",
        "        60     -162.6      47.37"
       ]
      },
      {
       "output_type": "stream",
       "stream": "stdout",
       "text": [
        "\n",
        "        80     -162.5      32.84"
       ]
      },
      {
       "output_type": "stream",
       "stream": "stdout",
       "text": [
        "\n",
        "       100     -162.4      21.11"
       ]
      },
      {
       "output_type": "stream",
       "stream": "stdout",
       "text": [
        "\n",
        "1.30103212886"
       ]
      },
      {
       "output_type": "stream",
       "stream": "stdout",
       "text": [
        " 0.992854140395 0.974779319042\n",
        "1.83298071083\n",
        "Iteration  Log-likelihood |gradient|"
       ]
      },
      {
       "output_type": "stream",
       "stream": "stdout",
       "text": [
        "\n",
        "         0 -1.649e+03  2.219e+04\n",
        "        20 -2.029e+03  2.927e+04"
       ]
      },
      {
       "output_type": "stream",
       "stream": "stdout",
       "text": [
        "\n",
        "        40     -167.1      327.4"
       ]
      },
      {
       "output_type": "stream",
       "stream": "stdout",
       "text": [
        "\n",
        "        60     -162.5      122.4"
       ]
      },
      {
       "output_type": "stream",
       "stream": "stdout",
       "text": [
        "\n",
        "        80     -162.1      76.15"
       ]
      },
      {
       "output_type": "stream",
       "stream": "stdout",
       "text": [
        "\n",
        "       100     -161.9       18.9"
       ]
      },
      {
       "output_type": "stream",
       "stream": "stdout",
       "text": [
        "\n",
        "1.30103212886"
       ]
      },
      {
       "output_type": "stream",
       "stream": "stdout",
       "text": [
        " 0.988230348886 0.971836906263\n",
        "1.83298071083\n",
        "Iteration  Log-likelihood |gradient|"
       ]
      },
      {
       "output_type": "stream",
       "stream": "stdout",
       "text": [
        "\n",
        "         0 -1.649e+03  2.129e+04\n",
        "        20     -161.1      414.5"
       ]
      },
      {
       "output_type": "stream",
       "stream": "stdout",
       "text": [
        "\n",
        "        40     -152.2      139.2"
       ]
      },
      {
       "output_type": "stream",
       "stream": "stdout",
       "text": [
        "\n",
        "        60     -151.5      59.81"
       ]
      },
      {
       "output_type": "stream",
       "stream": "stdout",
       "text": [
        "\n",
        "        80     -151.3      29.93"
       ]
      },
      {
       "output_type": "stream",
       "stream": "stdout",
       "text": [
        "\n",
        "       100     -151.2      13.14"
       ]
      },
      {
       "output_type": "stream",
       "stream": "stdout",
       "text": [
        "\n",
        "1.30103212886"
       ]
      },
      {
       "output_type": "stream",
       "stream": "stdout",
       "text": [
        " 0.990752416982 0.96973518285\n",
        "1.83298071083\n",
        "Iteration  Log-likelihood |gradient|"
       ]
      },
      {
       "output_type": "stream",
       "stream": "stdout",
       "text": [
        "\n",
        "         0 -1.649e+03  2.029e+04\n",
        "        20     -185.7      790.6"
       ]
      },
      {
       "output_type": "stream",
       "stream": "stdout",
       "text": [
        "\n",
        "        40     -162.7      164.8"
       ]
      },
      {
       "output_type": "stream",
       "stream": "stdout",
       "text": [
        "\n",
        "        60     -161.6      41.03"
       ]
      },
      {
       "output_type": "stream",
       "stream": "stdout",
       "text": [
        "\n",
        "        80     -161.5      12.63"
       ]
      },
      {
       "output_type": "stream",
       "stream": "stdout",
       "text": [
        "\n",
        "       100     -161.5      6.598"
       ]
      },
      {
       "output_type": "stream",
       "stream": "stdout",
       "text": [
        "\n",
        "1.30103212886"
       ]
      },
      {
       "output_type": "stream",
       "stream": "stdout",
       "text": [
        " 0.989911727617 0.972257250946\n",
        "1.83298071083\n",
        "Iteration  Log-likelihood |gradient|"
       ]
      },
      {
       "output_type": "stream",
       "stream": "stdout",
       "text": [
        "\n",
        "         0 -1.649e+03  2.083e+04\n",
        "        20     -164.7      496.5"
       ]
      },
      {
       "output_type": "stream",
       "stream": "stdout",
       "text": [
        "\n",
        "        40     -153.2      132.6"
       ]
      },
      {
       "output_type": "stream",
       "stream": "stdout",
       "text": [
        "\n",
        "        60     -152.7      44.25"
       ]
      },
      {
       "output_type": "stream",
       "stream": "stdout",
       "text": [
        "\n",
        "        80     -152.5      24.39"
       ]
      },
      {
       "output_type": "stream",
       "stream": "stdout",
       "text": [
        "\n",
        "       100     -152.5      9.843"
       ]
      },
      {
       "output_type": "stream",
       "stream": "stdout",
       "text": [
        "\n",
        "1.30103212886"
       ]
      },
      {
       "output_type": "stream",
       "stream": "stdout",
       "text": [
        " 0.993274485078 0.973938629676\n",
        "2.33572146909\n",
        "Iteration  Log-likelihood |gradient|"
       ]
      },
      {
       "output_type": "stream",
       "stream": "stdout",
       "text": [
        "\n",
        "         0 -1.649e+03  2.219e+04\n",
        "        20 -2.368e+03  3.451e+04"
       ]
      },
      {
       "output_type": "stream",
       "stream": "stdout",
       "text": [
        "\n",
        "        40     -180.1      220.1"
       ]
      },
      {
       "output_type": "stream",
       "stream": "stdout",
       "text": [
        "\n",
        "        60     -177.6       69.1"
       ]
      },
      {
       "output_type": "stream",
       "stream": "stdout",
       "text": [
        "\n",
        "        80     -177.5       22.2"
       ]
      },
      {
       "output_type": "stream",
       "stream": "stdout",
       "text": [
        "\n",
        "       100     -177.4      12.65"
       ]
      },
      {
       "output_type": "stream",
       "stream": "stdout",
       "text": [
        "\n",
        "1.44545052161"
       ]
      },
      {
       "output_type": "stream",
       "stream": "stdout",
       "text": [
        " 0.987389659521 0.970575872215\n",
        "2.33572146909\n",
        "Iteration  Log-likelihood |gradient|"
       ]
      },
      {
       "output_type": "stream",
       "stream": "stdout",
       "text": [
        "\n",
        "         0 -1.649e+03  2.129e+04\n",
        "        20     -173.1      431.2"
       ]
      },
      {
       "output_type": "stream",
       "stream": "stdout",
       "text": [
        "\n",
        "        40     -166.8      86.67"
       ]
      },
      {
       "output_type": "stream",
       "stream": "stdout",
       "text": [
        "\n",
        "        60     -166.5      41.81"
       ]
      },
      {
       "output_type": "stream",
       "stream": "stdout",
       "text": [
        "\n",
        "        80     -166.4       25.2"
       ]
      },
      {
       "output_type": "stream",
       "stream": "stdout",
       "text": [
        "\n",
        "       100     -166.3      10.86"
       ]
      },
      {
       "output_type": "stream",
       "stream": "stdout",
       "text": [
        "\n",
        "1.44545052161"
       ]
      },
      {
       "output_type": "stream",
       "stream": "stdout",
       "text": [
        " 0.988230348886 0.969314838167\n",
        "2.33572146909\n",
        "Iteration  Log-likelihood |gradient|"
       ]
      },
      {
       "output_type": "stream",
       "stream": "stdout",
       "text": [
        "\n",
        "         0 -1.649e+03  2.029e+04\n",
        "        20     -201.8  1.093e+03"
       ]
      },
      {
       "output_type": "stream",
       "stream": "stdout",
       "text": [
        "\n",
        "        40     -179.8      918.3"
       ]
      },
      {
       "output_type": "stream",
       "stream": "stdout",
       "text": [
        "\n",
        "        60     -177.0      33.17"
       ]
      },
      {
       "output_type": "stream",
       "stream": "stdout",
       "text": [
        "\n",
        "        80     -176.9      9.019"
       ]
      },
      {
       "output_type": "stream",
       "stream": "stdout",
       "text": [
        "\n",
        "       100     -176.9      2.884"
       ]
      },
      {
       "output_type": "stream",
       "stream": "stdout",
       "text": [
        "\n",
        "1.44545052161"
       ]
      },
      {
       "output_type": "stream",
       "stream": "stdout",
       "text": [
        " 0.987389659521 0.97141656158\n",
        "2.33572146909\n",
        "Iteration  Log-likelihood |gradient|"
       ]
      },
      {
       "output_type": "stream",
       "stream": "stdout",
       "text": [
        "\n",
        "         0 -1.649e+03  2.083e+04\n",
        "        20     -178.9      483.5"
       ]
      },
      {
       "output_type": "stream",
       "stream": "stdout",
       "text": [
        "\n",
        "        40     -168.4      79.79"
       ]
      },
      {
       "output_type": "stream",
       "stream": "stdout",
       "text": [
        "\n",
        "        60     -168.1      35.37"
       ]
      },
      {
       "output_type": "stream",
       "stream": "stdout",
       "text": [
        "\n",
        "        80     -168.0      23.09"
       ]
      },
      {
       "output_type": "stream",
       "stream": "stdout",
       "text": [
        "\n",
        "       100     -168.0      3.171"
       ]
      },
      {
       "output_type": "stream",
       "stream": "stdout",
       "text": [
        "\n",
        "1.44545052161"
       ]
      },
      {
       "output_type": "stream",
       "stream": "stdout",
       "text": [
        " 0.991172761665 0.972677595628\n",
        "2.33572146909\n",
        "Iteration  Log-likelihood |gradient|"
       ]
      },
      {
       "output_type": "stream",
       "stream": "stdout",
       "text": [
        "\n",
        "         0 -1.649e+03  2.032e+04\n",
        "        20     -186.7  1.317e+03"
       ]
      },
      {
       "output_type": "stream",
       "stream": "stdout",
       "text": [
        "\n",
        "        40     -166.4      235.9"
       ]
      },
      {
       "output_type": "stream",
       "stream": "stdout",
       "text": [
        "\n",
        "        60     -164.2       93.9"
       ]
      },
      {
       "output_type": "stream",
       "stream": "stdout",
       "text": [
        "\n",
        "        80     -164.0      34.35"
       ]
      },
      {
       "output_type": "stream",
       "stream": "stdout",
       "text": [
        "\n",
        "       100     -164.0      23.24"
       ]
      },
      {
       "output_type": "stream",
       "stream": "stdout",
       "text": [
        "\n",
        "1.44545052161"
       ]
      },
      {
       "output_type": "stream",
       "stream": "stdout",
       "text": [
        " 0.99201345103 0.972677595628\n",
        "2.97635144163\n",
        "Iteration  Log-likelihood |gradient|"
       ]
      },
      {
       "output_type": "stream",
       "stream": "stdout",
       "text": [
        "\n",
        "         0 -1.649e+03  2.129e+04\n",
        "        20     -187.8      531.6"
       ]
      },
      {
       "output_type": "stream",
       "stream": "stdout",
       "text": [
        "\n",
        "        40     -182.6      257.6"
       ]
      },
      {
       "output_type": "stream",
       "stream": "stdout",
       "text": [
        "\n",
        "        60     -182.1      29.85"
       ]
      },
      {
       "output_type": "stream",
       "stream": "stdout",
       "text": [
        "\n",
        "        80     -182.0      11.06"
       ]
      },
      {
       "output_type": "stream",
       "stream": "stdout",
       "text": [
        "\n",
        "       100     -182.0      21.52"
       ]
      },
      {
       "output_type": "stream",
       "stream": "stdout",
       "text": [
        "\n",
        "1.6058997807"
       ]
      },
      {
       "output_type": "stream",
       "stream": "stdout",
       "text": [
        " 0.986128625473 0.970155527533\n",
        "2.97635144163\n",
        "Iteration  Log-likelihood |gradient|"
       ]
      },
      {
       "output_type": "stream",
       "stream": "stdout",
       "text": [
        "\n",
        "         0 -1.649e+03  2.029e+04\n",
        "        20     -212.4  1.117e+03"
       ]
      },
      {
       "output_type": "stream",
       "stream": "stdout",
       "text": [
        "\n",
        "        40     -193.5      151.2"
       ]
      },
      {
       "output_type": "stream",
       "stream": "stdout",
       "text": [
        "\n",
        "        60     -192.8      24.67"
       ]
      },
      {
       "output_type": "stream",
       "stream": "stdout",
       "text": [
        "\n",
        "        80     -192.8      7.213"
       ]
      },
      {
       "output_type": "stream",
       "stream": "stdout",
       "text": [
        "\n",
        "       100     -192.8      5.445"
       ]
      },
      {
       "output_type": "stream",
       "stream": "stdout",
       "text": [
        "\n",
        "1.6058997807"
       ]
      },
      {
       "output_type": "stream",
       "stream": "stdout",
       "text": [
        " 0.98570828079 0.97141656158\n",
        "2.97635144163\n",
        "Iteration  Log-likelihood |gradient|"
       ]
      },
      {
       "output_type": "stream",
       "stream": "stdout",
       "text": [
        "\n",
        "         0 -1.649e+03  2.083e+04\n",
        "        20     -194.5      554.2"
       ]
      },
      {
       "output_type": "stream",
       "stream": "stdout",
       "text": [
        "\n",
        "        40     -184.3      48.25"
       ]
      },
      {
       "output_type": "stream",
       "stream": "stdout",
       "text": [
        "\n",
        "        60     -184.3      166.3"
       ]
      },
      {
       "output_type": "stream",
       "stream": "stdout",
       "text": [
        "\n",
        "        80     -184.2      6.067"
       ]
      },
      {
       "output_type": "stream",
       "stream": "stdout",
       "text": [
        "\n",
        "       100     -184.2      2.355"
       ]
      },
      {
       "output_type": "stream",
       "stream": "stdout",
       "text": [
        "\n",
        "1.6058997807"
       ]
      },
      {
       "output_type": "stream",
       "stream": "stdout",
       "text": [
        " 0.989911727617 0.971836906263\n",
        "2.97635144163\n",
        "Iteration  Log-likelihood |gradient|"
       ]
      },
      {
       "output_type": "stream",
       "stream": "stdout",
       "text": [
        "\n",
        "         0 -1.649e+03  2.032e+04\n",
        "        20     -203.3  1.136e+03"
       ]
      },
      {
       "output_type": "stream",
       "stream": "stdout",
       "text": [
        "\n",
        "        40     -187.6  1.685e+03"
       ]
      },
      {
       "output_type": "stream",
       "stream": "stdout",
       "text": [
        "\n",
        "        60     -181.4      44.41"
       ]
      },
      {
       "output_type": "stream",
       "stream": "stdout",
       "text": [
        "\n",
        "        80     -181.3      17.13"
       ]
      },
      {
       "output_type": "stream",
       "stream": "stdout",
       "text": [
        "\n",
        "       100     -181.3      8.705"
       ]
      },
      {
       "output_type": "stream",
       "stream": "stdout",
       "text": [
        "\n",
        "1.6058997807"
       ]
      },
      {
       "output_type": "stream",
       "stream": "stdout",
       "text": [
        " 0.990332072299 0.973097940311\n",
        "2.97635144163\n",
        "Iteration  Log-likelihood |gradient|"
       ]
      },
      {
       "output_type": "stream",
       "stream": "stdout",
       "text": [
        "\n",
        "         0 -1.649e+03  2.137e+04\n",
        "        20     -180.0      192.2"
       ]
      },
      {
       "output_type": "stream",
       "stream": "stdout",
       "text": [
        "\n",
        "        40     -178.7      11.65"
       ]
      },
      {
       "output_type": "stream",
       "stream": "stdout",
       "text": [
        "\n",
        "        60     -178.7      2.019"
       ]
      },
      {
       "output_type": "stream",
       "stream": "stdout",
       "text": [
        "\n",
        "        80     -178.7     0.2758"
       ]
      },
      {
       "output_type": "stream",
       "stream": "stdout",
       "text": [
        "\n",
        "1.6058997807"
       ]
      },
      {
       "output_type": "stream",
       "stream": "stdout",
       "text": [
        " 0.987810004203 0.970575872215\n",
        "3.79269019073\n",
        "Iteration  Log-likelihood |gradient|"
       ]
      },
      {
       "output_type": "stream",
       "stream": "stdout",
       "text": [
        "\n",
        "         0 -1.649e+03  2.029e+04\n",
        "        20     -220.5      937.9"
       ]
      },
      {
       "output_type": "stream",
       "stream": "stdout",
       "text": [
        "\n",
        "        40     -209.7      230.8"
       ]
      },
      {
       "output_type": "stream",
       "stream": "stdout",
       "text": [
        "\n",
        "        60     -209.1      44.92"
       ]
      },
      {
       "output_type": "stream",
       "stream": "stdout",
       "text": [
        "\n",
        "        80     -209.1      8.977"
       ]
      },
      {
       "output_type": "stream",
       "stream": "stdout",
       "text": [
        "\n",
        "       100     -209.1      2.155"
       ]
      },
      {
       "output_type": "stream",
       "stream": "stdout",
       "text": [
        "\n",
        "1.78415937944"
       ]
      },
      {
       "output_type": "stream",
       "stream": "stdout",
       "text": [
        " 0.984447246742 0.971836906263\n",
        "3.79269019073\n",
        "Iteration  Log-likelihood |gradient|"
       ]
      },
      {
       "output_type": "stream",
       "stream": "stdout",
       "text": [
        "\n",
        "         0 -1.649e+03  2.083e+04\n",
        "        20     -209.2      560.1"
       ]
      },
      {
       "output_type": "stream",
       "stream": "stdout",
       "text": [
        "\n",
        "        40     -200.8      45.66"
       ]
      },
      {
       "output_type": "stream",
       "stream": "stdout",
       "text": [
        "\n",
        "        60     -200.8      7.618"
       ]
      },
      {
       "output_type": "stream",
       "stream": "stdout",
       "text": [
        "\n",
        "        80     -200.8      2.399"
       ]
      },
      {
       "output_type": "stream",
       "stream": "stdout",
       "text": [
        "\n",
        "       100     -200.8     0.9927"
       ]
      },
      {
       "output_type": "stream",
       "stream": "stdout",
       "text": [
        "\n",
        "1.78415937944"
       ]
      },
      {
       "output_type": "stream",
       "stream": "stdout",
       "text": [
        " 0.987810004203 0.96973518285\n",
        "3.79269019073\n",
        "Iteration  Log-likelihood |gradient|"
       ]
      },
      {
       "output_type": "stream",
       "stream": "stdout",
       "text": [
        "\n",
        "         0 -1.649e+03  2.032e+04\n",
        "        20     -232.5  1.466e+03"
       ]
      },
      {
       "output_type": "stream",
       "stream": "stdout",
       "text": [
        "\n",
        "        40     -199.8      120.3"
       ]
      },
      {
       "output_type": "stream",
       "stream": "stdout",
       "text": [
        "\n",
        "        60     -199.4      47.56"
       ]
      },
      {
       "output_type": "stream",
       "stream": "stdout",
       "text": [
        "\n",
        "        80     -199.5      215.8"
       ]
      },
      {
       "output_type": "stream",
       "stream": "stdout",
       "text": [
        "\n",
        "       100     -199.3      4.267"
       ]
      },
      {
       "output_type": "stream",
       "stream": "stdout",
       "text": [
        "\n",
        "1.78415937944"
       ]
      },
      {
       "output_type": "stream",
       "stream": "stdout",
       "text": [
        " 0.987810004203 0.971836906263\n",
        "3.79269019073\n",
        "Iteration  Log-likelihood |gradient|"
       ]
      },
      {
       "output_type": "stream",
       "stream": "stdout",
       "text": [
        "\n",
        "         0 -1.649e+03  2.137e+04\n",
        "        20     -195.3      153.6"
       ]
      },
      {
       "output_type": "stream",
       "stream": "stdout",
       "text": [
        "\n",
        "        40     -194.6      13.09"
       ]
      },
      {
       "output_type": "stream",
       "stream": "stdout",
       "text": [
        "\n",
        "        60     -194.6      7.082"
       ]
      },
      {
       "output_type": "stream",
       "stream": "stdout",
       "text": [
        "\n",
        "        80     -194.6      1.322"
       ]
      },
      {
       "output_type": "stream",
       "stream": "stdout",
       "text": [
        "\n",
        "1.78415937944"
       ]
      },
      {
       "output_type": "stream",
       "stream": "stdout",
       "text": [
        " 0.985287936108 0.970575872215\n",
        "3.79269019073\n",
        "Iteration  Log-likelihood |gradient|"
       ]
      },
      {
       "output_type": "stream",
       "stream": "stdout",
       "text": [
        "\n",
        "         0 -1.649e+03  2.034e+04\n",
        "        20     -233.7  1.121e+03"
       ]
      },
      {
       "output_type": "stream",
       "stream": "stdout",
       "text": [
        "\n",
        "        40     -212.6      165.3"
       ]
      },
      {
       "output_type": "stream",
       "stream": "stdout",
       "text": [
        "\n",
        "        60     -212.1      81.37"
       ]
      },
      {
       "output_type": "stream",
       "stream": "stdout",
       "text": [
        "\n",
        "        80     -212.0      14.45"
       ]
      },
      {
       "output_type": "stream",
       "stream": "stdout",
       "text": [
        "\n",
        "       100     -212.0      4.175"
       ]
      },
      {
       "output_type": "stream",
       "stream": "stdout",
       "text": [
        "\n",
        "1.78415937944"
       ]
      },
      {
       "output_type": "stream",
       "stream": "stdout",
       "text": [
        " 0.98402690206 0.970996216898\n",
        "4.83293023857\n",
        "Iteration  Log-likelihood |gradient|"
       ]
      },
      {
       "output_type": "stream",
       "stream": "stdout",
       "text": [
        "\n",
        "         0 -1.649e+03  2.083e+04\n",
        "        20     -231.7  1.257e+03"
       ]
      },
      {
       "output_type": "stream",
       "stream": "stdout",
       "text": [
        "\n",
        "        40     -218.1      57.64"
       ]
      },
      {
       "output_type": "stream",
       "stream": "stdout",
       "text": [
        "\n",
        "        60     -218.0      17.77"
       ]
      },
      {
       "output_type": "stream",
       "stream": "stdout",
       "text": [
        "\n",
        "        80     -218.0      1.602"
       ]
      },
      {
       "output_type": "stream",
       "stream": "stdout",
       "text": [
        "\n",
        "1.98220631793"
       ]
      },
      {
       "output_type": "stream",
       "stream": "stdout",
       "text": [
        " 0.984867591425 0.969314838167\n",
        "4.83293023857\n",
        "Iteration  Log-likelihood |gradient|"
       ]
      },
      {
       "output_type": "stream",
       "stream": "stdout",
       "text": [
        "\n",
        "         0 -1.649e+03  2.032e+04\n",
        "        20     -227.6      679.5"
       ]
      },
      {
       "output_type": "stream",
       "stream": "stdout",
       "text": [
        "\n",
        "        40     -218.4      94.18"
       ]
      },
      {
       "output_type": "stream",
       "stream": "stdout",
       "text": [
        "\n",
        "        60     -218.0      28.42"
       ]
      },
      {
       "output_type": "stream",
       "stream": "stdout",
       "text": [
        "\n",
        "        80     -217.9       3.51"
       ]
      },
      {
       "output_type": "stream",
       "stream": "stdout",
       "text": [
        "\n",
        "       100     -217.9      0.989"
       ]
      },
      {
       "output_type": "stream",
       "stream": "stdout",
       "text": [
        "\n",
        "1.98220631793"
       ]
      },
      {
       "output_type": "stream",
       "stream": "stdout",
       "text": [
        " 0.985287936108 0.97141656158\n",
        "4.83293023857\n",
        "Iteration  Log-likelihood |gradient|"
       ]
      },
      {
       "output_type": "stream",
       "stream": "stdout",
       "text": [
        "\n",
        "         0 -1.649e+03  2.137e+04\n",
        "        20     -211.8      138.6"
       ]
      },
      {
       "output_type": "stream",
       "stream": "stdout",
       "text": [
        "\n",
        "        40     -211.1      26.66"
       ]
      },
      {
       "output_type": "stream",
       "stream": "stdout",
       "text": [
        "\n",
        "        60     -211.1      5.762"
       ]
      },
      {
       "output_type": "stream",
       "stream": "stdout",
       "text": [
        "\n",
        "        80     -211.1     0.5443"
       ]
      },
      {
       "output_type": "stream",
       "stream": "stdout",
       "text": [
        "\n",
        "1.98220631793"
       ]
      },
      {
       "output_type": "stream",
       "stream": "stdout",
       "text": [
        " 0.982765868012 0.968894493485\n",
        "4.83293023857\n",
        "Iteration  Log-likelihood |gradient|"
       ]
      },
      {
       "output_type": "stream",
       "stream": "stdout",
       "text": [
        "\n",
        "         0 -1.649e+03  2.034e+04\n",
        "        20     -243.8      874.3"
       ]
      },
      {
       "output_type": "stream",
       "stream": "stdout",
       "text": [
        "\n",
        "        40     -230.1      108.7"
       ]
      },
      {
       "output_type": "stream",
       "stream": "stdout",
       "text": [
        "\n",
        "        60     -229.7      57.19"
       ]
      },
      {
       "output_type": "stream",
       "stream": "stdout",
       "text": [
        "\n",
        "        80     -229.6      17.26"
       ]
      },
      {
       "output_type": "stream",
       "stream": "stdout",
       "text": [
        "\n",
        "       100     -229.6      3.144"
       ]
      },
      {
       "output_type": "stream",
       "stream": "stdout",
       "text": [
        "\n",
        "1.98220631793"
       ]
      },
      {
       "output_type": "stream",
       "stream": "stdout",
       "text": [
        " 0.980664144599 0.970575872215\n",
        "4.83293023857\n",
        "Iteration  Log-likelihood |gradient|"
       ]
      },
      {
       "output_type": "stream",
       "stream": "stdout",
       "text": [
        "\n",
        "         0 -1.649e+03  2.117e+04\n",
        "        20     -226.0      205.3"
       ]
      },
      {
       "output_type": "stream",
       "stream": "stdout",
       "text": [
        "\n",
        "        40     -224.4      31.87"
       ]
      },
      {
       "output_type": "stream",
       "stream": "stdout",
       "text": [
        "\n",
        "        60     -224.4       6.37"
       ]
      },
      {
       "output_type": "stream",
       "stream": "stdout",
       "text": [
        "\n",
        "        80     -224.4      3.814"
       ]
      },
      {
       "output_type": "stream",
       "stream": "stdout",
       "text": [
        "\n",
        "1.98220631793"
       ]
      },
      {
       "output_type": "stream",
       "stream": "stdout",
       "text": [
        " 0.981925178646 0.973097940311\n",
        "6.15848211066\n",
        "Iteration  Log-likelihood |gradient|"
       ]
      },
      {
       "output_type": "stream",
       "stream": "stdout",
       "text": [
        "\n",
        "         0 -1.649e+03  2.032e+04\n",
        "        20     -245.2      769.5"
       ]
      },
      {
       "output_type": "stream",
       "stream": "stdout",
       "text": [
        "\n",
        "        40     -237.6      61.39"
       ]
      },
      {
       "output_type": "stream",
       "stream": "stdout",
       "text": [
        "\n",
        "        60     -237.3      32.41"
       ]
      },
      {
       "output_type": "stream",
       "stream": "stdout",
       "text": [
        "\n",
        "        80     -237.3      5.189"
       ]
      },
      {
       "output_type": "stream",
       "stream": "stdout",
       "text": [
        "\n",
        "       100     -237.3      1.518"
       ]
      },
      {
       "output_type": "stream",
       "stream": "stdout",
       "text": [
        "\n",
        "2.20223704905"
       ]
      },
      {
       "output_type": "stream",
       "stream": "stdout",
       "text": [
        " 0.983186212694 0.97141656158\n",
        "6.15848211066\n",
        "Iteration  Log-likelihood |gradient|"
       ]
      },
      {
       "output_type": "stream",
       "stream": "stdout",
       "text": [
        "\n",
        "         0 -1.649e+03  2.137e+04\n",
        "        20     -228.9      134.8"
       ]
      },
      {
       "output_type": "stream",
       "stream": "stdout",
       "text": [
        "\n",
        "        40     -228.3      29.96"
       ]
      },
      {
       "output_type": "stream",
       "stream": "stdout",
       "text": [
        "\n",
        "        60     -228.3       1.95"
       ]
      },
      {
       "output_type": "stream",
       "stream": "stdout",
       "text": [
        "\n",
        "2.20223704905"
       ]
      },
      {
       "output_type": "stream",
       "stream": "stdout",
       "text": [
        " 0.979823455233 0.968053804119\n",
        "6.15848211066\n",
        "Iteration  Log-likelihood |gradient|"
       ]
      },
      {
       "output_type": "stream",
       "stream": "stdout",
       "text": [
        "\n",
        "         0 -1.649e+03  2.034e+04\n",
        "        20     -254.7      544.2"
       ]
      },
      {
       "output_type": "stream",
       "stream": "stdout",
       "text": [
        "\n",
        "        40     -248.2      88.84"
       ]
      },
      {
       "output_type": "stream",
       "stream": "stdout",
       "text": [
        "\n",
        "        60     -247.9       41.7"
       ]
      },
      {
       "output_type": "stream",
       "stream": "stdout",
       "text": [
        "\n",
        "        80     -247.8      19.93"
       ]
      },
      {
       "output_type": "stream",
       "stream": "stdout",
       "text": [
        "\n",
        "       100     -247.8      5.935"
       ]
      },
      {
       "output_type": "stream",
       "stream": "stdout",
       "text": [
        "\n",
        "2.20223704905"
       ]
      },
      {
       "output_type": "stream",
       "stream": "stdout",
       "text": [
        " 0.979403110551 0.970575872215\n",
        "6.15848211066\n",
        "Iteration  Log-likelihood |gradient|"
       ]
      },
      {
       "output_type": "stream",
       "stream": "stdout",
       "text": [
        "\n",
        "         0 -1.649e+03  2.117e+04\n",
        "        20     -242.5      236.3"
       ]
      },
      {
       "output_type": "stream",
       "stream": "stdout",
       "text": [
        "\n",
        "        40     -240.9      75.07"
       ]
      },
      {
       "output_type": "stream",
       "stream": "stdout",
       "text": [
        "\n",
        "        60     -240.9      4.693"
       ]
      },
      {
       "output_type": "stream",
       "stream": "stdout",
       "text": [
        "\n",
        "        80     -240.9      1.144"
       ]
      },
      {
       "output_type": "stream",
       "stream": "stdout",
       "text": [
        "\n",
        "       100     -240.9     0.6305"
       ]
      },
      {
       "output_type": "stream",
       "stream": "stdout",
       "text": [
        "\n",
        "2.20223704905"
       ]
      },
      {
       "output_type": "stream",
       "stream": "stdout",
       "text": [
        " 0.978562421185 0.972677595628\n",
        "6.15848211066\n",
        "Iteration  Log-likelihood |gradient|"
       ]
      },
      {
       "output_type": "stream",
       "stream": "stdout",
       "text": [
        "\n",
        "         0 -1.649e+03  2.112e+04\n",
        "        20     -244.2      466.5"
       ]
      },
      {
       "output_type": "stream",
       "stream": "stdout",
       "text": [
        "\n",
        "        40     -240.6      223.4"
       ]
      },
      {
       "output_type": "stream",
       "stream": "stdout",
       "text": [
        "\n",
        "        60     -240.5      2.361"
       ]
      },
      {
       "output_type": "stream",
       "stream": "stdout",
       "text": [
        "\n",
        "2.20223704905"
       ]
      },
      {
       "output_type": "stream",
       "stream": "stdout",
       "text": [
        " 0.980664144599 0.974358974359\n",
        "7.84759970351\n",
        "Iteration  Log-likelihood |gradient|"
       ]
      },
      {
       "output_type": "stream",
       "stream": "stdout",
       "text": [
        "\n",
        "         0 -1.649e+03  2.137e+04\n",
        "        20     -247.1      139.4"
       ]
      },
      {
       "output_type": "stream",
       "stream": "stdout",
       "text": [
        "\n",
        "        40     -246.5      49.23"
       ]
      },
      {
       "output_type": "stream",
       "stream": "stdout",
       "text": [
        "\n",
        "        60     -246.5      18.42"
       ]
      },
      {
       "output_type": "stream",
       "stream": "stdout",
       "text": [
        "\n",
        "        80     -246.5      1.369"
       ]
      },
      {
       "output_type": "stream",
       "stream": "stdout",
       "text": [
        "\n",
        "2.44669183846"
       ]
      },
      {
       "output_type": "stream",
       "stream": "stdout",
       "text": [
        " 0.97772173182 0.966792770071\n",
        "7.84759970351\n",
        "Iteration  Log-likelihood |gradient|"
       ]
      },
      {
       "output_type": "stream",
       "stream": "stdout",
       "text": [
        "\n",
        "         0 -1.649e+03  2.034e+04\n",
        "        20     -274.2      637.9"
       ]
      },
      {
       "output_type": "stream",
       "stream": "stdout",
       "text": [
        "\n",
        "        40     -267.2      113.0"
       ]
      },
      {
       "output_type": "stream",
       "stream": "stdout",
       "text": [
        "\n",
        "        60     -267.0      57.87"
       ]
      },
      {
       "output_type": "stream",
       "stream": "stdout",
       "text": [
        "\n",
        "        80     -266.9      6.465"
       ]
      },
      {
       "output_type": "stream",
       "stream": "stdout",
       "text": [
        "\n",
        "       100     -266.9      9.352"
       ]
      },
      {
       "output_type": "stream",
       "stream": "stdout",
       "text": [
        "\n",
        "2.44669183846"
       ]
      },
      {
       "output_type": "stream",
       "stream": "stdout",
       "text": [
        " 0.978982765868 0.970155527533\n",
        "7.84759970351\n",
        "Iteration  Log-likelihood |gradient|"
       ]
      },
      {
       "output_type": "stream",
       "stream": "stdout",
       "text": [
        "\n",
        "         0 -1.649e+03  2.117e+04\n",
        "        20     -260.0      247.6"
       ]
      },
      {
       "output_type": "stream",
       "stream": "stdout",
       "text": [
        "\n",
        "        40     -259.1      651.5"
       ]
      },
      {
       "output_type": "stream",
       "stream": "stdout",
       "text": [
        "\n",
        "        60     -258.2      16.43"
       ]
      },
      {
       "output_type": "stream",
       "stream": "stdout",
       "text": [
        "\n",
        "        80     -258.2      1.096"
       ]
      },
      {
       "output_type": "stream",
       "stream": "stdout",
       "text": [
        "\n",
        "2.44669183846"
       ]
      },
      {
       "output_type": "stream",
       "stream": "stdout",
       "text": [
        " 0.977301387137 0.970996216898\n",
        "7.84759970351\n",
        "Iteration  Log-likelihood |gradient|"
       ]
      },
      {
       "output_type": "stream",
       "stream": "stdout",
       "text": [
        "\n",
        "         0 -1.649e+03  2.112e+04\n",
        "        20     -261.3      288.8"
       ]
      },
      {
       "output_type": "stream",
       "stream": "stdout",
       "text": [
        "\n",
        "        40     -259.2      29.57"
       ]
      },
      {
       "output_type": "stream",
       "stream": "stdout",
       "text": [
        "\n",
        "        60     -259.2      2.661"
       ]
      },
      {
       "output_type": "stream",
       "stream": "stdout",
       "text": [
        "\n",
        "2.44669183846"
       ]
      },
      {
       "output_type": "stream",
       "stream": "stdout",
       "text": [
        " 0.97772173182 0.973097940311\n",
        "7.84759970351\n",
        "Iteration  Log-likelihood |gradient|"
       ]
      },
      {
       "output_type": "stream",
       "stream": "stdout",
       "text": [
        "\n",
        "         0 -1.649e+03  2.126e+04\n",
        "        20     -279.5      281.6"
       ]
      },
      {
       "output_type": "stream",
       "stream": "stdout",
       "text": [
        "\n",
        "        40     -277.5      76.58"
       ]
      },
      {
       "output_type": "stream",
       "stream": "stdout",
       "text": [
        "\n",
        "        60     -277.5        9.0"
       ]
      },
      {
       "output_type": "stream",
       "stream": "stdout",
       "text": [
        "\n",
        "        80     -277.5      3.706"
       ]
      },
      {
       "output_type": "stream",
       "stream": "stdout",
       "text": [
        "\n",
        "2.44669183846"
       ]
      },
      {
       "output_type": "stream",
       "stream": "stdout",
       "text": [
        " 0.977301387137 0.973518284994\n",
        "10.0\n",
        "Iteration  Log-likelihood |gradient|"
       ]
      },
      {
       "output_type": "stream",
       "stream": "stdout",
       "text": [
        "\n",
        "         0 -1.649e+03  2.034e+04\n",
        "        20     -299.2      513.8"
       ]
      },
      {
       "output_type": "stream",
       "stream": "stdout",
       "text": [
        "\n",
        "        40     -287.2      293.3"
       ]
      },
      {
       "output_type": "stream",
       "stream": "stdout",
       "text": [
        "\n",
        "        60     -287.0      11.35"
       ]
      },
      {
       "output_type": "stream",
       "stream": "stdout",
       "text": [
        "\n",
        "        80     -287.0      5.437"
       ]
      },
      {
       "output_type": "stream",
       "stream": "stdout",
       "text": [
        "\n",
        "2.71828182846"
       ]
      },
      {
       "output_type": "stream",
       "stream": "stdout",
       "text": [
        " 0.975199663724 0.968894493485\n",
        "10.0\n",
        "Iteration  Log-likelihood |gradient|"
       ]
      },
      {
       "output_type": "stream",
       "stream": "stdout",
       "text": [
        "\n",
        "         0 -1.649e+03  2.117e+04\n",
        "        20     -277.7      271.1"
       ]
      },
      {
       "output_type": "stream",
       "stream": "stdout",
       "text": [
        "\n",
        "        40     -276.5      62.28"
       ]
      },
      {
       "output_type": "stream",
       "stream": "stdout",
       "text": [
        "\n",
        "        60     -276.5      6.852"
       ]
      },
      {
       "output_type": "stream",
       "stream": "stdout",
       "text": [
        "\n",
        "        80     -276.5      6.781"
       ]
      },
      {
       "output_type": "stream",
       "stream": "stdout",
       "text": [
        "\n",
        "2.71828182846"
       ]
      },
      {
       "output_type": "stream",
       "stream": "stdout",
       "text": [
        " 0.974779319042 0.969314838167\n",
        "10.0\n",
        "Iteration  Log-likelihood |gradient|"
       ]
      },
      {
       "output_type": "stream",
       "stream": "stdout",
       "text": [
        "\n",
        "         0 -1.649e+03  2.112e+04\n",
        "        20     -279.7      196.7"
       ]
      },
      {
       "output_type": "stream",
       "stream": "stdout",
       "text": [
        "\n",
        "        40     -279.0      25.05"
       ]
      },
      {
       "output_type": "stream",
       "stream": "stdout",
       "text": [
        "\n",
        "        60     -279.0      2.653"
       ]
      },
      {
       "output_type": "stream",
       "stream": "stdout",
       "text": [
        "\n",
        "2.71828182846"
       ]
      },
      {
       "output_type": "stream",
       "stream": "stdout",
       "text": [
        " 0.975620008407 0.970575872215\n",
        "10.0\n",
        "Iteration  Log-likelihood |gradient|"
       ]
      },
      {
       "output_type": "stream",
       "stream": "stdout",
       "text": [
        "\n",
        "         0 -1.649e+03  2.126e+04\n",
        "        20     -299.7      299.2"
       ]
      },
      {
       "output_type": "stream",
       "stream": "stdout",
       "text": [
        "\n",
        "        40     -298.0      636.6"
       ]
      },
      {
       "output_type": "stream",
       "stream": "stdout",
       "text": [
        "\n",
        "        60     -297.4      8.921"
       ]
      },
      {
       "output_type": "stream",
       "stream": "stdout",
       "text": [
        "\n",
        "        80     -297.4      4.051"
       ]
      },
      {
       "output_type": "stream",
       "stream": "stdout",
       "text": [
        "\n",
        "2.71828182846"
       ]
      },
      {
       "output_type": "stream",
       "stream": "stdout",
       "text": [
        " 0.974779319042 0.971836906263\n",
        "10.0\n",
        "Iteration  Log-likelihood |gradient|"
       ]
      },
      {
       "output_type": "stream",
       "stream": "stdout",
       "text": [
        "\n",
        "         0 -1.649e+03  2.092e+04\n",
        "        20     -260.6      120.8"
       ]
      },
      {
       "output_type": "stream",
       "stream": "stdout",
       "text": [
        "\n",
        "        40     -260.2      26.37"
       ]
      },
      {
       "output_type": "stream",
       "stream": "stdout",
       "text": [
        "\n",
        "        60     -260.2      3.765"
       ]
      },
      {
       "output_type": "stream",
       "stream": "stdout",
       "text": [
        "\n",
        "2.71828182846"
       ]
      },
      {
       "output_type": "stream",
       "stream": "stdout",
       "text": [
        " 0.978562421185 0.962589323245\n"
       ]
      }
     ],
     "prompt_number": 70
    },
    {
     "cell_type": "code",
     "collapsed": false,
     "input": [
      "plt.xscale('log')\n",
      "plt.scatter([10.0**np.log(i) for i in regs], [acc for acc in accs_val], marker='x', label='Validation set')\n",
      "plt.scatter([10.0**np.log(i) for i in regs], [acc for acc in accs_train], c='r', marker='x', label='Training set')\n",
      "plt.legend()\n",
      "plt.title('HACRF with transition features')\n",
      "plt.xlabel('Regularisation')\n",
      "plt.ylabel('Accuracy')\n",
      "plt.xlim(0.08, 11)"
     ],
     "language": "python",
     "metadata": {},
     "outputs": [
      {
       "metadata": {},
       "output_type": "pyout",
       "prompt_number": 82,
       "text": [
        "(0.08, 11)"
       ]
      },
      {
       "metadata": {},
       "output_type": "display_data",
       "png": "[encoded data removed]",
       "text": [
        "<matplotlib.figure.Figure at 0x2938c5250>"
       ]
      }
     ],
     "prompt_number": 82
    },
    {
     "cell_type": "code",
     "collapsed": false,
     "input": [
      "import cPickle  # Lets store the results in case we need them later\n",
      "cPickle.dump((models, accs_train, accs_val, regs), open('models/val_for_reg_hacrf_t.pkl', 'wb'))"
     ],
     "language": "python",
     "metadata": {},
     "outputs": [],
     "prompt_number": 86
    },
    {
     "cell_type": "markdown",
     "metadata": {},
     "source": [
      "I initially thought that 1 is a good enough value to continue with, but eventually went with 10 because the transition weight\n",
      "pictures looked less noisy and more interesting."
     ]
    },
    {
     "cell_type": "markdown",
     "metadata": {},
     "source": [
      "## Train model with this regularisation"
     ]
    },
    {
     "cell_type": "code",
     "collapsed": false,
     "input": [
      "m = Hacrf(l2_regularization=10.0, optimizer=fmin_l_bfgs_b, optimizer_kwargs={'maxfun': 45}, state_machine=None)\n",
      "m.fit(x_train, y_train, verbosity=20)"
     ],
     "language": "python",
     "metadata": {},
     "outputs": [
      {
       "output_type": "stream",
       "stream": "stdout",
       "text": [
        "Iteration  Log-likelihood |gradient|\n",
        "         0 -3.298e+03   4.01e+04\n",
        "        20     -541.5  2.892e+03"
       ]
      },
      {
       "output_type": "stream",
       "stream": "stdout",
       "text": [
        "\n",
        "        40     -489.6      312.3"
       ]
      },
      {
       "output_type": "stream",
       "stream": "stdout",
       "text": [
        "\n"
       ]
      },
      {
       "metadata": {},
       "output_type": "pyout",
       "prompt_number": 102,
       "text": [
        "<pyhacrf.pyhacrf.Hacrf at 0x293d92510>"
       ]
      }
     ],
     "prompt_number": 102
    },
    {
     "cell_type": "markdown",
     "metadata": {},
     "source": [
      "## Evaluate"
     ]
    },
    {
     "cell_type": "code",
     "collapsed": false,
     "input": [
      "from sklearn.metrics import accuracy_score"
     ],
     "language": "python",
     "metadata": {},
     "outputs": [],
     "prompt_number": 103
    },
    {
     "cell_type": "code",
     "collapsed": false,
     "input": [
      "from sklearn.metrics import confusion_matrix\n",
      "pr = m.predict(x_train)\n",
      "print confusion_matrix(y_train, pr)\n",
      "print '{:.2}% error'.format((1 - accuracy_score(y_train, pr)) * 100)"
     ],
     "language": "python",
     "metadata": {},
     "outputs": [
      {
       "output_type": "stream",
       "stream": "stdout",
       "text": [
        "[[2306   58]\n",
        " [  47 2347]]\n",
        "2.2% error\n"
       ]
      }
     ],
     "prompt_number": 104
    },
    {
     "cell_type": "code",
     "collapsed": false,
     "input": [
      "pr = m.predict(x_test)\n",
      "print confusion_matrix(y_test, pr)\n",
      "print '{:.2}% error'.format((1 - accuracy_score(y_test, pr)) * 100)"
     ],
     "language": "python",
     "metadata": {},
     "outputs": [
      {
       "output_type": "stream",
       "stream": "stdout",
       "text": [
        "[[599  11]\n",
        " [ 19 561]]\n",
        "2.5% error\n"
       ]
      }
     ],
     "prompt_number": 105
    },
    {
     "cell_type": "markdown",
     "metadata": {},
     "source": [
      "The error on the test set is higher than that on the training set. \n",
      "This means that the model is probably still overfitting.\n",
      "\n",
      "### Visualise transitions\n",
      "\n",
      "Let's try to visualise the learned transition matrix. There are many of these matrices, one per edit transition and per\n",
      "class. So for this model, there are `3 x 2 = 6`. Let's just look at the `match`ing class' `substitute` edit transition."
     ]
    },
    {
     "cell_type": "code",
     "collapsed": false,
     "input": [
      "plt.figure(figsize=(8, 8))\n",
      "plt.imshow(m.parameters[0, 3:].reshape(63, 63)[:27, :27], interpolation='nearest', vmin=-0.8, vmax=0.8, cmap='seismic')\n",
      "plt.xticks(range(27), fe.CHARACTERS[:27])\n",
      "plt.yticks(range(27), fe.CHARACTERS[:27])\n",
      "plt.title('Weights learned for the matching states')\n",
      "plt.colorbar()\n",
      "print m.parameters[0, :3]"
     ],
     "language": "python",
     "metadata": {},
     "outputs": [
      {
       "output_type": "stream",
       "stream": "stdout",
       "text": [
        "[-0.62857721  1.86023252  0.        ]\n"
       ]
      },
      {
       "metadata": {},
       "output_type": "display_data",
       "png": "[encoded data removed]",
       "text": [
        "<matplotlib.figure.Figure at 0x1084d69d0>"
       ]
      }
     ],
     "prompt_number": 106
    },
    {
     "cell_type": "code",
     "collapsed": false,
     "input": [
      "plt.figure(figsize=(8, 8))\n",
      "plt.imshow(m.parameters[1, 3:].reshape(63, 63)[:27, :27], interpolation='nearest', vmin=-0.8, vmax=0.8, cmap='seismic')\n",
      "plt.xticks(range(27), fe.CHARACTERS[:27])\n",
      "plt.yticks(range(27), fe.CHARACTERS[:27])\n",
      "plt.title('Weights learned for the non-matching states')\n",
      "plt.colorbar()"
     ],
     "language": "python",
     "metadata": {},
     "outputs": [
      {
       "metadata": {},
       "output_type": "pyout",
       "prompt_number": 107,
       "text": [
        "<matplotlib.colorbar.Colorbar instance at 0x284b0b3b0>"
       ]
      },
      {
       "metadata": {},
       "output_type": "display_data",
       "png": "[encoded data removed]",
       "text": [
        "<matplotlib.figure.Figure at 0x285594b50>"
       ]
      }
     ],
     "prompt_number": 107
    },
    {
     "cell_type": "markdown",
     "metadata": {},
     "source": [
      "## Also train baseline model\n",
      "Now repeat the above steps for a model without the `transition` features so we can compare results."
     ]
    },
    {
     "cell_type": "code",
     "collapsed": false,
     "input": [
      "fe_base = StringPairFeatureExtractor(match=True, numeric=True)\n",
      "x_orig_base = fe_base.fit_transform(x_raw)\n",
      "x_train_base, x_test_base, y_train_base, y_test_base = train_test_split(x_orig_base, y_orig, test_size=0.2, random_state=42)\n",
      "models_base = []\n",
      "accs_train_base = []\n",
      "accs_val_base = []\n",
      "regs_base = []\n",
      "for n, i in enumerate(np.linspace(-10, 4, 25)):\n",
      "    print np.exp(i)\n",
      "    m_base = Hacrf(l2_regularization=np.exp(i), optimizer=fmin_l_bfgs_b, optimizer_kwargs={'maxfun': 45})\n",
      "    \n",
      "    x_t, x_v, y_t, y_v = train_test_split(x_train_base, y_train, test_size=0.5, random_state=42 + n)\n",
      "    \n",
      "    m_base.fit(x_t, y_t, verbosity=5)\n",
      "    \n",
      "    train_score = accuracy_score(m_base.predict(x_t), y_t)\n",
      "    val_score = accuracy_score(m_base.predict(x_v), y_v)\n",
      "    print np.exp(i), train_score, val_score\n",
      "    \n",
      "    regs_base.append(np.exp(i))\n",
      "    models_base.append(m_base)\n",
      "    accs_train_base.append(train_score)\n",
      "    accs_val_base.append(val_score)"
     ],
     "language": "python",
     "metadata": {},
     "outputs": [
      {
       "output_type": "stream",
       "stream": "stdout",
       "text": [
        "4.53999297625e-05\n",
        "Iteration  Log-likelihood |gradient|"
       ]
      },
      {
       "output_type": "stream",
       "stream": "stdout",
       "text": [
        "\n",
        "         0 -1.649e+03  5.727e+03\n",
        "         5     -491.9   1.18e+03"
       ]
      },
      {
       "output_type": "stream",
       "stream": "stdout",
       "text": [
        "\n",
        "        10     -340.0      386.5"
       ]
      },
      {
       "output_type": "stream",
       "stream": "stdout",
       "text": [
        "\n",
        "        15     -307.2      535.0"
       ]
      },
      {
       "output_type": "stream",
       "stream": "stdout",
       "text": [
        "\n",
        "        20     -259.0      48.86"
       ]
      },
      {
       "output_type": "stream",
       "stream": "stdout",
       "text": [
        "\n",
        "        25     -475.1  7.656e+03"
       ]
      },
      {
       "output_type": "stream",
       "stream": "stdout",
       "text": [
        "\n",
        "        30     -251.3      103.3"
       ]
      },
      {
       "output_type": "stream",
       "stream": "stdout",
       "text": [
        "\n",
        "        35     -248.2       17.5"
       ]
      },
      {
       "output_type": "stream",
       "stream": "stdout",
       "text": [
        "\n",
        "        40     -247.6      41.99"
       ]
      },
      {
       "output_type": "stream",
       "stream": "stdout",
       "text": [
        "\n",
        "        45     -247.0      21.01"
       ]
      },
      {
       "output_type": "stream",
       "stream": "stdout",
       "text": [
        "\n",
        "4.53999297625e-05"
       ]
      },
      {
       "output_type": "stream",
       "stream": "stdout",
       "text": [
        " 0.966792770071 0.966372425389\n",
        "8.1356757019e-05\n",
        "Iteration  Log-likelihood |gradient|"
       ]
      },
      {
       "output_type": "stream",
       "stream": "stdout",
       "text": [
        "\n",
        "         0 -1.649e+03  6.169e+03\n",
        "         5     -523.5  1.441e+03"
       ]
      },
      {
       "output_type": "stream",
       "stream": "stdout",
       "text": [
        "\n",
        "        10     -330.2      213.2"
       ]
      },
      {
       "output_type": "stream",
       "stream": "stdout",
       "text": [
        "\n",
        "        15     -287.7      345.9"
       ]
      },
      {
       "output_type": "stream",
       "stream": "stdout",
       "text": [
        "\n",
        "        20     -264.8      180.4"
       ]
      },
      {
       "output_type": "stream",
       "stream": "stdout",
       "text": [
        "\n",
        "        25     -256.1      46.06"
       ]
      },
      {
       "output_type": "stream",
       "stream": "stdout",
       "text": [
        "\n",
        "        30     -258.2      576.8"
       ]
      },
      {
       "output_type": "stream",
       "stream": "stdout",
       "text": [
        "\n",
        "        35     -253.3      43.17"
       ]
      },
      {
       "output_type": "stream",
       "stream": "stdout",
       "text": [
        "\n",
        "        40     -250.1      46.58"
       ]
      },
      {
       "output_type": "stream",
       "stream": "stdout",
       "text": [
        "\n",
        "        45     -249.8       16.9"
       ]
      },
      {
       "output_type": "stream",
       "stream": "stdout",
       "text": [
        "\n",
        "8.1356757019e-05"
       ]
      },
      {
       "output_type": "stream",
       "stream": "stdout",
       "text": [
        " 0.965531736024 0.965111391341\n",
        "0.000145791457108\n",
        "Iteration  Log-likelihood |gradient|"
       ]
      },
      {
       "output_type": "stream",
       "stream": "stdout",
       "text": [
        "\n",
        "         0 -1.649e+03  5.791e+03\n",
        "         5     -482.2   1.05e+03"
       ]
      },
      {
       "output_type": "stream",
       "stream": "stdout",
       "text": [
        "\n",
        "        10     -353.2      485.7"
       ]
      },
      {
       "output_type": "stream",
       "stream": "stdout",
       "text": [
        "\n",
        "        15     -304.9      551.1"
       ]
      },
      {
       "output_type": "stream",
       "stream": "stdout",
       "text": [
        "\n",
        "        20     -246.0      96.96"
       ]
      },
      {
       "output_type": "stream",
       "stream": "stdout",
       "text": [
        "\n",
        "        25     -236.5      30.26"
       ]
      },
      {
       "output_type": "stream",
       "stream": "stdout",
       "text": [
        "\n",
        "        30     -233.1      370.0"
       ]
      },
      {
       "output_type": "stream",
       "stream": "stdout",
       "text": [
        "\n",
        "        35     -231.7      35.96"
       ]
      },
      {
       "output_type": "stream",
       "stream": "stdout",
       "text": [
        "\n",
        "        40     -231.0      33.88"
       ]
      },
      {
       "output_type": "stream",
       "stream": "stdout",
       "text": [
        "\n",
        "        45     -229.5      89.23"
       ]
      },
      {
       "output_type": "stream",
       "stream": "stdout",
       "text": [
        "\n",
        "0.000145791457108"
       ]
      },
      {
       "output_type": "stream",
       "stream": "stdout",
       "text": [
        " 0.967213114754 0.964691046658\n",
        "0.000261258557302\n",
        "Iteration  Log-likelihood |gradient|"
       ]
      },
      {
       "output_type": "stream",
       "stream": "stdout",
       "text": [
        "\n",
        "         0 -1.649e+03  5.981e+03\n",
        "         5     -513.3  1.204e+03"
       ]
      },
      {
       "output_type": "stream",
       "stream": "stdout",
       "text": [
        "\n",
        "        10     -339.2      187.6"
       ]
      },
      {
       "output_type": "stream",
       "stream": "stdout",
       "text": [
        "\n",
        "        15     -301.8      238.4"
       ]
      },
      {
       "output_type": "stream",
       "stream": "stdout",
       "text": [
        "\n",
        "        20     -300.5      738.1"
       ]
      },
      {
       "output_type": "stream",
       "stream": "stdout",
       "text": [
        "\n",
        "        25     -258.0      188.8"
       ]
      },
      {
       "output_type": "stream",
       "stream": "stdout",
       "text": [
        "\n",
        "        30     -253.6      46.34"
       ]
      },
      {
       "output_type": "stream",
       "stream": "stdout",
       "text": [
        "\n",
        "        35     -252.0      34.47"
       ]
      },
      {
       "output_type": "stream",
       "stream": "stdout",
       "text": [
        "\n",
        "        40     -251.6      83.34"
       ]
      },
      {
       "output_type": "stream",
       "stream": "stdout",
       "text": [
        "\n",
        "        45     -250.6      135.6"
       ]
      },
      {
       "output_type": "stream",
       "stream": "stdout",
       "text": [
        "\n",
        "0.000261258557302"
       ]
      },
      {
       "output_type": "stream",
       "stream": "stdout",
       "text": [
        " 0.965952080706 0.966792770071\n",
        "0.000468175811653\n",
        "Iteration  Log-likelihood |gradient|"
       ]
      },
      {
       "output_type": "stream",
       "stream": "stdout",
       "text": [
        "\n",
        "         0 -1.649e+03  6.163e+03\n",
        "         5     -456.3  1.131e+03"
       ]
      },
      {
       "output_type": "stream",
       "stream": "stdout",
       "text": [
        "\n",
        "        10     -296.3      152.1"
       ]
      },
      {
       "output_type": "stream",
       "stream": "stdout",
       "text": [
        "\n",
        "        15     -269.0      276.3"
       ]
      },
      {
       "output_type": "stream",
       "stream": "stdout",
       "text": [
        "\n",
        "        20     -222.9      377.3"
       ]
      },
      {
       "output_type": "stream",
       "stream": "stdout",
       "text": [
        "\n",
        "        25     -219.6      805.6"
       ]
      },
      {
       "output_type": "stream",
       "stream": "stdout",
       "text": [
        "\n",
        "        30     -214.0      17.35"
       ]
      },
      {
       "output_type": "stream",
       "stream": "stdout",
       "text": [
        "\n",
        "        35     -212.2      12.17"
       ]
      },
      {
       "output_type": "stream",
       "stream": "stdout",
       "text": [
        "\n",
        "        40     -212.2      8.349"
       ]
      },
      {
       "output_type": "stream",
       "stream": "stdout",
       "text": [
        "\n",
        "        45     -211.9      11.64"
       ]
      },
      {
       "output_type": "stream",
       "stream": "stdout",
       "text": [
        "\n",
        "0.000468175811653"
       ]
      },
      {
       "output_type": "stream",
       "stream": "stdout",
       "text": [
        " 0.96973518285 0.963850357293\n",
        "0.00083897190921\n",
        "Iteration  Log-likelihood |gradient|"
       ]
      },
      {
       "output_type": "stream",
       "stream": "stdout",
       "text": [
        "\n",
        "         0 -1.649e+03  5.866e+03\n",
        "         5     -434.7      975.7"
       ]
      },
      {
       "output_type": "stream",
       "stream": "stdout",
       "text": [
        "\n",
        "        10     -355.7      276.1"
       ]
      },
      {
       "output_type": "stream",
       "stream": "stdout",
       "text": [
        "\n",
        "        15     -316.2      732.3"
       ]
      },
      {
       "output_type": "stream",
       "stream": "stdout",
       "text": [
        "\n",
        "        20     -271.2      191.4"
       ]
      },
      {
       "output_type": "stream",
       "stream": "stdout",
       "text": [
        "\n",
        "        25     -267.7       70.2"
       ]
      },
      {
       "output_type": "stream",
       "stream": "stdout",
       "text": [
        "\n",
        "        30     -265.4      46.88"
       ]
      },
      {
       "output_type": "stream",
       "stream": "stdout",
       "text": [
        "\n",
        "        35     -263.5      81.06"
       ]
      },
      {
       "output_type": "stream",
       "stream": "stdout",
       "text": [
        "\n",
        "        40     -262.4      29.67"
       ]
      },
      {
       "output_type": "stream",
       "stream": "stdout",
       "text": [
        "\n",
        "        45     -260.4      125.9"
       ]
      },
      {
       "output_type": "stream",
       "stream": "stdout",
       "text": [
        "\n",
        "0.00083897190921"
       ]
      },
      {
       "output_type": "stream",
       "stream": "stdout",
       "text": [
        " 0.965111391341 0.968053804119\n",
        "0.00150343919298\n",
        "Iteration  Log-likelihood |gradient|"
       ]
      },
      {
       "output_type": "stream",
       "stream": "stdout",
       "text": [
        "\n",
        "         0 -1.649e+03  5.848e+03\n",
        "         5     -380.2      763.0"
       ]
      },
      {
       "output_type": "stream",
       "stream": "stdout",
       "text": [
        "\n",
        "        10     -339.6      452.9"
       ]
      },
      {
       "output_type": "stream",
       "stream": "stdout",
       "text": [
        "\n",
        "        15     -303.8      244.9"
       ]
      },
      {
       "output_type": "stream",
       "stream": "stdout",
       "text": [
        "\n",
        "        20     -263.6      642.2"
       ]
      },
      {
       "output_type": "stream",
       "stream": "stdout",
       "text": [
        "\n",
        "        25     -252.0      103.5"
       ]
      },
      {
       "output_type": "stream",
       "stream": "stdout",
       "text": [
        "\n",
        "        30     -250.6      77.54"
       ]
      },
      {
       "output_type": "stream",
       "stream": "stdout",
       "text": [
        "\n",
        "        35     -247.3      60.14"
       ]
      },
      {
       "output_type": "stream",
       "stream": "stdout",
       "text": [
        "\n",
        "        40     -246.2      20.97"
       ]
      },
      {
       "output_type": "stream",
       "stream": "stdout",
       "text": [
        "\n",
        "        45     -245.4      104.3"
       ]
      },
      {
       "output_type": "stream",
       "stream": "stdout",
       "text": [
        "\n",
        "0.00150343919298"
       ]
      },
      {
       "output_type": "stream",
       "stream": "stdout",
       "text": [
        " 0.966372425389 0.966372425389\n",
        "0.00269416577858\n",
        "Iteration  Log-likelihood |gradient|"
       ]
      },
      {
       "output_type": "stream",
       "stream": "stdout",
       "text": [
        "\n",
        "         0 -1.649e+03  5.714e+03\n",
        "         5     -394.6      768.5"
       ]
      },
      {
       "output_type": "stream",
       "stream": "stdout",
       "text": [
        "\n",
        "        10     -354.7      366.3"
       ]
      },
      {
       "output_type": "stream",
       "stream": "stdout",
       "text": [
        "\n",
        "        15     -285.7      471.9"
       ]
      },
      {
       "output_type": "stream",
       "stream": "stdout",
       "text": [
        "\n",
        "        20     -266.0      632.7"
       ]
      },
      {
       "output_type": "stream",
       "stream": "stdout",
       "text": [
        "\n",
        "        25     -259.7      225.6"
       ]
      },
      {
       "output_type": "stream",
       "stream": "stdout",
       "text": [
        "\n",
        "        30     -257.4      244.8"
       ]
      },
      {
       "output_type": "stream",
       "stream": "stdout",
       "text": [
        "\n",
        "        35     -256.5      222.4"
       ]
      },
      {
       "output_type": "stream",
       "stream": "stdout",
       "text": [
        "\n",
        "        40     -254.5      278.1"
       ]
      },
      {
       "output_type": "stream",
       "stream": "stdout",
       "text": [
        "\n",
        "        45     -252.6      55.66"
       ]
      },
      {
       "output_type": "stream",
       "stream": "stdout",
       "text": [
        "\n",
        "0.00269416577858"
       ]
      },
      {
       "output_type": "stream",
       "stream": "stdout",
       "text": [
        " 0.964691046658 0.965952080706\n",
        "0.00482794999383\n",
        "Iteration  Log-likelihood |gradient|"
       ]
      },
      {
       "output_type": "stream",
       "stream": "stdout",
       "text": [
        "\n",
        "         0 -1.649e+03  5.731e+03\n",
        "         5     -440.6  1.004e+03"
       ]
      },
      {
       "output_type": "stream",
       "stream": "stdout",
       "text": [
        "\n",
        "        10     -365.4      334.8"
       ]
      },
      {
       "output_type": "stream",
       "stream": "stdout",
       "text": [
        "\n",
        "        15     -369.1   3.93e+03"
       ]
      },
      {
       "output_type": "stream",
       "stream": "stdout",
       "text": [
        "\n",
        "        20     -264.5      106.4"
       ]
      },
      {
       "output_type": "stream",
       "stream": "stdout",
       "text": [
        "\n",
        "        25     -259.0      80.23"
       ]
      },
      {
       "output_type": "stream",
       "stream": "stdout",
       "text": [
        "\n",
        "        30     -257.0      81.79"
       ]
      },
      {
       "output_type": "stream",
       "stream": "stdout",
       "text": [
        "\n",
        "        35     -255.6      27.07"
       ]
      },
      {
       "output_type": "stream",
       "stream": "stdout",
       "text": [
        "\n",
        "        40     -260.0      283.8"
       ]
      },
      {
       "output_type": "stream",
       "stream": "stdout",
       "text": [
        "\n",
        "        45     -260.3      782.6"
       ]
      },
      {
       "output_type": "stream",
       "stream": "stdout",
       "text": [
        "\n",
        "0.00482794999383"
       ]
      },
      {
       "output_type": "stream",
       "stream": "stdout",
       "text": [
        " 0.965111391341 0.960907944515\n",
        "0.00865169520312\n",
        "Iteration  Log-likelihood |gradient|"
       ]
      },
      {
       "output_type": "stream",
       "stream": "stdout",
       "text": [
        "\n",
        "         0 -1.649e+03  5.825e+03\n",
        "         5     -505.5  1.111e+03"
       ]
      },
      {
       "output_type": "stream",
       "stream": "stdout",
       "text": [
        "\n",
        "        10     -370.3      259.0"
       ]
      },
      {
       "output_type": "stream",
       "stream": "stdout",
       "text": [
        "\n",
        "        15     -323.9      352.7"
       ]
      },
      {
       "output_type": "stream",
       "stream": "stdout",
       "text": [
        "\n",
        "        20     -266.2  1.103e+03"
       ]
      },
      {
       "output_type": "stream",
       "stream": "stdout",
       "text": [
        "\n",
        "        25     -243.0      314.2"
       ]
      },
      {
       "output_type": "stream",
       "stream": "stdout",
       "text": [
        "\n",
        "        30     -240.0      124.3"
       ]
      },
      {
       "output_type": "stream",
       "stream": "stdout",
       "text": [
        "\n",
        "        35     -237.2      39.74"
       ]
      },
      {
       "output_type": "stream",
       "stream": "stdout",
       "text": [
        "\n",
        "        40     -236.1      53.77"
       ]
      },
      {
       "output_type": "stream",
       "stream": "stdout",
       "text": [
        "\n",
        "        45     -235.3      137.1"
       ]
      },
      {
       "output_type": "stream",
       "stream": "stdout",
       "text": [
        "\n",
        "0.00865169520312"
       ]
      },
      {
       "output_type": "stream",
       "stream": "stdout",
       "text": [
        " 0.967633459437 0.957124842371\n",
        "0.015503853599\n",
        "Iteration  Log-likelihood |gradient|"
       ]
      },
      {
       "output_type": "stream",
       "stream": "stdout",
       "text": [
        "\n",
        "         0 -1.649e+03  6.421e+03\n",
        "         5     -428.1      710.3"
       ]
      },
      {
       "output_type": "stream",
       "stream": "stdout",
       "text": [
        "\n",
        "        10     -320.8      286.5"
       ]
      },
      {
       "output_type": "stream",
       "stream": "stdout",
       "text": [
        "\n",
        "        15     -583.8  9.002e+03"
       ]
      },
      {
       "output_type": "stream",
       "stream": "stdout",
       "text": [
        "\n",
        "        20     -249.2      31.92"
       ]
      },
      {
       "output_type": "stream",
       "stream": "stdout",
       "text": [
        "\n",
        "        25     -247.3      165.3"
       ]
      },
      {
       "output_type": "stream",
       "stream": "stdout",
       "text": [
        "\n",
        "        30     -245.8      43.06"
       ]
      },
      {
       "output_type": "stream",
       "stream": "stdout",
       "text": [
        "\n",
        "        35     -243.7      72.74"
       ]
      },
      {
       "output_type": "stream",
       "stream": "stdout",
       "text": [
        "\n",
        "        40     -241.9      57.35"
       ]
      },
      {
       "output_type": "stream",
       "stream": "stdout",
       "text": [
        "\n",
        "        45     -241.2      29.11"
       ]
      },
      {
       "output_type": "stream",
       "stream": "stdout",
       "text": [
        "\n",
        "0.015503853599"
       ]
      },
      {
       "output_type": "stream",
       "stream": "stdout",
       "text": [
        " 0.96973518285 0.965111391341\n",
        "0.0277829339541\n",
        "Iteration  Log-likelihood |gradient|"
       ]
      },
      {
       "output_type": "stream",
       "stream": "stdout",
       "text": [
        "\n",
        "         0 -1.649e+03  6.269e+03\n",
        "         5     -532.6  1.329e+03"
       ]
      },
      {
       "output_type": "stream",
       "stream": "stdout",
       "text": [
        "\n",
        "        10     -365.3      358.4"
       ]
      },
      {
       "output_type": "stream",
       "stream": "stdout",
       "text": [
        "\n",
        "        15     -365.3  3.297e+03"
       ]
      },
      {
       "output_type": "stream",
       "stream": "stdout",
       "text": [
        "\n",
        "        20     -295.0      348.5"
       ]
      },
      {
       "output_type": "stream",
       "stream": "stdout",
       "text": [
        "\n",
        "        25     -283.3      299.7"
       ]
      },
      {
       "output_type": "stream",
       "stream": "stdout",
       "text": [
        "\n",
        "        30     -278.4      94.02"
       ]
      },
      {
       "output_type": "stream",
       "stream": "stdout",
       "text": [
        "\n",
        "        35     -275.8      121.2"
       ]
      },
      {
       "output_type": "stream",
       "stream": "stdout",
       "text": [
        "\n",
        "        40     -274.9      31.62"
       ]
      },
      {
       "output_type": "stream",
       "stream": "stdout",
       "text": [
        "\n",
        "        45     -271.8       97.7"
       ]
      },
      {
       "output_type": "stream",
       "stream": "stdout",
       "text": [
        "\n",
        "0.0277829339541"
       ]
      },
      {
       "output_type": "stream",
       "stream": "stdout",
       "text": [
        " 0.965111391341 0.96973518285\n",
        "0.0497870683679\n",
        "Iteration  Log-likelihood |gradient|"
       ]
      },
      {
       "output_type": "stream",
       "stream": "stdout",
       "text": [
        "\n",
        "         0 -1.649e+03  6.033e+03\n",
        "         5     -534.7  1.126e+03"
       ]
      },
      {
       "output_type": "stream",
       "stream": "stdout",
       "text": [
        "\n",
        "        10     -394.3      249.7"
       ]
      },
      {
       "output_type": "stream",
       "stream": "stdout",
       "text": [
        "\n",
        "        15     -358.0      436.0"
       ]
      },
      {
       "output_type": "stream",
       "stream": "stdout",
       "text": [
        "\n",
        "        20     -289.4      310.4"
       ]
      },
      {
       "output_type": "stream",
       "stream": "stdout",
       "text": [
        "\n",
        "        25     -277.5      59.46"
       ]
      },
      {
       "output_type": "stream",
       "stream": "stdout",
       "text": [
        "\n",
        "        30     -268.9      81.45"
       ]
      },
      {
       "output_type": "stream",
       "stream": "stdout",
       "text": [
        "\n",
        "        35     -265.0      104.7"
       ]
      },
      {
       "output_type": "stream",
       "stream": "stdout",
       "text": [
        "\n",
        "        40     -263.6      39.24"
       ]
      },
      {
       "output_type": "stream",
       "stream": "stdout",
       "text": [
        "\n",
        "        45     -262.8      23.89"
       ]
      },
      {
       "output_type": "stream",
       "stream": "stdout",
       "text": [
        "\n",
        "0.0497870683679"
       ]
      },
      {
       "output_type": "stream",
       "stream": "stdout",
       "text": [
        " 0.963009667928 0.966792770071\n",
        "0.0892185174093\n",
        "Iteration  Log-likelihood |gradient|"
       ]
      },
      {
       "output_type": "stream",
       "stream": "stdout",
       "text": [
        "\n",
        "         0 -1.649e+03  6.739e+03\n",
        "         5     -437.5  1.132e+03"
       ]
      },
      {
       "output_type": "stream",
       "stream": "stdout",
       "text": [
        "\n",
        "        10     -340.8      352.6"
       ]
      },
      {
       "output_type": "stream",
       "stream": "stdout",
       "text": [
        "\n",
        "        15     -307.1      306.9"
       ]
      },
      {
       "output_type": "stream",
       "stream": "stdout",
       "text": [
        "\n",
        "        20     -261.4      63.26"
       ]
      },
      {
       "output_type": "stream",
       "stream": "stdout",
       "text": [
        "\n",
        "        25     -255.9      98.17"
       ]
      },
      {
       "output_type": "stream",
       "stream": "stdout",
       "text": [
        "\n",
        "        30     -276.9  2.073e+03"
       ]
      },
      {
       "output_type": "stream",
       "stream": "stdout",
       "text": [
        "\n",
        "        35     -252.5      141.3"
       ]
      },
      {
       "output_type": "stream",
       "stream": "stdout",
       "text": [
        "\n",
        "        40     -251.4      75.56"
       ]
      },
      {
       "output_type": "stream",
       "stream": "stdout",
       "text": [
        "\n",
        "        45     -248.9      34.53"
       ]
      },
      {
       "output_type": "stream",
       "stream": "stdout",
       "text": [
        "\n",
        "0.0892185174093"
       ]
      },
      {
       "output_type": "stream",
       "stream": "stdout",
       "text": [
        " 0.969314838167 0.96174863388\n",
        "0.15987974608\n",
        "Iteration  Log-likelihood |gradient|"
       ]
      },
      {
       "output_type": "stream",
       "stream": "stdout",
       "text": [
        "\n",
        "         0 -1.649e+03  6.219e+03\n",
        "         5     -420.2      439.0"
       ]
      },
      {
       "output_type": "stream",
       "stream": "stdout",
       "text": [
        "\n",
        "        10     -314.8      542.5"
       ]
      },
      {
       "output_type": "stream",
       "stream": "stdout",
       "text": [
        "\n",
        "        15     -282.6      305.9"
       ]
      },
      {
       "output_type": "stream",
       "stream": "stdout",
       "text": [
        "\n",
        "        20     -270.7      161.5"
       ]
      },
      {
       "output_type": "stream",
       "stream": "stdout",
       "text": [
        "\n",
        "        25     -267.0      41.39"
       ]
      },
      {
       "output_type": "stream",
       "stream": "stdout",
       "text": [
        "\n",
        "        30     -265.9       85.4"
       ]
      },
      {
       "output_type": "stream",
       "stream": "stdout",
       "text": [
        "\n",
        "        35     -262.7       29.1"
       ]
      },
      {
       "output_type": "stream",
       "stream": "stdout",
       "text": [
        "\n",
        "        40     -259.3      70.85"
       ]
      },
      {
       "output_type": "stream",
       "stream": "stdout",
       "text": [
        "\n",
        "        45     -257.8      96.83"
       ]
      },
      {
       "output_type": "stream",
       "stream": "stdout",
       "text": [
        "\n",
        "0.15987974608"
       ]
      },
      {
       "output_type": "stream",
       "stream": "stdout",
       "text": [
        " 0.967213114754 0.967213114754\n",
        "0.28650479686\n",
        "Iteration  Log-likelihood |gradient|"
       ]
      },
      {
       "output_type": "stream",
       "stream": "stdout",
       "text": [
        "\n",
        "         0 -1.649e+03  5.678e+03\n",
        "         5     -488.1  1.185e+03"
       ]
      },
      {
       "output_type": "stream",
       "stream": "stdout",
       "text": [
        "\n",
        "        10     -317.6      264.5"
       ]
      },
      {
       "output_type": "stream",
       "stream": "stdout",
       "text": [
        "\n",
        "        15     -281.3      180.1"
       ]
      },
      {
       "output_type": "stream",
       "stream": "stdout",
       "text": [
        "\n",
        "        20     -244.4      78.28"
       ]
      },
      {
       "output_type": "stream",
       "stream": "stdout",
       "text": [
        "\n",
        "        25     -239.3      100.6"
       ]
      },
      {
       "output_type": "stream",
       "stream": "stdout",
       "text": [
        "\n",
        "        30     -237.0      18.77"
       ]
      },
      {
       "output_type": "stream",
       "stream": "stdout",
       "text": [
        "\n",
        "        35     -256.9  1.734e+03"
       ]
      },
      {
       "output_type": "stream",
       "stream": "stdout",
       "text": [
        "\n",
        "        40     -236.3      12.83"
       ]
      },
      {
       "output_type": "stream",
       "stream": "stdout",
       "text": [
        "\n",
        "        45     -236.1      71.61"
       ]
      },
      {
       "output_type": "stream",
       "stream": "stdout",
       "text": [
        "\n",
        "0.28650479686"
       ]
      },
      {
       "output_type": "stream",
       "stream": "stdout",
       "text": [
        " 0.968894493485 0.964270701976\n",
        "0.513417119033\n",
        "Iteration  Log-likelihood |gradient|"
       ]
      },
      {
       "output_type": "stream",
       "stream": "stdout",
       "text": [
        "\n",
        "         0 -1.649e+03  5.777e+03\n",
        "         5     -486.6  1.165e+03"
       ]
      },
      {
       "output_type": "stream",
       "stream": "stdout",
       "text": [
        "\n",
        "        10     -338.6      274.3"
       ]
      },
      {
       "output_type": "stream",
       "stream": "stdout",
       "text": [
        "\n",
        "        15     -316.5      312.9"
       ]
      },
      {
       "output_type": "stream",
       "stream": "stdout",
       "text": [
        "\n",
        "        20     -270.6      38.89"
       ]
      },
      {
       "output_type": "stream",
       "stream": "stdout",
       "text": [
        "\n",
        "        25     -267.8      23.43"
       ]
      },
      {
       "output_type": "stream",
       "stream": "stdout",
       "text": [
        "\n",
        "        30     -267.3      160.7"
       ]
      },
      {
       "output_type": "stream",
       "stream": "stdout",
       "text": [
        "\n",
        "        35     -266.5      12.79"
       ]
      },
      {
       "output_type": "stream",
       "stream": "stdout",
       "text": [
        "\n",
        "        40     -266.4       11.4"
       ]
      },
      {
       "output_type": "stream",
       "stream": "stdout",
       "text": [
        "\n",
        "        45     -266.0      14.15"
       ]
      },
      {
       "output_type": "stream",
       "stream": "stdout",
       "text": [
        "\n",
        "0.513417119033"
       ]
      },
      {
       "output_type": "stream",
       "stream": "stdout",
       "text": [
        " 0.966792770071 0.966372425389\n",
        "0.920044414629\n",
        "Iteration  Log-likelihood |gradient|"
       ]
      },
      {
       "output_type": "stream",
       "stream": "stdout",
       "text": [
        "\n",
        "         0 -1.649e+03  5.743e+03\n",
        "         5     -450.6  1.177e+03"
       ]
      },
      {
       "output_type": "stream",
       "stream": "stdout",
       "text": [
        "\n",
        "        10     -384.9      439.4"
       ]
      },
      {
       "output_type": "stream",
       "stream": "stdout",
       "text": [
        "\n",
        "        15     -333.3      187.8"
       ]
      },
      {
       "output_type": "stream",
       "stream": "stdout",
       "text": [
        "\n",
        "        20     -307.3      266.5"
       ]
      },
      {
       "output_type": "stream",
       "stream": "stdout",
       "text": [
        "\n",
        "        25     -286.4      104.4"
       ]
      },
      {
       "output_type": "stream",
       "stream": "stdout",
       "text": [
        "\n",
        "        30     -283.1      210.0"
       ]
      },
      {
       "output_type": "stream",
       "stream": "stdout",
       "text": [
        "\n",
        "        35     -278.7      55.94"
       ]
      },
      {
       "output_type": "stream",
       "stream": "stdout",
       "text": [
        "\n",
        "        40     -273.7      501.4"
       ]
      },
      {
       "output_type": "stream",
       "stream": "stdout",
       "text": [
        "\n",
        "        45     -265.7      225.4"
       ]
      },
      {
       "output_type": "stream",
       "stream": "stdout",
       "text": [
        "\n",
        "0.920044414629"
       ]
      },
      {
       "output_type": "stream",
       "stream": "stdout",
       "text": [
        " 0.968894493485 0.960067255149\n",
        "1.6487212707\n",
        "Iteration  Log-likelihood |gradient|"
       ]
      },
      {
       "output_type": "stream",
       "stream": "stdout",
       "text": [
        "\n",
        "         0 -1.649e+03  6.402e+03\n",
        "         5     -385.4  1.066e+03"
       ]
      },
      {
       "output_type": "stream",
       "stream": "stdout",
       "text": [
        "\n",
        "        10     -327.4      311.1"
       ]
      },
      {
       "output_type": "stream",
       "stream": "stdout",
       "text": [
        "\n",
        "        15     -284.7      175.1"
       ]
      },
      {
       "output_type": "stream",
       "stream": "stdout",
       "text": [
        "\n",
        "        20     -264.5      82.16"
       ]
      },
      {
       "output_type": "stream",
       "stream": "stdout",
       "text": [
        "\n",
        "        25     -263.1      199.5"
       ]
      },
      {
       "output_type": "stream",
       "stream": "stdout",
       "text": [
        "\n",
        "        30     -261.3      47.09"
       ]
      },
      {
       "output_type": "stream",
       "stream": "stdout",
       "text": [
        "\n",
        "        35     -260.5      134.8"
       ]
      },
      {
       "output_type": "stream",
       "stream": "stdout",
       "text": [
        "\n",
        "        40     -259.9      19.48"
       ]
      },
      {
       "output_type": "stream",
       "stream": "stdout",
       "text": [
        "\n",
        "        45     -259.7      20.54"
       ]
      },
      {
       "output_type": "stream",
       "stream": "stdout",
       "text": [
        "\n",
        "1.6487212707"
       ]
      },
      {
       "output_type": "stream",
       "stream": "stdout",
       "text": [
        " 0.968474148802 0.962589323245\n",
        "2.95451152709\n",
        "Iteration  Log-likelihood |gradient|"
       ]
      },
      {
       "output_type": "stream",
       "stream": "stdout",
       "text": [
        "\n",
        "         0 -1.649e+03  5.682e+03\n",
        "         5     -484.8      888.0"
       ]
      },
      {
       "output_type": "stream",
       "stream": "stdout",
       "text": [
        "\n",
        "        10     -381.1      440.1"
       ]
      },
      {
       "output_type": "stream",
       "stream": "stdout",
       "text": [
        "\n",
        "        15     -340.0      730.8"
       ]
      },
      {
       "output_type": "stream",
       "stream": "stdout",
       "text": [
        "\n",
        "        20     -309.8      266.7"
       ]
      },
      {
       "output_type": "stream",
       "stream": "stdout",
       "text": [
        "\n",
        "        25     -300.1      56.26"
       ]
      },
      {
       "output_type": "stream",
       "stream": "stdout",
       "text": [
        "\n",
        "        30     -299.6      70.86"
       ]
      },
      {
       "output_type": "stream",
       "stream": "stdout",
       "text": [
        "\n",
        "        35     -296.7      76.77"
       ]
      },
      {
       "output_type": "stream",
       "stream": "stdout",
       "text": [
        "\n",
        "        40     -296.3      106.9"
       ]
      },
      {
       "output_type": "stream",
       "stream": "stdout",
       "text": [
        "\n",
        "        45     -295.9      49.69"
       ]
      },
      {
       "output_type": "stream",
       "stream": "stdout",
       "text": [
        "\n",
        "2.95451152709"
       ]
      },
      {
       "output_type": "stream",
       "stream": "stdout",
       "text": [
        " 0.963850357293 0.961328289197\n",
        "5.29449005047\n",
        "Iteration  Log-likelihood |gradient|"
       ]
      },
      {
       "output_type": "stream",
       "stream": "stdout",
       "text": [
        "\n",
        "         0 -1.649e+03  6.267e+03\n",
        "         5     -421.4      625.1"
       ]
      },
      {
       "output_type": "stream",
       "stream": "stdout",
       "text": [
        "\n",
        "        10     -343.3      159.8"
       ]
      },
      {
       "output_type": "stream",
       "stream": "stdout",
       "text": [
        "\n",
        "        15     -317.4      424.7"
       ]
      },
      {
       "output_type": "stream",
       "stream": "stdout",
       "text": [
        "\n",
        "        20     -312.3      145.6"
       ]
      },
      {
       "output_type": "stream",
       "stream": "stdout",
       "text": [
        "\n",
        "        25     -310.0      24.56"
       ]
      },
      {
       "output_type": "stream",
       "stream": "stdout",
       "text": [
        "\n",
        "        30     -309.0      21.24"
       ]
      },
      {
       "output_type": "stream",
       "stream": "stdout",
       "text": [
        "\n",
        "        35     -308.8      47.64"
       ]
      },
      {
       "output_type": "stream",
       "stream": "stdout",
       "text": [
        "\n",
        "        40     -308.6       87.7"
       ]
      },
      {
       "output_type": "stream",
       "stream": "stdout",
       "text": [
        "\n",
        "        45     -308.5      11.32"
       ]
      },
      {
       "output_type": "stream",
       "stream": "stdout",
       "text": [
        "\n",
        "5.29449005047"
       ]
      },
      {
       "output_type": "stream",
       "stream": "stdout",
       "text": [
        " 0.965111391341 0.960907944515\n",
        "9.48773583636\n",
        "Iteration  Log-likelihood |gradient|"
       ]
      },
      {
       "output_type": "stream",
       "stream": "stdout",
       "text": [
        "\n",
        "         0 -1.649e+03  6.344e+03\n",
        "         5     -429.7      738.0"
       ]
      },
      {
       "output_type": "stream",
       "stream": "stdout",
       "text": [
        "\n",
        "        10     -373.0      511.6"
       ]
      },
      {
       "output_type": "stream",
       "stream": "stdout",
       "text": [
        "\n",
        "        15     -356.2      118.7"
       ]
      },
      {
       "output_type": "stream",
       "stream": "stdout",
       "text": [
        "\n",
        "        20     -353.7      143.9"
       ]
      },
      {
       "output_type": "stream",
       "stream": "stdout",
       "text": [
        "\n",
        "        25     -352.2      127.9"
       ]
      },
      {
       "output_type": "stream",
       "stream": "stdout",
       "text": [
        "\n",
        "        30     -351.2      229.5"
       ]
      },
      {
       "output_type": "stream",
       "stream": "stdout",
       "text": [
        "\n",
        "        35     -350.7      41.64"
       ]
      },
      {
       "output_type": "stream",
       "stream": "stdout",
       "text": [
        "\n",
        "        40     -350.5      8.913"
       ]
      },
      {
       "output_type": "stream",
       "stream": "stdout",
       "text": [
        "\n",
        "        45     -350.5      38.77"
       ]
      },
      {
       "output_type": "stream",
       "stream": "stdout",
       "text": [
        "\n",
        "9.48773583636"
       ]
      },
      {
       "output_type": "stream",
       "stream": "stdout",
       "text": [
        " 0.963850357293 0.960067255149\n",
        "17.0020399401\n",
        "Iteration  Log-likelihood |gradient|"
       ]
      },
      {
       "output_type": "stream",
       "stream": "stdout",
       "text": [
        "\n",
        "         0 -1.649e+03  6.326e+03\n",
        "         5     -482.3      489.3"
       ]
      },
      {
       "output_type": "stream",
       "stream": "stdout",
       "text": [
        "\n",
        "        10     -425.8      695.0"
       ]
      },
      {
       "output_type": "stream",
       "stream": "stdout",
       "text": [
        "\n",
        "        15     -418.4  1.206e+03"
       ]
      },
      {
       "output_type": "stream",
       "stream": "stdout",
       "text": [
        "\n",
        "        20     -413.2      61.13"
       ]
      },
      {
       "output_type": "stream",
       "stream": "stdout",
       "text": [
        "\n",
        "        25     -411.5      53.52"
       ]
      },
      {
       "output_type": "stream",
       "stream": "stdout",
       "text": [
        "\n",
        "        30     -411.0      40.48"
       ]
      },
      {
       "output_type": "stream",
       "stream": "stdout",
       "text": [
        "\n",
        "        35     -410.9      40.17"
       ]
      },
      {
       "output_type": "stream",
       "stream": "stdout",
       "text": [
        "\n",
        "        40     -410.6      50.46"
       ]
      },
      {
       "output_type": "stream",
       "stream": "stdout",
       "text": [
        "\n",
        "        45     -410.5      24.68"
       ]
      },
      {
       "output_type": "stream",
       "stream": "stdout",
       "text": [
        "\n",
        "17.0020399401"
       ]
      },
      {
       "output_type": "stream",
       "stream": "stdout",
       "text": [
        " 0.956284153005 0.960487599832\n",
        "30.4676866125\n",
        "Iteration  Log-likelihood |gradient|"
       ]
      },
      {
       "output_type": "stream",
       "stream": "stdout",
       "text": [
        "\n",
        "         0 -1.649e+03  6.153e+03\n",
        "         5     -514.2      791.8"
       ]
      },
      {
       "output_type": "stream",
       "stream": "stdout",
       "text": [
        "\n",
        "        10     -449.9      484.5"
       ]
      },
      {
       "output_type": "stream",
       "stream": "stdout",
       "text": [
        "\n",
        "        15     -454.5  1.859e+03"
       ]
      },
      {
       "output_type": "stream",
       "stream": "stdout",
       "text": [
        "\n",
        "        20     -442.0      42.89"
       ]
      },
      {
       "output_type": "stream",
       "stream": "stdout",
       "text": [
        "\n",
        "        25     -441.5      18.82"
       ]
      },
      {
       "output_type": "stream",
       "stream": "stdout",
       "text": [
        "\n",
        "        30     -441.5      9.878"
       ]
      },
      {
       "output_type": "stream",
       "stream": "stdout",
       "text": [
        "\n",
        "        35     -441.5     0.5749"
       ]
      },
      {
       "output_type": "stream",
       "stream": "stdout",
       "text": [
        "\n",
        "        40     -441.5     0.1629"
       ]
      },
      {
       "output_type": "stream",
       "stream": "stdout",
       "text": [
        "\n",
        "        45     -441.5      0.062"
       ]
      },
      {
       "output_type": "stream",
       "stream": "stdout",
       "text": [
        "\n",
        "30.4676866125"
       ]
      },
      {
       "output_type": "stream",
       "stream": "stdout",
       "text": [
        " 0.957545187053 0.95376208491\n",
        "54.5981500331\n",
        "Iteration  Log-likelihood |gradient|"
       ]
      },
      {
       "output_type": "stream",
       "stream": "stdout",
       "text": [
        "\n",
        "         0 -1.649e+03  5.956e+03\n",
        "         5     -564.5  1.113e+03"
       ]
      },
      {
       "output_type": "stream",
       "stream": "stdout",
       "text": [
        "\n",
        "        10     -495.0      369.9"
       ]
      },
      {
       "output_type": "stream",
       "stream": "stdout",
       "text": [
        "\n",
        "        15     -964.2  7.932e+03"
       ]
      },
      {
       "output_type": "stream",
       "stream": "stdout",
       "text": [
        "\n",
        "        20     -476.0      194.7"
       ]
      },
      {
       "output_type": "stream",
       "stream": "stdout",
       "text": [
        "\n",
        "        25     -474.8      138.1"
       ]
      },
      {
       "output_type": "stream",
       "stream": "stdout",
       "text": [
        "\n",
        "        30     -474.5      42.05"
       ]
      },
      {
       "output_type": "stream",
       "stream": "stdout",
       "text": [
        "\n",
        "        35     -474.3      23.01"
       ]
      },
      {
       "output_type": "stream",
       "stream": "stdout",
       "text": [
        "\n",
        "        40     -474.2      4.242"
       ]
      },
      {
       "output_type": "stream",
       "stream": "stdout",
       "text": [
        "\n",
        "        45     -474.2     0.9528"
       ]
      },
      {
       "output_type": "stream",
       "stream": "stdout",
       "text": [
        "\n",
        "54.5981500331"
       ]
      },
      {
       "output_type": "stream",
       "stream": "stdout",
       "text": [
        " 0.957124842371 0.948717948718\n"
       ]
      }
     ],
     "prompt_number": 182
    },
    {
     "cell_type": "code",
     "collapsed": false,
     "input": [
      "plt.xscale('log')\n",
      "plt.scatter([(i) for i in regs_base], [acc for acc in accs_val_base], marker='x', label='Validation set')\n",
      "plt.scatter([(i) for i in regs_base], [acc for acc in accs_train_base], c='r', marker='x', label='Training set')\n",
      "plt.legend()\n",
      "plt.xlabel('Regularisation parameter')\n",
      "plt.ylabel('Accuracy')"
     ],
     "language": "python",
     "metadata": {},
     "outputs": [
      {
       "metadata": {},
       "output_type": "pyout",
       "prompt_number": 197,
       "text": [
        "<matplotlib.text.Text at 0x27dfcdfd0>"
       ]
      },
      {
       "metadata": {},
       "output_type": "display_data",
       "png": "[encoded data removed]",
       "text": [
        "<matplotlib.figure.Figure at 0x27b9782d0>"
       ]
      }
     ],
     "prompt_number": 197
    },
    {
     "cell_type": "code",
     "collapsed": false,
     "input": [
      "m_base = Hacrf(l2_regularization=0.1, optimizer=fmin_l_bfgs_b, optimizer_kwargs={'maxfun': 25}, state_machine=None)\n",
      "m_base.fit(x_train_base, y_train, verbosity=5)\n",
      "pr = m_base.predict(x_train_base)\n",
      "print 'Training score:'\n",
      "print confusion_matrix(y_train, pr)\n",
      "print '{:.2}% error'.format((1 - accuracy_score(y_train, pr)) * 100)\n",
      "print 'Testing score:'\n",
      "pr = m_base.predict(x_test_base)\n",
      "print confusion_matrix(y_test, pr)\n",
      "print '{:.2}% error'.format((1 - accuracy_score(y_test, pr)) * 100)"
     ],
     "language": "python",
     "metadata": {},
     "outputs": [
      {
       "output_type": "stream",
       "stream": "stdout",
       "text": [
        "Iteration  Log-likelihood |gradient|\n",
        "         0 -3.298e+03  1.163e+04\n",
        "         5     -842.8  2.713e+03"
       ]
      },
      {
       "output_type": "stream",
       "stream": "stdout",
       "text": [
        "\n",
        "        10     -735.7      988.8"
       ]
      },
      {
       "output_type": "stream",
       "stream": "stdout",
       "text": [
        "\n",
        "        15     -651.0      779.4"
       ]
      },
      {
       "output_type": "stream",
       "stream": "stdout",
       "text": [
        "\n",
        "        20     -532.3      253.4"
       ]
      },
      {
       "output_type": "stream",
       "stream": "stdout",
       "text": [
        "\n",
        "        25     -525.6      90.15"
       ]
      },
      {
       "output_type": "stream",
       "stream": "stdout",
       "text": [
        "\n",
        "Training score:"
       ]
      },
      {
       "output_type": "stream",
       "stream": "stdout",
       "text": [
        "\n",
        "[[2273   91]\n",
        " [  76 2318]]"
       ]
      },
      {
       "output_type": "stream",
       "stream": "stdout",
       "text": [
        "\n",
        "3.5% error\n",
        "Testing score:\n",
        "[[594  16]\n",
        " [ 10 570]]"
       ]
      },
      {
       "output_type": "stream",
       "stream": "stdout",
       "text": [
        "\n",
        "2.2% error\n"
       ]
      }
     ],
     "prompt_number": 185
    },
    {
     "cell_type": "markdown",
     "metadata": {},
     "source": [
      "## Generate example candidate corrections\n",
      "\n",
      "Now, let's take the 1000 pairs we held out at the start,\n",
      "and try to recover the correct token from a list of dictionary words given the incorrect one.\n",
      "\n",
      "To do this, we'll construct a 1000 new sets of pairs.\n",
      "For each incorrect token, we'll construct a list of pairs where the first element in the pair is the incorrect token, \n",
      "and the second element is a candidate correct token from a dictionary."
     ]
    },
    {
     "cell_type": "code",
     "collapsed": false,
     "input": [
      "dictionary = [line.split()[1].strip() for line in open('uk_word_freq.txt', 'r').readlines()[1:]]\n",
      "print len(dictionary)\n",
      "dictionary[:10]"
     ],
     "language": "python",
     "metadata": {},
     "outputs": [
      {
       "output_type": "stream",
       "stream": "stdout",
       "text": [
        "67590\n"
       ]
      },
      {
       "metadata": {},
       "output_type": "pyout",
       "prompt_number": 33,
       "text": [
        "['the', 'of', 'and', 'a', 'in', 'to', 'it', 'is', 'was', 'to']"
       ]
      }
     ],
     "prompt_number": 33
    },
    {
     "cell_type": "code",
     "collapsed": false,
     "input": [
      "for incorrect, correct in ppairs_test[:10]:\n",
      "    test_pairs = [(incorrect, candidate) for candidate in set(dictionary[:10000] + [correct])]\n",
      "    gx_test = fe.transform(test_pairs)\n",
      "    pr = m.predict_proba(gx_test)\n",
      "    cr = zip(pr, test_pairs)\n",
      "    cr = sorted(cr, key=lambda x: -x[0][0])\n",
      "    print (incorrect, correct),\n",
      "    print [(candidate[1][1], '{:.3f}'.format(candidate[0][0])) for candidate in cr[:10]]\n",
      "    print"
     ],
     "language": "python",
     "metadata": {},
     "outputs": [
      {
       "output_type": "stream",
       "stream": "stdout",
       "text": [
        "('jokies', 'jokes') [('jokes', '0.997'), ('jobs', '0.984'), ('jones', '0.964'), ('joke', '0.913'), ('jenkins', '0.869'), ('jews', '0.867'), ('jesus', '0.822'), ('joe', '0.811'), ('james', '0.803'), ('joy', '0.797')]\n",
        "\n",
        "('payed', 'paid')"
       ]
      },
      {
       "output_type": "stream",
       "stream": "stdout",
       "text": [
        " [('played', '0.999'), ('paused', '0.998'), ('passed', '0.998'), ('paid', '0.997'), ('packed', '0.994'), ('persuaded', '0.993'), ('poured', '0.993'), ('prepared', '0.993'), ('pushed', '0.992'), ('proved', '0.992')]\n",
        "\n",
        "('comming', 'coming')"
       ]
      },
      {
       "output_type": "stream",
       "stream": "stdout",
       "text": [
        " [('coming', '1.000'), ('combining', '1.000'), ('comment', '0.998'), ('command', '0.998'), ('common', '0.998'), ('commitment', '0.997'), ('commit', '0.997'), ('commons', '0.997'), ('competing', '0.996'), ('comparing', '0.996')]\n",
        "\n",
        "('joyyyyyy', 'joy')"
       ]
      },
      {
       "output_type": "stream",
       "stream": "stdout",
       "text": [
        " [('y', '1.000'), ('joy', '1.000'), ('july', '0.999'), ('jury', '0.999'), ('by', '0.998'), ('boy', '0.998'), ('johnny', '0.995'), ('roy', '0.995'), ('jenny', '0.994'), ('guy', '0.993')]\n",
        "\n",
        "('growin', 'growing')"
       ]
      },
      {
       "output_type": "stream",
       "stream": "stdout",
       "text": [
        " [('grown', '1.000'), ('grin', '0.998'), ('growing', '0.998'), ('grain', '0.996'), ('grow', '0.984'), ('brown', '0.979'), ('gordon', '0.978'), ('grows', '0.978'), ('growth', '0.972'), ('gon', '0.963')]\n",
        "\n",
        "('botherin', 'bothering')"
       ]
      },
      {
       "output_type": "stream",
       "stream": "stdout",
       "text": [
        " [('bothering', '0.999'), ('bother', '0.987'), ('born', '0.983'), ('bothered', '0.961'), ('brother', '0.952'), ('brothers', '0.934'), ('burn', '0.919'), ('northern', '0.907'), ('barn', '0.902'), ('berlin', '0.871')]\n",
        "\n",
        "('konvict', 'convict')"
       ]
      },
      {
       "output_type": "stream",
       "stream": "stdout",
       "text": [
        " [('convict', '0.997'), ('kent', '0.901'), ('conflict', '0.879'), ('kit', '0.851'), ('contact', '0.838'), ('convert', '0.795'), ('convenient', '0.763'), ('soviet', '0.725'), ('contract', '0.715'), ('conduct', '0.660')]\n",
        "\n",
        "('da', 'the')"
       ]
      },
      {
       "output_type": "stream",
       "stream": "stdout",
       "text": [
        " [('da', '0.998'), ('dna', '0.997'), ('daddy', '0.996'), ('data', '0.996'), ('diana', '0.994'), ('donna', '0.991'), ('drama', '0.991'), ('day', '0.991'), ('dad', '0.989'), ('days', '0.986')]\n",
        "\n",
        "('dickk', 'dick')"
       ]
      },
      {
       "output_type": "stream",
       "stream": "stdout",
       "text": [
        " [('dick', '1.000'), ('deck', '0.999'), ('dock', '0.999'), ('duck', '0.999'), ('disk', '0.999'), ('desk', '0.993'), ('dark', '0.992'), ('derek', '0.991'), ('kick', '0.987'), ('sick', '0.986')]\n",
        "\n",
        "('steem', 'steam')"
       ]
      },
      {
       "output_type": "stream",
       "stream": "stdout",
       "text": [
        " [('steam', '0.999'), ('seem', '0.997'), ('stream', '0.997'), ('system', '0.997'), ('storm', '0.992'), ('item', '0.988'), ('systems', '0.980'), ('streams', '0.974'), ('stamp', '0.968'), ('steep', '0.958')]\n",
        "\n"
       ]
      }
     ],
     "prompt_number": 34
    },
    {
     "cell_type": "markdown",
     "metadata": {},
     "source": [
      "## Evaluate candidate generation\n",
      "\n",
      "How often is the correct token in the top 1, 3, 20, or 100 candidates?\n",
      "#### Levenshtein baseline"
     ]
    },
    {
     "cell_type": "code",
     "collapsed": false,
     "input": [
      "import editdistance"
     ],
     "language": "python",
     "metadata": {},
     "outputs": [
      {
       "output_type": "stream",
       "stream": "stdout",
       "text": [
        "\n"
       ]
      }
     ],
     "prompt_number": 36
    },
    {
     "cell_type": "code",
     "collapsed": false,
     "input": [
      "dictionary_length = len(dictionary)\n",
      "dictionary_rank = dict([(word, dictionary_length - i) for i, word in enumerate(dictionary[::-1])])\n",
      "dictionary_rank['a']"
     ],
     "language": "python",
     "metadata": {},
     "outputs": [
      {
       "metadata": {},
       "output_type": "pyout",
       "prompt_number": 37,
       "text": [
        "4"
       ]
      }
     ],
     "prompt_number": 37
    },
    {
     "cell_type": "code",
     "collapsed": true,
     "input": [
      "result_file = open('levenshtein_generation_result.txt', 'a')\n",
      "for i, (incorrect, correct) in enumerate(ppairs_test[:1000]):\n",
      "    print i,\n",
      "    test_pairs = [(incorrect, candidate) for candidate in set(dictionary[:20000] + [correct])]\n",
      "    pr = [editdistance.eval(*test_pair) for test_pair in test_pairs]\n",
      "    cr = zip(pr, test_pairs)\n",
      "    cr = sorted(cr, key=lambda x: x[0])\n",
      "    result_file.write('{} {} {}\\n'.format(incorrect, correct,\n",
      "                      [(candidate[1][1], '{:.5f}'.format(candidate[0])) for candidate in cr[:1000]]))\n",
      "    result_file.flush()"
     ],
     "language": "python",
     "metadata": {},
     "outputs": [
      {
       "output_type": "stream",
       "stream": "stdout",
       "text": [
        "0 "
       ]
      },
      {
       "output_type": "stream",
       "stream": "stdout",
       "text": [
        "1 "
       ]
      },
      {
       "output_type": "stream",
       "stream": "stdout",
       "text": [
        "2 "
       ]
      },
      {
       "output_type": "stream",
       "stream": "stdout",
       "text": [
        "3 "
       ]
      },
      {
       "output_type": "stream",
       "stream": "stdout",
       "text": [
        "4 "
       ]
      },
      {
       "output_type": "stream",
       "stream": "stdout",
       "text": [
        "5 "
       ]
      },
      {
       "output_type": "stream",
       "stream": "stdout",
       "text": [
        "6 "
       ]
      },
      {
       "output_type": "stream",
       "stream": "stdout",
       "text": [
        "7 "
       ]
      },
      {
       "output_type": "stream",
       "stream": "stdout",
       "text": [
        "8 "
       ]
      },
      {
       "output_type": "stream",
       "stream": "stdout",
       "text": [
        "9 "
       ]
      },
      {
       "output_type": "stream",
       "stream": "stdout",
       "text": [
        "10 "
       ]
      },
      {
       "output_type": "stream",
       "stream": "stdout",
       "text": [
        "11 "
       ]
      },
      {
       "output_type": "stream",
       "stream": "stdout",
       "text": [
        "12 "
       ]
      },
      {
       "output_type": "stream",
       "stream": "stdout",
       "text": [
        "13 "
       ]
      },
      {
       "output_type": "stream",
       "stream": "stdout",
       "text": [
        "14 "
       ]
      },
      {
       "output_type": "stream",
       "stream": "stdout",
       "text": [
        "15 "
       ]
      },
      {
       "output_type": "stream",
       "stream": "stdout",
       "text": [
        "16 "
       ]
      },
      {
       "output_type": "stream",
       "stream": "stdout",
       "text": [
        "17 "
       ]
      },
      {
       "output_type": "stream",
       "stream": "stdout",
       "text": [
        "18 "
       ]
      },
      {
       "output_type": "stream",
       "stream": "stdout",
       "text": [
        "19 "
       ]
      },
      {
       "output_type": "stream",
       "stream": "stdout",
       "text": [
        "20 "
       ]
      },
      {
       "output_type": "stream",
       "stream": "stdout",
       "text": [
        "21 "
       ]
      },
      {
       "output_type": "stream",
       "stream": "stdout",
       "text": [
        "22 "
       ]
      },
      {
       "output_type": "stream",
       "stream": "stdout",
       "text": [
        "23 "
       ]
      },
      {
       "output_type": "stream",
       "stream": "stdout",
       "text": [
        "24 "
       ]
      },
      {
       "output_type": "stream",
       "stream": "stdout",
       "text": [
        "25 "
       ]
      },
      {
       "output_type": "stream",
       "stream": "stdout",
       "text": [
        "26 "
       ]
      },
      {
       "output_type": "stream",
       "stream": "stdout",
       "text": [
        "27 "
       ]
      },
      {
       "output_type": "stream",
       "stream": "stdout",
       "text": [
        "28 "
       ]
      },
      {
       "output_type": "stream",
       "stream": "stdout",
       "text": [
        "29 "
       ]
      },
      {
       "output_type": "stream",
       "stream": "stdout",
       "text": [
        "30 "
       ]
      },
      {
       "output_type": "stream",
       "stream": "stdout",
       "text": [
        "31 "
       ]
      },
      {
       "output_type": "stream",
       "stream": "stdout",
       "text": [
        "32 "
       ]
      },
      {
       "output_type": "stream",
       "stream": "stdout",
       "text": [
        "33 "
       ]
      },
      {
       "output_type": "stream",
       "stream": "stdout",
       "text": [
        "34 "
       ]
      },
      {
       "output_type": "stream",
       "stream": "stdout",
       "text": [
        "35 "
       ]
      },
      {
       "output_type": "stream",
       "stream": "stdout",
       "text": [
        "36 "
       ]
      },
      {
       "output_type": "stream",
       "stream": "stdout",
       "text": [
        "37 "
       ]
      },
      {
       "output_type": "stream",
       "stream": "stdout",
       "text": [
        "38 "
       ]
      },
      {
       "output_type": "stream",
       "stream": "stdout",
       "text": [
        "39 "
       ]
      },
      {
       "output_type": "stream",
       "stream": "stdout",
       "text": [
        "40 "
       ]
      },
      {
       "output_type": "stream",
       "stream": "stdout",
       "text": [
        "41 "
       ]
      },
      {
       "output_type": "stream",
       "stream": "stdout",
       "text": [
        "42 "
       ]
      },
      {
       "output_type": "stream",
       "stream": "stdout",
       "text": [
        "43 "
       ]
      },
      {
       "output_type": "stream",
       "stream": "stdout",
       "text": [
        "44 "
       ]
      },
      {
       "output_type": "stream",
       "stream": "stdout",
       "text": [
        "45 "
       ]
      },
      {
       "output_type": "stream",
       "stream": "stdout",
       "text": [
        "46 "
       ]
      },
      {
       "output_type": "stream",
       "stream": "stdout",
       "text": [
        "47 "
       ]
      },
      {
       "output_type": "stream",
       "stream": "stdout",
       "text": [
        "48 "
       ]
      },
      {
       "output_type": "stream",
       "stream": "stdout",
       "text": [
        "49 "
       ]
      },
      {
       "output_type": "stream",
       "stream": "stdout",
       "text": [
        "50 "
       ]
      },
      {
       "output_type": "stream",
       "stream": "stdout",
       "text": [
        "51 "
       ]
      },
      {
       "output_type": "stream",
       "stream": "stdout",
       "text": [
        "52 "
       ]
      },
      {
       "output_type": "stream",
       "stream": "stdout",
       "text": [
        "53 "
       ]
      },
      {
       "output_type": "stream",
       "stream": "stdout",
       "text": [
        "54 "
       ]
      },
      {
       "output_type": "stream",
       "stream": "stdout",
       "text": [
        "55 "
       ]
      },
      {
       "output_type": "stream",
       "stream": "stdout",
       "text": [
        "56 "
       ]
      },
      {
       "output_type": "stream",
       "stream": "stdout",
       "text": [
        "57 "
       ]
      },
      {
       "output_type": "stream",
       "stream": "stdout",
       "text": [
        "58 "
       ]
      },
      {
       "output_type": "stream",
       "stream": "stdout",
       "text": [
        "59 "
       ]
      },
      {
       "output_type": "stream",
       "stream": "stdout",
       "text": [
        "60 "
       ]
      },
      {
       "output_type": "stream",
       "stream": "stdout",
       "text": [
        "61 "
       ]
      },
      {
       "output_type": "stream",
       "stream": "stdout",
       "text": [
        "62 "
       ]
      },
      {
       "output_type": "stream",
       "stream": "stdout",
       "text": [
        "63 "
       ]
      },
      {
       "output_type": "stream",
       "stream": "stdout",
       "text": [
        "64 "
       ]
      },
      {
       "output_type": "stream",
       "stream": "stdout",
       "text": [
        "65 "
       ]
      },
      {
       "output_type": "stream",
       "stream": "stdout",
       "text": [
        "66 "
       ]
      },
      {
       "output_type": "stream",
       "stream": "stdout",
       "text": [
        "67 "
       ]
      },
      {
       "output_type": "stream",
       "stream": "stdout",
       "text": [
        "68 "
       ]
      },
      {
       "output_type": "stream",
       "stream": "stdout",
       "text": [
        "69 "
       ]
      },
      {
       "output_type": "stream",
       "stream": "stdout",
       "text": [
        "70 "
       ]
      },
      {
       "output_type": "stream",
       "stream": "stdout",
       "text": [
        "71 "
       ]
      },
      {
       "output_type": "stream",
       "stream": "stdout",
       "text": [
        "72 "
       ]
      },
      {
       "output_type": "stream",
       "stream": "stdout",
       "text": [
        "73 "
       ]
      },
      {
       "output_type": "stream",
       "stream": "stdout",
       "text": [
        "74 "
       ]
      },
      {
       "output_type": "stream",
       "stream": "stdout",
       "text": [
        "75 "
       ]
      },
      {
       "output_type": "stream",
       "stream": "stdout",
       "text": [
        "76 "
       ]
      },
      {
       "output_type": "stream",
       "stream": "stdout",
       "text": [
        "77 "
       ]
      },
      {
       "output_type": "stream",
       "stream": "stdout",
       "text": [
        "78 "
       ]
      },
      {
       "output_type": "stream",
       "stream": "stdout",
       "text": [
        "79 "
       ]
      },
      {
       "output_type": "stream",
       "stream": "stdout",
       "text": [
        "80 "
       ]
      },
      {
       "output_type": "stream",
       "stream": "stdout",
       "text": [
        "81 "
       ]
      },
      {
       "output_type": "stream",
       "stream": "stdout",
       "text": [
        "82 "
       ]
      },
      {
       "output_type": "stream",
       "stream": "stdout",
       "text": [
        "83 "
       ]
      },
      {
       "output_type": "stream",
       "stream": "stdout",
       "text": [
        "84 "
       ]
      },
      {
       "output_type": "stream",
       "stream": "stdout",
       "text": [
        "85 "
       ]
      },
      {
       "output_type": "stream",
       "stream": "stdout",
       "text": [
        "86 "
       ]
      },
      {
       "output_type": "stream",
       "stream": "stdout",
       "text": [
        "87 "
       ]
      },
      {
       "output_type": "stream",
       "stream": "stdout",
       "text": [
        "88 "
       ]
      },
      {
       "output_type": "stream",
       "stream": "stdout",
       "text": [
        "89 "
       ]
      },
      {
       "output_type": "stream",
       "stream": "stdout",
       "text": [
        "90 "
       ]
      },
      {
       "output_type": "stream",
       "stream": "stdout",
       "text": [
        "91 "
       ]
      },
      {
       "output_type": "stream",
       "stream": "stdout",
       "text": [
        "92 "
       ]
      },
      {
       "output_type": "stream",
       "stream": "stdout",
       "text": [
        "93 "
       ]
      },
      {
       "output_type": "stream",
       "stream": "stdout",
       "text": [
        "94 "
       ]
      },
      {
       "output_type": "stream",
       "stream": "stdout",
       "text": [
        "95 "
       ]
      },
      {
       "output_type": "stream",
       "stream": "stdout",
       "text": [
        "96 "
       ]
      },
      {
       "output_type": "stream",
       "stream": "stdout",
       "text": [
        "97 "
       ]
      },
      {
       "output_type": "stream",
       "stream": "stdout",
       "text": [
        "98 "
       ]
      },
      {
       "output_type": "stream",
       "stream": "stdout",
       "text": [
        "99 "
       ]
      },
      {
       "output_type": "stream",
       "stream": "stdout",
       "text": [
        "100 "
       ]
      },
      {
       "output_type": "stream",
       "stream": "stdout",
       "text": [
        "101 "
       ]
      },
      {
       "output_type": "stream",
       "stream": "stdout",
       "text": [
        "102 "
       ]
      },
      {
       "output_type": "stream",
       "stream": "stdout",
       "text": [
        "103 "
       ]
      },
      {
       "output_type": "stream",
       "stream": "stdout",
       "text": [
        "104 "
       ]
      },
      {
       "output_type": "stream",
       "stream": "stdout",
       "text": [
        "105 "
       ]
      },
      {
       "output_type": "stream",
       "stream": "stdout",
       "text": [
        "106 "
       ]
      },
      {
       "output_type": "stream",
       "stream": "stdout",
       "text": [
        "107 "
       ]
      },
      {
       "output_type": "stream",
       "stream": "stdout",
       "text": [
        "108 "
       ]
      },
      {
       "output_type": "stream",
       "stream": "stdout",
       "text": [
        "109 "
       ]
      },
      {
       "output_type": "stream",
       "stream": "stdout",
       "text": [
        "110 "
       ]
      },
      {
       "output_type": "stream",
       "stream": "stdout",
       "text": [
        "111 "
       ]
      },
      {
       "output_type": "stream",
       "stream": "stdout",
       "text": [
        "112 "
       ]
      },
      {
       "output_type": "stream",
       "stream": "stdout",
       "text": [
        "113 "
       ]
      },
      {
       "output_type": "stream",
       "stream": "stdout",
       "text": [
        "114 "
       ]
      },
      {
       "output_type": "stream",
       "stream": "stdout",
       "text": [
        "115 "
       ]
      },
      {
       "output_type": "stream",
       "stream": "stdout",
       "text": [
        "116 "
       ]
      },
      {
       "output_type": "stream",
       "stream": "stdout",
       "text": [
        "117 "
       ]
      },
      {
       "output_type": "stream",
       "stream": "stdout",
       "text": [
        "118 "
       ]
      },
      {
       "output_type": "stream",
       "stream": "stdout",
       "text": [
        "119 "
       ]
      },
      {
       "output_type": "stream",
       "stream": "stdout",
       "text": [
        "120 "
       ]
      },
      {
       "output_type": "stream",
       "stream": "stdout",
       "text": [
        "121 "
       ]
      },
      {
       "output_type": "stream",
       "stream": "stdout",
       "text": [
        "122 "
       ]
      },
      {
       "output_type": "stream",
       "stream": "stdout",
       "text": [
        "123 "
       ]
      },
      {
       "output_type": "stream",
       "stream": "stdout",
       "text": [
        "124 "
       ]
      },
      {
       "output_type": "stream",
       "stream": "stdout",
       "text": [
        "125 "
       ]
      },
      {
       "output_type": "stream",
       "stream": "stdout",
       "text": [
        "126 "
       ]
      },
      {
       "output_type": "stream",
       "stream": "stdout",
       "text": [
        "127 "
       ]
      },
      {
       "output_type": "stream",
       "stream": "stdout",
       "text": [
        "128 "
       ]
      },
      {
       "output_type": "stream",
       "stream": "stdout",
       "text": [
        "129 "
       ]
      },
      {
       "output_type": "stream",
       "stream": "stdout",
       "text": [
        "130 "
       ]
      },
      {
       "output_type": "stream",
       "stream": "stdout",
       "text": [
        "131 "
       ]
      },
      {
       "output_type": "stream",
       "stream": "stdout",
       "text": [
        "132 "
       ]
      },
      {
       "output_type": "stream",
       "stream": "stdout",
       "text": [
        "133 "
       ]
      },
      {
       "output_type": "stream",
       "stream": "stdout",
       "text": [
        "134 "
       ]
      },
      {
       "output_type": "stream",
       "stream": "stdout",
       "text": [
        "135 "
       ]
      },
      {
       "output_type": "stream",
       "stream": "stdout",
       "text": [
        "136 "
       ]
      },
      {
       "output_type": "stream",
       "stream": "stdout",
       "text": [
        "137 "
       ]
      },
      {
       "output_type": "stream",
       "stream": "stdout",
       "text": [
        "138 "
       ]
      },
      {
       "output_type": "stream",
       "stream": "stdout",
       "text": [
        "139 "
       ]
      },
      {
       "output_type": "stream",
       "stream": "stdout",
       "text": [
        "140 "
       ]
      },
      {
       "output_type": "stream",
       "stream": "stdout",
       "text": [
        "141 "
       ]
      },
      {
       "output_type": "stream",
       "stream": "stdout",
       "text": [
        "142 "
       ]
      },
      {
       "output_type": "stream",
       "stream": "stdout",
       "text": [
        "143 "
       ]
      },
      {
       "output_type": "stream",
       "stream": "stdout",
       "text": [
        "144 "
       ]
      },
      {
       "output_type": "stream",
       "stream": "stdout",
       "text": [
        "145 "
       ]
      },
      {
       "output_type": "stream",
       "stream": "stdout",
       "text": [
        "146 "
       ]
      },
      {
       "output_type": "stream",
       "stream": "stdout",
       "text": [
        "147 "
       ]
      },
      {
       "output_type": "stream",
       "stream": "stdout",
       "text": [
        "148 "
       ]
      },
      {
       "output_type": "stream",
       "stream": "stdout",
       "text": [
        "149 "
       ]
      },
      {
       "output_type": "stream",
       "stream": "stdout",
       "text": [
        "150 "
       ]
      },
      {
       "output_type": "stream",
       "stream": "stdout",
       "text": [
        "151 "
       ]
      },
      {
       "output_type": "stream",
       "stream": "stdout",
       "text": [
        "152 "
       ]
      },
      {
       "output_type": "stream",
       "stream": "stdout",
       "text": [
        "153 "
       ]
      },
      {
       "output_type": "stream",
       "stream": "stdout",
       "text": [
        "154 "
       ]
      },
      {
       "output_type": "stream",
       "stream": "stdout",
       "text": [
        "155 "
       ]
      },
      {
       "output_type": "stream",
       "stream": "stdout",
       "text": [
        "156 "
       ]
      },
      {
       "output_type": "stream",
       "stream": "stdout",
       "text": [
        "157 "
       ]
      },
      {
       "output_type": "stream",
       "stream": "stdout",
       "text": [
        "158 "
       ]
      },
      {
       "output_type": "stream",
       "stream": "stdout",
       "text": [
        "159 "
       ]
      },
      {
       "output_type": "stream",
       "stream": "stdout",
       "text": [
        "160 "
       ]
      },
      {
       "output_type": "stream",
       "stream": "stdout",
       "text": [
        "161 "
       ]
      },
      {
       "output_type": "stream",
       "stream": "stdout",
       "text": [
        "162 "
       ]
      },
      {
       "output_type": "stream",
       "stream": "stdout",
       "text": [
        "163 "
       ]
      },
      {
       "output_type": "stream",
       "stream": "stdout",
       "text": [
        "164 "
       ]
      },
      {
       "output_type": "stream",
       "stream": "stdout",
       "text": [
        "165 "
       ]
      },
      {
       "output_type": "stream",
       "stream": "stdout",
       "text": [
        "166 "
       ]
      },
      {
       "output_type": "stream",
       "stream": "stdout",
       "text": [
        "167 "
       ]
      },
      {
       "output_type": "stream",
       "stream": "stdout",
       "text": [
        "168 "
       ]
      },
      {
       "output_type": "stream",
       "stream": "stdout",
       "text": [
        "169 "
       ]
      },
      {
       "output_type": "stream",
       "stream": "stdout",
       "text": [
        "170 "
       ]
      },
      {
       "output_type": "stream",
       "stream": "stdout",
       "text": [
        "171 "
       ]
      },
      {
       "output_type": "stream",
       "stream": "stdout",
       "text": [
        "172 "
       ]
      },
      {
       "output_type": "stream",
       "stream": "stdout",
       "text": [
        "173 "
       ]
      },
      {
       "output_type": "stream",
       "stream": "stdout",
       "text": [
        "174 "
       ]
      },
      {
       "output_type": "stream",
       "stream": "stdout",
       "text": [
        "175 "
       ]
      },
      {
       "output_type": "stream",
       "stream": "stdout",
       "text": [
        "176 "
       ]
      },
      {
       "output_type": "stream",
       "stream": "stdout",
       "text": [
        "177 "
       ]
      },
      {
       "output_type": "stream",
       "stream": "stdout",
       "text": [
        "178 "
       ]
      },
      {
       "output_type": "stream",
       "stream": "stdout",
       "text": [
        "179 "
       ]
      },
      {
       "output_type": "stream",
       "stream": "stdout",
       "text": [
        "180 "
       ]
      },
      {
       "output_type": "stream",
       "stream": "stdout",
       "text": [
        "181 "
       ]
      },
      {
       "output_type": "stream",
       "stream": "stdout",
       "text": [
        "182 "
       ]
      },
      {
       "output_type": "stream",
       "stream": "stdout",
       "text": [
        "183 "
       ]
      },
      {
       "output_type": "stream",
       "stream": "stdout",
       "text": [
        "184 "
       ]
      },
      {
       "output_type": "stream",
       "stream": "stdout",
       "text": [
        "185 "
       ]
      },
      {
       "output_type": "stream",
       "stream": "stdout",
       "text": [
        "186 "
       ]
      },
      {
       "output_type": "stream",
       "stream": "stdout",
       "text": [
        "187 "
       ]
      },
      {
       "output_type": "stream",
       "stream": "stdout",
       "text": [
        "188 "
       ]
      },
      {
       "output_type": "stream",
       "stream": "stdout",
       "text": [
        "189 "
       ]
      },
      {
       "output_type": "stream",
       "stream": "stdout",
       "text": [
        "190 "
       ]
      },
      {
       "output_type": "stream",
       "stream": "stdout",
       "text": [
        "191 "
       ]
      },
      {
       "output_type": "stream",
       "stream": "stdout",
       "text": [
        "192 "
       ]
      },
      {
       "output_type": "stream",
       "stream": "stdout",
       "text": [
        "193 "
       ]
      },
      {
       "output_type": "stream",
       "stream": "stdout",
       "text": [
        "194 "
       ]
      },
      {
       "output_type": "stream",
       "stream": "stdout",
       "text": [
        "195 "
       ]
      },
      {
       "output_type": "stream",
       "stream": "stdout",
       "text": [
        "196 "
       ]
      },
      {
       "output_type": "stream",
       "stream": "stdout",
       "text": [
        "197 "
       ]
      },
      {
       "output_type": "stream",
       "stream": "stdout",
       "text": [
        "198 "
       ]
      },
      {
       "output_type": "stream",
       "stream": "stdout",
       "text": [
        "199 "
       ]
      },
      {
       "output_type": "stream",
       "stream": "stdout",
       "text": [
        "200 "
       ]
      },
      {
       "output_type": "stream",
       "stream": "stdout",
       "text": [
        "201 "
       ]
      },
      {
       "output_type": "stream",
       "stream": "stdout",
       "text": [
        "202 "
       ]
      },
      {
       "output_type": "stream",
       "stream": "stdout",
       "text": [
        "203 "
       ]
      },
      {
       "output_type": "stream",
       "stream": "stdout",
       "text": [
        "204 "
       ]
      },
      {
       "output_type": "stream",
       "stream": "stdout",
       "text": [
        "205 "
       ]
      },
      {
       "output_type": "stream",
       "stream": "stdout",
       "text": [
        "206 "
       ]
      },
      {
       "output_type": "stream",
       "stream": "stdout",
       "text": [
        "207 "
       ]
      },
      {
       "output_type": "stream",
       "stream": "stdout",
       "text": [
        "208 "
       ]
      },
      {
       "output_type": "stream",
       "stream": "stdout",
       "text": [
        "209 "
       ]
      },
      {
       "output_type": "stream",
       "stream": "stdout",
       "text": [
        "210 "
       ]
      },
      {
       "output_type": "stream",
       "stream": "stdout",
       "text": [
        "211 "
       ]
      },
      {
       "output_type": "stream",
       "stream": "stdout",
       "text": [
        "212 "
       ]
      },
      {
       "output_type": "stream",
       "stream": "stdout",
       "text": [
        "213 "
       ]
      },
      {
       "output_type": "stream",
       "stream": "stdout",
       "text": [
        "214 "
       ]
      },
      {
       "output_type": "stream",
       "stream": "stdout",
       "text": [
        "215 "
       ]
      },
      {
       "output_type": "stream",
       "stream": "stdout",
       "text": [
        "216 "
       ]
      },
      {
       "output_type": "stream",
       "stream": "stdout",
       "text": [
        "217 "
       ]
      },
      {
       "output_type": "stream",
       "stream": "stdout",
       "text": [
        "218 "
       ]
      },
      {
       "output_type": "stream",
       "stream": "stdout",
       "text": [
        "219 "
       ]
      },
      {
       "output_type": "stream",
       "stream": "stdout",
       "text": [
        "220 "
       ]
      },
      {
       "output_type": "stream",
       "stream": "stdout",
       "text": [
        "221 "
       ]
      },
      {
       "output_type": "stream",
       "stream": "stdout",
       "text": [
        "222 "
       ]
      },
      {
       "output_type": "stream",
       "stream": "stdout",
       "text": [
        "223 "
       ]
      },
      {
       "output_type": "stream",
       "stream": "stdout",
       "text": [
        "224 "
       ]
      },
      {
       "output_type": "stream",
       "stream": "stdout",
       "text": [
        "225 "
       ]
      },
      {
       "output_type": "stream",
       "stream": "stdout",
       "text": [
        "226 "
       ]
      },
      {
       "output_type": "stream",
       "stream": "stdout",
       "text": [
        "227 "
       ]
      },
      {
       "output_type": "stream",
       "stream": "stdout",
       "text": [
        "228 "
       ]
      },
      {
       "output_type": "stream",
       "stream": "stdout",
       "text": [
        "229 "
       ]
      },
      {
       "output_type": "stream",
       "stream": "stdout",
       "text": [
        "230 "
       ]
      },
      {
       "output_type": "stream",
       "stream": "stdout",
       "text": [
        "231 "
       ]
      },
      {
       "output_type": "stream",
       "stream": "stdout",
       "text": [
        "232 "
       ]
      },
      {
       "output_type": "stream",
       "stream": "stdout",
       "text": [
        "233 "
       ]
      },
      {
       "output_type": "stream",
       "stream": "stdout",
       "text": [
        "234 "
       ]
      },
      {
       "output_type": "stream",
       "stream": "stdout",
       "text": [
        "235 "
       ]
      },
      {
       "output_type": "stream",
       "stream": "stdout",
       "text": [
        "236 "
       ]
      },
      {
       "output_type": "stream",
       "stream": "stdout",
       "text": [
        "237 "
       ]
      },
      {
       "output_type": "stream",
       "stream": "stdout",
       "text": [
        "238 "
       ]
      },
      {
       "output_type": "stream",
       "stream": "stdout",
       "text": [
        "239 "
       ]
      },
      {
       "output_type": "stream",
       "stream": "stdout",
       "text": [
        "240 "
       ]
      },
      {
       "output_type": "stream",
       "stream": "stdout",
       "text": [
        "241 "
       ]
      },
      {
       "output_type": "stream",
       "stream": "stdout",
       "text": [
        "242 "
       ]
      },
      {
       "output_type": "stream",
       "stream": "stdout",
       "text": [
        "243 "
       ]
      },
      {
       "output_type": "stream",
       "stream": "stdout",
       "text": [
        "244 "
       ]
      },
      {
       "output_type": "stream",
       "stream": "stdout",
       "text": [
        "245 "
       ]
      },
      {
       "output_type": "stream",
       "stream": "stdout",
       "text": [
        "246 "
       ]
      },
      {
       "output_type": "stream",
       "stream": "stdout",
       "text": [
        "247 "
       ]
      },
      {
       "output_type": "stream",
       "stream": "stdout",
       "text": [
        "248 "
       ]
      },
      {
       "output_type": "stream",
       "stream": "stdout",
       "text": [
        "249 "
       ]
      },
      {
       "output_type": "stream",
       "stream": "stdout",
       "text": [
        "250 "
       ]
      },
      {
       "output_type": "stream",
       "stream": "stdout",
       "text": [
        "251 "
       ]
      },
      {
       "output_type": "stream",
       "stream": "stdout",
       "text": [
        "252 "
       ]
      },
      {
       "output_type": "stream",
       "stream": "stdout",
       "text": [
        "253 "
       ]
      },
      {
       "output_type": "stream",
       "stream": "stdout",
       "text": [
        "254 "
       ]
      },
      {
       "output_type": "stream",
       "stream": "stdout",
       "text": [
        "255 "
       ]
      },
      {
       "output_type": "stream",
       "stream": "stdout",
       "text": [
        "256 "
       ]
      },
      {
       "output_type": "stream",
       "stream": "stdout",
       "text": [
        "257 "
       ]
      },
      {
       "output_type": "stream",
       "stream": "stdout",
       "text": [
        "258 "
       ]
      },
      {
       "output_type": "stream",
       "stream": "stdout",
       "text": [
        "259 "
       ]
      },
      {
       "output_type": "stream",
       "stream": "stdout",
       "text": [
        "260 "
       ]
      },
      {
       "output_type": "stream",
       "stream": "stdout",
       "text": [
        "261 "
       ]
      },
      {
       "output_type": "stream",
       "stream": "stdout",
       "text": [
        "262 "
       ]
      },
      {
       "output_type": "stream",
       "stream": "stdout",
       "text": [
        "263 "
       ]
      },
      {
       "output_type": "stream",
       "stream": "stdout",
       "text": [
        "264 "
       ]
      },
      {
       "output_type": "stream",
       "stream": "stdout",
       "text": [
        "265 "
       ]
      },
      {
       "output_type": "stream",
       "stream": "stdout",
       "text": [
        "266 "
       ]
      },
      {
       "output_type": "stream",
       "stream": "stdout",
       "text": [
        "267 "
       ]
      },
      {
       "output_type": "stream",
       "stream": "stdout",
       "text": [
        "268 "
       ]
      },
      {
       "output_type": "stream",
       "stream": "stdout",
       "text": [
        "269 "
       ]
      },
      {
       "output_type": "stream",
       "stream": "stdout",
       "text": [
        "270 "
       ]
      },
      {
       "output_type": "stream",
       "stream": "stdout",
       "text": [
        "271 "
       ]
      },
      {
       "output_type": "stream",
       "stream": "stdout",
       "text": [
        "272 "
       ]
      },
      {
       "output_type": "stream",
       "stream": "stdout",
       "text": [
        "273 "
       ]
      },
      {
       "output_type": "stream",
       "stream": "stdout",
       "text": [
        "274 "
       ]
      },
      {
       "output_type": "stream",
       "stream": "stdout",
       "text": [
        "275 "
       ]
      },
      {
       "output_type": "stream",
       "stream": "stdout",
       "text": [
        "276 "
       ]
      },
      {
       "output_type": "stream",
       "stream": "stdout",
       "text": [
        "277 "
       ]
      },
      {
       "output_type": "stream",
       "stream": "stdout",
       "text": [
        "278 "
       ]
      },
      {
       "output_type": "stream",
       "stream": "stdout",
       "text": [
        "279 "
       ]
      },
      {
       "output_type": "stream",
       "stream": "stdout",
       "text": [
        "280 "
       ]
      },
      {
       "output_type": "stream",
       "stream": "stdout",
       "text": [
        "281 "
       ]
      },
      {
       "output_type": "stream",
       "stream": "stdout",
       "text": [
        "282 "
       ]
      },
      {
       "output_type": "stream",
       "stream": "stdout",
       "text": [
        "283 "
       ]
      },
      {
       "output_type": "stream",
       "stream": "stdout",
       "text": [
        "284 "
       ]
      },
      {
       "output_type": "stream",
       "stream": "stdout",
       "text": [
        "285 "
       ]
      },
      {
       "output_type": "stream",
       "stream": "stdout",
       "text": [
        "286 "
       ]
      },
      {
       "output_type": "stream",
       "stream": "stdout",
       "text": [
        "287 "
       ]
      },
      {
       "output_type": "stream",
       "stream": "stdout",
       "text": [
        "288 "
       ]
      },
      {
       "output_type": "stream",
       "stream": "stdout",
       "text": [
        "289 "
       ]
      },
      {
       "output_type": "stream",
       "stream": "stdout",
       "text": [
        "290 "
       ]
      },
      {
       "output_type": "stream",
       "stream": "stdout",
       "text": [
        "291 "
       ]
      },
      {
       "output_type": "stream",
       "stream": "stdout",
       "text": [
        "292 "
       ]
      },
      {
       "output_type": "stream",
       "stream": "stdout",
       "text": [
        "293 "
       ]
      },
      {
       "output_type": "stream",
       "stream": "stdout",
       "text": [
        "294 "
       ]
      },
      {
       "output_type": "stream",
       "stream": "stdout",
       "text": [
        "295 "
       ]
      },
      {
       "output_type": "stream",
       "stream": "stdout",
       "text": [
        "296 "
       ]
      },
      {
       "output_type": "stream",
       "stream": "stdout",
       "text": [
        "297 "
       ]
      },
      {
       "output_type": "stream",
       "stream": "stdout",
       "text": [
        "298 "
       ]
      },
      {
       "output_type": "stream",
       "stream": "stdout",
       "text": [
        "299 "
       ]
      },
      {
       "output_type": "stream",
       "stream": "stdout",
       "text": [
        "300 "
       ]
      },
      {
       "output_type": "stream",
       "stream": "stdout",
       "text": [
        "301 "
       ]
      },
      {
       "output_type": "stream",
       "stream": "stdout",
       "text": [
        "302 "
       ]
      },
      {
       "output_type": "stream",
       "stream": "stdout",
       "text": [
        "303 "
       ]
      },
      {
       "output_type": "stream",
       "stream": "stdout",
       "text": [
        "304 "
       ]
      },
      {
       "output_type": "stream",
       "stream": "stdout",
       "text": [
        "305 "
       ]
      },
      {
       "output_type": "stream",
       "stream": "stdout",
       "text": [
        "306 "
       ]
      },
      {
       "output_type": "stream",
       "stream": "stdout",
       "text": [
        "307 "
       ]
      },
      {
       "output_type": "stream",
       "stream": "stdout",
       "text": [
        "308 "
       ]
      },
      {
       "output_type": "stream",
       "stream": "stdout",
       "text": [
        "309 "
       ]
      },
      {
       "output_type": "stream",
       "stream": "stdout",
       "text": [
        "310 "
       ]
      },
      {
       "output_type": "stream",
       "stream": "stdout",
       "text": [
        "311 "
       ]
      },
      {
       "output_type": "stream",
       "stream": "stdout",
       "text": [
        "312 "
       ]
      },
      {
       "output_type": "stream",
       "stream": "stdout",
       "text": [
        "313 "
       ]
      },
      {
       "output_type": "stream",
       "stream": "stdout",
       "text": [
        "314 "
       ]
      },
      {
       "output_type": "stream",
       "stream": "stdout",
       "text": [
        "315 "
       ]
      },
      {
       "output_type": "stream",
       "stream": "stdout",
       "text": [
        "316 "
       ]
      },
      {
       "output_type": "stream",
       "stream": "stdout",
       "text": [
        "317 "
       ]
      },
      {
       "output_type": "stream",
       "stream": "stdout",
       "text": [
        "318 "
       ]
      },
      {
       "output_type": "stream",
       "stream": "stdout",
       "text": [
        "319 "
       ]
      },
      {
       "output_type": "stream",
       "stream": "stdout",
       "text": [
        "320 "
       ]
      },
      {
       "output_type": "stream",
       "stream": "stdout",
       "text": [
        "321 "
       ]
      },
      {
       "output_type": "stream",
       "stream": "stdout",
       "text": [
        "322 "
       ]
      },
      {
       "output_type": "stream",
       "stream": "stdout",
       "text": [
        "323 "
       ]
      },
      {
       "output_type": "stream",
       "stream": "stdout",
       "text": [
        "324 "
       ]
      },
      {
       "output_type": "stream",
       "stream": "stdout",
       "text": [
        "325 "
       ]
      },
      {
       "output_type": "stream",
       "stream": "stdout",
       "text": [
        "326 "
       ]
      },
      {
       "output_type": "stream",
       "stream": "stdout",
       "text": [
        "327 "
       ]
      },
      {
       "output_type": "stream",
       "stream": "stdout",
       "text": [
        "328 "
       ]
      },
      {
       "output_type": "stream",
       "stream": "stdout",
       "text": [
        "329 "
       ]
      },
      {
       "output_type": "stream",
       "stream": "stdout",
       "text": [
        "330 "
       ]
      },
      {
       "output_type": "stream",
       "stream": "stdout",
       "text": [
        "331 "
       ]
      },
      {
       "output_type": "stream",
       "stream": "stdout",
       "text": [
        "332 "
       ]
      },
      {
       "output_type": "stream",
       "stream": "stdout",
       "text": [
        "333 "
       ]
      },
      {
       "output_type": "stream",
       "stream": "stdout",
       "text": [
        "334 "
       ]
      },
      {
       "output_type": "stream",
       "stream": "stdout",
       "text": [
        "335 "
       ]
      },
      {
       "output_type": "stream",
       "stream": "stdout",
       "text": [
        "336 "
       ]
      },
      {
       "output_type": "stream",
       "stream": "stdout",
       "text": [
        "337 "
       ]
      },
      {
       "output_type": "stream",
       "stream": "stdout",
       "text": [
        "338 "
       ]
      },
      {
       "output_type": "stream",
       "stream": "stdout",
       "text": [
        "339 "
       ]
      },
      {
       "output_type": "stream",
       "stream": "stdout",
       "text": [
        "340 "
       ]
      },
      {
       "output_type": "stream",
       "stream": "stdout",
       "text": [
        "341 "
       ]
      },
      {
       "output_type": "stream",
       "stream": "stdout",
       "text": [
        "342 "
       ]
      },
      {
       "output_type": "stream",
       "stream": "stdout",
       "text": [
        "343 "
       ]
      },
      {
       "output_type": "stream",
       "stream": "stdout",
       "text": [
        "344 "
       ]
      },
      {
       "output_type": "stream",
       "stream": "stdout",
       "text": [
        "345 "
       ]
      },
      {
       "output_type": "stream",
       "stream": "stdout",
       "text": [
        "346 "
       ]
      },
      {
       "output_type": "stream",
       "stream": "stdout",
       "text": [
        "347 "
       ]
      },
      {
       "output_type": "stream",
       "stream": "stdout",
       "text": [
        "348 "
       ]
      },
      {
       "output_type": "stream",
       "stream": "stdout",
       "text": [
        "349 "
       ]
      },
      {
       "output_type": "stream",
       "stream": "stdout",
       "text": [
        "350 "
       ]
      },
      {
       "output_type": "stream",
       "stream": "stdout",
       "text": [
        "351 "
       ]
      },
      {
       "output_type": "stream",
       "stream": "stdout",
       "text": [
        "352 "
       ]
      },
      {
       "output_type": "stream",
       "stream": "stdout",
       "text": [
        "353 "
       ]
      },
      {
       "output_type": "stream",
       "stream": "stdout",
       "text": [
        "354 "
       ]
      },
      {
       "output_type": "stream",
       "stream": "stdout",
       "text": [
        "355 "
       ]
      },
      {
       "output_type": "stream",
       "stream": "stdout",
       "text": [
        "356 "
       ]
      },
      {
       "output_type": "stream",
       "stream": "stdout",
       "text": [
        "357 "
       ]
      },
      {
       "output_type": "stream",
       "stream": "stdout",
       "text": [
        "358 "
       ]
      },
      {
       "output_type": "stream",
       "stream": "stdout",
       "text": [
        "359 "
       ]
      },
      {
       "output_type": "stream",
       "stream": "stdout",
       "text": [
        "360 "
       ]
      },
      {
       "output_type": "stream",
       "stream": "stdout",
       "text": [
        "361 "
       ]
      },
      {
       "output_type": "stream",
       "stream": "stdout",
       "text": [
        "362 "
       ]
      },
      {
       "output_type": "stream",
       "stream": "stdout",
       "text": [
        "363 "
       ]
      },
      {
       "output_type": "stream",
       "stream": "stdout",
       "text": [
        "364 "
       ]
      },
      {
       "output_type": "stream",
       "stream": "stdout",
       "text": [
        "365 "
       ]
      },
      {
       "output_type": "stream",
       "stream": "stdout",
       "text": [
        "366 "
       ]
      },
      {
       "output_type": "stream",
       "stream": "stdout",
       "text": [
        "367 "
       ]
      },
      {
       "output_type": "stream",
       "stream": "stdout",
       "text": [
        "368 "
       ]
      },
      {
       "output_type": "stream",
       "stream": "stdout",
       "text": [
        "369 "
       ]
      },
      {
       "output_type": "stream",
       "stream": "stdout",
       "text": [
        "370 "
       ]
      },
      {
       "output_type": "stream",
       "stream": "stdout",
       "text": [
        "371 "
       ]
      },
      {
       "output_type": "stream",
       "stream": "stdout",
       "text": [
        "372 "
       ]
      },
      {
       "output_type": "stream",
       "stream": "stdout",
       "text": [
        "373 "
       ]
      },
      {
       "output_type": "stream",
       "stream": "stdout",
       "text": [
        "374 "
       ]
      },
      {
       "output_type": "stream",
       "stream": "stdout",
       "text": [
        "375 "
       ]
      },
      {
       "output_type": "stream",
       "stream": "stdout",
       "text": [
        "376 "
       ]
      },
      {
       "output_type": "stream",
       "stream": "stdout",
       "text": [
        "377 "
       ]
      },
      {
       "output_type": "stream",
       "stream": "stdout",
       "text": [
        "378 "
       ]
      },
      {
       "output_type": "stream",
       "stream": "stdout",
       "text": [
        "379 "
       ]
      },
      {
       "output_type": "stream",
       "stream": "stdout",
       "text": [
        "380 "
       ]
      },
      {
       "output_type": "stream",
       "stream": "stdout",
       "text": [
        "381 "
       ]
      },
      {
       "output_type": "stream",
       "stream": "stdout",
       "text": [
        "382 "
       ]
      },
      {
       "output_type": "stream",
       "stream": "stdout",
       "text": [
        "383 "
       ]
      },
      {
       "output_type": "stream",
       "stream": "stdout",
       "text": [
        "384 "
       ]
      },
      {
       "output_type": "stream",
       "stream": "stdout",
       "text": [
        "385 "
       ]
      },
      {
       "output_type": "stream",
       "stream": "stdout",
       "text": [
        "386 "
       ]
      },
      {
       "output_type": "stream",
       "stream": "stdout",
       "text": [
        "387 "
       ]
      },
      {
       "output_type": "stream",
       "stream": "stdout",
       "text": [
        "388 "
       ]
      },
      {
       "output_type": "stream",
       "stream": "stdout",
       "text": [
        "389 "
       ]
      },
      {
       "output_type": "stream",
       "stream": "stdout",
       "text": [
        "390 "
       ]
      },
      {
       "output_type": "stream",
       "stream": "stdout",
       "text": [
        "391 "
       ]
      },
      {
       "output_type": "stream",
       "stream": "stdout",
       "text": [
        "392 "
       ]
      },
      {
       "output_type": "stream",
       "stream": "stdout",
       "text": [
        "393 "
       ]
      },
      {
       "output_type": "stream",
       "stream": "stdout",
       "text": [
        "394 "
       ]
      },
      {
       "output_type": "stream",
       "stream": "stdout",
       "text": [
        "395 "
       ]
      },
      {
       "output_type": "stream",
       "stream": "stdout",
       "text": [
        "396 "
       ]
      },
      {
       "output_type": "stream",
       "stream": "stdout",
       "text": [
        "397 "
       ]
      },
      {
       "output_type": "stream",
       "stream": "stdout",
       "text": [
        "398 "
       ]
      },
      {
       "output_type": "stream",
       "stream": "stdout",
       "text": [
        "399 "
       ]
      },
      {
       "output_type": "stream",
       "stream": "stdout",
       "text": [
        "400 "
       ]
      },
      {
       "output_type": "stream",
       "stream": "stdout",
       "text": [
        "401 "
       ]
      },
      {
       "output_type": "stream",
       "stream": "stdout",
       "text": [
        "402 "
       ]
      },
      {
       "output_type": "stream",
       "stream": "stdout",
       "text": [
        "403 "
       ]
      },
      {
       "output_type": "stream",
       "stream": "stdout",
       "text": [
        "404 "
       ]
      },
      {
       "output_type": "stream",
       "stream": "stdout",
       "text": [
        "405 "
       ]
      },
      {
       "output_type": "stream",
       "stream": "stdout",
       "text": [
        "406 "
       ]
      },
      {
       "output_type": "stream",
       "stream": "stdout",
       "text": [
        "407 "
       ]
      },
      {
       "output_type": "stream",
       "stream": "stdout",
       "text": [
        "408 "
       ]
      },
      {
       "output_type": "stream",
       "stream": "stdout",
       "text": [
        "409 "
       ]
      },
      {
       "output_type": "stream",
       "stream": "stdout",
       "text": [
        "410 "
       ]
      },
      {
       "output_type": "stream",
       "stream": "stdout",
       "text": [
        "411 "
       ]
      },
      {
       "output_type": "stream",
       "stream": "stdout",
       "text": [
        "412 "
       ]
      },
      {
       "output_type": "stream",
       "stream": "stdout",
       "text": [
        "413 "
       ]
      },
      {
       "output_type": "stream",
       "stream": "stdout",
       "text": [
        "414 "
       ]
      },
      {
       "output_type": "stream",
       "stream": "stdout",
       "text": [
        "415 "
       ]
      },
      {
       "output_type": "stream",
       "stream": "stdout",
       "text": [
        "416 "
       ]
      },
      {
       "output_type": "stream",
       "stream": "stdout",
       "text": [
        "417 "
       ]
      },
      {
       "output_type": "stream",
       "stream": "stdout",
       "text": [
        "418 "
       ]
      },
      {
       "output_type": "stream",
       "stream": "stdout",
       "text": [
        "419 "
       ]
      },
      {
       "output_type": "stream",
       "stream": "stdout",
       "text": [
        "420 "
       ]
      },
      {
       "output_type": "stream",
       "stream": "stdout",
       "text": [
        "421 "
       ]
      },
      {
       "output_type": "stream",
       "stream": "stdout",
       "text": [
        "422 "
       ]
      },
      {
       "output_type": "stream",
       "stream": "stdout",
       "text": [
        "423 "
       ]
      },
      {
       "output_type": "stream",
       "stream": "stdout",
       "text": [
        "424 "
       ]
      },
      {
       "output_type": "stream",
       "stream": "stdout",
       "text": [
        "425 "
       ]
      },
      {
       "output_type": "stream",
       "stream": "stdout",
       "text": [
        "426 "
       ]
      },
      {
       "output_type": "stream",
       "stream": "stdout",
       "text": [
        "427 "
       ]
      },
      {
       "output_type": "stream",
       "stream": "stdout",
       "text": [
        "428 "
       ]
      },
      {
       "output_type": "stream",
       "stream": "stdout",
       "text": [
        "429 "
       ]
      },
      {
       "output_type": "stream",
       "stream": "stdout",
       "text": [
        "430 "
       ]
      },
      {
       "output_type": "stream",
       "stream": "stdout",
       "text": [
        "431 "
       ]
      },
      {
       "output_type": "stream",
       "stream": "stdout",
       "text": [
        "432 "
       ]
      },
      {
       "output_type": "stream",
       "stream": "stdout",
       "text": [
        "433 "
       ]
      },
      {
       "output_type": "stream",
       "stream": "stdout",
       "text": [
        "434 "
       ]
      },
      {
       "output_type": "stream",
       "stream": "stdout",
       "text": [
        "435 "
       ]
      },
      {
       "output_type": "stream",
       "stream": "stdout",
       "text": [
        "436 "
       ]
      },
      {
       "output_type": "stream",
       "stream": "stdout",
       "text": [
        "437 "
       ]
      },
      {
       "output_type": "stream",
       "stream": "stdout",
       "text": [
        "438 "
       ]
      },
      {
       "output_type": "stream",
       "stream": "stdout",
       "text": [
        "439 "
       ]
      },
      {
       "output_type": "stream",
       "stream": "stdout",
       "text": [
        "440 "
       ]
      },
      {
       "output_type": "stream",
       "stream": "stdout",
       "text": [
        "441 "
       ]
      },
      {
       "output_type": "stream",
       "stream": "stdout",
       "text": [
        "442 "
       ]
      },
      {
       "output_type": "stream",
       "stream": "stdout",
       "text": [
        "443 "
       ]
      },
      {
       "output_type": "stream",
       "stream": "stdout",
       "text": [
        "444 "
       ]
      },
      {
       "output_type": "stream",
       "stream": "stdout",
       "text": [
        "445 "
       ]
      },
      {
       "output_type": "stream",
       "stream": "stdout",
       "text": [
        "446 "
       ]
      },
      {
       "output_type": "stream",
       "stream": "stdout",
       "text": [
        "447 "
       ]
      },
      {
       "output_type": "stream",
       "stream": "stdout",
       "text": [
        "448 "
       ]
      },
      {
       "output_type": "stream",
       "stream": "stdout",
       "text": [
        "449 "
       ]
      },
      {
       "output_type": "stream",
       "stream": "stdout",
       "text": [
        "450 "
       ]
      },
      {
       "output_type": "stream",
       "stream": "stdout",
       "text": [
        "451 "
       ]
      },
      {
       "output_type": "stream",
       "stream": "stdout",
       "text": [
        "452 "
       ]
      },
      {
       "output_type": "stream",
       "stream": "stdout",
       "text": [
        "453 "
       ]
      },
      {
       "output_type": "stream",
       "stream": "stdout",
       "text": [
        "454 "
       ]
      },
      {
       "output_type": "stream",
       "stream": "stdout",
       "text": [
        "455 "
       ]
      },
      {
       "output_type": "stream",
       "stream": "stdout",
       "text": [
        "456 "
       ]
      },
      {
       "output_type": "stream",
       "stream": "stdout",
       "text": [
        "457 "
       ]
      },
      {
       "output_type": "stream",
       "stream": "stdout",
       "text": [
        "458 "
       ]
      },
      {
       "output_type": "stream",
       "stream": "stdout",
       "text": [
        "459 "
       ]
      },
      {
       "output_type": "stream",
       "stream": "stdout",
       "text": [
        "460 "
       ]
      },
      {
       "output_type": "stream",
       "stream": "stdout",
       "text": [
        "461 "
       ]
      },
      {
       "output_type": "stream",
       "stream": "stdout",
       "text": [
        "462 "
       ]
      },
      {
       "output_type": "stream",
       "stream": "stdout",
       "text": [
        "463 "
       ]
      },
      {
       "output_type": "stream",
       "stream": "stdout",
       "text": [
        "464 "
       ]
      },
      {
       "output_type": "stream",
       "stream": "stdout",
       "text": [
        "465 "
       ]
      },
      {
       "output_type": "stream",
       "stream": "stdout",
       "text": [
        "466 "
       ]
      },
      {
       "output_type": "stream",
       "stream": "stdout",
       "text": [
        "467 "
       ]
      },
      {
       "output_type": "stream",
       "stream": "stdout",
       "text": [
        "468 "
       ]
      },
      {
       "output_type": "stream",
       "stream": "stdout",
       "text": [
        "469 "
       ]
      },
      {
       "output_type": "stream",
       "stream": "stdout",
       "text": [
        "470 "
       ]
      },
      {
       "output_type": "stream",
       "stream": "stdout",
       "text": [
        "471 "
       ]
      },
      {
       "output_type": "stream",
       "stream": "stdout",
       "text": [
        "472 "
       ]
      },
      {
       "output_type": "stream",
       "stream": "stdout",
       "text": [
        "473 "
       ]
      },
      {
       "output_type": "stream",
       "stream": "stdout",
       "text": [
        "474 "
       ]
      },
      {
       "output_type": "stream",
       "stream": "stdout",
       "text": [
        "475 "
       ]
      },
      {
       "output_type": "stream",
       "stream": "stdout",
       "text": [
        "476 "
       ]
      },
      {
       "output_type": "stream",
       "stream": "stdout",
       "text": [
        "477 "
       ]
      },
      {
       "output_type": "stream",
       "stream": "stdout",
       "text": [
        "478 "
       ]
      },
      {
       "output_type": "stream",
       "stream": "stdout",
       "text": [
        "479 "
       ]
      },
      {
       "output_type": "stream",
       "stream": "stdout",
       "text": [
        "480 "
       ]
      },
      {
       "output_type": "stream",
       "stream": "stdout",
       "text": [
        "481 "
       ]
      },
      {
       "output_type": "stream",
       "stream": "stdout",
       "text": [
        "482 "
       ]
      },
      {
       "output_type": "stream",
       "stream": "stdout",
       "text": [
        "483 "
       ]
      },
      {
       "output_type": "stream",
       "stream": "stdout",
       "text": [
        "484 "
       ]
      },
      {
       "output_type": "stream",
       "stream": "stdout",
       "text": [
        "485 "
       ]
      },
      {
       "output_type": "stream",
       "stream": "stdout",
       "text": [
        "486 "
       ]
      },
      {
       "output_type": "stream",
       "stream": "stdout",
       "text": [
        "487 "
       ]
      },
      {
       "output_type": "stream",
       "stream": "stdout",
       "text": [
        "488 "
       ]
      },
      {
       "output_type": "stream",
       "stream": "stdout",
       "text": [
        "489 "
       ]
      },
      {
       "output_type": "stream",
       "stream": "stdout",
       "text": [
        "490 "
       ]
      },
      {
       "output_type": "stream",
       "stream": "stdout",
       "text": [
        "491 "
       ]
      },
      {
       "output_type": "stream",
       "stream": "stdout",
       "text": [
        "492 "
       ]
      },
      {
       "output_type": "stream",
       "stream": "stdout",
       "text": [
        "493 "
       ]
      },
      {
       "output_type": "stream",
       "stream": "stdout",
       "text": [
        "494 "
       ]
      },
      {
       "output_type": "stream",
       "stream": "stdout",
       "text": [
        "495 "
       ]
      },
      {
       "output_type": "stream",
       "stream": "stdout",
       "text": [
        "496 "
       ]
      },
      {
       "output_type": "stream",
       "stream": "stdout",
       "text": [
        "497 "
       ]
      },
      {
       "output_type": "stream",
       "stream": "stdout",
       "text": [
        "498 "
       ]
      },
      {
       "output_type": "stream",
       "stream": "stdout",
       "text": [
        "499 "
       ]
      },
      {
       "output_type": "stream",
       "stream": "stdout",
       "text": [
        "500 "
       ]
      },
      {
       "output_type": "stream",
       "stream": "stdout",
       "text": [
        "501 "
       ]
      },
      {
       "output_type": "stream",
       "stream": "stdout",
       "text": [
        "502 "
       ]
      },
      {
       "output_type": "stream",
       "stream": "stdout",
       "text": [
        "503 "
       ]
      },
      {
       "output_type": "stream",
       "stream": "stdout",
       "text": [
        "504 "
       ]
      },
      {
       "output_type": "stream",
       "stream": "stdout",
       "text": [
        "505 "
       ]
      },
      {
       "output_type": "stream",
       "stream": "stdout",
       "text": [
        "506 "
       ]
      },
      {
       "output_type": "stream",
       "stream": "stdout",
       "text": [
        "507 "
       ]
      },
      {
       "output_type": "stream",
       "stream": "stdout",
       "text": [
        "508 "
       ]
      },
      {
       "output_type": "stream",
       "stream": "stdout",
       "text": [
        "509 "
       ]
      },
      {
       "output_type": "stream",
       "stream": "stdout",
       "text": [
        "510 "
       ]
      },
      {
       "output_type": "stream",
       "stream": "stdout",
       "text": [
        "511 "
       ]
      },
      {
       "output_type": "stream",
       "stream": "stdout",
       "text": [
        "512 "
       ]
      },
      {
       "output_type": "stream",
       "stream": "stdout",
       "text": [
        "513 "
       ]
      },
      {
       "output_type": "stream",
       "stream": "stdout",
       "text": [
        "514 "
       ]
      },
      {
       "output_type": "stream",
       "stream": "stdout",
       "text": [
        "515 "
       ]
      },
      {
       "output_type": "stream",
       "stream": "stdout",
       "text": [
        "516 "
       ]
      },
      {
       "output_type": "stream",
       "stream": "stdout",
       "text": [
        "517 "
       ]
      },
      {
       "output_type": "stream",
       "stream": "stdout",
       "text": [
        "518 "
       ]
      },
      {
       "output_type": "stream",
       "stream": "stdout",
       "text": [
        "519 "
       ]
      },
      {
       "output_type": "stream",
       "stream": "stdout",
       "text": [
        "520 "
       ]
      },
      {
       "output_type": "stream",
       "stream": "stdout",
       "text": [
        "521 "
       ]
      },
      {
       "output_type": "stream",
       "stream": "stdout",
       "text": [
        "522 "
       ]
      },
      {
       "output_type": "stream",
       "stream": "stdout",
       "text": [
        "523 "
       ]
      },
      {
       "output_type": "stream",
       "stream": "stdout",
       "text": [
        "524 "
       ]
      },
      {
       "output_type": "stream",
       "stream": "stdout",
       "text": [
        "525 "
       ]
      },
      {
       "output_type": "stream",
       "stream": "stdout",
       "text": [
        "526 "
       ]
      },
      {
       "output_type": "stream",
       "stream": "stdout",
       "text": [
        "527 "
       ]
      },
      {
       "output_type": "stream",
       "stream": "stdout",
       "text": [
        "528 "
       ]
      },
      {
       "output_type": "stream",
       "stream": "stdout",
       "text": [
        "529 "
       ]
      },
      {
       "output_type": "stream",
       "stream": "stdout",
       "text": [
        "530 "
       ]
      },
      {
       "output_type": "stream",
       "stream": "stdout",
       "text": [
        "531 "
       ]
      },
      {
       "output_type": "stream",
       "stream": "stdout",
       "text": [
        "532 "
       ]
      },
      {
       "output_type": "stream",
       "stream": "stdout",
       "text": [
        "533 "
       ]
      },
      {
       "output_type": "stream",
       "stream": "stdout",
       "text": [
        "534 "
       ]
      },
      {
       "output_type": "stream",
       "stream": "stdout",
       "text": [
        "535 "
       ]
      },
      {
       "output_type": "stream",
       "stream": "stdout",
       "text": [
        "536 "
       ]
      },
      {
       "output_type": "stream",
       "stream": "stdout",
       "text": [
        "537 "
       ]
      },
      {
       "output_type": "stream",
       "stream": "stdout",
       "text": [
        "538 "
       ]
      },
      {
       "output_type": "stream",
       "stream": "stdout",
       "text": [
        "539 "
       ]
      },
      {
       "output_type": "stream",
       "stream": "stdout",
       "text": [
        "540 "
       ]
      },
      {
       "output_type": "stream",
       "stream": "stdout",
       "text": [
        "541 "
       ]
      },
      {
       "output_type": "stream",
       "stream": "stdout",
       "text": [
        "542 "
       ]
      },
      {
       "output_type": "stream",
       "stream": "stdout",
       "text": [
        "543 "
       ]
      },
      {
       "output_type": "stream",
       "stream": "stdout",
       "text": [
        "544 "
       ]
      },
      {
       "output_type": "stream",
       "stream": "stdout",
       "text": [
        "545 "
       ]
      },
      {
       "output_type": "stream",
       "stream": "stdout",
       "text": [
        "546 "
       ]
      },
      {
       "output_type": "stream",
       "stream": "stdout",
       "text": [
        "547 "
       ]
      },
      {
       "output_type": "stream",
       "stream": "stdout",
       "text": [
        "548 "
       ]
      },
      {
       "output_type": "stream",
       "stream": "stdout",
       "text": [
        "549 "
       ]
      },
      {
       "output_type": "stream",
       "stream": "stdout",
       "text": [
        "550 "
       ]
      },
      {
       "output_type": "stream",
       "stream": "stdout",
       "text": [
        "551 "
       ]
      },
      {
       "output_type": "stream",
       "stream": "stdout",
       "text": [
        "552 "
       ]
      },
      {
       "output_type": "stream",
       "stream": "stdout",
       "text": [
        "553 "
       ]
      },
      {
       "output_type": "stream",
       "stream": "stdout",
       "text": [
        "554 "
       ]
      },
      {
       "output_type": "stream",
       "stream": "stdout",
       "text": [
        "555 "
       ]
      },
      {
       "output_type": "stream",
       "stream": "stdout",
       "text": [
        "556 "
       ]
      },
      {
       "output_type": "stream",
       "stream": "stdout",
       "text": [
        "557 "
       ]
      },
      {
       "output_type": "stream",
       "stream": "stdout",
       "text": [
        "558 "
       ]
      },
      {
       "output_type": "stream",
       "stream": "stdout",
       "text": [
        "559 "
       ]
      },
      {
       "output_type": "stream",
       "stream": "stdout",
       "text": [
        "560 "
       ]
      },
      {
       "output_type": "stream",
       "stream": "stdout",
       "text": [
        "561 "
       ]
      },
      {
       "output_type": "stream",
       "stream": "stdout",
       "text": [
        "562 "
       ]
      },
      {
       "output_type": "stream",
       "stream": "stdout",
       "text": [
        "563 "
       ]
      },
      {
       "output_type": "stream",
       "stream": "stdout",
       "text": [
        "564 "
       ]
      },
      {
       "output_type": "stream",
       "stream": "stdout",
       "text": [
        "565 "
       ]
      },
      {
       "output_type": "stream",
       "stream": "stdout",
       "text": [
        "566 "
       ]
      },
      {
       "output_type": "stream",
       "stream": "stdout",
       "text": [
        "567 "
       ]
      },
      {
       "output_type": "stream",
       "stream": "stdout",
       "text": [
        "568 "
       ]
      },
      {
       "output_type": "stream",
       "stream": "stdout",
       "text": [
        "569 "
       ]
      },
      {
       "output_type": "stream",
       "stream": "stdout",
       "text": [
        "570 "
       ]
      },
      {
       "output_type": "stream",
       "stream": "stdout",
       "text": [
        "571 "
       ]
      },
      {
       "output_type": "stream",
       "stream": "stdout",
       "text": [
        "572 "
       ]
      },
      {
       "output_type": "stream",
       "stream": "stdout",
       "text": [
        "573 "
       ]
      },
      {
       "output_type": "stream",
       "stream": "stdout",
       "text": [
        "574 "
       ]
      },
      {
       "output_type": "stream",
       "stream": "stdout",
       "text": [
        "575 "
       ]
      },
      {
       "output_type": "stream",
       "stream": "stdout",
       "text": [
        "576 "
       ]
      },
      {
       "output_type": "stream",
       "stream": "stdout",
       "text": [
        "577 "
       ]
      },
      {
       "output_type": "stream",
       "stream": "stdout",
       "text": [
        "578 "
       ]
      },
      {
       "output_type": "stream",
       "stream": "stdout",
       "text": [
        "579 "
       ]
      },
      {
       "output_type": "stream",
       "stream": "stdout",
       "text": [
        "580 "
       ]
      },
      {
       "output_type": "stream",
       "stream": "stdout",
       "text": [
        "581 "
       ]
      },
      {
       "output_type": "stream",
       "stream": "stdout",
       "text": [
        "582 "
       ]
      },
      {
       "output_type": "stream",
       "stream": "stdout",
       "text": [
        "583 "
       ]
      },
      {
       "output_type": "stream",
       "stream": "stdout",
       "text": [
        "584 "
       ]
      },
      {
       "output_type": "stream",
       "stream": "stdout",
       "text": [
        "585 "
       ]
      },
      {
       "output_type": "stream",
       "stream": "stdout",
       "text": [
        "586 "
       ]
      },
      {
       "output_type": "stream",
       "stream": "stdout",
       "text": [
        "587 "
       ]
      },
      {
       "output_type": "stream",
       "stream": "stdout",
       "text": [
        "588 "
       ]
      },
      {
       "output_type": "stream",
       "stream": "stdout",
       "text": [
        "589 "
       ]
      },
      {
       "output_type": "stream",
       "stream": "stdout",
       "text": [
        "590 "
       ]
      },
      {
       "output_type": "stream",
       "stream": "stdout",
       "text": [
        "591 "
       ]
      },
      {
       "output_type": "stream",
       "stream": "stdout",
       "text": [
        "592 "
       ]
      },
      {
       "output_type": "stream",
       "stream": "stdout",
       "text": [
        "593 "
       ]
      },
      {
       "output_type": "stream",
       "stream": "stdout",
       "text": [
        "594 "
       ]
      },
      {
       "output_type": "stream",
       "stream": "stdout",
       "text": [
        "595 "
       ]
      },
      {
       "output_type": "stream",
       "stream": "stdout",
       "text": [
        "596 "
       ]
      },
      {
       "output_type": "stream",
       "stream": "stdout",
       "text": [
        "597 "
       ]
      },
      {
       "output_type": "stream",
       "stream": "stdout",
       "text": [
        "598 "
       ]
      },
      {
       "output_type": "stream",
       "stream": "stdout",
       "text": [
        "599 "
       ]
      },
      {
       "output_type": "stream",
       "stream": "stdout",
       "text": [
        "600 "
       ]
      },
      {
       "output_type": "stream",
       "stream": "stdout",
       "text": [
        "601 "
       ]
      },
      {
       "output_type": "stream",
       "stream": "stdout",
       "text": [
        "602 "
       ]
      },
      {
       "output_type": "stream",
       "stream": "stdout",
       "text": [
        "603 "
       ]
      },
      {
       "output_type": "stream",
       "stream": "stdout",
       "text": [
        "604 "
       ]
      },
      {
       "output_type": "stream",
       "stream": "stdout",
       "text": [
        "605 "
       ]
      },
      {
       "output_type": "stream",
       "stream": "stdout",
       "text": [
        "606 "
       ]
      },
      {
       "output_type": "stream",
       "stream": "stdout",
       "text": [
        "607 "
       ]
      },
      {
       "output_type": "stream",
       "stream": "stdout",
       "text": [
        "608 "
       ]
      },
      {
       "output_type": "stream",
       "stream": "stdout",
       "text": [
        "609 "
       ]
      },
      {
       "output_type": "stream",
       "stream": "stdout",
       "text": [
        "610 "
       ]
      },
      {
       "output_type": "stream",
       "stream": "stdout",
       "text": [
        "611 "
       ]
      },
      {
       "output_type": "stream",
       "stream": "stdout",
       "text": [
        "612 "
       ]
      },
      {
       "output_type": "stream",
       "stream": "stdout",
       "text": [
        "613 "
       ]
      },
      {
       "output_type": "stream",
       "stream": "stdout",
       "text": [
        "614 "
       ]
      },
      {
       "output_type": "stream",
       "stream": "stdout",
       "text": [
        "615 "
       ]
      },
      {
       "output_type": "stream",
       "stream": "stdout",
       "text": [
        "616 "
       ]
      },
      {
       "output_type": "stream",
       "stream": "stdout",
       "text": [
        "617 "
       ]
      },
      {
       "output_type": "stream",
       "stream": "stdout",
       "text": [
        "618 "
       ]
      },
      {
       "output_type": "stream",
       "stream": "stdout",
       "text": [
        "619 "
       ]
      },
      {
       "output_type": "stream",
       "stream": "stdout",
       "text": [
        "620 "
       ]
      },
      {
       "output_type": "stream",
       "stream": "stdout",
       "text": [
        "621 "
       ]
      },
      {
       "output_type": "stream",
       "stream": "stdout",
       "text": [
        "622 "
       ]
      },
      {
       "output_type": "stream",
       "stream": "stdout",
       "text": [
        "623 "
       ]
      },
      {
       "output_type": "stream",
       "stream": "stdout",
       "text": [
        "624 "
       ]
      },
      {
       "output_type": "stream",
       "stream": "stdout",
       "text": [
        "625 "
       ]
      },
      {
       "output_type": "stream",
       "stream": "stdout",
       "text": [
        "626 "
       ]
      },
      {
       "output_type": "stream",
       "stream": "stdout",
       "text": [
        "627 "
       ]
      },
      {
       "output_type": "stream",
       "stream": "stdout",
       "text": [
        "628 "
       ]
      },
      {
       "output_type": "stream",
       "stream": "stdout",
       "text": [
        "629 "
       ]
      },
      {
       "output_type": "stream",
       "stream": "stdout",
       "text": [
        "630 "
       ]
      },
      {
       "output_type": "stream",
       "stream": "stdout",
       "text": [
        "631 "
       ]
      },
      {
       "output_type": "stream",
       "stream": "stdout",
       "text": [
        "632 "
       ]
      },
      {
       "output_type": "stream",
       "stream": "stdout",
       "text": [
        "633 "
       ]
      },
      {
       "output_type": "stream",
       "stream": "stdout",
       "text": [
        "634 "
       ]
      },
      {
       "output_type": "stream",
       "stream": "stdout",
       "text": [
        "635 "
       ]
      },
      {
       "output_type": "stream",
       "stream": "stdout",
       "text": [
        "636 "
       ]
      },
      {
       "output_type": "stream",
       "stream": "stdout",
       "text": [
        "637 "
       ]
      },
      {
       "output_type": "stream",
       "stream": "stdout",
       "text": [
        "638 "
       ]
      },
      {
       "output_type": "stream",
       "stream": "stdout",
       "text": [
        "639 "
       ]
      },
      {
       "output_type": "stream",
       "stream": "stdout",
       "text": [
        "640 "
       ]
      },
      {
       "output_type": "stream",
       "stream": "stdout",
       "text": [
        "641 "
       ]
      },
      {
       "output_type": "stream",
       "stream": "stdout",
       "text": [
        "642 "
       ]
      },
      {
       "output_type": "stream",
       "stream": "stdout",
       "text": [
        "643 "
       ]
      },
      {
       "output_type": "stream",
       "stream": "stdout",
       "text": [
        "644 "
       ]
      },
      {
       "output_type": "stream",
       "stream": "stdout",
       "text": [
        "645 "
       ]
      },
      {
       "output_type": "stream",
       "stream": "stdout",
       "text": [
        "646 "
       ]
      },
      {
       "output_type": "stream",
       "stream": "stdout",
       "text": [
        "647 "
       ]
      },
      {
       "output_type": "stream",
       "stream": "stdout",
       "text": [
        "648 "
       ]
      },
      {
       "output_type": "stream",
       "stream": "stdout",
       "text": [
        "649 "
       ]
      },
      {
       "output_type": "stream",
       "stream": "stdout",
       "text": [
        "650 "
       ]
      },
      {
       "output_type": "stream",
       "stream": "stdout",
       "text": [
        "651 "
       ]
      },
      {
       "output_type": "stream",
       "stream": "stdout",
       "text": [
        "652 "
       ]
      },
      {
       "output_type": "stream",
       "stream": "stdout",
       "text": [
        "653 "
       ]
      },
      {
       "output_type": "stream",
       "stream": "stdout",
       "text": [
        "654 "
       ]
      },
      {
       "output_type": "stream",
       "stream": "stdout",
       "text": [
        "655 "
       ]
      },
      {
       "output_type": "stream",
       "stream": "stdout",
       "text": [
        "656 "
       ]
      },
      {
       "output_type": "stream",
       "stream": "stdout",
       "text": [
        "657 "
       ]
      },
      {
       "output_type": "stream",
       "stream": "stdout",
       "text": [
        "658 "
       ]
      },
      {
       "output_type": "stream",
       "stream": "stdout",
       "text": [
        "659 "
       ]
      },
      {
       "output_type": "stream",
       "stream": "stdout",
       "text": [
        "660 "
       ]
      },
      {
       "output_type": "stream",
       "stream": "stdout",
       "text": [
        "661 "
       ]
      },
      {
       "output_type": "stream",
       "stream": "stdout",
       "text": [
        "662 "
       ]
      },
      {
       "output_type": "stream",
       "stream": "stdout",
       "text": [
        "663 "
       ]
      },
      {
       "output_type": "stream",
       "stream": "stdout",
       "text": [
        "664 "
       ]
      },
      {
       "output_type": "stream",
       "stream": "stdout",
       "text": [
        "665 "
       ]
      },
      {
       "output_type": "stream",
       "stream": "stdout",
       "text": [
        "666 "
       ]
      },
      {
       "output_type": "stream",
       "stream": "stdout",
       "text": [
        "667 "
       ]
      },
      {
       "output_type": "stream",
       "stream": "stdout",
       "text": [
        "668 "
       ]
      },
      {
       "output_type": "stream",
       "stream": "stdout",
       "text": [
        "669 "
       ]
      },
      {
       "output_type": "stream",
       "stream": "stdout",
       "text": [
        "670 "
       ]
      },
      {
       "output_type": "stream",
       "stream": "stdout",
       "text": [
        "671 "
       ]
      },
      {
       "output_type": "stream",
       "stream": "stdout",
       "text": [
        "672 "
       ]
      },
      {
       "output_type": "stream",
       "stream": "stdout",
       "text": [
        "673 "
       ]
      },
      {
       "output_type": "stream",
       "stream": "stdout",
       "text": [
        "674 "
       ]
      },
      {
       "output_type": "stream",
       "stream": "stdout",
       "text": [
        "675 "
       ]
      },
      {
       "output_type": "stream",
       "stream": "stdout",
       "text": [
        "676 "
       ]
      },
      {
       "output_type": "stream",
       "stream": "stdout",
       "text": [
        "677 "
       ]
      },
      {
       "output_type": "stream",
       "stream": "stdout",
       "text": [
        "678 "
       ]
      },
      {
       "output_type": "stream",
       "stream": "stdout",
       "text": [
        "679 "
       ]
      },
      {
       "output_type": "stream",
       "stream": "stdout",
       "text": [
        "680 "
       ]
      },
      {
       "output_type": "stream",
       "stream": "stdout",
       "text": [
        "681 "
       ]
      },
      {
       "output_type": "stream",
       "stream": "stdout",
       "text": [
        "682 "
       ]
      },
      {
       "output_type": "stream",
       "stream": "stdout",
       "text": [
        "683 "
       ]
      },
      {
       "output_type": "stream",
       "stream": "stdout",
       "text": [
        "684 "
       ]
      },
      {
       "output_type": "stream",
       "stream": "stdout",
       "text": [
        "685 "
       ]
      },
      {
       "output_type": "stream",
       "stream": "stdout",
       "text": [
        "686 "
       ]
      },
      {
       "output_type": "stream",
       "stream": "stdout",
       "text": [
        "687 "
       ]
      },
      {
       "output_type": "stream",
       "stream": "stdout",
       "text": [
        "688 "
       ]
      },
      {
       "output_type": "stream",
       "stream": "stdout",
       "text": [
        "689 "
       ]
      },
      {
       "output_type": "stream",
       "stream": "stdout",
       "text": [
        "690 "
       ]
      },
      {
       "output_type": "stream",
       "stream": "stdout",
       "text": [
        "691 "
       ]
      },
      {
       "output_type": "stream",
       "stream": "stdout",
       "text": [
        "692 "
       ]
      },
      {
       "output_type": "stream",
       "stream": "stdout",
       "text": [
        "693 "
       ]
      },
      {
       "output_type": "stream",
       "stream": "stdout",
       "text": [
        "694 "
       ]
      },
      {
       "output_type": "stream",
       "stream": "stdout",
       "text": [
        "695 "
       ]
      },
      {
       "output_type": "stream",
       "stream": "stdout",
       "text": [
        "696 "
       ]
      },
      {
       "output_type": "stream",
       "stream": "stdout",
       "text": [
        "697 "
       ]
      },
      {
       "output_type": "stream",
       "stream": "stdout",
       "text": [
        "698 "
       ]
      },
      {
       "output_type": "stream",
       "stream": "stdout",
       "text": [
        "699 "
       ]
      },
      {
       "output_type": "stream",
       "stream": "stdout",
       "text": [
        "700 "
       ]
      },
      {
       "output_type": "stream",
       "stream": "stdout",
       "text": [
        "701 "
       ]
      },
      {
       "output_type": "stream",
       "stream": "stdout",
       "text": [
        "702 "
       ]
      },
      {
       "output_type": "stream",
       "stream": "stdout",
       "text": [
        "703 "
       ]
      },
      {
       "output_type": "stream",
       "stream": "stdout",
       "text": [
        "704 "
       ]
      },
      {
       "output_type": "stream",
       "stream": "stdout",
       "text": [
        "705 "
       ]
      },
      {
       "output_type": "stream",
       "stream": "stdout",
       "text": [
        "706 "
       ]
      },
      {
       "output_type": "stream",
       "stream": "stdout",
       "text": [
        "707 "
       ]
      },
      {
       "output_type": "stream",
       "stream": "stdout",
       "text": [
        "708 "
       ]
      },
      {
       "output_type": "stream",
       "stream": "stdout",
       "text": [
        "709 "
       ]
      },
      {
       "output_type": "stream",
       "stream": "stdout",
       "text": [
        "710 "
       ]
      },
      {
       "output_type": "stream",
       "stream": "stdout",
       "text": [
        "711 "
       ]
      },
      {
       "output_type": "stream",
       "stream": "stdout",
       "text": [
        "712 "
       ]
      },
      {
       "output_type": "stream",
       "stream": "stdout",
       "text": [
        "713 "
       ]
      },
      {
       "output_type": "stream",
       "stream": "stdout",
       "text": [
        "714 "
       ]
      },
      {
       "output_type": "stream",
       "stream": "stdout",
       "text": [
        "715 "
       ]
      },
      {
       "output_type": "stream",
       "stream": "stdout",
       "text": [
        "716 "
       ]
      },
      {
       "output_type": "stream",
       "stream": "stdout",
       "text": [
        "717 "
       ]
      },
      {
       "output_type": "stream",
       "stream": "stdout",
       "text": [
        "718 "
       ]
      },
      {
       "output_type": "stream",
       "stream": "stdout",
       "text": [
        "719 "
       ]
      },
      {
       "output_type": "stream",
       "stream": "stdout",
       "text": [
        "720 "
       ]
      },
      {
       "output_type": "stream",
       "stream": "stdout",
       "text": [
        "721 "
       ]
      },
      {
       "output_type": "stream",
       "stream": "stdout",
       "text": [
        "722 "
       ]
      },
      {
       "output_type": "stream",
       "stream": "stdout",
       "text": [
        "723 "
       ]
      },
      {
       "output_type": "stream",
       "stream": "stdout",
       "text": [
        "724 "
       ]
      },
      {
       "output_type": "stream",
       "stream": "stdout",
       "text": [
        "725 "
       ]
      },
      {
       "output_type": "stream",
       "stream": "stdout",
       "text": [
        "726 "
       ]
      },
      {
       "output_type": "stream",
       "stream": "stdout",
       "text": [
        "727 "
       ]
      },
      {
       "output_type": "stream",
       "stream": "stdout",
       "text": [
        "728 "
       ]
      },
      {
       "output_type": "stream",
       "stream": "stdout",
       "text": [
        "729 "
       ]
      },
      {
       "output_type": "stream",
       "stream": "stdout",
       "text": [
        "730 "
       ]
      },
      {
       "output_type": "stream",
       "stream": "stdout",
       "text": [
        "731 "
       ]
      },
      {
       "output_type": "stream",
       "stream": "stdout",
       "text": [
        "732 "
       ]
      },
      {
       "output_type": "stream",
       "stream": "stdout",
       "text": [
        "733 "
       ]
      },
      {
       "output_type": "stream",
       "stream": "stdout",
       "text": [
        "734 "
       ]
      },
      {
       "output_type": "stream",
       "stream": "stdout",
       "text": [
        "735 "
       ]
      },
      {
       "output_type": "stream",
       "stream": "stdout",
       "text": [
        "736 "
       ]
      },
      {
       "output_type": "stream",
       "stream": "stdout",
       "text": [
        "737 "
       ]
      },
      {
       "output_type": "stream",
       "stream": "stdout",
       "text": [
        "738 "
       ]
      },
      {
       "output_type": "stream",
       "stream": "stdout",
       "text": [
        "739 "
       ]
      },
      {
       "output_type": "stream",
       "stream": "stdout",
       "text": [
        "740 "
       ]
      },
      {
       "output_type": "stream",
       "stream": "stdout",
       "text": [
        "741 "
       ]
      },
      {
       "output_type": "stream",
       "stream": "stdout",
       "text": [
        "742 "
       ]
      },
      {
       "output_type": "stream",
       "stream": "stdout",
       "text": [
        "743 "
       ]
      },
      {
       "output_type": "stream",
       "stream": "stdout",
       "text": [
        "744 "
       ]
      },
      {
       "output_type": "stream",
       "stream": "stdout",
       "text": [
        "745 "
       ]
      },
      {
       "output_type": "stream",
       "stream": "stdout",
       "text": [
        "746 "
       ]
      },
      {
       "output_type": "stream",
       "stream": "stdout",
       "text": [
        "747 "
       ]
      },
      {
       "output_type": "stream",
       "stream": "stdout",
       "text": [
        "748 "
       ]
      },
      {
       "output_type": "stream",
       "stream": "stdout",
       "text": [
        "749 "
       ]
      },
      {
       "output_type": "stream",
       "stream": "stdout",
       "text": [
        "750 "
       ]
      },
      {
       "output_type": "stream",
       "stream": "stdout",
       "text": [
        "751 "
       ]
      },
      {
       "output_type": "stream",
       "stream": "stdout",
       "text": [
        "752 "
       ]
      },
      {
       "output_type": "stream",
       "stream": "stdout",
       "text": [
        "753 "
       ]
      },
      {
       "output_type": "stream",
       "stream": "stdout",
       "text": [
        "754 "
       ]
      },
      {
       "output_type": "stream",
       "stream": "stdout",
       "text": [
        "755 "
       ]
      },
      {
       "output_type": "stream",
       "stream": "stdout",
       "text": [
        "756 "
       ]
      },
      {
       "output_type": "stream",
       "stream": "stdout",
       "text": [
        "757 "
       ]
      },
      {
       "output_type": "stream",
       "stream": "stdout",
       "text": [
        "758 "
       ]
      },
      {
       "output_type": "stream",
       "stream": "stdout",
       "text": [
        "759 "
       ]
      },
      {
       "output_type": "stream",
       "stream": "stdout",
       "text": [
        "760 "
       ]
      },
      {
       "output_type": "stream",
       "stream": "stdout",
       "text": [
        "761 "
       ]
      },
      {
       "output_type": "stream",
       "stream": "stdout",
       "text": [
        "762 "
       ]
      },
      {
       "output_type": "stream",
       "stream": "stdout",
       "text": [
        "763 "
       ]
      },
      {
       "output_type": "stream",
       "stream": "stdout",
       "text": [
        "764 "
       ]
      },
      {
       "output_type": "stream",
       "stream": "stdout",
       "text": [
        "765 "
       ]
      },
      {
       "output_type": "stream",
       "stream": "stdout",
       "text": [
        "766 "
       ]
      },
      {
       "output_type": "stream",
       "stream": "stdout",
       "text": [
        "767 "
       ]
      },
      {
       "output_type": "stream",
       "stream": "stdout",
       "text": [
        "768 "
       ]
      },
      {
       "output_type": "stream",
       "stream": "stdout",
       "text": [
        "769 "
       ]
      },
      {
       "output_type": "stream",
       "stream": "stdout",
       "text": [
        "770 "
       ]
      },
      {
       "output_type": "stream",
       "stream": "stdout",
       "text": [
        "771 "
       ]
      },
      {
       "output_type": "stream",
       "stream": "stdout",
       "text": [
        "772 "
       ]
      },
      {
       "output_type": "stream",
       "stream": "stdout",
       "text": [
        "773 "
       ]
      },
      {
       "output_type": "stream",
       "stream": "stdout",
       "text": [
        "774 "
       ]
      },
      {
       "output_type": "stream",
       "stream": "stdout",
       "text": [
        "775 "
       ]
      },
      {
       "output_type": "stream",
       "stream": "stdout",
       "text": [
        "776 "
       ]
      },
      {
       "output_type": "stream",
       "stream": "stdout",
       "text": [
        "777 "
       ]
      },
      {
       "output_type": "stream",
       "stream": "stdout",
       "text": [
        "778 "
       ]
      },
      {
       "output_type": "stream",
       "stream": "stdout",
       "text": [
        "779 "
       ]
      },
      {
       "output_type": "stream",
       "stream": "stdout",
       "text": [
        "780 "
       ]
      },
      {
       "output_type": "stream",
       "stream": "stdout",
       "text": [
        "781 "
       ]
      },
      {
       "output_type": "stream",
       "stream": "stdout",
       "text": [
        "782 "
       ]
      },
      {
       "output_type": "stream",
       "stream": "stdout",
       "text": [
        "783 "
       ]
      },
      {
       "output_type": "stream",
       "stream": "stdout",
       "text": [
        "784 "
       ]
      },
      {
       "output_type": "stream",
       "stream": "stdout",
       "text": [
        "785 "
       ]
      },
      {
       "output_type": "stream",
       "stream": "stdout",
       "text": [
        "786 "
       ]
      },
      {
       "output_type": "stream",
       "stream": "stdout",
       "text": [
        "787 "
       ]
      },
      {
       "output_type": "stream",
       "stream": "stdout",
       "text": [
        "788 "
       ]
      },
      {
       "output_type": "stream",
       "stream": "stdout",
       "text": [
        "789 "
       ]
      },
      {
       "output_type": "stream",
       "stream": "stdout",
       "text": [
        "790 "
       ]
      },
      {
       "output_type": "stream",
       "stream": "stdout",
       "text": [
        "791 "
       ]
      },
      {
       "output_type": "stream",
       "stream": "stdout",
       "text": [
        "792 "
       ]
      },
      {
       "output_type": "stream",
       "stream": "stdout",
       "text": [
        "793 "
       ]
      },
      {
       "output_type": "stream",
       "stream": "stdout",
       "text": [
        "794 "
       ]
      },
      {
       "output_type": "stream",
       "stream": "stdout",
       "text": [
        "795 "
       ]
      },
      {
       "output_type": "stream",
       "stream": "stdout",
       "text": [
        "796 "
       ]
      },
      {
       "output_type": "stream",
       "stream": "stdout",
       "text": [
        "797 "
       ]
      },
      {
       "output_type": "stream",
       "stream": "stdout",
       "text": [
        "798 "
       ]
      },
      {
       "output_type": "stream",
       "stream": "stdout",
       "text": [
        "799 "
       ]
      },
      {
       "output_type": "stream",
       "stream": "stdout",
       "text": [
        "800 "
       ]
      },
      {
       "output_type": "stream",
       "stream": "stdout",
       "text": [
        "801 "
       ]
      },
      {
       "output_type": "stream",
       "stream": "stdout",
       "text": [
        "802 "
       ]
      },
      {
       "output_type": "stream",
       "stream": "stdout",
       "text": [
        "803 "
       ]
      },
      {
       "output_type": "stream",
       "stream": "stdout",
       "text": [
        "804 "
       ]
      },
      {
       "output_type": "stream",
       "stream": "stdout",
       "text": [
        "805 "
       ]
      },
      {
       "output_type": "stream",
       "stream": "stdout",
       "text": [
        "806 "
       ]
      },
      {
       "output_type": "stream",
       "stream": "stdout",
       "text": [
        "807 "
       ]
      },
      {
       "output_type": "stream",
       "stream": "stdout",
       "text": [
        "808 "
       ]
      },
      {
       "output_type": "stream",
       "stream": "stdout",
       "text": [
        "809 "
       ]
      },
      {
       "output_type": "stream",
       "stream": "stdout",
       "text": [
        "810 "
       ]
      },
      {
       "output_type": "stream",
       "stream": "stdout",
       "text": [
        "811 "
       ]
      },
      {
       "output_type": "stream",
       "stream": "stdout",
       "text": [
        "812 "
       ]
      },
      {
       "output_type": "stream",
       "stream": "stdout",
       "text": [
        "813 "
       ]
      },
      {
       "output_type": "stream",
       "stream": "stdout",
       "text": [
        "814 "
       ]
      },
      {
       "output_type": "stream",
       "stream": "stdout",
       "text": [
        "815 "
       ]
      },
      {
       "output_type": "stream",
       "stream": "stdout",
       "text": [
        "816 "
       ]
      },
      {
       "output_type": "stream",
       "stream": "stdout",
       "text": [
        "817 "
       ]
      },
      {
       "output_type": "stream",
       "stream": "stdout",
       "text": [
        "818 "
       ]
      },
      {
       "output_type": "stream",
       "stream": "stdout",
       "text": [
        "819 "
       ]
      },
      {
       "output_type": "stream",
       "stream": "stdout",
       "text": [
        "820 "
       ]
      },
      {
       "output_type": "stream",
       "stream": "stdout",
       "text": [
        "821 "
       ]
      },
      {
       "output_type": "stream",
       "stream": "stdout",
       "text": [
        "822 "
       ]
      },
      {
       "output_type": "stream",
       "stream": "stdout",
       "text": [
        "823 "
       ]
      },
      {
       "output_type": "stream",
       "stream": "stdout",
       "text": [
        "824 "
       ]
      },
      {
       "output_type": "stream",
       "stream": "stdout",
       "text": [
        "825 "
       ]
      },
      {
       "output_type": "stream",
       "stream": "stdout",
       "text": [
        "826 "
       ]
      },
      {
       "output_type": "stream",
       "stream": "stdout",
       "text": [
        "827 "
       ]
      },
      {
       "output_type": "stream",
       "stream": "stdout",
       "text": [
        "828 "
       ]
      },
      {
       "output_type": "stream",
       "stream": "stdout",
       "text": [
        "829 "
       ]
      },
      {
       "output_type": "stream",
       "stream": "stdout",
       "text": [
        "830 "
       ]
      },
      {
       "output_type": "stream",
       "stream": "stdout",
       "text": [
        "831 "
       ]
      },
      {
       "output_type": "stream",
       "stream": "stdout",
       "text": [
        "832 "
       ]
      },
      {
       "output_type": "stream",
       "stream": "stdout",
       "text": [
        "833 "
       ]
      },
      {
       "output_type": "stream",
       "stream": "stdout",
       "text": [
        "834 "
       ]
      },
      {
       "output_type": "stream",
       "stream": "stdout",
       "text": [
        "835 "
       ]
      },
      {
       "output_type": "stream",
       "stream": "stdout",
       "text": [
        "836 "
       ]
      },
      {
       "output_type": "stream",
       "stream": "stdout",
       "text": [
        "837 "
       ]
      },
      {
       "output_type": "stream",
       "stream": "stdout",
       "text": [
        "838 "
       ]
      },
      {
       "output_type": "stream",
       "stream": "stdout",
       "text": [
        "839 "
       ]
      },
      {
       "output_type": "stream",
       "stream": "stdout",
       "text": [
        "840 "
       ]
      },
      {
       "output_type": "stream",
       "stream": "stdout",
       "text": [
        "841 "
       ]
      },
      {
       "output_type": "stream",
       "stream": "stdout",
       "text": [
        "842 "
       ]
      },
      {
       "output_type": "stream",
       "stream": "stdout",
       "text": [
        "843 "
       ]
      },
      {
       "output_type": "stream",
       "stream": "stdout",
       "text": [
        "844 "
       ]
      },
      {
       "output_type": "stream",
       "stream": "stdout",
       "text": [
        "845 "
       ]
      },
      {
       "output_type": "stream",
       "stream": "stdout",
       "text": [
        "846 "
       ]
      },
      {
       "output_type": "stream",
       "stream": "stdout",
       "text": [
        "847 "
       ]
      },
      {
       "output_type": "stream",
       "stream": "stdout",
       "text": [
        "848 "
       ]
      },
      {
       "output_type": "stream",
       "stream": "stdout",
       "text": [
        "849 "
       ]
      },
      {
       "output_type": "stream",
       "stream": "stdout",
       "text": [
        "850 "
       ]
      },
      {
       "output_type": "stream",
       "stream": "stdout",
       "text": [
        "851 "
       ]
      },
      {
       "output_type": "stream",
       "stream": "stdout",
       "text": [
        "852 "
       ]
      },
      {
       "output_type": "stream",
       "stream": "stdout",
       "text": [
        "853 "
       ]
      },
      {
       "output_type": "stream",
       "stream": "stdout",
       "text": [
        "854 "
       ]
      },
      {
       "output_type": "stream",
       "stream": "stdout",
       "text": [
        "855 "
       ]
      },
      {
       "output_type": "stream",
       "stream": "stdout",
       "text": [
        "856 "
       ]
      },
      {
       "output_type": "stream",
       "stream": "stdout",
       "text": [
        "857 "
       ]
      },
      {
       "output_type": "stream",
       "stream": "stdout",
       "text": [
        "858 "
       ]
      },
      {
       "output_type": "stream",
       "stream": "stdout",
       "text": [
        "859 "
       ]
      },
      {
       "output_type": "stream",
       "stream": "stdout",
       "text": [
        "860 "
       ]
      },
      {
       "output_type": "stream",
       "stream": "stdout",
       "text": [
        "861 "
       ]
      },
      {
       "output_type": "stream",
       "stream": "stdout",
       "text": [
        "862 "
       ]
      },
      {
       "output_type": "stream",
       "stream": "stdout",
       "text": [
        "863 "
       ]
      },
      {
       "output_type": "stream",
       "stream": "stdout",
       "text": [
        "864 "
       ]
      },
      {
       "output_type": "stream",
       "stream": "stdout",
       "text": [
        "865 "
       ]
      },
      {
       "output_type": "stream",
       "stream": "stdout",
       "text": [
        "866 "
       ]
      },
      {
       "output_type": "stream",
       "stream": "stdout",
       "text": [
        "867 "
       ]
      },
      {
       "output_type": "stream",
       "stream": "stdout",
       "text": [
        "868 "
       ]
      },
      {
       "output_type": "stream",
       "stream": "stdout",
       "text": [
        "869 "
       ]
      },
      {
       "output_type": "stream",
       "stream": "stdout",
       "text": [
        "870 "
       ]
      },
      {
       "output_type": "stream",
       "stream": "stdout",
       "text": [
        "871 "
       ]
      },
      {
       "output_type": "stream",
       "stream": "stdout",
       "text": [
        "872 "
       ]
      },
      {
       "output_type": "stream",
       "stream": "stdout",
       "text": [
        "873 "
       ]
      },
      {
       "output_type": "stream",
       "stream": "stdout",
       "text": [
        "874 "
       ]
      },
      {
       "output_type": "stream",
       "stream": "stdout",
       "text": [
        "875 "
       ]
      },
      {
       "output_type": "stream",
       "stream": "stdout",
       "text": [
        "876 "
       ]
      },
      {
       "output_type": "stream",
       "stream": "stdout",
       "text": [
        "877 "
       ]
      },
      {
       "output_type": "stream",
       "stream": "stdout",
       "text": [
        "878 "
       ]
      },
      {
       "output_type": "stream",
       "stream": "stdout",
       "text": [
        "879 "
       ]
      },
      {
       "output_type": "stream",
       "stream": "stdout",
       "text": [
        "880 "
       ]
      },
      {
       "output_type": "stream",
       "stream": "stdout",
       "text": [
        "881 "
       ]
      },
      {
       "output_type": "stream",
       "stream": "stdout",
       "text": [
        "882 "
       ]
      },
      {
       "output_type": "stream",
       "stream": "stdout",
       "text": [
        "883 "
       ]
      },
      {
       "output_type": "stream",
       "stream": "stdout",
       "text": [
        "884 "
       ]
      },
      {
       "output_type": "stream",
       "stream": "stdout",
       "text": [
        "885 "
       ]
      },
      {
       "output_type": "stream",
       "stream": "stdout",
       "text": [
        "886 "
       ]
      },
      {
       "output_type": "stream",
       "stream": "stdout",
       "text": [
        "887 "
       ]
      },
      {
       "output_type": "stream",
       "stream": "stdout",
       "text": [
        "888 "
       ]
      },
      {
       "output_type": "stream",
       "stream": "stdout",
       "text": [
        "889 "
       ]
      },
      {
       "output_type": "stream",
       "stream": "stdout",
       "text": [
        "890 "
       ]
      },
      {
       "output_type": "stream",
       "stream": "stdout",
       "text": [
        "891 "
       ]
      },
      {
       "output_type": "stream",
       "stream": "stdout",
       "text": [
        "892 "
       ]
      },
      {
       "output_type": "stream",
       "stream": "stdout",
       "text": [
        "893 "
       ]
      },
      {
       "output_type": "stream",
       "stream": "stdout",
       "text": [
        "894 "
       ]
      },
      {
       "output_type": "stream",
       "stream": "stdout",
       "text": [
        "895 "
       ]
      },
      {
       "output_type": "stream",
       "stream": "stdout",
       "text": [
        "896 "
       ]
      },
      {
       "output_type": "stream",
       "stream": "stdout",
       "text": [
        "897 "
       ]
      },
      {
       "output_type": "stream",
       "stream": "stdout",
       "text": [
        "898 "
       ]
      },
      {
       "output_type": "stream",
       "stream": "stdout",
       "text": [
        "899 "
       ]
      },
      {
       "output_type": "stream",
       "stream": "stdout",
       "text": [
        "900 "
       ]
      },
      {
       "output_type": "stream",
       "stream": "stdout",
       "text": [
        "901 "
       ]
      },
      {
       "output_type": "stream",
       "stream": "stdout",
       "text": [
        "902 "
       ]
      },
      {
       "output_type": "stream",
       "stream": "stdout",
       "text": [
        "903 "
       ]
      },
      {
       "output_type": "stream",
       "stream": "stdout",
       "text": [
        "904 "
       ]
      },
      {
       "output_type": "stream",
       "stream": "stdout",
       "text": [
        "905 "
       ]
      },
      {
       "output_type": "stream",
       "stream": "stdout",
       "text": [
        "906 "
       ]
      },
      {
       "output_type": "stream",
       "stream": "stdout",
       "text": [
        "907 "
       ]
      },
      {
       "output_type": "stream",
       "stream": "stdout",
       "text": [
        "908 "
       ]
      },
      {
       "output_type": "stream",
       "stream": "stdout",
       "text": [
        "909 "
       ]
      },
      {
       "output_type": "stream",
       "stream": "stdout",
       "text": [
        "910 "
       ]
      },
      {
       "output_type": "stream",
       "stream": "stdout",
       "text": [
        "911 "
       ]
      },
      {
       "output_type": "stream",
       "stream": "stdout",
       "text": [
        "912 "
       ]
      },
      {
       "output_type": "stream",
       "stream": "stdout",
       "text": [
        "913 "
       ]
      },
      {
       "output_type": "stream",
       "stream": "stdout",
       "text": [
        "914 "
       ]
      },
      {
       "output_type": "stream",
       "stream": "stdout",
       "text": [
        "915 "
       ]
      },
      {
       "output_type": "stream",
       "stream": "stdout",
       "text": [
        "916 "
       ]
      },
      {
       "output_type": "stream",
       "stream": "stdout",
       "text": [
        "917 "
       ]
      },
      {
       "output_type": "stream",
       "stream": "stdout",
       "text": [
        "918 "
       ]
      },
      {
       "output_type": "stream",
       "stream": "stdout",
       "text": [
        "919 "
       ]
      },
      {
       "output_type": "stream",
       "stream": "stdout",
       "text": [
        "920 "
       ]
      },
      {
       "output_type": "stream",
       "stream": "stdout",
       "text": [
        "921 "
       ]
      },
      {
       "output_type": "stream",
       "stream": "stdout",
       "text": [
        "922 "
       ]
      },
      {
       "output_type": "stream",
       "stream": "stdout",
       "text": [
        "923 "
       ]
      },
      {
       "output_type": "stream",
       "stream": "stdout",
       "text": [
        "924 "
       ]
      },
      {
       "output_type": "stream",
       "stream": "stdout",
       "text": [
        "925 "
       ]
      },
      {
       "output_type": "stream",
       "stream": "stdout",
       "text": [
        "926 "
       ]
      },
      {
       "output_type": "stream",
       "stream": "stdout",
       "text": [
        "927 "
       ]
      },
      {
       "output_type": "stream",
       "stream": "stdout",
       "text": [
        "928 "
       ]
      },
      {
       "output_type": "stream",
       "stream": "stdout",
       "text": [
        "929 "
       ]
      },
      {
       "output_type": "stream",
       "stream": "stdout",
       "text": [
        "930 "
       ]
      },
      {
       "output_type": "stream",
       "stream": "stdout",
       "text": [
        "931 "
       ]
      },
      {
       "output_type": "stream",
       "stream": "stdout",
       "text": [
        "932 "
       ]
      },
      {
       "output_type": "stream",
       "stream": "stdout",
       "text": [
        "933 "
       ]
      },
      {
       "output_type": "stream",
       "stream": "stdout",
       "text": [
        "934 "
       ]
      },
      {
       "output_type": "stream",
       "stream": "stdout",
       "text": [
        "935 "
       ]
      },
      {
       "output_type": "stream",
       "stream": "stdout",
       "text": [
        "936 "
       ]
      },
      {
       "output_type": "stream",
       "stream": "stdout",
       "text": [
        "937 "
       ]
      },
      {
       "output_type": "stream",
       "stream": "stdout",
       "text": [
        "938 "
       ]
      },
      {
       "output_type": "stream",
       "stream": "stdout",
       "text": [
        "939 "
       ]
      },
      {
       "output_type": "stream",
       "stream": "stdout",
       "text": [
        "940 "
       ]
      },
      {
       "output_type": "stream",
       "stream": "stdout",
       "text": [
        "941 "
       ]
      },
      {
       "output_type": "stream",
       "stream": "stdout",
       "text": [
        "942 "
       ]
      },
      {
       "output_type": "stream",
       "stream": "stdout",
       "text": [
        "943 "
       ]
      },
      {
       "output_type": "stream",
       "stream": "stdout",
       "text": [
        "944 "
       ]
      },
      {
       "output_type": "stream",
       "stream": "stdout",
       "text": [
        "945 "
       ]
      },
      {
       "output_type": "stream",
       "stream": "stdout",
       "text": [
        "946 "
       ]
      },
      {
       "output_type": "stream",
       "stream": "stdout",
       "text": [
        "947 "
       ]
      },
      {
       "output_type": "stream",
       "stream": "stdout",
       "text": [
        "948 "
       ]
      },
      {
       "output_type": "stream",
       "stream": "stdout",
       "text": [
        "949 "
       ]
      },
      {
       "output_type": "stream",
       "stream": "stdout",
       "text": [
        "950 "
       ]
      },
      {
       "output_type": "stream",
       "stream": "stdout",
       "text": [
        "951 "
       ]
      },
      {
       "output_type": "stream",
       "stream": "stdout",
       "text": [
        "952 "
       ]
      },
      {
       "output_type": "stream",
       "stream": "stdout",
       "text": [
        "953 "
       ]
      },
      {
       "output_type": "stream",
       "stream": "stdout",
       "text": [
        "954 "
       ]
      },
      {
       "output_type": "stream",
       "stream": "stdout",
       "text": [
        "955 "
       ]
      },
      {
       "output_type": "stream",
       "stream": "stdout",
       "text": [
        "956 "
       ]
      },
      {
       "output_type": "stream",
       "stream": "stdout",
       "text": [
        "957 "
       ]
      },
      {
       "output_type": "stream",
       "stream": "stdout",
       "text": [
        "958 "
       ]
      },
      {
       "output_type": "stream",
       "stream": "stdout",
       "text": [
        "959 "
       ]
      },
      {
       "output_type": "stream",
       "stream": "stdout",
       "text": [
        "960 "
       ]
      },
      {
       "output_type": "stream",
       "stream": "stdout",
       "text": [
        "961 "
       ]
      },
      {
       "output_type": "stream",
       "stream": "stdout",
       "text": [
        "962 "
       ]
      },
      {
       "output_type": "stream",
       "stream": "stdout",
       "text": [
        "963 "
       ]
      },
      {
       "output_type": "stream",
       "stream": "stdout",
       "text": [
        "964 "
       ]
      },
      {
       "output_type": "stream",
       "stream": "stdout",
       "text": [
        "965 "
       ]
      },
      {
       "output_type": "stream",
       "stream": "stdout",
       "text": [
        "966 "
       ]
      },
      {
       "output_type": "stream",
       "stream": "stdout",
       "text": [
        "967 "
       ]
      },
      {
       "output_type": "stream",
       "stream": "stdout",
       "text": [
        "968 "
       ]
      },
      {
       "output_type": "stream",
       "stream": "stdout",
       "text": [
        "969 "
       ]
      },
      {
       "output_type": "stream",
       "stream": "stdout",
       "text": [
        "970 "
       ]
      },
      {
       "output_type": "stream",
       "stream": "stdout",
       "text": [
        "971 "
       ]
      },
      {
       "output_type": "stream",
       "stream": "stdout",
       "text": [
        "972 "
       ]
      },
      {
       "output_type": "stream",
       "stream": "stdout",
       "text": [
        "973 "
       ]
      },
      {
       "output_type": "stream",
       "stream": "stdout",
       "text": [
        "974 "
       ]
      },
      {
       "output_type": "stream",
       "stream": "stdout",
       "text": [
        "975 "
       ]
      },
      {
       "output_type": "stream",
       "stream": "stdout",
       "text": [
        "976 "
       ]
      },
      {
       "output_type": "stream",
       "stream": "stdout",
       "text": [
        "977 "
       ]
      },
      {
       "output_type": "stream",
       "stream": "stdout",
       "text": [
        "978 "
       ]
      },
      {
       "output_type": "stream",
       "stream": "stdout",
       "text": [
        "979 "
       ]
      },
      {
       "output_type": "stream",
       "stream": "stdout",
       "text": [
        "980 "
       ]
      },
      {
       "output_type": "stream",
       "stream": "stdout",
       "text": [
        "981 "
       ]
      },
      {
       "output_type": "stream",
       "stream": "stdout",
       "text": [
        "982 "
       ]
      },
      {
       "output_type": "stream",
       "stream": "stdout",
       "text": [
        "983 "
       ]
      },
      {
       "output_type": "stream",
       "stream": "stdout",
       "text": [
        "984 "
       ]
      },
      {
       "output_type": "stream",
       "stream": "stdout",
       "text": [
        "985 "
       ]
      },
      {
       "output_type": "stream",
       "stream": "stdout",
       "text": [
        "986 "
       ]
      },
      {
       "output_type": "stream",
       "stream": "stdout",
       "text": [
        "987 "
       ]
      },
      {
       "output_type": "stream",
       "stream": "stdout",
       "text": [
        "988 "
       ]
      },
      {
       "output_type": "stream",
       "stream": "stdout",
       "text": [
        "989 "
       ]
      },
      {
       "output_type": "stream",
       "stream": "stdout",
       "text": [
        "990 "
       ]
      },
      {
       "output_type": "stream",
       "stream": "stdout",
       "text": [
        "991 "
       ]
      },
      {
       "output_type": "stream",
       "stream": "stdout",
       "text": [
        "992 "
       ]
      },
      {
       "output_type": "stream",
       "stream": "stdout",
       "text": [
        "993 "
       ]
      },
      {
       "output_type": "stream",
       "stream": "stdout",
       "text": [
        "994 "
       ]
      },
      {
       "output_type": "stream",
       "stream": "stdout",
       "text": [
        "995 "
       ]
      },
      {
       "output_type": "stream",
       "stream": "stdout",
       "text": [
        "996 "
       ]
      },
      {
       "output_type": "stream",
       "stream": "stdout",
       "text": [
        "997 "
       ]
      },
      {
       "output_type": "stream",
       "stream": "stdout",
       "text": [
        "998 "
       ]
      },
      {
       "output_type": "stream",
       "stream": "stdout",
       "text": [
        "999\n"
       ]
      }
     ],
     "prompt_number": 161
    },
    {
     "cell_type": "code",
     "collapsed": true,
     "input": [
      "result_file = open('levenshtein_generation_result_using_rank.txt', 'a')\n",
      "for i, (incorrect, correct) in enumerate(ppairs_test[:1000]):\n",
      "    print i,\n",
      "    test_pairs = [(incorrect, candidate) for candidate in set(dictionary[:20000] + [correct])]\n",
      "    pr = [editdistance.eval(*test_pair) for test_pair in test_pairs]\n",
      "    cr = zip(pr, test_pairs)\n",
      "    cr = sorted(cr, key=lambda x: (x[0], dictionary_rank.get(x[1][1], dictionary_length)))\n",
      "    result_file.write('{} {} {}\\n'.format(incorrect, correct,\n",
      "                      [(candidate[1][1], '{:.5f}'.format(candidate[0])) for candidate in cr[:1000]]))\n",
      "    result_file.flush()"
     ],
     "language": "python",
     "metadata": {},
     "outputs": [
      {
       "output_type": "stream",
       "stream": "stdout",
       "text": [
        "0 "
       ]
      },
      {
       "output_type": "stream",
       "stream": "stdout",
       "text": [
        "1 "
       ]
      },
      {
       "output_type": "stream",
       "stream": "stdout",
       "text": [
        "2 "
       ]
      },
      {
       "output_type": "stream",
       "stream": "stdout",
       "text": [
        "3 "
       ]
      },
      {
       "output_type": "stream",
       "stream": "stdout",
       "text": [
        "4 "
       ]
      },
      {
       "output_type": "stream",
       "stream": "stdout",
       "text": [
        "5 "
       ]
      },
      {
       "output_type": "stream",
       "stream": "stdout",
       "text": [
        "6 "
       ]
      },
      {
       "output_type": "stream",
       "stream": "stdout",
       "text": [
        "7 "
       ]
      },
      {
       "output_type": "stream",
       "stream": "stdout",
       "text": [
        "8 "
       ]
      },
      {
       "output_type": "stream",
       "stream": "stdout",
       "text": [
        "9 "
       ]
      },
      {
       "output_type": "stream",
       "stream": "stdout",
       "text": [
        "10 "
       ]
      },
      {
       "output_type": "stream",
       "stream": "stdout",
       "text": [
        "11 "
       ]
      },
      {
       "output_type": "stream",
       "stream": "stdout",
       "text": [
        "12 "
       ]
      },
      {
       "output_type": "stream",
       "stream": "stdout",
       "text": [
        "13 "
       ]
      },
      {
       "output_type": "stream",
       "stream": "stdout",
       "text": [
        "14 "
       ]
      },
      {
       "output_type": "stream",
       "stream": "stdout",
       "text": [
        "15 "
       ]
      },
      {
       "output_type": "stream",
       "stream": "stdout",
       "text": [
        "16 "
       ]
      },
      {
       "output_type": "stream",
       "stream": "stdout",
       "text": [
        "17 "
       ]
      },
      {
       "output_type": "stream",
       "stream": "stdout",
       "text": [
        "18 "
       ]
      },
      {
       "output_type": "stream",
       "stream": "stdout",
       "text": [
        "19 "
       ]
      },
      {
       "output_type": "stream",
       "stream": "stdout",
       "text": [
        "20 "
       ]
      },
      {
       "output_type": "stream",
       "stream": "stdout",
       "text": [
        "21 "
       ]
      },
      {
       "output_type": "stream",
       "stream": "stdout",
       "text": [
        "22 "
       ]
      },
      {
       "output_type": "stream",
       "stream": "stdout",
       "text": [
        "23 "
       ]
      },
      {
       "output_type": "stream",
       "stream": "stdout",
       "text": [
        "24 "
       ]
      },
      {
       "output_type": "stream",
       "stream": "stdout",
       "text": [
        "25 "
       ]
      },
      {
       "output_type": "stream",
       "stream": "stdout",
       "text": [
        "26 "
       ]
      },
      {
       "output_type": "stream",
       "stream": "stdout",
       "text": [
        "27 "
       ]
      },
      {
       "output_type": "stream",
       "stream": "stdout",
       "text": [
        "28 "
       ]
      },
      {
       "output_type": "stream",
       "stream": "stdout",
       "text": [
        "29 "
       ]
      },
      {
       "output_type": "stream",
       "stream": "stdout",
       "text": [
        "30 "
       ]
      },
      {
       "output_type": "stream",
       "stream": "stdout",
       "text": [
        "31 "
       ]
      },
      {
       "output_type": "stream",
       "stream": "stdout",
       "text": [
        "32 "
       ]
      },
      {
       "output_type": "stream",
       "stream": "stdout",
       "text": [
        "33 "
       ]
      },
      {
       "output_type": "stream",
       "stream": "stdout",
       "text": [
        "34 "
       ]
      },
      {
       "output_type": "stream",
       "stream": "stdout",
       "text": [
        "35 "
       ]
      },
      {
       "output_type": "stream",
       "stream": "stdout",
       "text": [
        "36 "
       ]
      },
      {
       "output_type": "stream",
       "stream": "stdout",
       "text": [
        "37 "
       ]
      },
      {
       "output_type": "stream",
       "stream": "stdout",
       "text": [
        "38 "
       ]
      },
      {
       "output_type": "stream",
       "stream": "stdout",
       "text": [
        "39 "
       ]
      },
      {
       "output_type": "stream",
       "stream": "stdout",
       "text": [
        "40 "
       ]
      },
      {
       "output_type": "stream",
       "stream": "stdout",
       "text": [
        "41 "
       ]
      },
      {
       "output_type": "stream",
       "stream": "stdout",
       "text": [
        "42 "
       ]
      },
      {
       "output_type": "stream",
       "stream": "stdout",
       "text": [
        "43 "
       ]
      },
      {
       "output_type": "stream",
       "stream": "stdout",
       "text": [
        "44 "
       ]
      },
      {
       "output_type": "stream",
       "stream": "stdout",
       "text": [
        "45 "
       ]
      },
      {
       "output_type": "stream",
       "stream": "stdout",
       "text": [
        "46 "
       ]
      },
      {
       "output_type": "stream",
       "stream": "stdout",
       "text": [
        "47 "
       ]
      },
      {
       "output_type": "stream",
       "stream": "stdout",
       "text": [
        "48 "
       ]
      },
      {
       "output_type": "stream",
       "stream": "stdout",
       "text": [
        "49 "
       ]
      },
      {
       "output_type": "stream",
       "stream": "stdout",
       "text": [
        "50 "
       ]
      },
      {
       "output_type": "stream",
       "stream": "stdout",
       "text": [
        "51 "
       ]
      },
      {
       "output_type": "stream",
       "stream": "stdout",
       "text": [
        "52 "
       ]
      },
      {
       "output_type": "stream",
       "stream": "stdout",
       "text": [
        "53 "
       ]
      },
      {
       "output_type": "stream",
       "stream": "stdout",
       "text": [
        "54 "
       ]
      },
      {
       "output_type": "stream",
       "stream": "stdout",
       "text": [
        "55 "
       ]
      },
      {
       "output_type": "stream",
       "stream": "stdout",
       "text": [
        "56 "
       ]
      },
      {
       "output_type": "stream",
       "stream": "stdout",
       "text": [
        "57 "
       ]
      },
      {
       "output_type": "stream",
       "stream": "stdout",
       "text": [
        "58 "
       ]
      },
      {
       "output_type": "stream",
       "stream": "stdout",
       "text": [
        "59 "
       ]
      },
      {
       "output_type": "stream",
       "stream": "stdout",
       "text": [
        "60 "
       ]
      },
      {
       "output_type": "stream",
       "stream": "stdout",
       "text": [
        "61 "
       ]
      },
      {
       "output_type": "stream",
       "stream": "stdout",
       "text": [
        "62 "
       ]
      },
      {
       "output_type": "stream",
       "stream": "stdout",
       "text": [
        "63 "
       ]
      },
      {
       "output_type": "stream",
       "stream": "stdout",
       "text": [
        "64 "
       ]
      },
      {
       "output_type": "stream",
       "stream": "stdout",
       "text": [
        "65 "
       ]
      },
      {
       "output_type": "stream",
       "stream": "stdout",
       "text": [
        "66 "
       ]
      },
      {
       "output_type": "stream",
       "stream": "stdout",
       "text": [
        "67 "
       ]
      },
      {
       "output_type": "stream",
       "stream": "stdout",
       "text": [
        "68 "
       ]
      },
      {
       "output_type": "stream",
       "stream": "stdout",
       "text": [
        "69 "
       ]
      },
      {
       "output_type": "stream",
       "stream": "stdout",
       "text": [
        "70 "
       ]
      },
      {
       "output_type": "stream",
       "stream": "stdout",
       "text": [
        "71 "
       ]
      },
      {
       "output_type": "stream",
       "stream": "stdout",
       "text": [
        "72 "
       ]
      },
      {
       "output_type": "stream",
       "stream": "stdout",
       "text": [
        "73 "
       ]
      },
      {
       "output_type": "stream",
       "stream": "stdout",
       "text": [
        "74 "
       ]
      },
      {
       "output_type": "stream",
       "stream": "stdout",
       "text": [
        "75 "
       ]
      },
      {
       "output_type": "stream",
       "stream": "stdout",
       "text": [
        "76 "
       ]
      },
      {
       "output_type": "stream",
       "stream": "stdout",
       "text": [
        "77 "
       ]
      },
      {
       "output_type": "stream",
       "stream": "stdout",
       "text": [
        "78 "
       ]
      },
      {
       "output_type": "stream",
       "stream": "stdout",
       "text": [
        "79 "
       ]
      },
      {
       "output_type": "stream",
       "stream": "stdout",
       "text": [
        "80 "
       ]
      },
      {
       "output_type": "stream",
       "stream": "stdout",
       "text": [
        "81 "
       ]
      },
      {
       "output_type": "stream",
       "stream": "stdout",
       "text": [
        "82 "
       ]
      },
      {
       "output_type": "stream",
       "stream": "stdout",
       "text": [
        "83 "
       ]
      },
      {
       "output_type": "stream",
       "stream": "stdout",
       "text": [
        "84 "
       ]
      },
      {
       "output_type": "stream",
       "stream": "stdout",
       "text": [
        "85 "
       ]
      },
      {
       "output_type": "stream",
       "stream": "stdout",
       "text": [
        "86 "
       ]
      },
      {
       "output_type": "stream",
       "stream": "stdout",
       "text": [
        "87 "
       ]
      },
      {
       "output_type": "stream",
       "stream": "stdout",
       "text": [
        "88 "
       ]
      },
      {
       "output_type": "stream",
       "stream": "stdout",
       "text": [
        "89 "
       ]
      },
      {
       "output_type": "stream",
       "stream": "stdout",
       "text": [
        "90 "
       ]
      },
      {
       "output_type": "stream",
       "stream": "stdout",
       "text": [
        "91 "
       ]
      },
      {
       "output_type": "stream",
       "stream": "stdout",
       "text": [
        "92 "
       ]
      },
      {
       "output_type": "stream",
       "stream": "stdout",
       "text": [
        "93 "
       ]
      },
      {
       "output_type": "stream",
       "stream": "stdout",
       "text": [
        "94 "
       ]
      },
      {
       "output_type": "stream",
       "stream": "stdout",
       "text": [
        "95 "
       ]
      },
      {
       "output_type": "stream",
       "stream": "stdout",
       "text": [
        "96 "
       ]
      },
      {
       "output_type": "stream",
       "stream": "stdout",
       "text": [
        "97 "
       ]
      },
      {
       "output_type": "stream",
       "stream": "stdout",
       "text": [
        "98 "
       ]
      },
      {
       "output_type": "stream",
       "stream": "stdout",
       "text": [
        "99 "
       ]
      },
      {
       "output_type": "stream",
       "stream": "stdout",
       "text": [
        "100 "
       ]
      },
      {
       "output_type": "stream",
       "stream": "stdout",
       "text": [
        "101 "
       ]
      },
      {
       "output_type": "stream",
       "stream": "stdout",
       "text": [
        "102 "
       ]
      },
      {
       "output_type": "stream",
       "stream": "stdout",
       "text": [
        "103 "
       ]
      },
      {
       "output_type": "stream",
       "stream": "stdout",
       "text": [
        "104 "
       ]
      },
      {
       "output_type": "stream",
       "stream": "stdout",
       "text": [
        "105 "
       ]
      },
      {
       "output_type": "stream",
       "stream": "stdout",
       "text": [
        "106 "
       ]
      },
      {
       "output_type": "stream",
       "stream": "stdout",
       "text": [
        "107 "
       ]
      },
      {
       "output_type": "stream",
       "stream": "stdout",
       "text": [
        "108 "
       ]
      },
      {
       "output_type": "stream",
       "stream": "stdout",
       "text": [
        "109 "
       ]
      },
      {
       "output_type": "stream",
       "stream": "stdout",
       "text": [
        "110 "
       ]
      },
      {
       "output_type": "stream",
       "stream": "stdout",
       "text": [
        "111 "
       ]
      },
      {
       "output_type": "stream",
       "stream": "stdout",
       "text": [
        "112 "
       ]
      },
      {
       "output_type": "stream",
       "stream": "stdout",
       "text": [
        "113 "
       ]
      },
      {
       "output_type": "stream",
       "stream": "stdout",
       "text": [
        "114 "
       ]
      },
      {
       "output_type": "stream",
       "stream": "stdout",
       "text": [
        "115 "
       ]
      },
      {
       "output_type": "stream",
       "stream": "stdout",
       "text": [
        "116 "
       ]
      },
      {
       "output_type": "stream",
       "stream": "stdout",
       "text": [
        "117 "
       ]
      },
      {
       "output_type": "stream",
       "stream": "stdout",
       "text": [
        "118 "
       ]
      },
      {
       "output_type": "stream",
       "stream": "stdout",
       "text": [
        "119 "
       ]
      },
      {
       "output_type": "stream",
       "stream": "stdout",
       "text": [
        "120 "
       ]
      },
      {
       "output_type": "stream",
       "stream": "stdout",
       "text": [
        "121 "
       ]
      },
      {
       "output_type": "stream",
       "stream": "stdout",
       "text": [
        "122 "
       ]
      },
      {
       "output_type": "stream",
       "stream": "stdout",
       "text": [
        "123 "
       ]
      },
      {
       "output_type": "stream",
       "stream": "stdout",
       "text": [
        "124 "
       ]
      },
      {
       "output_type": "stream",
       "stream": "stdout",
       "text": [
        "125 "
       ]
      },
      {
       "output_type": "stream",
       "stream": "stdout",
       "text": [
        "126 "
       ]
      },
      {
       "output_type": "stream",
       "stream": "stdout",
       "text": [
        "127 "
       ]
      },
      {
       "output_type": "stream",
       "stream": "stdout",
       "text": [
        "128 "
       ]
      },
      {
       "output_type": "stream",
       "stream": "stdout",
       "text": [
        "129 "
       ]
      },
      {
       "output_type": "stream",
       "stream": "stdout",
       "text": [
        "130 "
       ]
      },
      {
       "output_type": "stream",
       "stream": "stdout",
       "text": [
        "131 "
       ]
      },
      {
       "output_type": "stream",
       "stream": "stdout",
       "text": [
        "132 "
       ]
      },
      {
       "output_type": "stream",
       "stream": "stdout",
       "text": [
        "133 "
       ]
      },
      {
       "output_type": "stream",
       "stream": "stdout",
       "text": [
        "134 "
       ]
      },
      {
       "output_type": "stream",
       "stream": "stdout",
       "text": [
        "135 "
       ]
      },
      {
       "output_type": "stream",
       "stream": "stdout",
       "text": [
        "136 "
       ]
      },
      {
       "output_type": "stream",
       "stream": "stdout",
       "text": [
        "137 "
       ]
      },
      {
       "output_type": "stream",
       "stream": "stdout",
       "text": [
        "138 "
       ]
      },
      {
       "output_type": "stream",
       "stream": "stdout",
       "text": [
        "139 "
       ]
      },
      {
       "output_type": "stream",
       "stream": "stdout",
       "text": [
        "140 "
       ]
      },
      {
       "output_type": "stream",
       "stream": "stdout",
       "text": [
        "141 "
       ]
      },
      {
       "output_type": "stream",
       "stream": "stdout",
       "text": [
        "142 "
       ]
      },
      {
       "output_type": "stream",
       "stream": "stdout",
       "text": [
        "143 "
       ]
      },
      {
       "output_type": "stream",
       "stream": "stdout",
       "text": [
        "144 "
       ]
      },
      {
       "output_type": "stream",
       "stream": "stdout",
       "text": [
        "145 "
       ]
      },
      {
       "output_type": "stream",
       "stream": "stdout",
       "text": [
        "146 "
       ]
      },
      {
       "output_type": "stream",
       "stream": "stdout",
       "text": [
        "147 "
       ]
      },
      {
       "output_type": "stream",
       "stream": "stdout",
       "text": [
        "148 "
       ]
      },
      {
       "output_type": "stream",
       "stream": "stdout",
       "text": [
        "149 "
       ]
      },
      {
       "output_type": "stream",
       "stream": "stdout",
       "text": [
        "150 "
       ]
      },
      {
       "output_type": "stream",
       "stream": "stdout",
       "text": [
        "151 "
       ]
      },
      {
       "output_type": "stream",
       "stream": "stdout",
       "text": [
        "152 "
       ]
      },
      {
       "output_type": "stream",
       "stream": "stdout",
       "text": [
        "153 "
       ]
      },
      {
       "output_type": "stream",
       "stream": "stdout",
       "text": [
        "154 "
       ]
      },
      {
       "output_type": "stream",
       "stream": "stdout",
       "text": [
        "155 "
       ]
      },
      {
       "output_type": "stream",
       "stream": "stdout",
       "text": [
        "156 "
       ]
      },
      {
       "output_type": "stream",
       "stream": "stdout",
       "text": [
        "157 "
       ]
      },
      {
       "output_type": "stream",
       "stream": "stdout",
       "text": [
        "158 "
       ]
      },
      {
       "output_type": "stream",
       "stream": "stdout",
       "text": [
        "159 "
       ]
      },
      {
       "output_type": "stream",
       "stream": "stdout",
       "text": [
        "160 "
       ]
      },
      {
       "output_type": "stream",
       "stream": "stdout",
       "text": [
        "161 "
       ]
      },
      {
       "output_type": "stream",
       "stream": "stdout",
       "text": [
        "162 "
       ]
      },
      {
       "output_type": "stream",
       "stream": "stdout",
       "text": [
        "163 "
       ]
      },
      {
       "output_type": "stream",
       "stream": "stdout",
       "text": [
        "164 "
       ]
      },
      {
       "output_type": "stream",
       "stream": "stdout",
       "text": [
        "165 "
       ]
      },
      {
       "output_type": "stream",
       "stream": "stdout",
       "text": [
        "166 "
       ]
      },
      {
       "output_type": "stream",
       "stream": "stdout",
       "text": [
        "167 "
       ]
      },
      {
       "output_type": "stream",
       "stream": "stdout",
       "text": [
        "168 "
       ]
      },
      {
       "output_type": "stream",
       "stream": "stdout",
       "text": [
        "169 "
       ]
      },
      {
       "output_type": "stream",
       "stream": "stdout",
       "text": [
        "170 "
       ]
      },
      {
       "output_type": "stream",
       "stream": "stdout",
       "text": [
        "171 "
       ]
      },
      {
       "output_type": "stream",
       "stream": "stdout",
       "text": [
        "172 "
       ]
      },
      {
       "output_type": "stream",
       "stream": "stdout",
       "text": [
        "173 "
       ]
      },
      {
       "output_type": "stream",
       "stream": "stdout",
       "text": [
        "174 "
       ]
      },
      {
       "output_type": "stream",
       "stream": "stdout",
       "text": [
        "175 "
       ]
      },
      {
       "output_type": "stream",
       "stream": "stdout",
       "text": [
        "176 "
       ]
      },
      {
       "output_type": "stream",
       "stream": "stdout",
       "text": [
        "177 "
       ]
      },
      {
       "output_type": "stream",
       "stream": "stdout",
       "text": [
        "178 "
       ]
      },
      {
       "output_type": "stream",
       "stream": "stdout",
       "text": [
        "179 "
       ]
      },
      {
       "output_type": "stream",
       "stream": "stdout",
       "text": [
        "180 "
       ]
      },
      {
       "output_type": "stream",
       "stream": "stdout",
       "text": [
        "181 "
       ]
      },
      {
       "output_type": "stream",
       "stream": "stdout",
       "text": [
        "182 "
       ]
      },
      {
       "output_type": "stream",
       "stream": "stdout",
       "text": [
        "183 "
       ]
      },
      {
       "output_type": "stream",
       "stream": "stdout",
       "text": [
        "184 "
       ]
      },
      {
       "output_type": "stream",
       "stream": "stdout",
       "text": [
        "185 "
       ]
      },
      {
       "output_type": "stream",
       "stream": "stdout",
       "text": [
        "186 "
       ]
      },
      {
       "output_type": "stream",
       "stream": "stdout",
       "text": [
        "187 "
       ]
      },
      {
       "output_type": "stream",
       "stream": "stdout",
       "text": [
        "188 "
       ]
      },
      {
       "output_type": "stream",
       "stream": "stdout",
       "text": [
        "189 "
       ]
      },
      {
       "output_type": "stream",
       "stream": "stdout",
       "text": [
        "190 "
       ]
      },
      {
       "output_type": "stream",
       "stream": "stdout",
       "text": [
        "191 "
       ]
      },
      {
       "output_type": "stream",
       "stream": "stdout",
       "text": [
        "192 "
       ]
      },
      {
       "output_type": "stream",
       "stream": "stdout",
       "text": [
        "193 "
       ]
      },
      {
       "output_type": "stream",
       "stream": "stdout",
       "text": [
        "194 "
       ]
      },
      {
       "output_type": "stream",
       "stream": "stdout",
       "text": [
        "195 "
       ]
      },
      {
       "output_type": "stream",
       "stream": "stdout",
       "text": [
        "196 "
       ]
      },
      {
       "output_type": "stream",
       "stream": "stdout",
       "text": [
        "197 "
       ]
      },
      {
       "output_type": "stream",
       "stream": "stdout",
       "text": [
        "198 "
       ]
      },
      {
       "output_type": "stream",
       "stream": "stdout",
       "text": [
        "199 "
       ]
      },
      {
       "output_type": "stream",
       "stream": "stdout",
       "text": [
        "200 "
       ]
      },
      {
       "output_type": "stream",
       "stream": "stdout",
       "text": [
        "201 "
       ]
      },
      {
       "output_type": "stream",
       "stream": "stdout",
       "text": [
        "202 "
       ]
      },
      {
       "output_type": "stream",
       "stream": "stdout",
       "text": [
        "203 "
       ]
      },
      {
       "output_type": "stream",
       "stream": "stdout",
       "text": [
        "204 "
       ]
      },
      {
       "output_type": "stream",
       "stream": "stdout",
       "text": [
        "205 "
       ]
      },
      {
       "output_type": "stream",
       "stream": "stdout",
       "text": [
        "206 "
       ]
      },
      {
       "output_type": "stream",
       "stream": "stdout",
       "text": [
        "207 "
       ]
      },
      {
       "output_type": "stream",
       "stream": "stdout",
       "text": [
        "208 "
       ]
      },
      {
       "output_type": "stream",
       "stream": "stdout",
       "text": [
        "209 "
       ]
      },
      {
       "output_type": "stream",
       "stream": "stdout",
       "text": [
        "210 "
       ]
      },
      {
       "output_type": "stream",
       "stream": "stdout",
       "text": [
        "211 "
       ]
      },
      {
       "output_type": "stream",
       "stream": "stdout",
       "text": [
        "212 "
       ]
      },
      {
       "output_type": "stream",
       "stream": "stdout",
       "text": [
        "213 "
       ]
      },
      {
       "output_type": "stream",
       "stream": "stdout",
       "text": [
        "214 "
       ]
      },
      {
       "output_type": "stream",
       "stream": "stdout",
       "text": [
        "215 "
       ]
      },
      {
       "output_type": "stream",
       "stream": "stdout",
       "text": [
        "216 "
       ]
      },
      {
       "output_type": "stream",
       "stream": "stdout",
       "text": [
        "217 "
       ]
      },
      {
       "output_type": "stream",
       "stream": "stdout",
       "text": [
        "218 "
       ]
      },
      {
       "output_type": "stream",
       "stream": "stdout",
       "text": [
        "219 "
       ]
      },
      {
       "output_type": "stream",
       "stream": "stdout",
       "text": [
        "220 "
       ]
      },
      {
       "output_type": "stream",
       "stream": "stdout",
       "text": [
        "221 "
       ]
      },
      {
       "output_type": "stream",
       "stream": "stdout",
       "text": [
        "222 "
       ]
      },
      {
       "output_type": "stream",
       "stream": "stdout",
       "text": [
        "223 "
       ]
      },
      {
       "output_type": "stream",
       "stream": "stdout",
       "text": [
        "224 "
       ]
      },
      {
       "output_type": "stream",
       "stream": "stdout",
       "text": [
        "225 "
       ]
      },
      {
       "output_type": "stream",
       "stream": "stdout",
       "text": [
        "226 "
       ]
      },
      {
       "output_type": "stream",
       "stream": "stdout",
       "text": [
        "227 "
       ]
      },
      {
       "output_type": "stream",
       "stream": "stdout",
       "text": [
        "228 "
       ]
      },
      {
       "output_type": "stream",
       "stream": "stdout",
       "text": [
        "229 "
       ]
      },
      {
       "output_type": "stream",
       "stream": "stdout",
       "text": [
        "230 "
       ]
      },
      {
       "output_type": "stream",
       "stream": "stdout",
       "text": [
        "231 "
       ]
      },
      {
       "output_type": "stream",
       "stream": "stdout",
       "text": [
        "232 "
       ]
      },
      {
       "output_type": "stream",
       "stream": "stdout",
       "text": [
        "233 "
       ]
      },
      {
       "output_type": "stream",
       "stream": "stdout",
       "text": [
        "234 "
       ]
      },
      {
       "output_type": "stream",
       "stream": "stdout",
       "text": [
        "235 "
       ]
      },
      {
       "output_type": "stream",
       "stream": "stdout",
       "text": [
        "236 "
       ]
      },
      {
       "output_type": "stream",
       "stream": "stdout",
       "text": [
        "237 "
       ]
      },
      {
       "output_type": "stream",
       "stream": "stdout",
       "text": [
        "238 "
       ]
      },
      {
       "output_type": "stream",
       "stream": "stdout",
       "text": [
        "239 "
       ]
      },
      {
       "output_type": "stream",
       "stream": "stdout",
       "text": [
        "240 "
       ]
      },
      {
       "output_type": "stream",
       "stream": "stdout",
       "text": [
        "241 "
       ]
      },
      {
       "output_type": "stream",
       "stream": "stdout",
       "text": [
        "242 "
       ]
      },
      {
       "output_type": "stream",
       "stream": "stdout",
       "text": [
        "243 "
       ]
      },
      {
       "output_type": "stream",
       "stream": "stdout",
       "text": [
        "244 "
       ]
      },
      {
       "output_type": "stream",
       "stream": "stdout",
       "text": [
        "245 "
       ]
      },
      {
       "output_type": "stream",
       "stream": "stdout",
       "text": [
        "246 "
       ]
      },
      {
       "output_type": "stream",
       "stream": "stdout",
       "text": [
        "247 "
       ]
      },
      {
       "output_type": "stream",
       "stream": "stdout",
       "text": [
        "248 "
       ]
      },
      {
       "output_type": "stream",
       "stream": "stdout",
       "text": [
        "249 "
       ]
      },
      {
       "output_type": "stream",
       "stream": "stdout",
       "text": [
        "250 "
       ]
      },
      {
       "output_type": "stream",
       "stream": "stdout",
       "text": [
        "251 "
       ]
      },
      {
       "output_type": "stream",
       "stream": "stdout",
       "text": [
        "252 "
       ]
      },
      {
       "output_type": "stream",
       "stream": "stdout",
       "text": [
        "253 "
       ]
      },
      {
       "output_type": "stream",
       "stream": "stdout",
       "text": [
        "254 "
       ]
      },
      {
       "output_type": "stream",
       "stream": "stdout",
       "text": [
        "255 "
       ]
      },
      {
       "output_type": "stream",
       "stream": "stdout",
       "text": [
        "256 "
       ]
      },
      {
       "output_type": "stream",
       "stream": "stdout",
       "text": [
        "257 "
       ]
      },
      {
       "output_type": "stream",
       "stream": "stdout",
       "text": [
        "258 "
       ]
      },
      {
       "output_type": "stream",
       "stream": "stdout",
       "text": [
        "259 "
       ]
      },
      {
       "output_type": "stream",
       "stream": "stdout",
       "text": [
        "260 "
       ]
      },
      {
       "output_type": "stream",
       "stream": "stdout",
       "text": [
        "261 "
       ]
      },
      {
       "output_type": "stream",
       "stream": "stdout",
       "text": [
        "262 "
       ]
      },
      {
       "output_type": "stream",
       "stream": "stdout",
       "text": [
        "263 "
       ]
      },
      {
       "output_type": "stream",
       "stream": "stdout",
       "text": [
        "264 "
       ]
      },
      {
       "output_type": "stream",
       "stream": "stdout",
       "text": [
        "265 "
       ]
      },
      {
       "output_type": "stream",
       "stream": "stdout",
       "text": [
        "266 "
       ]
      },
      {
       "output_type": "stream",
       "stream": "stdout",
       "text": [
        "267 "
       ]
      },
      {
       "output_type": "stream",
       "stream": "stdout",
       "text": [
        "268 "
       ]
      },
      {
       "output_type": "stream",
       "stream": "stdout",
       "text": [
        "269 "
       ]
      },
      {
       "output_type": "stream",
       "stream": "stdout",
       "text": [
        "270 "
       ]
      },
      {
       "output_type": "stream",
       "stream": "stdout",
       "text": [
        "271 "
       ]
      },
      {
       "output_type": "stream",
       "stream": "stdout",
       "text": [
        "272 "
       ]
      },
      {
       "output_type": "stream",
       "stream": "stdout",
       "text": [
        "273 "
       ]
      },
      {
       "output_type": "stream",
       "stream": "stdout",
       "text": [
        "274 "
       ]
      },
      {
       "output_type": "stream",
       "stream": "stdout",
       "text": [
        "275 "
       ]
      },
      {
       "output_type": "stream",
       "stream": "stdout",
       "text": [
        "276 "
       ]
      },
      {
       "output_type": "stream",
       "stream": "stdout",
       "text": [
        "277 "
       ]
      },
      {
       "output_type": "stream",
       "stream": "stdout",
       "text": [
        "278 "
       ]
      },
      {
       "output_type": "stream",
       "stream": "stdout",
       "text": [
        "279 "
       ]
      },
      {
       "output_type": "stream",
       "stream": "stdout",
       "text": [
        "280 "
       ]
      },
      {
       "output_type": "stream",
       "stream": "stdout",
       "text": [
        "281 "
       ]
      },
      {
       "output_type": "stream",
       "stream": "stdout",
       "text": [
        "282 "
       ]
      },
      {
       "output_type": "stream",
       "stream": "stdout",
       "text": [
        "283 "
       ]
      },
      {
       "output_type": "stream",
       "stream": "stdout",
       "text": [
        "284 "
       ]
      },
      {
       "output_type": "stream",
       "stream": "stdout",
       "text": [
        "285 "
       ]
      },
      {
       "output_type": "stream",
       "stream": "stdout",
       "text": [
        "286 "
       ]
      },
      {
       "output_type": "stream",
       "stream": "stdout",
       "text": [
        "287 "
       ]
      },
      {
       "output_type": "stream",
       "stream": "stdout",
       "text": [
        "288 "
       ]
      },
      {
       "output_type": "stream",
       "stream": "stdout",
       "text": [
        "289 "
       ]
      },
      {
       "output_type": "stream",
       "stream": "stdout",
       "text": [
        "290 "
       ]
      },
      {
       "output_type": "stream",
       "stream": "stdout",
       "text": [
        "291 "
       ]
      },
      {
       "output_type": "stream",
       "stream": "stdout",
       "text": [
        "292 "
       ]
      },
      {
       "output_type": "stream",
       "stream": "stdout",
       "text": [
        "293 "
       ]
      },
      {
       "output_type": "stream",
       "stream": "stdout",
       "text": [
        "294 "
       ]
      },
      {
       "output_type": "stream",
       "stream": "stdout",
       "text": [
        "295 "
       ]
      },
      {
       "output_type": "stream",
       "stream": "stdout",
       "text": [
        "296 "
       ]
      },
      {
       "output_type": "stream",
       "stream": "stdout",
       "text": [
        "297 "
       ]
      },
      {
       "output_type": "stream",
       "stream": "stdout",
       "text": [
        "298 "
       ]
      },
      {
       "output_type": "stream",
       "stream": "stdout",
       "text": [
        "299 "
       ]
      },
      {
       "output_type": "stream",
       "stream": "stdout",
       "text": [
        "300 "
       ]
      },
      {
       "output_type": "stream",
       "stream": "stdout",
       "text": [
        "301 "
       ]
      },
      {
       "output_type": "stream",
       "stream": "stdout",
       "text": [
        "302 "
       ]
      },
      {
       "output_type": "stream",
       "stream": "stdout",
       "text": [
        "303 "
       ]
      },
      {
       "output_type": "stream",
       "stream": "stdout",
       "text": [
        "304 "
       ]
      },
      {
       "output_type": "stream",
       "stream": "stdout",
       "text": [
        "305 "
       ]
      },
      {
       "output_type": "stream",
       "stream": "stdout",
       "text": [
        "306 "
       ]
      },
      {
       "output_type": "stream",
       "stream": "stdout",
       "text": [
        "307 "
       ]
      },
      {
       "output_type": "stream",
       "stream": "stdout",
       "text": [
        "308 "
       ]
      },
      {
       "output_type": "stream",
       "stream": "stdout",
       "text": [
        "309 "
       ]
      },
      {
       "output_type": "stream",
       "stream": "stdout",
       "text": [
        "310 "
       ]
      },
      {
       "output_type": "stream",
       "stream": "stdout",
       "text": [
        "311 "
       ]
      },
      {
       "output_type": "stream",
       "stream": "stdout",
       "text": [
        "312 "
       ]
      },
      {
       "output_type": "stream",
       "stream": "stdout",
       "text": [
        "313 "
       ]
      },
      {
       "output_type": "stream",
       "stream": "stdout",
       "text": [
        "314 "
       ]
      },
      {
       "output_type": "stream",
       "stream": "stdout",
       "text": [
        "315 "
       ]
      },
      {
       "output_type": "stream",
       "stream": "stdout",
       "text": [
        "316 "
       ]
      },
      {
       "output_type": "stream",
       "stream": "stdout",
       "text": [
        "317 "
       ]
      },
      {
       "output_type": "stream",
       "stream": "stdout",
       "text": [
        "318 "
       ]
      },
      {
       "output_type": "stream",
       "stream": "stdout",
       "text": [
        "319 "
       ]
      },
      {
       "output_type": "stream",
       "stream": "stdout",
       "text": [
        "320 "
       ]
      },
      {
       "output_type": "stream",
       "stream": "stdout",
       "text": [
        "321 "
       ]
      },
      {
       "output_type": "stream",
       "stream": "stdout",
       "text": [
        "322 "
       ]
      },
      {
       "output_type": "stream",
       "stream": "stdout",
       "text": [
        "323 "
       ]
      },
      {
       "output_type": "stream",
       "stream": "stdout",
       "text": [
        "324 "
       ]
      },
      {
       "output_type": "stream",
       "stream": "stdout",
       "text": [
        "325 "
       ]
      },
      {
       "output_type": "stream",
       "stream": "stdout",
       "text": [
        "326 "
       ]
      },
      {
       "output_type": "stream",
       "stream": "stdout",
       "text": [
        "327 "
       ]
      },
      {
       "output_type": "stream",
       "stream": "stdout",
       "text": [
        "328 "
       ]
      },
      {
       "output_type": "stream",
       "stream": "stdout",
       "text": [
        "329 "
       ]
      },
      {
       "output_type": "stream",
       "stream": "stdout",
       "text": [
        "330 "
       ]
      },
      {
       "output_type": "stream",
       "stream": "stdout",
       "text": [
        "331 "
       ]
      },
      {
       "output_type": "stream",
       "stream": "stdout",
       "text": [
        "332 "
       ]
      },
      {
       "output_type": "stream",
       "stream": "stdout",
       "text": [
        "333 "
       ]
      },
      {
       "output_type": "stream",
       "stream": "stdout",
       "text": [
        "334 "
       ]
      },
      {
       "output_type": "stream",
       "stream": "stdout",
       "text": [
        "335 "
       ]
      },
      {
       "output_type": "stream",
       "stream": "stdout",
       "text": [
        "336 "
       ]
      },
      {
       "output_type": "stream",
       "stream": "stdout",
       "text": [
        "337 "
       ]
      },
      {
       "output_type": "stream",
       "stream": "stdout",
       "text": [
        "338 "
       ]
      },
      {
       "output_type": "stream",
       "stream": "stdout",
       "text": [
        "339 "
       ]
      },
      {
       "output_type": "stream",
       "stream": "stdout",
       "text": [
        "340 "
       ]
      },
      {
       "output_type": "stream",
       "stream": "stdout",
       "text": [
        "341 "
       ]
      },
      {
       "output_type": "stream",
       "stream": "stdout",
       "text": [
        "342 "
       ]
      },
      {
       "output_type": "stream",
       "stream": "stdout",
       "text": [
        "343 "
       ]
      },
      {
       "output_type": "stream",
       "stream": "stdout",
       "text": [
        "344 "
       ]
      },
      {
       "output_type": "stream",
       "stream": "stdout",
       "text": [
        "345 "
       ]
      },
      {
       "output_type": "stream",
       "stream": "stdout",
       "text": [
        "346 "
       ]
      },
      {
       "output_type": "stream",
       "stream": "stdout",
       "text": [
        "347 "
       ]
      },
      {
       "output_type": "stream",
       "stream": "stdout",
       "text": [
        "348 "
       ]
      },
      {
       "output_type": "stream",
       "stream": "stdout",
       "text": [
        "349 "
       ]
      },
      {
       "output_type": "stream",
       "stream": "stdout",
       "text": [
        "350 "
       ]
      },
      {
       "output_type": "stream",
       "stream": "stdout",
       "text": [
        "351 "
       ]
      },
      {
       "output_type": "stream",
       "stream": "stdout",
       "text": [
        "352 "
       ]
      },
      {
       "output_type": "stream",
       "stream": "stdout",
       "text": [
        "353 "
       ]
      },
      {
       "output_type": "stream",
       "stream": "stdout",
       "text": [
        "354 "
       ]
      },
      {
       "output_type": "stream",
       "stream": "stdout",
       "text": [
        "355 "
       ]
      },
      {
       "output_type": "stream",
       "stream": "stdout",
       "text": [
        "356 "
       ]
      },
      {
       "output_type": "stream",
       "stream": "stdout",
       "text": [
        "357 "
       ]
      },
      {
       "output_type": "stream",
       "stream": "stdout",
       "text": [
        "358 "
       ]
      },
      {
       "output_type": "stream",
       "stream": "stdout",
       "text": [
        "359 "
       ]
      },
      {
       "output_type": "stream",
       "stream": "stdout",
       "text": [
        "360 "
       ]
      },
      {
       "output_type": "stream",
       "stream": "stdout",
       "text": [
        "361 "
       ]
      },
      {
       "output_type": "stream",
       "stream": "stdout",
       "text": [
        "362 "
       ]
      },
      {
       "output_type": "stream",
       "stream": "stdout",
       "text": [
        "363 "
       ]
      },
      {
       "output_type": "stream",
       "stream": "stdout",
       "text": [
        "364 "
       ]
      },
      {
       "output_type": "stream",
       "stream": "stdout",
       "text": [
        "365 "
       ]
      },
      {
       "output_type": "stream",
       "stream": "stdout",
       "text": [
        "366 "
       ]
      },
      {
       "output_type": "stream",
       "stream": "stdout",
       "text": [
        "367 "
       ]
      },
      {
       "output_type": "stream",
       "stream": "stdout",
       "text": [
        "368 "
       ]
      },
      {
       "output_type": "stream",
       "stream": "stdout",
       "text": [
        "369 "
       ]
      },
      {
       "output_type": "stream",
       "stream": "stdout",
       "text": [
        "370 "
       ]
      },
      {
       "output_type": "stream",
       "stream": "stdout",
       "text": [
        "371 "
       ]
      },
      {
       "output_type": "stream",
       "stream": "stdout",
       "text": [
        "372 "
       ]
      },
      {
       "output_type": "stream",
       "stream": "stdout",
       "text": [
        "373 "
       ]
      },
      {
       "output_type": "stream",
       "stream": "stdout",
       "text": [
        "374 "
       ]
      },
      {
       "output_type": "stream",
       "stream": "stdout",
       "text": [
        "375 "
       ]
      },
      {
       "output_type": "stream",
       "stream": "stdout",
       "text": [
        "376 "
       ]
      },
      {
       "output_type": "stream",
       "stream": "stdout",
       "text": [
        "377 "
       ]
      },
      {
       "output_type": "stream",
       "stream": "stdout",
       "text": [
        "378 "
       ]
      },
      {
       "output_type": "stream",
       "stream": "stdout",
       "text": [
        "379 "
       ]
      },
      {
       "output_type": "stream",
       "stream": "stdout",
       "text": [
        "380 "
       ]
      },
      {
       "output_type": "stream",
       "stream": "stdout",
       "text": [
        "381 "
       ]
      },
      {
       "output_type": "stream",
       "stream": "stdout",
       "text": [
        "382 "
       ]
      },
      {
       "output_type": "stream",
       "stream": "stdout",
       "text": [
        "383 "
       ]
      },
      {
       "output_type": "stream",
       "stream": "stdout",
       "text": [
        "384 "
       ]
      },
      {
       "output_type": "stream",
       "stream": "stdout",
       "text": [
        "385 "
       ]
      },
      {
       "output_type": "stream",
       "stream": "stdout",
       "text": [
        "386 "
       ]
      },
      {
       "output_type": "stream",
       "stream": "stdout",
       "text": [
        "387 "
       ]
      },
      {
       "output_type": "stream",
       "stream": "stdout",
       "text": [
        "388 "
       ]
      },
      {
       "output_type": "stream",
       "stream": "stdout",
       "text": [
        "389 "
       ]
      },
      {
       "output_type": "stream",
       "stream": "stdout",
       "text": [
        "390 "
       ]
      },
      {
       "output_type": "stream",
       "stream": "stdout",
       "text": [
        "391 "
       ]
      },
      {
       "output_type": "stream",
       "stream": "stdout",
       "text": [
        "392 "
       ]
      },
      {
       "output_type": "stream",
       "stream": "stdout",
       "text": [
        "393 "
       ]
      },
      {
       "output_type": "stream",
       "stream": "stdout",
       "text": [
        "394 "
       ]
      },
      {
       "output_type": "stream",
       "stream": "stdout",
       "text": [
        "395 "
       ]
      },
      {
       "output_type": "stream",
       "stream": "stdout",
       "text": [
        "396 "
       ]
      },
      {
       "output_type": "stream",
       "stream": "stdout",
       "text": [
        "397 "
       ]
      },
      {
       "output_type": "stream",
       "stream": "stdout",
       "text": [
        "398 "
       ]
      },
      {
       "output_type": "stream",
       "stream": "stdout",
       "text": [
        "399 "
       ]
      },
      {
       "output_type": "stream",
       "stream": "stdout",
       "text": [
        "400 "
       ]
      },
      {
       "output_type": "stream",
       "stream": "stdout",
       "text": [
        "401 "
       ]
      },
      {
       "output_type": "stream",
       "stream": "stdout",
       "text": [
        "402 "
       ]
      },
      {
       "output_type": "stream",
       "stream": "stdout",
       "text": [
        "403 "
       ]
      },
      {
       "output_type": "stream",
       "stream": "stdout",
       "text": [
        "404 "
       ]
      },
      {
       "output_type": "stream",
       "stream": "stdout",
       "text": [
        "405 "
       ]
      },
      {
       "output_type": "stream",
       "stream": "stdout",
       "text": [
        "406 "
       ]
      },
      {
       "output_type": "stream",
       "stream": "stdout",
       "text": [
        "407 "
       ]
      },
      {
       "output_type": "stream",
       "stream": "stdout",
       "text": [
        "408 "
       ]
      },
      {
       "output_type": "stream",
       "stream": "stdout",
       "text": [
        "409 "
       ]
      },
      {
       "output_type": "stream",
       "stream": "stdout",
       "text": [
        "410 "
       ]
      },
      {
       "output_type": "stream",
       "stream": "stdout",
       "text": [
        "411 "
       ]
      },
      {
       "output_type": "stream",
       "stream": "stdout",
       "text": [
        "412 "
       ]
      },
      {
       "output_type": "stream",
       "stream": "stdout",
       "text": [
        "413 "
       ]
      },
      {
       "output_type": "stream",
       "stream": "stdout",
       "text": [
        "414 "
       ]
      },
      {
       "output_type": "stream",
       "stream": "stdout",
       "text": [
        "415 "
       ]
      },
      {
       "output_type": "stream",
       "stream": "stdout",
       "text": [
        "416 "
       ]
      },
      {
       "output_type": "stream",
       "stream": "stdout",
       "text": [
        "417 "
       ]
      },
      {
       "output_type": "stream",
       "stream": "stdout",
       "text": [
        "418 "
       ]
      },
      {
       "output_type": "stream",
       "stream": "stdout",
       "text": [
        "419 "
       ]
      },
      {
       "output_type": "stream",
       "stream": "stdout",
       "text": [
        "420 "
       ]
      },
      {
       "output_type": "stream",
       "stream": "stdout",
       "text": [
        "421 "
       ]
      },
      {
       "output_type": "stream",
       "stream": "stdout",
       "text": [
        "422 "
       ]
      },
      {
       "output_type": "stream",
       "stream": "stdout",
       "text": [
        "423 "
       ]
      },
      {
       "output_type": "stream",
       "stream": "stdout",
       "text": [
        "424 "
       ]
      },
      {
       "output_type": "stream",
       "stream": "stdout",
       "text": [
        "425 "
       ]
      },
      {
       "output_type": "stream",
       "stream": "stdout",
       "text": [
        "426 "
       ]
      },
      {
       "output_type": "stream",
       "stream": "stdout",
       "text": [
        "427 "
       ]
      },
      {
       "output_type": "stream",
       "stream": "stdout",
       "text": [
        "428 "
       ]
      },
      {
       "output_type": "stream",
       "stream": "stdout",
       "text": [
        "429 "
       ]
      },
      {
       "output_type": "stream",
       "stream": "stdout",
       "text": [
        "430 "
       ]
      },
      {
       "output_type": "stream",
       "stream": "stdout",
       "text": [
        "431 "
       ]
      },
      {
       "output_type": "stream",
       "stream": "stdout",
       "text": [
        "432 "
       ]
      },
      {
       "output_type": "stream",
       "stream": "stdout",
       "text": [
        "433 "
       ]
      },
      {
       "output_type": "stream",
       "stream": "stdout",
       "text": [
        "434 "
       ]
      },
      {
       "output_type": "stream",
       "stream": "stdout",
       "text": [
        "435 "
       ]
      },
      {
       "output_type": "stream",
       "stream": "stdout",
       "text": [
        "436 "
       ]
      },
      {
       "output_type": "stream",
       "stream": "stdout",
       "text": [
        "437 "
       ]
      },
      {
       "output_type": "stream",
       "stream": "stdout",
       "text": [
        "438 "
       ]
      },
      {
       "output_type": "stream",
       "stream": "stdout",
       "text": [
        "439 "
       ]
      },
      {
       "output_type": "stream",
       "stream": "stdout",
       "text": [
        "440 "
       ]
      },
      {
       "output_type": "stream",
       "stream": "stdout",
       "text": [
        "441 "
       ]
      },
      {
       "output_type": "stream",
       "stream": "stdout",
       "text": [
        "442 "
       ]
      },
      {
       "output_type": "stream",
       "stream": "stdout",
       "text": [
        "443 "
       ]
      },
      {
       "output_type": "stream",
       "stream": "stdout",
       "text": [
        "444 "
       ]
      },
      {
       "output_type": "stream",
       "stream": "stdout",
       "text": [
        "445 "
       ]
      },
      {
       "output_type": "stream",
       "stream": "stdout",
       "text": [
        "446 "
       ]
      },
      {
       "output_type": "stream",
       "stream": "stdout",
       "text": [
        "447 "
       ]
      },
      {
       "output_type": "stream",
       "stream": "stdout",
       "text": [
        "448 "
       ]
      },
      {
       "output_type": "stream",
       "stream": "stdout",
       "text": [
        "449 "
       ]
      },
      {
       "output_type": "stream",
       "stream": "stdout",
       "text": [
        "450 "
       ]
      },
      {
       "output_type": "stream",
       "stream": "stdout",
       "text": [
        "451 "
       ]
      },
      {
       "output_type": "stream",
       "stream": "stdout",
       "text": [
        "452 "
       ]
      },
      {
       "output_type": "stream",
       "stream": "stdout",
       "text": [
        "453 "
       ]
      },
      {
       "output_type": "stream",
       "stream": "stdout",
       "text": [
        "454 "
       ]
      },
      {
       "output_type": "stream",
       "stream": "stdout",
       "text": [
        "455 "
       ]
      },
      {
       "output_type": "stream",
       "stream": "stdout",
       "text": [
        "456 "
       ]
      },
      {
       "output_type": "stream",
       "stream": "stdout",
       "text": [
        "457 "
       ]
      },
      {
       "output_type": "stream",
       "stream": "stdout",
       "text": [
        "458 "
       ]
      },
      {
       "output_type": "stream",
       "stream": "stdout",
       "text": [
        "459 "
       ]
      },
      {
       "output_type": "stream",
       "stream": "stdout",
       "text": [
        "460 "
       ]
      },
      {
       "output_type": "stream",
       "stream": "stdout",
       "text": [
        "461 "
       ]
      },
      {
       "output_type": "stream",
       "stream": "stdout",
       "text": [
        "462 "
       ]
      },
      {
       "output_type": "stream",
       "stream": "stdout",
       "text": [
        "463 "
       ]
      },
      {
       "output_type": "stream",
       "stream": "stdout",
       "text": [
        "464 "
       ]
      },
      {
       "output_type": "stream",
       "stream": "stdout",
       "text": [
        "465 "
       ]
      },
      {
       "output_type": "stream",
       "stream": "stdout",
       "text": [
        "466 "
       ]
      },
      {
       "output_type": "stream",
       "stream": "stdout",
       "text": [
        "467 "
       ]
      },
      {
       "output_type": "stream",
       "stream": "stdout",
       "text": [
        "468 "
       ]
      },
      {
       "output_type": "stream",
       "stream": "stdout",
       "text": [
        "469 "
       ]
      },
      {
       "output_type": "stream",
       "stream": "stdout",
       "text": [
        "470 "
       ]
      },
      {
       "output_type": "stream",
       "stream": "stdout",
       "text": [
        "471 "
       ]
      },
      {
       "output_type": "stream",
       "stream": "stdout",
       "text": [
        "472 "
       ]
      },
      {
       "output_type": "stream",
       "stream": "stdout",
       "text": [
        "473 "
       ]
      },
      {
       "output_type": "stream",
       "stream": "stdout",
       "text": [
        "474 "
       ]
      },
      {
       "output_type": "stream",
       "stream": "stdout",
       "text": [
        "475 "
       ]
      },
      {
       "output_type": "stream",
       "stream": "stdout",
       "text": [
        "476 "
       ]
      },
      {
       "output_type": "stream",
       "stream": "stdout",
       "text": [
        "477 "
       ]
      },
      {
       "output_type": "stream",
       "stream": "stdout",
       "text": [
        "478 "
       ]
      },
      {
       "output_type": "stream",
       "stream": "stdout",
       "text": [
        "479 "
       ]
      },
      {
       "output_type": "stream",
       "stream": "stdout",
       "text": [
        "480 "
       ]
      },
      {
       "output_type": "stream",
       "stream": "stdout",
       "text": [
        "481 "
       ]
      },
      {
       "output_type": "stream",
       "stream": "stdout",
       "text": [
        "482 "
       ]
      },
      {
       "output_type": "stream",
       "stream": "stdout",
       "text": [
        "483 "
       ]
      },
      {
       "output_type": "stream",
       "stream": "stdout",
       "text": [
        "484 "
       ]
      },
      {
       "output_type": "stream",
       "stream": "stdout",
       "text": [
        "485 "
       ]
      },
      {
       "output_type": "stream",
       "stream": "stdout",
       "text": [
        "486 "
       ]
      },
      {
       "output_type": "stream",
       "stream": "stdout",
       "text": [
        "487 "
       ]
      },
      {
       "output_type": "stream",
       "stream": "stdout",
       "text": [
        "488 "
       ]
      },
      {
       "output_type": "stream",
       "stream": "stdout",
       "text": [
        "489 "
       ]
      },
      {
       "output_type": "stream",
       "stream": "stdout",
       "text": [
        "490 "
       ]
      },
      {
       "output_type": "stream",
       "stream": "stdout",
       "text": [
        "491 "
       ]
      },
      {
       "output_type": "stream",
       "stream": "stdout",
       "text": [
        "492 "
       ]
      },
      {
       "output_type": "stream",
       "stream": "stdout",
       "text": [
        "493 "
       ]
      },
      {
       "output_type": "stream",
       "stream": "stdout",
       "text": [
        "494 "
       ]
      },
      {
       "output_type": "stream",
       "stream": "stdout",
       "text": [
        "495 "
       ]
      },
      {
       "output_type": "stream",
       "stream": "stdout",
       "text": [
        "496 "
       ]
      },
      {
       "output_type": "stream",
       "stream": "stdout",
       "text": [
        "497 "
       ]
      },
      {
       "output_type": "stream",
       "stream": "stdout",
       "text": [
        "498 "
       ]
      },
      {
       "output_type": "stream",
       "stream": "stdout",
       "text": [
        "499 "
       ]
      },
      {
       "output_type": "stream",
       "stream": "stdout",
       "text": [
        "500 "
       ]
      },
      {
       "output_type": "stream",
       "stream": "stdout",
       "text": [
        "501 "
       ]
      },
      {
       "output_type": "stream",
       "stream": "stdout",
       "text": [
        "502 "
       ]
      },
      {
       "output_type": "stream",
       "stream": "stdout",
       "text": [
        "503 "
       ]
      },
      {
       "output_type": "stream",
       "stream": "stdout",
       "text": [
        "504 "
       ]
      },
      {
       "output_type": "stream",
       "stream": "stdout",
       "text": [
        "505 "
       ]
      },
      {
       "output_type": "stream",
       "stream": "stdout",
       "text": [
        "506 "
       ]
      },
      {
       "output_type": "stream",
       "stream": "stdout",
       "text": [
        "507 "
       ]
      },
      {
       "output_type": "stream",
       "stream": "stdout",
       "text": [
        "508 "
       ]
      },
      {
       "output_type": "stream",
       "stream": "stdout",
       "text": [
        "509 "
       ]
      },
      {
       "output_type": "stream",
       "stream": "stdout",
       "text": [
        "510 "
       ]
      },
      {
       "output_type": "stream",
       "stream": "stdout",
       "text": [
        "511 "
       ]
      },
      {
       "output_type": "stream",
       "stream": "stdout",
       "text": [
        "512 "
       ]
      },
      {
       "output_type": "stream",
       "stream": "stdout",
       "text": [
        "513 "
       ]
      },
      {
       "output_type": "stream",
       "stream": "stdout",
       "text": [
        "514 "
       ]
      },
      {
       "output_type": "stream",
       "stream": "stdout",
       "text": [
        "515 "
       ]
      },
      {
       "output_type": "stream",
       "stream": "stdout",
       "text": [
        "516 "
       ]
      },
      {
       "output_type": "stream",
       "stream": "stdout",
       "text": [
        "517 "
       ]
      },
      {
       "output_type": "stream",
       "stream": "stdout",
       "text": [
        "518 "
       ]
      },
      {
       "output_type": "stream",
       "stream": "stdout",
       "text": [
        "519 "
       ]
      },
      {
       "output_type": "stream",
       "stream": "stdout",
       "text": [
        "520 "
       ]
      },
      {
       "output_type": "stream",
       "stream": "stdout",
       "text": [
        "521 "
       ]
      },
      {
       "output_type": "stream",
       "stream": "stdout",
       "text": [
        "522 "
       ]
      },
      {
       "output_type": "stream",
       "stream": "stdout",
       "text": [
        "523 "
       ]
      },
      {
       "output_type": "stream",
       "stream": "stdout",
       "text": [
        "524 "
       ]
      },
      {
       "output_type": "stream",
       "stream": "stdout",
       "text": [
        "525 "
       ]
      },
      {
       "output_type": "stream",
       "stream": "stdout",
       "text": [
        "526 "
       ]
      },
      {
       "output_type": "stream",
       "stream": "stdout",
       "text": [
        "527 "
       ]
      },
      {
       "output_type": "stream",
       "stream": "stdout",
       "text": [
        "528 "
       ]
      },
      {
       "output_type": "stream",
       "stream": "stdout",
       "text": [
        "529 "
       ]
      },
      {
       "output_type": "stream",
       "stream": "stdout",
       "text": [
        "530 "
       ]
      },
      {
       "output_type": "stream",
       "stream": "stdout",
       "text": [
        "531 "
       ]
      },
      {
       "output_type": "stream",
       "stream": "stdout",
       "text": [
        "532 "
       ]
      },
      {
       "output_type": "stream",
       "stream": "stdout",
       "text": [
        "533 "
       ]
      },
      {
       "output_type": "stream",
       "stream": "stdout",
       "text": [
        "534 "
       ]
      },
      {
       "output_type": "stream",
       "stream": "stdout",
       "text": [
        "535 "
       ]
      },
      {
       "output_type": "stream",
       "stream": "stdout",
       "text": [
        "536 "
       ]
      },
      {
       "output_type": "stream",
       "stream": "stdout",
       "text": [
        "537 "
       ]
      },
      {
       "output_type": "stream",
       "stream": "stdout",
       "text": [
        "538 "
       ]
      },
      {
       "output_type": "stream",
       "stream": "stdout",
       "text": [
        "539 "
       ]
      },
      {
       "output_type": "stream",
       "stream": "stdout",
       "text": [
        "540 "
       ]
      },
      {
       "output_type": "stream",
       "stream": "stdout",
       "text": [
        "541 "
       ]
      },
      {
       "output_type": "stream",
       "stream": "stdout",
       "text": [
        "542 "
       ]
      },
      {
       "output_type": "stream",
       "stream": "stdout",
       "text": [
        "543 "
       ]
      },
      {
       "output_type": "stream",
       "stream": "stdout",
       "text": [
        "544 "
       ]
      },
      {
       "output_type": "stream",
       "stream": "stdout",
       "text": [
        "545 "
       ]
      },
      {
       "output_type": "stream",
       "stream": "stdout",
       "text": [
        "546 "
       ]
      },
      {
       "output_type": "stream",
       "stream": "stdout",
       "text": [
        "547 "
       ]
      },
      {
       "output_type": "stream",
       "stream": "stdout",
       "text": [
        "548 "
       ]
      },
      {
       "output_type": "stream",
       "stream": "stdout",
       "text": [
        "549 "
       ]
      },
      {
       "output_type": "stream",
       "stream": "stdout",
       "text": [
        "550 "
       ]
      },
      {
       "output_type": "stream",
       "stream": "stdout",
       "text": [
        "551 "
       ]
      },
      {
       "output_type": "stream",
       "stream": "stdout",
       "text": [
        "552 "
       ]
      },
      {
       "output_type": "stream",
       "stream": "stdout",
       "text": [
        "553 "
       ]
      },
      {
       "output_type": "stream",
       "stream": "stdout",
       "text": [
        "554 "
       ]
      },
      {
       "output_type": "stream",
       "stream": "stdout",
       "text": [
        "555 "
       ]
      },
      {
       "output_type": "stream",
       "stream": "stdout",
       "text": [
        "556 "
       ]
      },
      {
       "output_type": "stream",
       "stream": "stdout",
       "text": [
        "557 "
       ]
      },
      {
       "output_type": "stream",
       "stream": "stdout",
       "text": [
        "558 "
       ]
      },
      {
       "output_type": "stream",
       "stream": "stdout",
       "text": [
        "559 "
       ]
      },
      {
       "output_type": "stream",
       "stream": "stdout",
       "text": [
        "560 "
       ]
      },
      {
       "output_type": "stream",
       "stream": "stdout",
       "text": [
        "561 "
       ]
      },
      {
       "output_type": "stream",
       "stream": "stdout",
       "text": [
        "562 "
       ]
      },
      {
       "output_type": "stream",
       "stream": "stdout",
       "text": [
        "563 "
       ]
      },
      {
       "output_type": "stream",
       "stream": "stdout",
       "text": [
        "564 "
       ]
      },
      {
       "output_type": "stream",
       "stream": "stdout",
       "text": [
        "565 "
       ]
      },
      {
       "output_type": "stream",
       "stream": "stdout",
       "text": [
        "566 "
       ]
      },
      {
       "output_type": "stream",
       "stream": "stdout",
       "text": [
        "567 "
       ]
      },
      {
       "output_type": "stream",
       "stream": "stdout",
       "text": [
        "568 "
       ]
      },
      {
       "output_type": "stream",
       "stream": "stdout",
       "text": [
        "569 "
       ]
      },
      {
       "output_type": "stream",
       "stream": "stdout",
       "text": [
        "570 "
       ]
      },
      {
       "output_type": "stream",
       "stream": "stdout",
       "text": [
        "571 "
       ]
      },
      {
       "output_type": "stream",
       "stream": "stdout",
       "text": [
        "572 "
       ]
      },
      {
       "output_type": "stream",
       "stream": "stdout",
       "text": [
        "573 "
       ]
      },
      {
       "output_type": "stream",
       "stream": "stdout",
       "text": [
        "574 "
       ]
      },
      {
       "output_type": "stream",
       "stream": "stdout",
       "text": [
        "575 "
       ]
      },
      {
       "output_type": "stream",
       "stream": "stdout",
       "text": [
        "576 "
       ]
      },
      {
       "output_type": "stream",
       "stream": "stdout",
       "text": [
        "577 "
       ]
      },
      {
       "output_type": "stream",
       "stream": "stdout",
       "text": [
        "578 "
       ]
      },
      {
       "output_type": "stream",
       "stream": "stdout",
       "text": [
        "579 "
       ]
      },
      {
       "output_type": "stream",
       "stream": "stdout",
       "text": [
        "580 "
       ]
      },
      {
       "output_type": "stream",
       "stream": "stdout",
       "text": [
        "581 "
       ]
      },
      {
       "output_type": "stream",
       "stream": "stdout",
       "text": [
        "582 "
       ]
      },
      {
       "output_type": "stream",
       "stream": "stdout",
       "text": [
        "583 "
       ]
      },
      {
       "output_type": "stream",
       "stream": "stdout",
       "text": [
        "584 "
       ]
      },
      {
       "output_type": "stream",
       "stream": "stdout",
       "text": [
        "585 "
       ]
      },
      {
       "output_type": "stream",
       "stream": "stdout",
       "text": [
        "586 "
       ]
      },
      {
       "output_type": "stream",
       "stream": "stdout",
       "text": [
        "587 "
       ]
      },
      {
       "output_type": "stream",
       "stream": "stdout",
       "text": [
        "588 "
       ]
      },
      {
       "output_type": "stream",
       "stream": "stdout",
       "text": [
        "589 "
       ]
      },
      {
       "output_type": "stream",
       "stream": "stdout",
       "text": [
        "590 "
       ]
      },
      {
       "output_type": "stream",
       "stream": "stdout",
       "text": [
        "591 "
       ]
      },
      {
       "output_type": "stream",
       "stream": "stdout",
       "text": [
        "592 "
       ]
      },
      {
       "output_type": "stream",
       "stream": "stdout",
       "text": [
        "593 "
       ]
      },
      {
       "output_type": "stream",
       "stream": "stdout",
       "text": [
        "594 "
       ]
      },
      {
       "output_type": "stream",
       "stream": "stdout",
       "text": [
        "595 "
       ]
      },
      {
       "output_type": "stream",
       "stream": "stdout",
       "text": [
        "596 "
       ]
      },
      {
       "output_type": "stream",
       "stream": "stdout",
       "text": [
        "597 "
       ]
      },
      {
       "output_type": "stream",
       "stream": "stdout",
       "text": [
        "598 "
       ]
      },
      {
       "output_type": "stream",
       "stream": "stdout",
       "text": [
        "599 "
       ]
      },
      {
       "output_type": "stream",
       "stream": "stdout",
       "text": [
        "600 "
       ]
      },
      {
       "output_type": "stream",
       "stream": "stdout",
       "text": [
        "601 "
       ]
      },
      {
       "output_type": "stream",
       "stream": "stdout",
       "text": [
        "602 "
       ]
      },
      {
       "output_type": "stream",
       "stream": "stdout",
       "text": [
        "603 "
       ]
      },
      {
       "output_type": "stream",
       "stream": "stdout",
       "text": [
        "604 "
       ]
      },
      {
       "output_type": "stream",
       "stream": "stdout",
       "text": [
        "605 "
       ]
      },
      {
       "output_type": "stream",
       "stream": "stdout",
       "text": [
        "606 "
       ]
      },
      {
       "output_type": "stream",
       "stream": "stdout",
       "text": [
        "607 "
       ]
      },
      {
       "output_type": "stream",
       "stream": "stdout",
       "text": [
        "608 "
       ]
      },
      {
       "output_type": "stream",
       "stream": "stdout",
       "text": [
        "609 "
       ]
      },
      {
       "output_type": "stream",
       "stream": "stdout",
       "text": [
        "610 "
       ]
      },
      {
       "output_type": "stream",
       "stream": "stdout",
       "text": [
        "611 "
       ]
      },
      {
       "output_type": "stream",
       "stream": "stdout",
       "text": [
        "612 "
       ]
      },
      {
       "output_type": "stream",
       "stream": "stdout",
       "text": [
        "613 "
       ]
      },
      {
       "output_type": "stream",
       "stream": "stdout",
       "text": [
        "614 "
       ]
      },
      {
       "output_type": "stream",
       "stream": "stdout",
       "text": [
        "615 "
       ]
      },
      {
       "output_type": "stream",
       "stream": "stdout",
       "text": [
        "616 "
       ]
      },
      {
       "output_type": "stream",
       "stream": "stdout",
       "text": [
        "617 "
       ]
      },
      {
       "output_type": "stream",
       "stream": "stdout",
       "text": [
        "618 "
       ]
      },
      {
       "output_type": "stream",
       "stream": "stdout",
       "text": [
        "619 "
       ]
      },
      {
       "output_type": "stream",
       "stream": "stdout",
       "text": [
        "620 "
       ]
      },
      {
       "output_type": "stream",
       "stream": "stdout",
       "text": [
        "621 "
       ]
      },
      {
       "output_type": "stream",
       "stream": "stdout",
       "text": [
        "622 "
       ]
      },
      {
       "output_type": "stream",
       "stream": "stdout",
       "text": [
        "623 "
       ]
      },
      {
       "output_type": "stream",
       "stream": "stdout",
       "text": [
        "624 "
       ]
      },
      {
       "output_type": "stream",
       "stream": "stdout",
       "text": [
        "625 "
       ]
      },
      {
       "output_type": "stream",
       "stream": "stdout",
       "text": [
        "626 "
       ]
      },
      {
       "output_type": "stream",
       "stream": "stdout",
       "text": [
        "627 "
       ]
      },
      {
       "output_type": "stream",
       "stream": "stdout",
       "text": [
        "628 "
       ]
      },
      {
       "output_type": "stream",
       "stream": "stdout",
       "text": [
        "629 "
       ]
      },
      {
       "output_type": "stream",
       "stream": "stdout",
       "text": [
        "630 "
       ]
      },
      {
       "output_type": "stream",
       "stream": "stdout",
       "text": [
        "631 "
       ]
      },
      {
       "output_type": "stream",
       "stream": "stdout",
       "text": [
        "632 "
       ]
      },
      {
       "output_type": "stream",
       "stream": "stdout",
       "text": [
        "633 "
       ]
      },
      {
       "output_type": "stream",
       "stream": "stdout",
       "text": [
        "634 "
       ]
      },
      {
       "output_type": "stream",
       "stream": "stdout",
       "text": [
        "635 "
       ]
      },
      {
       "output_type": "stream",
       "stream": "stdout",
       "text": [
        "636 "
       ]
      },
      {
       "output_type": "stream",
       "stream": "stdout",
       "text": [
        "637 "
       ]
      },
      {
       "output_type": "stream",
       "stream": "stdout",
       "text": [
        "638 "
       ]
      },
      {
       "output_type": "stream",
       "stream": "stdout",
       "text": [
        "639 "
       ]
      },
      {
       "output_type": "stream",
       "stream": "stdout",
       "text": [
        "640 "
       ]
      },
      {
       "output_type": "stream",
       "stream": "stdout",
       "text": [
        "641 "
       ]
      },
      {
       "output_type": "stream",
       "stream": "stdout",
       "text": [
        "642 "
       ]
      },
      {
       "output_type": "stream",
       "stream": "stdout",
       "text": [
        "643 "
       ]
      },
      {
       "output_type": "stream",
       "stream": "stdout",
       "text": [
        "644 "
       ]
      },
      {
       "output_type": "stream",
       "stream": "stdout",
       "text": [
        "645 "
       ]
      },
      {
       "output_type": "stream",
       "stream": "stdout",
       "text": [
        "646 "
       ]
      },
      {
       "output_type": "stream",
       "stream": "stdout",
       "text": [
        "647 "
       ]
      },
      {
       "output_type": "stream",
       "stream": "stdout",
       "text": [
        "648 "
       ]
      },
      {
       "output_type": "stream",
       "stream": "stdout",
       "text": [
        "649 "
       ]
      },
      {
       "output_type": "stream",
       "stream": "stdout",
       "text": [
        "650 "
       ]
      },
      {
       "output_type": "stream",
       "stream": "stdout",
       "text": [
        "651 "
       ]
      },
      {
       "output_type": "stream",
       "stream": "stdout",
       "text": [
        "652 "
       ]
      },
      {
       "output_type": "stream",
       "stream": "stdout",
       "text": [
        "653 "
       ]
      },
      {
       "output_type": "stream",
       "stream": "stdout",
       "text": [
        "654 "
       ]
      },
      {
       "output_type": "stream",
       "stream": "stdout",
       "text": [
        "655 "
       ]
      },
      {
       "output_type": "stream",
       "stream": "stdout",
       "text": [
        "656 "
       ]
      },
      {
       "output_type": "stream",
       "stream": "stdout",
       "text": [
        "657 "
       ]
      },
      {
       "output_type": "stream",
       "stream": "stdout",
       "text": [
        "658 "
       ]
      },
      {
       "output_type": "stream",
       "stream": "stdout",
       "text": [
        "659 "
       ]
      },
      {
       "output_type": "stream",
       "stream": "stdout",
       "text": [
        "660 "
       ]
      },
      {
       "output_type": "stream",
       "stream": "stdout",
       "text": [
        "661 "
       ]
      },
      {
       "output_type": "stream",
       "stream": "stdout",
       "text": [
        "662 "
       ]
      },
      {
       "output_type": "stream",
       "stream": "stdout",
       "text": [
        "663 "
       ]
      },
      {
       "output_type": "stream",
       "stream": "stdout",
       "text": [
        "664 "
       ]
      },
      {
       "output_type": "stream",
       "stream": "stdout",
       "text": [
        "665 "
       ]
      },
      {
       "output_type": "stream",
       "stream": "stdout",
       "text": [
        "666 "
       ]
      },
      {
       "output_type": "stream",
       "stream": "stdout",
       "text": [
        "667 "
       ]
      },
      {
       "output_type": "stream",
       "stream": "stdout",
       "text": [
        "668 "
       ]
      },
      {
       "output_type": "stream",
       "stream": "stdout",
       "text": [
        "669 "
       ]
      },
      {
       "output_type": "stream",
       "stream": "stdout",
       "text": [
        "670 "
       ]
      },
      {
       "output_type": "stream",
       "stream": "stdout",
       "text": [
        "671 "
       ]
      },
      {
       "output_type": "stream",
       "stream": "stdout",
       "text": [
        "672 "
       ]
      },
      {
       "output_type": "stream",
       "stream": "stdout",
       "text": [
        "673 "
       ]
      },
      {
       "output_type": "stream",
       "stream": "stdout",
       "text": [
        "674 "
       ]
      },
      {
       "output_type": "stream",
       "stream": "stdout",
       "text": [
        "675 "
       ]
      },
      {
       "output_type": "stream",
       "stream": "stdout",
       "text": [
        "676 "
       ]
      },
      {
       "output_type": "stream",
       "stream": "stdout",
       "text": [
        "677 "
       ]
      },
      {
       "output_type": "stream",
       "stream": "stdout",
       "text": [
        "678 "
       ]
      },
      {
       "output_type": "stream",
       "stream": "stdout",
       "text": [
        "679 "
       ]
      },
      {
       "output_type": "stream",
       "stream": "stdout",
       "text": [
        "680 "
       ]
      },
      {
       "output_type": "stream",
       "stream": "stdout",
       "text": [
        "681 "
       ]
      },
      {
       "output_type": "stream",
       "stream": "stdout",
       "text": [
        "682 "
       ]
      },
      {
       "output_type": "stream",
       "stream": "stdout",
       "text": [
        "683 "
       ]
      },
      {
       "output_type": "stream",
       "stream": "stdout",
       "text": [
        "684 "
       ]
      },
      {
       "output_type": "stream",
       "stream": "stdout",
       "text": [
        "685 "
       ]
      },
      {
       "output_type": "stream",
       "stream": "stdout",
       "text": [
        "686 "
       ]
      },
      {
       "output_type": "stream",
       "stream": "stdout",
       "text": [
        "687 "
       ]
      },
      {
       "output_type": "stream",
       "stream": "stdout",
       "text": [
        "688 "
       ]
      },
      {
       "output_type": "stream",
       "stream": "stdout",
       "text": [
        "689 "
       ]
      },
      {
       "output_type": "stream",
       "stream": "stdout",
       "text": [
        "690 "
       ]
      },
      {
       "output_type": "stream",
       "stream": "stdout",
       "text": [
        "691 "
       ]
      },
      {
       "output_type": "stream",
       "stream": "stdout",
       "text": [
        "692 "
       ]
      },
      {
       "output_type": "stream",
       "stream": "stdout",
       "text": [
        "693 "
       ]
      },
      {
       "output_type": "stream",
       "stream": "stdout",
       "text": [
        "694 "
       ]
      },
      {
       "output_type": "stream",
       "stream": "stdout",
       "text": [
        "695 "
       ]
      },
      {
       "output_type": "stream",
       "stream": "stdout",
       "text": [
        "696 "
       ]
      },
      {
       "output_type": "stream",
       "stream": "stdout",
       "text": [
        "697 "
       ]
      },
      {
       "output_type": "stream",
       "stream": "stdout",
       "text": [
        "698 "
       ]
      },
      {
       "output_type": "stream",
       "stream": "stdout",
       "text": [
        "699 "
       ]
      },
      {
       "output_type": "stream",
       "stream": "stdout",
       "text": [
        "700 "
       ]
      },
      {
       "output_type": "stream",
       "stream": "stdout",
       "text": [
        "701 "
       ]
      },
      {
       "output_type": "stream",
       "stream": "stdout",
       "text": [
        "702 "
       ]
      },
      {
       "output_type": "stream",
       "stream": "stdout",
       "text": [
        "703 "
       ]
      },
      {
       "output_type": "stream",
       "stream": "stdout",
       "text": [
        "704 "
       ]
      },
      {
       "output_type": "stream",
       "stream": "stdout",
       "text": [
        "705 "
       ]
      },
      {
       "output_type": "stream",
       "stream": "stdout",
       "text": [
        "706 "
       ]
      },
      {
       "output_type": "stream",
       "stream": "stdout",
       "text": [
        "707 "
       ]
      },
      {
       "output_type": "stream",
       "stream": "stdout",
       "text": [
        "708 "
       ]
      },
      {
       "output_type": "stream",
       "stream": "stdout",
       "text": [
        "709 "
       ]
      },
      {
       "output_type": "stream",
       "stream": "stdout",
       "text": [
        "710 "
       ]
      },
      {
       "output_type": "stream",
       "stream": "stdout",
       "text": [
        "711 "
       ]
      },
      {
       "output_type": "stream",
       "stream": "stdout",
       "text": [
        "712 "
       ]
      },
      {
       "output_type": "stream",
       "stream": "stdout",
       "text": [
        "713 "
       ]
      },
      {
       "output_type": "stream",
       "stream": "stdout",
       "text": [
        "714 "
       ]
      },
      {
       "output_type": "stream",
       "stream": "stdout",
       "text": [
        "715 "
       ]
      },
      {
       "output_type": "stream",
       "stream": "stdout",
       "text": [
        "716 "
       ]
      },
      {
       "output_type": "stream",
       "stream": "stdout",
       "text": [
        "717 "
       ]
      },
      {
       "output_type": "stream",
       "stream": "stdout",
       "text": [
        "718 "
       ]
      },
      {
       "output_type": "stream",
       "stream": "stdout",
       "text": [
        "719 "
       ]
      },
      {
       "output_type": "stream",
       "stream": "stdout",
       "text": [
        "720 "
       ]
      },
      {
       "output_type": "stream",
       "stream": "stdout",
       "text": [
        "721 "
       ]
      },
      {
       "output_type": "stream",
       "stream": "stdout",
       "text": [
        "722 "
       ]
      },
      {
       "output_type": "stream",
       "stream": "stdout",
       "text": [
        "723 "
       ]
      },
      {
       "output_type": "stream",
       "stream": "stdout",
       "text": [
        "724 "
       ]
      },
      {
       "output_type": "stream",
       "stream": "stdout",
       "text": [
        "725 "
       ]
      },
      {
       "output_type": "stream",
       "stream": "stdout",
       "text": [
        "726 "
       ]
      },
      {
       "output_type": "stream",
       "stream": "stdout",
       "text": [
        "727 "
       ]
      },
      {
       "output_type": "stream",
       "stream": "stdout",
       "text": [
        "728 "
       ]
      },
      {
       "output_type": "stream",
       "stream": "stdout",
       "text": [
        "729 "
       ]
      },
      {
       "output_type": "stream",
       "stream": "stdout",
       "text": [
        "730 "
       ]
      },
      {
       "output_type": "stream",
       "stream": "stdout",
       "text": [
        "731 "
       ]
      },
      {
       "output_type": "stream",
       "stream": "stdout",
       "text": [
        "732 "
       ]
      },
      {
       "output_type": "stream",
       "stream": "stdout",
       "text": [
        "733 "
       ]
      },
      {
       "output_type": "stream",
       "stream": "stdout",
       "text": [
        "734 "
       ]
      },
      {
       "output_type": "stream",
       "stream": "stdout",
       "text": [
        "735 "
       ]
      },
      {
       "output_type": "stream",
       "stream": "stdout",
       "text": [
        "736 "
       ]
      },
      {
       "output_type": "stream",
       "stream": "stdout",
       "text": [
        "737 "
       ]
      },
      {
       "output_type": "stream",
       "stream": "stdout",
       "text": [
        "738 "
       ]
      },
      {
       "output_type": "stream",
       "stream": "stdout",
       "text": [
        "739 "
       ]
      },
      {
       "output_type": "stream",
       "stream": "stdout",
       "text": [
        "740 "
       ]
      },
      {
       "output_type": "stream",
       "stream": "stdout",
       "text": [
        "741 "
       ]
      },
      {
       "output_type": "stream",
       "stream": "stdout",
       "text": [
        "742 "
       ]
      },
      {
       "output_type": "stream",
       "stream": "stdout",
       "text": [
        "743 "
       ]
      },
      {
       "output_type": "stream",
       "stream": "stdout",
       "text": [
        "744 "
       ]
      },
      {
       "output_type": "stream",
       "stream": "stdout",
       "text": [
        "745 "
       ]
      },
      {
       "output_type": "stream",
       "stream": "stdout",
       "text": [
        "746 "
       ]
      },
      {
       "output_type": "stream",
       "stream": "stdout",
       "text": [
        "747 "
       ]
      },
      {
       "output_type": "stream",
       "stream": "stdout",
       "text": [
        "748 "
       ]
      },
      {
       "output_type": "stream",
       "stream": "stdout",
       "text": [
        "749 "
       ]
      },
      {
       "output_type": "stream",
       "stream": "stdout",
       "text": [
        "750 "
       ]
      },
      {
       "output_type": "stream",
       "stream": "stdout",
       "text": [
        "751 "
       ]
      },
      {
       "output_type": "stream",
       "stream": "stdout",
       "text": [
        "752 "
       ]
      },
      {
       "output_type": "stream",
       "stream": "stdout",
       "text": [
        "753 "
       ]
      },
      {
       "output_type": "stream",
       "stream": "stdout",
       "text": [
        "754 "
       ]
      },
      {
       "output_type": "stream",
       "stream": "stdout",
       "text": [
        "755 "
       ]
      },
      {
       "output_type": "stream",
       "stream": "stdout",
       "text": [
        "756 "
       ]
      },
      {
       "output_type": "stream",
       "stream": "stdout",
       "text": [
        "757 "
       ]
      },
      {
       "output_type": "stream",
       "stream": "stdout",
       "text": [
        "758 "
       ]
      },
      {
       "output_type": "stream",
       "stream": "stdout",
       "text": [
        "759 "
       ]
      },
      {
       "output_type": "stream",
       "stream": "stdout",
       "text": [
        "760 "
       ]
      },
      {
       "output_type": "stream",
       "stream": "stdout",
       "text": [
        "761 "
       ]
      },
      {
       "output_type": "stream",
       "stream": "stdout",
       "text": [
        "762 "
       ]
      },
      {
       "output_type": "stream",
       "stream": "stdout",
       "text": [
        "763 "
       ]
      },
      {
       "output_type": "stream",
       "stream": "stdout",
       "text": [
        "764 "
       ]
      },
      {
       "output_type": "stream",
       "stream": "stdout",
       "text": [
        "765 "
       ]
      },
      {
       "output_type": "stream",
       "stream": "stdout",
       "text": [
        "766 "
       ]
      },
      {
       "output_type": "stream",
       "stream": "stdout",
       "text": [
        "767 "
       ]
      },
      {
       "output_type": "stream",
       "stream": "stdout",
       "text": [
        "768 "
       ]
      },
      {
       "output_type": "stream",
       "stream": "stdout",
       "text": [
        "769 "
       ]
      },
      {
       "output_type": "stream",
       "stream": "stdout",
       "text": [
        "770 "
       ]
      },
      {
       "output_type": "stream",
       "stream": "stdout",
       "text": [
        "771 "
       ]
      },
      {
       "output_type": "stream",
       "stream": "stdout",
       "text": [
        "772 "
       ]
      },
      {
       "output_type": "stream",
       "stream": "stdout",
       "text": [
        "773 "
       ]
      },
      {
       "output_type": "stream",
       "stream": "stdout",
       "text": [
        "774 "
       ]
      },
      {
       "output_type": "stream",
       "stream": "stdout",
       "text": [
        "775 "
       ]
      },
      {
       "output_type": "stream",
       "stream": "stdout",
       "text": [
        "776 "
       ]
      },
      {
       "output_type": "stream",
       "stream": "stdout",
       "text": [
        "777 "
       ]
      },
      {
       "output_type": "stream",
       "stream": "stdout",
       "text": [
        "778 "
       ]
      },
      {
       "output_type": "stream",
       "stream": "stdout",
       "text": [
        "779 "
       ]
      },
      {
       "output_type": "stream",
       "stream": "stdout",
       "text": [
        "780 "
       ]
      },
      {
       "output_type": "stream",
       "stream": "stdout",
       "text": [
        "781 "
       ]
      },
      {
       "output_type": "stream",
       "stream": "stdout",
       "text": [
        "782 "
       ]
      },
      {
       "output_type": "stream",
       "stream": "stdout",
       "text": [
        "783 "
       ]
      },
      {
       "output_type": "stream",
       "stream": "stdout",
       "text": [
        "784 "
       ]
      },
      {
       "output_type": "stream",
       "stream": "stdout",
       "text": [
        "785 "
       ]
      },
      {
       "output_type": "stream",
       "stream": "stdout",
       "text": [
        "786 "
       ]
      },
      {
       "output_type": "stream",
       "stream": "stdout",
       "text": [
        "787 "
       ]
      },
      {
       "output_type": "stream",
       "stream": "stdout",
       "text": [
        "788 "
       ]
      },
      {
       "output_type": "stream",
       "stream": "stdout",
       "text": [
        "789 "
       ]
      },
      {
       "output_type": "stream",
       "stream": "stdout",
       "text": [
        "790 "
       ]
      },
      {
       "output_type": "stream",
       "stream": "stdout",
       "text": [
        "791 "
       ]
      },
      {
       "output_type": "stream",
       "stream": "stdout",
       "text": [
        "792 "
       ]
      },
      {
       "output_type": "stream",
       "stream": "stdout",
       "text": [
        "793 "
       ]
      },
      {
       "output_type": "stream",
       "stream": "stdout",
       "text": [
        "794 "
       ]
      },
      {
       "output_type": "stream",
       "stream": "stdout",
       "text": [
        "795 "
       ]
      },
      {
       "output_type": "stream",
       "stream": "stdout",
       "text": [
        "796 "
       ]
      },
      {
       "output_type": "stream",
       "stream": "stdout",
       "text": [
        "797 "
       ]
      },
      {
       "output_type": "stream",
       "stream": "stdout",
       "text": [
        "798 "
       ]
      },
      {
       "output_type": "stream",
       "stream": "stdout",
       "text": [
        "799 "
       ]
      },
      {
       "output_type": "stream",
       "stream": "stdout",
       "text": [
        "800 "
       ]
      },
      {
       "output_type": "stream",
       "stream": "stdout",
       "text": [
        "801 "
       ]
      },
      {
       "output_type": "stream",
       "stream": "stdout",
       "text": [
        "802 "
       ]
      },
      {
       "output_type": "stream",
       "stream": "stdout",
       "text": [
        "803 "
       ]
      },
      {
       "output_type": "stream",
       "stream": "stdout",
       "text": [
        "804 "
       ]
      },
      {
       "output_type": "stream",
       "stream": "stdout",
       "text": [
        "805 "
       ]
      },
      {
       "output_type": "stream",
       "stream": "stdout",
       "text": [
        "806 "
       ]
      },
      {
       "output_type": "stream",
       "stream": "stdout",
       "text": [
        "807 "
       ]
      },
      {
       "output_type": "stream",
       "stream": "stdout",
       "text": [
        "808 "
       ]
      },
      {
       "output_type": "stream",
       "stream": "stdout",
       "text": [
        "809 "
       ]
      },
      {
       "output_type": "stream",
       "stream": "stdout",
       "text": [
        "810 "
       ]
      },
      {
       "output_type": "stream",
       "stream": "stdout",
       "text": [
        "811 "
       ]
      },
      {
       "output_type": "stream",
       "stream": "stdout",
       "text": [
        "812 "
       ]
      },
      {
       "output_type": "stream",
       "stream": "stdout",
       "text": [
        "813 "
       ]
      },
      {
       "output_type": "stream",
       "stream": "stdout",
       "text": [
        "814 "
       ]
      },
      {
       "output_type": "stream",
       "stream": "stdout",
       "text": [
        "815 "
       ]
      },
      {
       "output_type": "stream",
       "stream": "stdout",
       "text": [
        "816 "
       ]
      },
      {
       "output_type": "stream",
       "stream": "stdout",
       "text": [
        "817 "
       ]
      },
      {
       "output_type": "stream",
       "stream": "stdout",
       "text": [
        "818 "
       ]
      },
      {
       "output_type": "stream",
       "stream": "stdout",
       "text": [
        "819 "
       ]
      },
      {
       "output_type": "stream",
       "stream": "stdout",
       "text": [
        "820 "
       ]
      },
      {
       "output_type": "stream",
       "stream": "stdout",
       "text": [
        "821 "
       ]
      },
      {
       "output_type": "stream",
       "stream": "stdout",
       "text": [
        "822 "
       ]
      },
      {
       "output_type": "stream",
       "stream": "stdout",
       "text": [
        "823 "
       ]
      },
      {
       "output_type": "stream",
       "stream": "stdout",
       "text": [
        "824 "
       ]
      },
      {
       "output_type": "stream",
       "stream": "stdout",
       "text": [
        "825 "
       ]
      },
      {
       "output_type": "stream",
       "stream": "stdout",
       "text": [
        "826 "
       ]
      },
      {
       "output_type": "stream",
       "stream": "stdout",
       "text": [
        "827 "
       ]
      },
      {
       "output_type": "stream",
       "stream": "stdout",
       "text": [
        "828 "
       ]
      },
      {
       "output_type": "stream",
       "stream": "stdout",
       "text": [
        "829 "
       ]
      },
      {
       "output_type": "stream",
       "stream": "stdout",
       "text": [
        "830 "
       ]
      },
      {
       "output_type": "stream",
       "stream": "stdout",
       "text": [
        "831 "
       ]
      },
      {
       "output_type": "stream",
       "stream": "stdout",
       "text": [
        "832 "
       ]
      },
      {
       "output_type": "stream",
       "stream": "stdout",
       "text": [
        "833 "
       ]
      },
      {
       "output_type": "stream",
       "stream": "stdout",
       "text": [
        "834 "
       ]
      },
      {
       "output_type": "stream",
       "stream": "stdout",
       "text": [
        "835 "
       ]
      },
      {
       "output_type": "stream",
       "stream": "stdout",
       "text": [
        "836 "
       ]
      },
      {
       "output_type": "stream",
       "stream": "stdout",
       "text": [
        "837 "
       ]
      },
      {
       "output_type": "stream",
       "stream": "stdout",
       "text": [
        "838 "
       ]
      },
      {
       "output_type": "stream",
       "stream": "stdout",
       "text": [
        "839 "
       ]
      },
      {
       "output_type": "stream",
       "stream": "stdout",
       "text": [
        "840 "
       ]
      },
      {
       "output_type": "stream",
       "stream": "stdout",
       "text": [
        "841 "
       ]
      },
      {
       "output_type": "stream",
       "stream": "stdout",
       "text": [
        "842 "
       ]
      },
      {
       "output_type": "stream",
       "stream": "stdout",
       "text": [
        "843 "
       ]
      },
      {
       "output_type": "stream",
       "stream": "stdout",
       "text": [
        "844 "
       ]
      },
      {
       "output_type": "stream",
       "stream": "stdout",
       "text": [
        "845 "
       ]
      },
      {
       "output_type": "stream",
       "stream": "stdout",
       "text": [
        "846 "
       ]
      },
      {
       "output_type": "stream",
       "stream": "stdout",
       "text": [
        "847 "
       ]
      },
      {
       "output_type": "stream",
       "stream": "stdout",
       "text": [
        "848 "
       ]
      },
      {
       "output_type": "stream",
       "stream": "stdout",
       "text": [
        "849 "
       ]
      },
      {
       "output_type": "stream",
       "stream": "stdout",
       "text": [
        "850 "
       ]
      },
      {
       "output_type": "stream",
       "stream": "stdout",
       "text": [
        "851 "
       ]
      },
      {
       "output_type": "stream",
       "stream": "stdout",
       "text": [
        "852 "
       ]
      },
      {
       "output_type": "stream",
       "stream": "stdout",
       "text": [
        "853 "
       ]
      },
      {
       "output_type": "stream",
       "stream": "stdout",
       "text": [
        "854 "
       ]
      },
      {
       "output_type": "stream",
       "stream": "stdout",
       "text": [
        "855 "
       ]
      },
      {
       "output_type": "stream",
       "stream": "stdout",
       "text": [
        "856 "
       ]
      },
      {
       "output_type": "stream",
       "stream": "stdout",
       "text": [
        "857 "
       ]
      },
      {
       "output_type": "stream",
       "stream": "stdout",
       "text": [
        "858 "
       ]
      },
      {
       "output_type": "stream",
       "stream": "stdout",
       "text": [
        "859 "
       ]
      },
      {
       "output_type": "stream",
       "stream": "stdout",
       "text": [
        "860 "
       ]
      },
      {
       "output_type": "stream",
       "stream": "stdout",
       "text": [
        "861 "
       ]
      },
      {
       "output_type": "stream",
       "stream": "stdout",
       "text": [
        "862 "
       ]
      },
      {
       "output_type": "stream",
       "stream": "stdout",
       "text": [
        "863 "
       ]
      },
      {
       "output_type": "stream",
       "stream": "stdout",
       "text": [
        "864 "
       ]
      },
      {
       "output_type": "stream",
       "stream": "stdout",
       "text": [
        "865 "
       ]
      },
      {
       "output_type": "stream",
       "stream": "stdout",
       "text": [
        "866 "
       ]
      },
      {
       "output_type": "stream",
       "stream": "stdout",
       "text": [
        "867 "
       ]
      },
      {
       "output_type": "stream",
       "stream": "stdout",
       "text": [
        "868 "
       ]
      },
      {
       "output_type": "stream",
       "stream": "stdout",
       "text": [
        "869 "
       ]
      },
      {
       "output_type": "stream",
       "stream": "stdout",
       "text": [
        "870 "
       ]
      },
      {
       "output_type": "stream",
       "stream": "stdout",
       "text": [
        "871 "
       ]
      },
      {
       "output_type": "stream",
       "stream": "stdout",
       "text": [
        "872 "
       ]
      },
      {
       "output_type": "stream",
       "stream": "stdout",
       "text": [
        "873 "
       ]
      },
      {
       "output_type": "stream",
       "stream": "stdout",
       "text": [
        "874 "
       ]
      },
      {
       "output_type": "stream",
       "stream": "stdout",
       "text": [
        "875 "
       ]
      },
      {
       "output_type": "stream",
       "stream": "stdout",
       "text": [
        "876 "
       ]
      },
      {
       "output_type": "stream",
       "stream": "stdout",
       "text": [
        "877 "
       ]
      },
      {
       "output_type": "stream",
       "stream": "stdout",
       "text": [
        "878 "
       ]
      },
      {
       "output_type": "stream",
       "stream": "stdout",
       "text": [
        "879 "
       ]
      },
      {
       "output_type": "stream",
       "stream": "stdout",
       "text": [
        "880 "
       ]
      },
      {
       "output_type": "stream",
       "stream": "stdout",
       "text": [
        "881 "
       ]
      },
      {
       "output_type": "stream",
       "stream": "stdout",
       "text": [
        "882 "
       ]
      },
      {
       "output_type": "stream",
       "stream": "stdout",
       "text": [
        "883 "
       ]
      },
      {
       "output_type": "stream",
       "stream": "stdout",
       "text": [
        "884 "
       ]
      },
      {
       "output_type": "stream",
       "stream": "stdout",
       "text": [
        "885 "
       ]
      },
      {
       "output_type": "stream",
       "stream": "stdout",
       "text": [
        "886 "
       ]
      },
      {
       "output_type": "stream",
       "stream": "stdout",
       "text": [
        "887 "
       ]
      },
      {
       "output_type": "stream",
       "stream": "stdout",
       "text": [
        "888 "
       ]
      },
      {
       "output_type": "stream",
       "stream": "stdout",
       "text": [
        "889 "
       ]
      },
      {
       "output_type": "stream",
       "stream": "stdout",
       "text": [
        "890 "
       ]
      },
      {
       "output_type": "stream",
       "stream": "stdout",
       "text": [
        "891 "
       ]
      },
      {
       "output_type": "stream",
       "stream": "stdout",
       "text": [
        "892 "
       ]
      },
      {
       "output_type": "stream",
       "stream": "stdout",
       "text": [
        "893 "
       ]
      },
      {
       "output_type": "stream",
       "stream": "stdout",
       "text": [
        "894 "
       ]
      },
      {
       "output_type": "stream",
       "stream": "stdout",
       "text": [
        "895 "
       ]
      },
      {
       "output_type": "stream",
       "stream": "stdout",
       "text": [
        "896 "
       ]
      },
      {
       "output_type": "stream",
       "stream": "stdout",
       "text": [
        "897 "
       ]
      },
      {
       "output_type": "stream",
       "stream": "stdout",
       "text": [
        "898 "
       ]
      },
      {
       "output_type": "stream",
       "stream": "stdout",
       "text": [
        "899 "
       ]
      },
      {
       "output_type": "stream",
       "stream": "stdout",
       "text": [
        "900 "
       ]
      },
      {
       "output_type": "stream",
       "stream": "stdout",
       "text": [
        "901 "
       ]
      },
      {
       "output_type": "stream",
       "stream": "stdout",
       "text": [
        "902 "
       ]
      },
      {
       "output_type": "stream",
       "stream": "stdout",
       "text": [
        "903 "
       ]
      },
      {
       "output_type": "stream",
       "stream": "stdout",
       "text": [
        "904 "
       ]
      },
      {
       "output_type": "stream",
       "stream": "stdout",
       "text": [
        "905 "
       ]
      },
      {
       "output_type": "stream",
       "stream": "stdout",
       "text": [
        "906 "
       ]
      },
      {
       "output_type": "stream",
       "stream": "stdout",
       "text": [
        "907 "
       ]
      },
      {
       "output_type": "stream",
       "stream": "stdout",
       "text": [
        "908 "
       ]
      },
      {
       "output_type": "stream",
       "stream": "stdout",
       "text": [
        "909 "
       ]
      },
      {
       "output_type": "stream",
       "stream": "stdout",
       "text": [
        "910 "
       ]
      },
      {
       "output_type": "stream",
       "stream": "stdout",
       "text": [
        "911 "
       ]
      },
      {
       "output_type": "stream",
       "stream": "stdout",
       "text": [
        "912 "
       ]
      },
      {
       "output_type": "stream",
       "stream": "stdout",
       "text": [
        "913 "
       ]
      },
      {
       "output_type": "stream",
       "stream": "stdout",
       "text": [
        "914 "
       ]
      },
      {
       "output_type": "stream",
       "stream": "stdout",
       "text": [
        "915 "
       ]
      },
      {
       "output_type": "stream",
       "stream": "stdout",
       "text": [
        "916 "
       ]
      },
      {
       "output_type": "stream",
       "stream": "stdout",
       "text": [
        "917 "
       ]
      },
      {
       "output_type": "stream",
       "stream": "stdout",
       "text": [
        "918 "
       ]
      },
      {
       "output_type": "stream",
       "stream": "stdout",
       "text": [
        "919 "
       ]
      },
      {
       "output_type": "stream",
       "stream": "stdout",
       "text": [
        "920 "
       ]
      },
      {
       "output_type": "stream",
       "stream": "stdout",
       "text": [
        "921 "
       ]
      },
      {
       "output_type": "stream",
       "stream": "stdout",
       "text": [
        "922 "
       ]
      },
      {
       "output_type": "stream",
       "stream": "stdout",
       "text": [
        "923 "
       ]
      },
      {
       "output_type": "stream",
       "stream": "stdout",
       "text": [
        "924 "
       ]
      },
      {
       "output_type": "stream",
       "stream": "stdout",
       "text": [
        "925 "
       ]
      },
      {
       "output_type": "stream",
       "stream": "stdout",
       "text": [
        "926 "
       ]
      },
      {
       "output_type": "stream",
       "stream": "stdout",
       "text": [
        "927 "
       ]
      },
      {
       "output_type": "stream",
       "stream": "stdout",
       "text": [
        "928 "
       ]
      },
      {
       "output_type": "stream",
       "stream": "stdout",
       "text": [
        "929 "
       ]
      },
      {
       "output_type": "stream",
       "stream": "stdout",
       "text": [
        "930 "
       ]
      },
      {
       "output_type": "stream",
       "stream": "stdout",
       "text": [
        "931 "
       ]
      },
      {
       "output_type": "stream",
       "stream": "stdout",
       "text": [
        "932 "
       ]
      },
      {
       "output_type": "stream",
       "stream": "stdout",
       "text": [
        "933 "
       ]
      },
      {
       "output_type": "stream",
       "stream": "stdout",
       "text": [
        "934 "
       ]
      },
      {
       "output_type": "stream",
       "stream": "stdout",
       "text": [
        "935 "
       ]
      },
      {
       "output_type": "stream",
       "stream": "stdout",
       "text": [
        "936 "
       ]
      },
      {
       "output_type": "stream",
       "stream": "stdout",
       "text": [
        "937 "
       ]
      },
      {
       "output_type": "stream",
       "stream": "stdout",
       "text": [
        "938 "
       ]
      },
      {
       "output_type": "stream",
       "stream": "stdout",
       "text": [
        "939 "
       ]
      },
      {
       "output_type": "stream",
       "stream": "stdout",
       "text": [
        "940 "
       ]
      },
      {
       "output_type": "stream",
       "stream": "stdout",
       "text": [
        "941 "
       ]
      },
      {
       "output_type": "stream",
       "stream": "stdout",
       "text": [
        "942 "
       ]
      },
      {
       "output_type": "stream",
       "stream": "stdout",
       "text": [
        "943 "
       ]
      },
      {
       "output_type": "stream",
       "stream": "stdout",
       "text": [
        "944 "
       ]
      },
      {
       "output_type": "stream",
       "stream": "stdout",
       "text": [
        "945 "
       ]
      },
      {
       "output_type": "stream",
       "stream": "stdout",
       "text": [
        "946 "
       ]
      },
      {
       "output_type": "stream",
       "stream": "stdout",
       "text": [
        "947 "
       ]
      },
      {
       "output_type": "stream",
       "stream": "stdout",
       "text": [
        "948 "
       ]
      },
      {
       "output_type": "stream",
       "stream": "stdout",
       "text": [
        "949 "
       ]
      },
      {
       "output_type": "stream",
       "stream": "stdout",
       "text": [
        "950 "
       ]
      },
      {
       "output_type": "stream",
       "stream": "stdout",
       "text": [
        "951 "
       ]
      },
      {
       "output_type": "stream",
       "stream": "stdout",
       "text": [
        "952 "
       ]
      },
      {
       "output_type": "stream",
       "stream": "stdout",
       "text": [
        "953 "
       ]
      },
      {
       "output_type": "stream",
       "stream": "stdout",
       "text": [
        "954 "
       ]
      },
      {
       "output_type": "stream",
       "stream": "stdout",
       "text": [
        "955 "
       ]
      },
      {
       "output_type": "stream",
       "stream": "stdout",
       "text": [
        "956 "
       ]
      },
      {
       "output_type": "stream",
       "stream": "stdout",
       "text": [
        "957 "
       ]
      },
      {
       "output_type": "stream",
       "stream": "stdout",
       "text": [
        "958 "
       ]
      },
      {
       "output_type": "stream",
       "stream": "stdout",
       "text": [
        "959 "
       ]
      },
      {
       "output_type": "stream",
       "stream": "stdout",
       "text": [
        "960 "
       ]
      },
      {
       "output_type": "stream",
       "stream": "stdout",
       "text": [
        "961 "
       ]
      },
      {
       "output_type": "stream",
       "stream": "stdout",
       "text": [
        "962 "
       ]
      },
      {
       "output_type": "stream",
       "stream": "stdout",
       "text": [
        "963 "
       ]
      },
      {
       "output_type": "stream",
       "stream": "stdout",
       "text": [
        "964 "
       ]
      },
      {
       "output_type": "stream",
       "stream": "stdout",
       "text": [
        "965 "
       ]
      },
      {
       "output_type": "stream",
       "stream": "stdout",
       "text": [
        "966 "
       ]
      },
      {
       "output_type": "stream",
       "stream": "stdout",
       "text": [
        "967 "
       ]
      },
      {
       "output_type": "stream",
       "stream": "stdout",
       "text": [
        "968 "
       ]
      },
      {
       "output_type": "stream",
       "stream": "stdout",
       "text": [
        "969 "
       ]
      },
      {
       "output_type": "stream",
       "stream": "stdout",
       "text": [
        "970 "
       ]
      },
      {
       "output_type": "stream",
       "stream": "stdout",
       "text": [
        "971 "
       ]
      },
      {
       "output_type": "stream",
       "stream": "stdout",
       "text": [
        "972 "
       ]
      },
      {
       "output_type": "stream",
       "stream": "stdout",
       "text": [
        "973 "
       ]
      },
      {
       "output_type": "stream",
       "stream": "stdout",
       "text": [
        "974 "
       ]
      },
      {
       "output_type": "stream",
       "stream": "stdout",
       "text": [
        "975 "
       ]
      },
      {
       "output_type": "stream",
       "stream": "stdout",
       "text": [
        "976 "
       ]
      },
      {
       "output_type": "stream",
       "stream": "stdout",
       "text": [
        "977 "
       ]
      },
      {
       "output_type": "stream",
       "stream": "stdout",
       "text": [
        "978 "
       ]
      },
      {
       "output_type": "stream",
       "stream": "stdout",
       "text": [
        "979 "
       ]
      },
      {
       "output_type": "stream",
       "stream": "stdout",
       "text": [
        "980 "
       ]
      },
      {
       "output_type": "stream",
       "stream": "stdout",
       "text": [
        "981 "
       ]
      },
      {
       "output_type": "stream",
       "stream": "stdout",
       "text": [
        "982 "
       ]
      },
      {
       "output_type": "stream",
       "stream": "stdout",
       "text": [
        "983 "
       ]
      },
      {
       "output_type": "stream",
       "stream": "stdout",
       "text": [
        "984 "
       ]
      },
      {
       "output_type": "stream",
       "stream": "stdout",
       "text": [
        "985 "
       ]
      },
      {
       "output_type": "stream",
       "stream": "stdout",
       "text": [
        "986 "
       ]
      },
      {
       "output_type": "stream",
       "stream": "stdout",
       "text": [
        "987 "
       ]
      },
      {
       "output_type": "stream",
       "stream": "stdout",
       "text": [
        "988 "
       ]
      },
      {
       "output_type": "stream",
       "stream": "stdout",
       "text": [
        "989 "
       ]
      },
      {
       "output_type": "stream",
       "stream": "stdout",
       "text": [
        "990 "
       ]
      },
      {
       "output_type": "stream",
       "stream": "stdout",
       "text": [
        "991 "
       ]
      },
      {
       "output_type": "stream",
       "stream": "stdout",
       "text": [
        "992 "
       ]
      },
      {
       "output_type": "stream",
       "stream": "stdout",
       "text": [
        "993 "
       ]
      },
      {
       "output_type": "stream",
       "stream": "stdout",
       "text": [
        "994 "
       ]
      },
      {
       "output_type": "stream",
       "stream": "stdout",
       "text": [
        "995 "
       ]
      },
      {
       "output_type": "stream",
       "stream": "stdout",
       "text": [
        "996 "
       ]
      },
      {
       "output_type": "stream",
       "stream": "stdout",
       "text": [
        "997 "
       ]
      },
      {
       "output_type": "stream",
       "stream": "stdout",
       "text": [
        "998 "
       ]
      },
      {
       "output_type": "stream",
       "stream": "stdout",
       "text": [
        "999\n"
       ]
      }
     ],
     "prompt_number": 161
    },
    {
     "cell_type": "markdown",
     "metadata": {},
     "source": [
      "#### HACRF"
     ]
    },
    {
     "cell_type": "code",
     "collapsed": false,
     "input": [
      "import cPickle"
     ],
     "language": "python",
     "metadata": {},
     "outputs": [],
     "prompt_number": 108
    },
    {
     "cell_type": "code",
     "collapsed": false,
     "input": [
      "cPickle.dump(m, open('models/m_mnt.pkl', 'wb'))\n",
      "cPickle.dump(ppairs_test, open('models/ppairs_test.pkl', 'wb'))\n",
      "cPickle.dump(dictionary, open('models/dictionary.pkl', 'wb'))"
     ],
     "language": "python",
     "metadata": {},
     "outputs": [],
     "prompt_number": 114
    },
    {
     "cell_type": "code",
     "collapsed": false,
     "input": [
      "result_file = open('generation_result.txt', 'a')\n",
      "for i, (incorrect, correct) in enumerate(ppairs_test[:1000]):\n",
      "    print i,\n",
      "    test_pairs = [(incorrect, candidate) for candidate in set(dictionary[:20000] + [correct])]\n",
      "    gx_test = fe.transform(test_pairs)\n",
      "    pr = m.predict_proba(gx_test)\n",
      "    cr = zip(pr, test_pairs)\n",
      "    cr = sorted(cr, key=lambda x: -x[0][0])\n",
      "    result_file.write('{} {} {}\\n'.format(incorrect, correct,\n",
      "                      [(candidate[1][1], '{:.5f}'.format(candidate[0][0])) for candidate in cr[:1000]]))\n",
      "    result_file.flush()"
     ],
     "language": "python",
     "metadata": {},
     "outputs": [
      {
       "output_type": "stream",
       "stream": "stdout",
       "text": [
        "0 "
       ]
      },
      {
       "output_type": "stream",
       "stream": "stdout",
       "text": [
        "1 "
       ]
      },
      {
       "output_type": "stream",
       "stream": "stdout",
       "text": [
        "2 "
       ]
      },
      {
       "output_type": "stream",
       "stream": "stdout",
       "text": [
        "3 "
       ]
      },
      {
       "output_type": "stream",
       "stream": "stdout",
       "text": [
        "4 "
       ]
      },
      {
       "output_type": "stream",
       "stream": "stdout",
       "text": [
        "5 "
       ]
      },
      {
       "output_type": "stream",
       "stream": "stdout",
       "text": [
        "6 "
       ]
      },
      {
       "output_type": "stream",
       "stream": "stdout",
       "text": [
        "7 "
       ]
      },
      {
       "output_type": "stream",
       "stream": "stdout",
       "text": [
        "8 "
       ]
      },
      {
       "output_type": "stream",
       "stream": "stdout",
       "text": [
        "9\n"
       ]
      }
     ],
     "prompt_number": 79
    },
    {
     "cell_type": "code",
     "collapsed": true,
     "input": [
      "result_file = open('generation_result_with_pre_rank_no_transition.txt', 'a')\n",
      "for i, (incorrect, correct) in enumerate(ppairs_test[:1000]):\n",
      "    print i,\n",
      "    test_pairs = [(incorrect, candidate) for candidate in set(dictionary[:20000] + [correct])]\n",
      "    pr = [editdistance.eval(*test_pair) for test_pair in test_pairs]\n",
      "    cr = zip(pr, test_pairs)\n",
      "    cr = sorted(cr, key=lambda x: (x[0], dictionary_rank.get(x[1][1], dictionary_length)))\n",
      "    new_candidates = [candidate[1][1] for candidate in cr[:1000]]\n",
      "    \n",
      "    test_pairs = [(incorrect, candidate) for candidate in new_candidates]\n",
      "    gx_test = fe_base.transform(test_pairs)\n",
      "    pr = m_base.predict_proba(gx_test)\n",
      "    cr = zip(pr, test_pairs)\n",
      "    cr = sorted(cr, key=lambda x: -x[0][0])\n",
      "    result_file.write('{} {} {}\\n'.format(incorrect, correct,\n",
      "                      [(candidate[1][1], '{:.5f}'.format(candidate[0][0])) for candidate in cr[:1000]]))\n",
      "    result_file.flush()"
     ],
     "language": "python",
     "metadata": {},
     "outputs": [
      {
       "output_type": "stream",
       "stream": "stdout",
       "text": [
        "0 "
       ]
      },
      {
       "output_type": "stream",
       "stream": "stdout",
       "text": [
        "1 "
       ]
      },
      {
       "output_type": "stream",
       "stream": "stdout",
       "text": [
        "2 "
       ]
      },
      {
       "output_type": "stream",
       "stream": "stdout",
       "text": [
        "3 "
       ]
      },
      {
       "output_type": "stream",
       "stream": "stdout",
       "text": [
        "4 "
       ]
      },
      {
       "output_type": "stream",
       "stream": "stdout",
       "text": [
        "5 "
       ]
      },
      {
       "output_type": "stream",
       "stream": "stdout",
       "text": [
        "6 "
       ]
      },
      {
       "output_type": "stream",
       "stream": "stdout",
       "text": [
        "7 "
       ]
      },
      {
       "output_type": "stream",
       "stream": "stdout",
       "text": [
        "8 "
       ]
      },
      {
       "output_type": "stream",
       "stream": "stdout",
       "text": [
        "9 "
       ]
      },
      {
       "output_type": "stream",
       "stream": "stdout",
       "text": [
        "10 "
       ]
      },
      {
       "output_type": "stream",
       "stream": "stdout",
       "text": [
        "11 "
       ]
      },
      {
       "output_type": "stream",
       "stream": "stdout",
       "text": [
        "12 "
       ]
      },
      {
       "output_type": "stream",
       "stream": "stdout",
       "text": [
        "13 "
       ]
      },
      {
       "output_type": "stream",
       "stream": "stdout",
       "text": [
        "14 "
       ]
      },
      {
       "output_type": "stream",
       "stream": "stdout",
       "text": [
        "15 "
       ]
      },
      {
       "output_type": "stream",
       "stream": "stdout",
       "text": [
        "16 "
       ]
      },
      {
       "output_type": "stream",
       "stream": "stdout",
       "text": [
        "17 "
       ]
      },
      {
       "output_type": "stream",
       "stream": "stdout",
       "text": [
        "18 "
       ]
      },
      {
       "output_type": "stream",
       "stream": "stdout",
       "text": [
        "19 "
       ]
      },
      {
       "output_type": "stream",
       "stream": "stdout",
       "text": [
        "20 "
       ]
      },
      {
       "output_type": "stream",
       "stream": "stdout",
       "text": [
        "21 "
       ]
      },
      {
       "output_type": "stream",
       "stream": "stdout",
       "text": [
        "22 "
       ]
      },
      {
       "output_type": "stream",
       "stream": "stdout",
       "text": [
        "23 "
       ]
      },
      {
       "output_type": "stream",
       "stream": "stdout",
       "text": [
        "24 "
       ]
      },
      {
       "output_type": "stream",
       "stream": "stdout",
       "text": [
        "25 "
       ]
      },
      {
       "output_type": "stream",
       "stream": "stdout",
       "text": [
        "26 "
       ]
      },
      {
       "output_type": "stream",
       "stream": "stdout",
       "text": [
        "27 "
       ]
      },
      {
       "output_type": "stream",
       "stream": "stdout",
       "text": [
        "28 "
       ]
      },
      {
       "output_type": "stream",
       "stream": "stdout",
       "text": [
        "29 "
       ]
      },
      {
       "output_type": "stream",
       "stream": "stdout",
       "text": [
        "30 "
       ]
      },
      {
       "output_type": "stream",
       "stream": "stdout",
       "text": [
        "31 "
       ]
      },
      {
       "output_type": "stream",
       "stream": "stdout",
       "text": [
        "32 "
       ]
      },
      {
       "output_type": "stream",
       "stream": "stdout",
       "text": [
        "33 "
       ]
      },
      {
       "output_type": "stream",
       "stream": "stdout",
       "text": [
        "34 "
       ]
      },
      {
       "output_type": "stream",
       "stream": "stdout",
       "text": [
        "35 "
       ]
      },
      {
       "output_type": "stream",
       "stream": "stdout",
       "text": [
        "36 "
       ]
      },
      {
       "output_type": "stream",
       "stream": "stdout",
       "text": [
        "37 "
       ]
      },
      {
       "output_type": "stream",
       "stream": "stdout",
       "text": [
        "38 "
       ]
      },
      {
       "output_type": "stream",
       "stream": "stdout",
       "text": [
        "39 "
       ]
      },
      {
       "output_type": "stream",
       "stream": "stdout",
       "text": [
        "40 "
       ]
      },
      {
       "output_type": "stream",
       "stream": "stdout",
       "text": [
        "41 "
       ]
      },
      {
       "output_type": "stream",
       "stream": "stdout",
       "text": [
        "42 "
       ]
      },
      {
       "output_type": "stream",
       "stream": "stdout",
       "text": [
        "43 "
       ]
      },
      {
       "output_type": "stream",
       "stream": "stdout",
       "text": [
        "44 "
       ]
      },
      {
       "output_type": "stream",
       "stream": "stdout",
       "text": [
        "45 "
       ]
      },
      {
       "output_type": "stream",
       "stream": "stdout",
       "text": [
        "46 "
       ]
      },
      {
       "output_type": "stream",
       "stream": "stdout",
       "text": [
        "47 "
       ]
      },
      {
       "output_type": "stream",
       "stream": "stdout",
       "text": [
        "48 "
       ]
      },
      {
       "output_type": "stream",
       "stream": "stdout",
       "text": [
        "49 "
       ]
      },
      {
       "output_type": "stream",
       "stream": "stdout",
       "text": [
        "50 "
       ]
      },
      {
       "output_type": "stream",
       "stream": "stdout",
       "text": [
        "51 "
       ]
      },
      {
       "output_type": "stream",
       "stream": "stdout",
       "text": [
        "52 "
       ]
      },
      {
       "output_type": "stream",
       "stream": "stdout",
       "text": [
        "53 "
       ]
      },
      {
       "output_type": "stream",
       "stream": "stdout",
       "text": [
        "54 "
       ]
      },
      {
       "output_type": "stream",
       "stream": "stdout",
       "text": [
        "55 "
       ]
      },
      {
       "output_type": "stream",
       "stream": "stdout",
       "text": [
        "56 "
       ]
      },
      {
       "output_type": "stream",
       "stream": "stdout",
       "text": [
        "57 "
       ]
      },
      {
       "output_type": "stream",
       "stream": "stdout",
       "text": [
        "58 "
       ]
      },
      {
       "output_type": "stream",
       "stream": "stdout",
       "text": [
        "59 "
       ]
      },
      {
       "output_type": "stream",
       "stream": "stdout",
       "text": [
        "60 "
       ]
      },
      {
       "output_type": "stream",
       "stream": "stdout",
       "text": [
        "61 "
       ]
      },
      {
       "output_type": "stream",
       "stream": "stdout",
       "text": [
        "62 "
       ]
      },
      {
       "output_type": "stream",
       "stream": "stdout",
       "text": [
        "63 "
       ]
      },
      {
       "output_type": "stream",
       "stream": "stdout",
       "text": [
        "64 "
       ]
      },
      {
       "output_type": "stream",
       "stream": "stdout",
       "text": [
        "65 "
       ]
      },
      {
       "output_type": "stream",
       "stream": "stdout",
       "text": [
        "66 "
       ]
      },
      {
       "output_type": "stream",
       "stream": "stdout",
       "text": [
        "67 "
       ]
      },
      {
       "output_type": "stream",
       "stream": "stdout",
       "text": [
        "68 "
       ]
      },
      {
       "output_type": "stream",
       "stream": "stdout",
       "text": [
        "69 "
       ]
      },
      {
       "output_type": "stream",
       "stream": "stdout",
       "text": [
        "70 "
       ]
      },
      {
       "output_type": "stream",
       "stream": "stdout",
       "text": [
        "71 "
       ]
      },
      {
       "output_type": "stream",
       "stream": "stdout",
       "text": [
        "72 "
       ]
      },
      {
       "output_type": "stream",
       "stream": "stdout",
       "text": [
        "73 "
       ]
      },
      {
       "output_type": "stream",
       "stream": "stdout",
       "text": [
        "74 "
       ]
      },
      {
       "output_type": "stream",
       "stream": "stdout",
       "text": [
        "75 "
       ]
      },
      {
       "output_type": "stream",
       "stream": "stdout",
       "text": [
        "76 "
       ]
      },
      {
       "output_type": "stream",
       "stream": "stdout",
       "text": [
        "77 "
       ]
      },
      {
       "output_type": "stream",
       "stream": "stdout",
       "text": [
        "78 "
       ]
      },
      {
       "output_type": "stream",
       "stream": "stdout",
       "text": [
        "79 "
       ]
      },
      {
       "output_type": "stream",
       "stream": "stdout",
       "text": [
        "80 "
       ]
      },
      {
       "output_type": "stream",
       "stream": "stdout",
       "text": [
        "81 "
       ]
      },
      {
       "output_type": "stream",
       "stream": "stdout",
       "text": [
        "82 "
       ]
      },
      {
       "output_type": "stream",
       "stream": "stdout",
       "text": [
        "83 "
       ]
      },
      {
       "output_type": "stream",
       "stream": "stdout",
       "text": [
        "84 "
       ]
      },
      {
       "output_type": "stream",
       "stream": "stdout",
       "text": [
        "85 "
       ]
      },
      {
       "output_type": "stream",
       "stream": "stdout",
       "text": [
        "86 "
       ]
      },
      {
       "output_type": "stream",
       "stream": "stdout",
       "text": [
        "87 "
       ]
      },
      {
       "output_type": "stream",
       "stream": "stdout",
       "text": [
        "88 "
       ]
      },
      {
       "output_type": "stream",
       "stream": "stdout",
       "text": [
        "89 "
       ]
      },
      {
       "output_type": "stream",
       "stream": "stdout",
       "text": [
        "90 "
       ]
      },
      {
       "output_type": "stream",
       "stream": "stdout",
       "text": [
        "91 "
       ]
      },
      {
       "output_type": "stream",
       "stream": "stdout",
       "text": [
        "92 "
       ]
      },
      {
       "output_type": "stream",
       "stream": "stdout",
       "text": [
        "93 "
       ]
      },
      {
       "output_type": "stream",
       "stream": "stdout",
       "text": [
        "94 "
       ]
      },
      {
       "output_type": "stream",
       "stream": "stdout",
       "text": [
        "95 "
       ]
      },
      {
       "output_type": "stream",
       "stream": "stdout",
       "text": [
        "96 "
       ]
      },
      {
       "output_type": "stream",
       "stream": "stdout",
       "text": [
        "97 "
       ]
      },
      {
       "output_type": "stream",
       "stream": "stdout",
       "text": [
        "98 "
       ]
      },
      {
       "output_type": "stream",
       "stream": "stdout",
       "text": [
        "99 "
       ]
      },
      {
       "output_type": "stream",
       "stream": "stdout",
       "text": [
        "100 "
       ]
      },
      {
       "output_type": "stream",
       "stream": "stdout",
       "text": [
        "101 "
       ]
      },
      {
       "output_type": "stream",
       "stream": "stdout",
       "text": [
        "102 "
       ]
      },
      {
       "output_type": "stream",
       "stream": "stdout",
       "text": [
        "103 "
       ]
      },
      {
       "output_type": "stream",
       "stream": "stdout",
       "text": [
        "104 "
       ]
      },
      {
       "output_type": "stream",
       "stream": "stdout",
       "text": [
        "105 "
       ]
      },
      {
       "output_type": "stream",
       "stream": "stdout",
       "text": [
        "106 "
       ]
      },
      {
       "output_type": "stream",
       "stream": "stdout",
       "text": [
        "107 "
       ]
      },
      {
       "output_type": "stream",
       "stream": "stdout",
       "text": [
        "108 "
       ]
      },
      {
       "output_type": "stream",
       "stream": "stdout",
       "text": [
        "109 "
       ]
      },
      {
       "output_type": "stream",
       "stream": "stdout",
       "text": [
        "110 "
       ]
      },
      {
       "output_type": "stream",
       "stream": "stdout",
       "text": [
        "111 "
       ]
      },
      {
       "output_type": "stream",
       "stream": "stdout",
       "text": [
        "112 "
       ]
      },
      {
       "output_type": "stream",
       "stream": "stdout",
       "text": [
        "113 "
       ]
      },
      {
       "output_type": "stream",
       "stream": "stdout",
       "text": [
        "114 "
       ]
      },
      {
       "output_type": "stream",
       "stream": "stdout",
       "text": [
        "115 "
       ]
      },
      {
       "output_type": "stream",
       "stream": "stdout",
       "text": [
        "116 "
       ]
      },
      {
       "output_type": "stream",
       "stream": "stdout",
       "text": [
        "117 "
       ]
      },
      {
       "output_type": "stream",
       "stream": "stdout",
       "text": [
        "118 "
       ]
      },
      {
       "output_type": "stream",
       "stream": "stdout",
       "text": [
        "119 "
       ]
      },
      {
       "output_type": "stream",
       "stream": "stdout",
       "text": [
        "120 "
       ]
      },
      {
       "output_type": "stream",
       "stream": "stdout",
       "text": [
        "121 "
       ]
      },
      {
       "output_type": "stream",
       "stream": "stdout",
       "text": [
        "122 "
       ]
      },
      {
       "output_type": "stream",
       "stream": "stdout",
       "text": [
        "123 "
       ]
      },
      {
       "output_type": "stream",
       "stream": "stdout",
       "text": [
        "124 "
       ]
      },
      {
       "output_type": "stream",
       "stream": "stdout",
       "text": [
        "125 "
       ]
      },
      {
       "output_type": "stream",
       "stream": "stdout",
       "text": [
        "126 "
       ]
      },
      {
       "output_type": "stream",
       "stream": "stdout",
       "text": [
        "127 "
       ]
      },
      {
       "output_type": "stream",
       "stream": "stdout",
       "text": [
        "128 "
       ]
      },
      {
       "output_type": "stream",
       "stream": "stdout",
       "text": [
        "129 "
       ]
      },
      {
       "output_type": "stream",
       "stream": "stdout",
       "text": [
        "130 "
       ]
      },
      {
       "output_type": "stream",
       "stream": "stdout",
       "text": [
        "131 "
       ]
      },
      {
       "output_type": "stream",
       "stream": "stdout",
       "text": [
        "132 "
       ]
      },
      {
       "output_type": "stream",
       "stream": "stdout",
       "text": [
        "133 "
       ]
      },
      {
       "output_type": "stream",
       "stream": "stdout",
       "text": [
        "134 "
       ]
      },
      {
       "output_type": "stream",
       "stream": "stdout",
       "text": [
        "135 "
       ]
      },
      {
       "output_type": "stream",
       "stream": "stdout",
       "text": [
        "136 "
       ]
      },
      {
       "output_type": "stream",
       "stream": "stdout",
       "text": [
        "137 "
       ]
      },
      {
       "output_type": "stream",
       "stream": "stdout",
       "text": [
        "138 "
       ]
      },
      {
       "output_type": "stream",
       "stream": "stdout",
       "text": [
        "139 "
       ]
      },
      {
       "output_type": "stream",
       "stream": "stdout",
       "text": [
        "140 "
       ]
      },
      {
       "output_type": "stream",
       "stream": "stdout",
       "text": [
        "141 "
       ]
      },
      {
       "output_type": "stream",
       "stream": "stdout",
       "text": [
        "142 "
       ]
      },
      {
       "output_type": "stream",
       "stream": "stdout",
       "text": [
        "143 "
       ]
      },
      {
       "output_type": "stream",
       "stream": "stdout",
       "text": [
        "144 "
       ]
      },
      {
       "output_type": "stream",
       "stream": "stdout",
       "text": [
        "145 "
       ]
      },
      {
       "output_type": "stream",
       "stream": "stdout",
       "text": [
        "146 "
       ]
      },
      {
       "output_type": "stream",
       "stream": "stdout",
       "text": [
        "147 "
       ]
      },
      {
       "output_type": "stream",
       "stream": "stdout",
       "text": [
        "148 "
       ]
      },
      {
       "output_type": "stream",
       "stream": "stdout",
       "text": [
        "149 "
       ]
      },
      {
       "output_type": "stream",
       "stream": "stdout",
       "text": [
        "150 "
       ]
      },
      {
       "output_type": "stream",
       "stream": "stdout",
       "text": [
        "151 "
       ]
      },
      {
       "output_type": "stream",
       "stream": "stdout",
       "text": [
        "152 "
       ]
      },
      {
       "output_type": "stream",
       "stream": "stdout",
       "text": [
        "153 "
       ]
      },
      {
       "output_type": "stream",
       "stream": "stdout",
       "text": [
        "154 "
       ]
      },
      {
       "output_type": "stream",
       "stream": "stdout",
       "text": [
        "155 "
       ]
      },
      {
       "output_type": "stream",
       "stream": "stdout",
       "text": [
        "156 "
       ]
      },
      {
       "output_type": "stream",
       "stream": "stdout",
       "text": [
        "157 "
       ]
      },
      {
       "output_type": "stream",
       "stream": "stdout",
       "text": [
        "158 "
       ]
      },
      {
       "output_type": "stream",
       "stream": "stdout",
       "text": [
        "159 "
       ]
      },
      {
       "output_type": "stream",
       "stream": "stdout",
       "text": [
        "160 "
       ]
      },
      {
       "output_type": "stream",
       "stream": "stdout",
       "text": [
        "161 "
       ]
      },
      {
       "output_type": "stream",
       "stream": "stdout",
       "text": [
        "162 "
       ]
      },
      {
       "output_type": "stream",
       "stream": "stdout",
       "text": [
        "163 "
       ]
      },
      {
       "output_type": "stream",
       "stream": "stdout",
       "text": [
        "164 "
       ]
      },
      {
       "output_type": "stream",
       "stream": "stdout",
       "text": [
        "165 "
       ]
      },
      {
       "output_type": "stream",
       "stream": "stdout",
       "text": [
        "166 "
       ]
      },
      {
       "output_type": "stream",
       "stream": "stdout",
       "text": [
        "167 "
       ]
      },
      {
       "output_type": "stream",
       "stream": "stdout",
       "text": [
        "168 "
       ]
      },
      {
       "output_type": "stream",
       "stream": "stdout",
       "text": [
        "169 "
       ]
      },
      {
       "output_type": "stream",
       "stream": "stdout",
       "text": [
        "170 "
       ]
      },
      {
       "output_type": "stream",
       "stream": "stdout",
       "text": [
        "171 "
       ]
      },
      {
       "output_type": "stream",
       "stream": "stdout",
       "text": [
        "172 "
       ]
      },
      {
       "output_type": "stream",
       "stream": "stdout",
       "text": [
        "173 "
       ]
      },
      {
       "output_type": "stream",
       "stream": "stdout",
       "text": [
        "174 "
       ]
      },
      {
       "output_type": "stream",
       "stream": "stdout",
       "text": [
        "175 "
       ]
      },
      {
       "output_type": "stream",
       "stream": "stdout",
       "text": [
        "176 "
       ]
      },
      {
       "output_type": "stream",
       "stream": "stdout",
       "text": [
        "177 "
       ]
      },
      {
       "output_type": "stream",
       "stream": "stdout",
       "text": [
        "178 "
       ]
      },
      {
       "output_type": "stream",
       "stream": "stdout",
       "text": [
        "179 "
       ]
      },
      {
       "output_type": "stream",
       "stream": "stdout",
       "text": [
        "180 "
       ]
      },
      {
       "output_type": "stream",
       "stream": "stdout",
       "text": [
        "181 "
       ]
      },
      {
       "output_type": "stream",
       "stream": "stdout",
       "text": [
        "182 "
       ]
      },
      {
       "output_type": "stream",
       "stream": "stdout",
       "text": [
        "183 "
       ]
      },
      {
       "output_type": "stream",
       "stream": "stdout",
       "text": [
        "184 "
       ]
      },
      {
       "output_type": "stream",
       "stream": "stdout",
       "text": [
        "185 "
       ]
      },
      {
       "output_type": "stream",
       "stream": "stdout",
       "text": [
        "186 "
       ]
      },
      {
       "output_type": "stream",
       "stream": "stdout",
       "text": [
        "187 "
       ]
      },
      {
       "output_type": "stream",
       "stream": "stdout",
       "text": [
        "188 "
       ]
      },
      {
       "output_type": "stream",
       "stream": "stdout",
       "text": [
        "189 "
       ]
      },
      {
       "output_type": "stream",
       "stream": "stdout",
       "text": [
        "190 "
       ]
      },
      {
       "output_type": "stream",
       "stream": "stdout",
       "text": [
        "191 "
       ]
      },
      {
       "output_type": "stream",
       "stream": "stdout",
       "text": [
        "192 "
       ]
      },
      {
       "output_type": "stream",
       "stream": "stdout",
       "text": [
        "193 "
       ]
      },
      {
       "output_type": "stream",
       "stream": "stdout",
       "text": [
        "194 "
       ]
      },
      {
       "output_type": "stream",
       "stream": "stdout",
       "text": [
        "195 "
       ]
      },
      {
       "output_type": "stream",
       "stream": "stdout",
       "text": [
        "196 "
       ]
      },
      {
       "output_type": "stream",
       "stream": "stdout",
       "text": [
        "197 "
       ]
      },
      {
       "output_type": "stream",
       "stream": "stdout",
       "text": [
        "198 "
       ]
      },
      {
       "output_type": "stream",
       "stream": "stdout",
       "text": [
        "199 "
       ]
      },
      {
       "output_type": "stream",
       "stream": "stdout",
       "text": [
        "200 "
       ]
      },
      {
       "output_type": "stream",
       "stream": "stdout",
       "text": [
        "201 "
       ]
      },
      {
       "output_type": "stream",
       "stream": "stdout",
       "text": [
        "202 "
       ]
      },
      {
       "output_type": "stream",
       "stream": "stdout",
       "text": [
        "203 "
       ]
      },
      {
       "output_type": "stream",
       "stream": "stdout",
       "text": [
        "204 "
       ]
      },
      {
       "output_type": "stream",
       "stream": "stdout",
       "text": [
        "205 "
       ]
      },
      {
       "output_type": "stream",
       "stream": "stdout",
       "text": [
        "206 "
       ]
      },
      {
       "output_type": "stream",
       "stream": "stdout",
       "text": [
        "207 "
       ]
      },
      {
       "output_type": "stream",
       "stream": "stdout",
       "text": [
        "208 "
       ]
      },
      {
       "output_type": "stream",
       "stream": "stdout",
       "text": [
        "209 "
       ]
      },
      {
       "output_type": "stream",
       "stream": "stdout",
       "text": [
        "210 "
       ]
      },
      {
       "output_type": "stream",
       "stream": "stdout",
       "text": [
        "211 "
       ]
      },
      {
       "output_type": "stream",
       "stream": "stdout",
       "text": [
        "212 "
       ]
      },
      {
       "output_type": "stream",
       "stream": "stdout",
       "text": [
        "213 "
       ]
      },
      {
       "output_type": "stream",
       "stream": "stdout",
       "text": [
        "214 "
       ]
      },
      {
       "output_type": "stream",
       "stream": "stdout",
       "text": [
        "215 "
       ]
      },
      {
       "output_type": "stream",
       "stream": "stdout",
       "text": [
        "216 "
       ]
      },
      {
       "output_type": "stream",
       "stream": "stdout",
       "text": [
        "217 "
       ]
      },
      {
       "output_type": "stream",
       "stream": "stdout",
       "text": [
        "218 "
       ]
      },
      {
       "output_type": "stream",
       "stream": "stdout",
       "text": [
        "219 "
       ]
      },
      {
       "output_type": "stream",
       "stream": "stdout",
       "text": [
        "220 "
       ]
      },
      {
       "output_type": "stream",
       "stream": "stdout",
       "text": [
        "221 "
       ]
      },
      {
       "output_type": "stream",
       "stream": "stdout",
       "text": [
        "222 "
       ]
      },
      {
       "output_type": "stream",
       "stream": "stdout",
       "text": [
        "223 "
       ]
      },
      {
       "output_type": "stream",
       "stream": "stdout",
       "text": [
        "224 "
       ]
      },
      {
       "output_type": "stream",
       "stream": "stdout",
       "text": [
        "225 "
       ]
      },
      {
       "output_type": "stream",
       "stream": "stdout",
       "text": [
        "226 "
       ]
      },
      {
       "output_type": "stream",
       "stream": "stdout",
       "text": [
        "227 "
       ]
      },
      {
       "output_type": "stream",
       "stream": "stdout",
       "text": [
        "228 "
       ]
      },
      {
       "output_type": "stream",
       "stream": "stdout",
       "text": [
        "229 "
       ]
      },
      {
       "output_type": "stream",
       "stream": "stdout",
       "text": [
        "230 "
       ]
      },
      {
       "output_type": "stream",
       "stream": "stdout",
       "text": [
        "231 "
       ]
      },
      {
       "output_type": "stream",
       "stream": "stdout",
       "text": [
        "232 "
       ]
      },
      {
       "output_type": "stream",
       "stream": "stdout",
       "text": [
        "233 "
       ]
      },
      {
       "output_type": "stream",
       "stream": "stdout",
       "text": [
        "234 "
       ]
      },
      {
       "output_type": "stream",
       "stream": "stdout",
       "text": [
        "235 "
       ]
      },
      {
       "output_type": "stream",
       "stream": "stdout",
       "text": [
        "236 "
       ]
      },
      {
       "output_type": "stream",
       "stream": "stdout",
       "text": [
        "237 "
       ]
      },
      {
       "output_type": "stream",
       "stream": "stdout",
       "text": [
        "238 "
       ]
      },
      {
       "output_type": "stream",
       "stream": "stdout",
       "text": [
        "239 "
       ]
      },
      {
       "output_type": "stream",
       "stream": "stdout",
       "text": [
        "240 "
       ]
      },
      {
       "output_type": "stream",
       "stream": "stdout",
       "text": [
        "241 "
       ]
      },
      {
       "output_type": "stream",
       "stream": "stdout",
       "text": [
        "242 "
       ]
      },
      {
       "output_type": "stream",
       "stream": "stdout",
       "text": [
        "243 "
       ]
      },
      {
       "output_type": "stream",
       "stream": "stdout",
       "text": [
        "244 "
       ]
      },
      {
       "output_type": "stream",
       "stream": "stdout",
       "text": [
        "245 "
       ]
      },
      {
       "output_type": "stream",
       "stream": "stdout",
       "text": [
        "246 "
       ]
      },
      {
       "output_type": "stream",
       "stream": "stdout",
       "text": [
        "247 "
       ]
      },
      {
       "output_type": "stream",
       "stream": "stdout",
       "text": [
        "248 "
       ]
      },
      {
       "output_type": "stream",
       "stream": "stdout",
       "text": [
        "249 "
       ]
      },
      {
       "output_type": "stream",
       "stream": "stdout",
       "text": [
        "250 "
       ]
      },
      {
       "output_type": "stream",
       "stream": "stdout",
       "text": [
        "251 "
       ]
      },
      {
       "output_type": "stream",
       "stream": "stdout",
       "text": [
        "252 "
       ]
      },
      {
       "output_type": "stream",
       "stream": "stdout",
       "text": [
        "253 "
       ]
      },
      {
       "output_type": "stream",
       "stream": "stdout",
       "text": [
        "254 "
       ]
      },
      {
       "output_type": "stream",
       "stream": "stdout",
       "text": [
        "255 "
       ]
      },
      {
       "output_type": "stream",
       "stream": "stdout",
       "text": [
        "256 "
       ]
      },
      {
       "output_type": "stream",
       "stream": "stdout",
       "text": [
        "257 "
       ]
      },
      {
       "output_type": "stream",
       "stream": "stdout",
       "text": [
        "258 "
       ]
      },
      {
       "output_type": "stream",
       "stream": "stdout",
       "text": [
        "259 "
       ]
      },
      {
       "output_type": "stream",
       "stream": "stdout",
       "text": [
        "260 "
       ]
      },
      {
       "output_type": "stream",
       "stream": "stdout",
       "text": [
        "261 "
       ]
      },
      {
       "output_type": "stream",
       "stream": "stdout",
       "text": [
        "262 "
       ]
      },
      {
       "output_type": "stream",
       "stream": "stdout",
       "text": [
        "263 "
       ]
      },
      {
       "output_type": "stream",
       "stream": "stdout",
       "text": [
        "264 "
       ]
      },
      {
       "output_type": "stream",
       "stream": "stdout",
       "text": [
        "265 "
       ]
      },
      {
       "output_type": "stream",
       "stream": "stdout",
       "text": [
        "266 "
       ]
      },
      {
       "output_type": "stream",
       "stream": "stdout",
       "text": [
        "267 "
       ]
      },
      {
       "output_type": "stream",
       "stream": "stdout",
       "text": [
        "268 "
       ]
      },
      {
       "output_type": "stream",
       "stream": "stdout",
       "text": [
        "269 "
       ]
      },
      {
       "output_type": "stream",
       "stream": "stdout",
       "text": [
        "270 "
       ]
      },
      {
       "output_type": "stream",
       "stream": "stdout",
       "text": [
        "271 "
       ]
      },
      {
       "output_type": "stream",
       "stream": "stdout",
       "text": [
        "272 "
       ]
      },
      {
       "output_type": "stream",
       "stream": "stdout",
       "text": [
        "273 "
       ]
      },
      {
       "output_type": "stream",
       "stream": "stdout",
       "text": [
        "274 "
       ]
      },
      {
       "output_type": "stream",
       "stream": "stdout",
       "text": [
        "275 "
       ]
      },
      {
       "output_type": "stream",
       "stream": "stdout",
       "text": [
        "276 "
       ]
      },
      {
       "output_type": "stream",
       "stream": "stdout",
       "text": [
        "277 "
       ]
      },
      {
       "output_type": "stream",
       "stream": "stdout",
       "text": [
        "278 "
       ]
      },
      {
       "output_type": "stream",
       "stream": "stdout",
       "text": [
        "279 "
       ]
      },
      {
       "output_type": "stream",
       "stream": "stdout",
       "text": [
        "280 "
       ]
      },
      {
       "output_type": "stream",
       "stream": "stdout",
       "text": [
        "281 "
       ]
      },
      {
       "output_type": "stream",
       "stream": "stdout",
       "text": [
        "282 "
       ]
      },
      {
       "output_type": "stream",
       "stream": "stdout",
       "text": [
        "283 "
       ]
      },
      {
       "output_type": "stream",
       "stream": "stdout",
       "text": [
        "284 "
       ]
      },
      {
       "output_type": "stream",
       "stream": "stdout",
       "text": [
        "285 "
       ]
      },
      {
       "output_type": "stream",
       "stream": "stdout",
       "text": [
        "286 "
       ]
      },
      {
       "output_type": "stream",
       "stream": "stdout",
       "text": [
        "287 "
       ]
      },
      {
       "output_type": "stream",
       "stream": "stdout",
       "text": [
        "288 "
       ]
      },
      {
       "output_type": "stream",
       "stream": "stdout",
       "text": [
        "289 "
       ]
      },
      {
       "output_type": "stream",
       "stream": "stdout",
       "text": [
        "290 "
       ]
      },
      {
       "output_type": "stream",
       "stream": "stdout",
       "text": [
        "291 "
       ]
      },
      {
       "output_type": "stream",
       "stream": "stdout",
       "text": [
        "292 "
       ]
      },
      {
       "output_type": "stream",
       "stream": "stdout",
       "text": [
        "293 "
       ]
      },
      {
       "output_type": "stream",
       "stream": "stdout",
       "text": [
        "294 "
       ]
      },
      {
       "output_type": "stream",
       "stream": "stdout",
       "text": [
        "295 "
       ]
      },
      {
       "output_type": "stream",
       "stream": "stdout",
       "text": [
        "296 "
       ]
      },
      {
       "output_type": "stream",
       "stream": "stdout",
       "text": [
        "297 "
       ]
      },
      {
       "output_type": "stream",
       "stream": "stdout",
       "text": [
        "298 "
       ]
      },
      {
       "output_type": "stream",
       "stream": "stdout",
       "text": [
        "299 "
       ]
      },
      {
       "output_type": "stream",
       "stream": "stdout",
       "text": [
        "300 "
       ]
      },
      {
       "output_type": "stream",
       "stream": "stdout",
       "text": [
        "301 "
       ]
      },
      {
       "output_type": "stream",
       "stream": "stdout",
       "text": [
        "302 "
       ]
      },
      {
       "output_type": "stream",
       "stream": "stdout",
       "text": [
        "303 "
       ]
      },
      {
       "output_type": "stream",
       "stream": "stdout",
       "text": [
        "304 "
       ]
      },
      {
       "output_type": "stream",
       "stream": "stdout",
       "text": [
        "305 "
       ]
      },
      {
       "output_type": "stream",
       "stream": "stdout",
       "text": [
        "306 "
       ]
      },
      {
       "output_type": "stream",
       "stream": "stdout",
       "text": [
        "307 "
       ]
      },
      {
       "output_type": "stream",
       "stream": "stdout",
       "text": [
        "308 "
       ]
      },
      {
       "output_type": "stream",
       "stream": "stdout",
       "text": [
        "309 "
       ]
      },
      {
       "output_type": "stream",
       "stream": "stdout",
       "text": [
        "310 "
       ]
      },
      {
       "output_type": "stream",
       "stream": "stdout",
       "text": [
        "311 "
       ]
      },
      {
       "output_type": "stream",
       "stream": "stdout",
       "text": [
        "312 "
       ]
      },
      {
       "output_type": "stream",
       "stream": "stdout",
       "text": [
        "313 "
       ]
      },
      {
       "output_type": "stream",
       "stream": "stdout",
       "text": [
        "314 "
       ]
      },
      {
       "output_type": "stream",
       "stream": "stdout",
       "text": [
        "315 "
       ]
      },
      {
       "output_type": "stream",
       "stream": "stdout",
       "text": [
        "316 "
       ]
      },
      {
       "output_type": "stream",
       "stream": "stdout",
       "text": [
        "317 "
       ]
      },
      {
       "output_type": "stream",
       "stream": "stdout",
       "text": [
        "318 "
       ]
      },
      {
       "output_type": "stream",
       "stream": "stdout",
       "text": [
        "319 "
       ]
      },
      {
       "output_type": "stream",
       "stream": "stdout",
       "text": [
        "320 "
       ]
      },
      {
       "output_type": "stream",
       "stream": "stdout",
       "text": [
        "321 "
       ]
      },
      {
       "output_type": "stream",
       "stream": "stdout",
       "text": [
        "322 "
       ]
      },
      {
       "output_type": "stream",
       "stream": "stdout",
       "text": [
        "323 "
       ]
      },
      {
       "output_type": "stream",
       "stream": "stdout",
       "text": [
        "324 "
       ]
      },
      {
       "output_type": "stream",
       "stream": "stdout",
       "text": [
        "325 "
       ]
      },
      {
       "output_type": "stream",
       "stream": "stdout",
       "text": [
        "326 "
       ]
      },
      {
       "output_type": "stream",
       "stream": "stdout",
       "text": [
        "327 "
       ]
      },
      {
       "output_type": "stream",
       "stream": "stdout",
       "text": [
        "328 "
       ]
      },
      {
       "output_type": "stream",
       "stream": "stdout",
       "text": [
        "329 "
       ]
      },
      {
       "output_type": "stream",
       "stream": "stdout",
       "text": [
        "330 "
       ]
      },
      {
       "output_type": "stream",
       "stream": "stdout",
       "text": [
        "331 "
       ]
      },
      {
       "output_type": "stream",
       "stream": "stdout",
       "text": [
        "332 "
       ]
      },
      {
       "output_type": "stream",
       "stream": "stdout",
       "text": [
        "333 "
       ]
      },
      {
       "output_type": "stream",
       "stream": "stdout",
       "text": [
        "334 "
       ]
      },
      {
       "output_type": "stream",
       "stream": "stdout",
       "text": [
        "335 "
       ]
      },
      {
       "output_type": "stream",
       "stream": "stdout",
       "text": [
        "336 "
       ]
      },
      {
       "output_type": "stream",
       "stream": "stdout",
       "text": [
        "337 "
       ]
      },
      {
       "output_type": "stream",
       "stream": "stdout",
       "text": [
        "338 "
       ]
      },
      {
       "output_type": "stream",
       "stream": "stdout",
       "text": [
        "339 "
       ]
      },
      {
       "output_type": "stream",
       "stream": "stdout",
       "text": [
        "340 "
       ]
      },
      {
       "output_type": "stream",
       "stream": "stdout",
       "text": [
        "341 "
       ]
      },
      {
       "output_type": "stream",
       "stream": "stdout",
       "text": [
        "342 "
       ]
      },
      {
       "output_type": "stream",
       "stream": "stdout",
       "text": [
        "343 "
       ]
      },
      {
       "output_type": "stream",
       "stream": "stdout",
       "text": [
        "344 "
       ]
      },
      {
       "output_type": "stream",
       "stream": "stdout",
       "text": [
        "345 "
       ]
      },
      {
       "output_type": "stream",
       "stream": "stdout",
       "text": [
        "346 "
       ]
      },
      {
       "output_type": "stream",
       "stream": "stdout",
       "text": [
        "347 "
       ]
      },
      {
       "output_type": "stream",
       "stream": "stdout",
       "text": [
        "348 "
       ]
      },
      {
       "output_type": "stream",
       "stream": "stdout",
       "text": [
        "349 "
       ]
      },
      {
       "output_type": "stream",
       "stream": "stdout",
       "text": [
        "350 "
       ]
      },
      {
       "output_type": "stream",
       "stream": "stdout",
       "text": [
        "351 "
       ]
      },
      {
       "output_type": "stream",
       "stream": "stdout",
       "text": [
        "352 "
       ]
      },
      {
       "output_type": "stream",
       "stream": "stdout",
       "text": [
        "353 "
       ]
      },
      {
       "output_type": "stream",
       "stream": "stdout",
       "text": [
        "354 "
       ]
      },
      {
       "output_type": "stream",
       "stream": "stdout",
       "text": [
        "355 "
       ]
      },
      {
       "output_type": "stream",
       "stream": "stdout",
       "text": [
        "356 "
       ]
      },
      {
       "output_type": "stream",
       "stream": "stdout",
       "text": [
        "357 "
       ]
      },
      {
       "output_type": "stream",
       "stream": "stdout",
       "text": [
        "358 "
       ]
      },
      {
       "output_type": "stream",
       "stream": "stdout",
       "text": [
        "359 "
       ]
      },
      {
       "output_type": "stream",
       "stream": "stdout",
       "text": [
        "360 "
       ]
      },
      {
       "output_type": "stream",
       "stream": "stdout",
       "text": [
        "361 "
       ]
      },
      {
       "output_type": "stream",
       "stream": "stdout",
       "text": [
        "362 "
       ]
      },
      {
       "output_type": "stream",
       "stream": "stdout",
       "text": [
        "363 "
       ]
      },
      {
       "output_type": "stream",
       "stream": "stdout",
       "text": [
        "364 "
       ]
      },
      {
       "output_type": "stream",
       "stream": "stdout",
       "text": [
        "365 "
       ]
      },
      {
       "output_type": "stream",
       "stream": "stdout",
       "text": [
        "366 "
       ]
      },
      {
       "output_type": "stream",
       "stream": "stdout",
       "text": [
        "367 "
       ]
      },
      {
       "output_type": "stream",
       "stream": "stdout",
       "text": [
        "368 "
       ]
      },
      {
       "output_type": "stream",
       "stream": "stdout",
       "text": [
        "369 "
       ]
      },
      {
       "output_type": "stream",
       "stream": "stdout",
       "text": [
        "370 "
       ]
      },
      {
       "output_type": "stream",
       "stream": "stdout",
       "text": [
        "371 "
       ]
      },
      {
       "output_type": "stream",
       "stream": "stdout",
       "text": [
        "372 "
       ]
      },
      {
       "output_type": "stream",
       "stream": "stdout",
       "text": [
        "373 "
       ]
      },
      {
       "output_type": "stream",
       "stream": "stdout",
       "text": [
        "374 "
       ]
      },
      {
       "output_type": "stream",
       "stream": "stdout",
       "text": [
        "375 "
       ]
      },
      {
       "output_type": "stream",
       "stream": "stdout",
       "text": [
        "376 "
       ]
      },
      {
       "output_type": "stream",
       "stream": "stdout",
       "text": [
        "377 "
       ]
      },
      {
       "output_type": "stream",
       "stream": "stdout",
       "text": [
        "378 "
       ]
      },
      {
       "output_type": "stream",
       "stream": "stdout",
       "text": [
        "379 "
       ]
      },
      {
       "output_type": "stream",
       "stream": "stdout",
       "text": [
        "380 "
       ]
      },
      {
       "output_type": "stream",
       "stream": "stdout",
       "text": [
        "381 "
       ]
      },
      {
       "output_type": "stream",
       "stream": "stdout",
       "text": [
        "382 "
       ]
      },
      {
       "output_type": "stream",
       "stream": "stdout",
       "text": [
        "383 "
       ]
      },
      {
       "output_type": "stream",
       "stream": "stdout",
       "text": [
        "384 "
       ]
      },
      {
       "output_type": "stream",
       "stream": "stdout",
       "text": [
        "385 "
       ]
      },
      {
       "output_type": "stream",
       "stream": "stdout",
       "text": [
        "386 "
       ]
      },
      {
       "output_type": "stream",
       "stream": "stdout",
       "text": [
        "387 "
       ]
      },
      {
       "output_type": "stream",
       "stream": "stdout",
       "text": [
        "388 "
       ]
      },
      {
       "output_type": "stream",
       "stream": "stdout",
       "text": [
        "389 "
       ]
      },
      {
       "output_type": "stream",
       "stream": "stdout",
       "text": [
        "390 "
       ]
      },
      {
       "output_type": "stream",
       "stream": "stdout",
       "text": [
        "391 "
       ]
      },
      {
       "output_type": "stream",
       "stream": "stdout",
       "text": [
        "392 "
       ]
      },
      {
       "output_type": "stream",
       "stream": "stdout",
       "text": [
        "393 "
       ]
      },
      {
       "output_type": "stream",
       "stream": "stdout",
       "text": [
        "394 "
       ]
      },
      {
       "output_type": "stream",
       "stream": "stdout",
       "text": [
        "395 "
       ]
      },
      {
       "output_type": "stream",
       "stream": "stdout",
       "text": [
        "396 "
       ]
      },
      {
       "output_type": "stream",
       "stream": "stdout",
       "text": [
        "397 "
       ]
      },
      {
       "output_type": "stream",
       "stream": "stdout",
       "text": [
        "398 "
       ]
      },
      {
       "output_type": "stream",
       "stream": "stdout",
       "text": [
        "399 "
       ]
      },
      {
       "output_type": "stream",
       "stream": "stdout",
       "text": [
        "400 "
       ]
      },
      {
       "output_type": "stream",
       "stream": "stdout",
       "text": [
        "401 "
       ]
      },
      {
       "output_type": "stream",
       "stream": "stdout",
       "text": [
        "402 "
       ]
      },
      {
       "output_type": "stream",
       "stream": "stdout",
       "text": [
        "403 "
       ]
      },
      {
       "output_type": "stream",
       "stream": "stdout",
       "text": [
        "404 "
       ]
      },
      {
       "output_type": "stream",
       "stream": "stdout",
       "text": [
        "405 "
       ]
      },
      {
       "output_type": "stream",
       "stream": "stdout",
       "text": [
        "406 "
       ]
      },
      {
       "output_type": "stream",
       "stream": "stdout",
       "text": [
        "407 "
       ]
      },
      {
       "output_type": "stream",
       "stream": "stdout",
       "text": [
        "408 "
       ]
      },
      {
       "output_type": "stream",
       "stream": "stdout",
       "text": [
        "409 "
       ]
      },
      {
       "output_type": "stream",
       "stream": "stdout",
       "text": [
        "410 "
       ]
      },
      {
       "output_type": "stream",
       "stream": "stdout",
       "text": [
        "411 "
       ]
      },
      {
       "output_type": "stream",
       "stream": "stdout",
       "text": [
        "412 "
       ]
      },
      {
       "output_type": "stream",
       "stream": "stdout",
       "text": [
        "413 "
       ]
      },
      {
       "output_type": "stream",
       "stream": "stdout",
       "text": [
        "414 "
       ]
      },
      {
       "output_type": "stream",
       "stream": "stdout",
       "text": [
        "415 "
       ]
      },
      {
       "output_type": "stream",
       "stream": "stdout",
       "text": [
        "416 "
       ]
      },
      {
       "output_type": "stream",
       "stream": "stdout",
       "text": [
        "417 "
       ]
      },
      {
       "output_type": "stream",
       "stream": "stdout",
       "text": [
        "418 "
       ]
      },
      {
       "output_type": "stream",
       "stream": "stdout",
       "text": [
        "419 "
       ]
      },
      {
       "output_type": "stream",
       "stream": "stdout",
       "text": [
        "420 "
       ]
      },
      {
       "output_type": "stream",
       "stream": "stdout",
       "text": [
        "421 "
       ]
      },
      {
       "output_type": "stream",
       "stream": "stdout",
       "text": [
        "422 "
       ]
      },
      {
       "output_type": "stream",
       "stream": "stdout",
       "text": [
        "423 "
       ]
      },
      {
       "output_type": "stream",
       "stream": "stdout",
       "text": [
        "424 "
       ]
      },
      {
       "output_type": "stream",
       "stream": "stdout",
       "text": [
        "425 "
       ]
      },
      {
       "output_type": "stream",
       "stream": "stdout",
       "text": [
        "426 "
       ]
      },
      {
       "output_type": "stream",
       "stream": "stdout",
       "text": [
        "427 "
       ]
      },
      {
       "output_type": "stream",
       "stream": "stdout",
       "text": [
        "428 "
       ]
      },
      {
       "output_type": "stream",
       "stream": "stdout",
       "text": [
        "429 "
       ]
      },
      {
       "output_type": "stream",
       "stream": "stdout",
       "text": [
        "430 "
       ]
      },
      {
       "output_type": "stream",
       "stream": "stdout",
       "text": [
        "431 "
       ]
      },
      {
       "output_type": "stream",
       "stream": "stdout",
       "text": [
        "432 "
       ]
      },
      {
       "output_type": "stream",
       "stream": "stdout",
       "text": [
        "433 "
       ]
      },
      {
       "output_type": "stream",
       "stream": "stdout",
       "text": [
        "434 "
       ]
      },
      {
       "output_type": "stream",
       "stream": "stdout",
       "text": [
        "435 "
       ]
      },
      {
       "output_type": "stream",
       "stream": "stdout",
       "text": [
        "436 "
       ]
      },
      {
       "output_type": "stream",
       "stream": "stdout",
       "text": [
        "437 "
       ]
      },
      {
       "output_type": "stream",
       "stream": "stdout",
       "text": [
        "438 "
       ]
      },
      {
       "output_type": "stream",
       "stream": "stdout",
       "text": [
        "439 "
       ]
      },
      {
       "output_type": "stream",
       "stream": "stdout",
       "text": [
        "440 "
       ]
      },
      {
       "output_type": "stream",
       "stream": "stdout",
       "text": [
        "441 "
       ]
      },
      {
       "output_type": "stream",
       "stream": "stdout",
       "text": [
        "442 "
       ]
      },
      {
       "output_type": "stream",
       "stream": "stdout",
       "text": [
        "443 "
       ]
      },
      {
       "output_type": "stream",
       "stream": "stdout",
       "text": [
        "444 "
       ]
      },
      {
       "output_type": "stream",
       "stream": "stdout",
       "text": [
        "445 "
       ]
      },
      {
       "output_type": "stream",
       "stream": "stdout",
       "text": [
        "446 "
       ]
      },
      {
       "output_type": "stream",
       "stream": "stdout",
       "text": [
        "447 "
       ]
      },
      {
       "output_type": "stream",
       "stream": "stdout",
       "text": [
        "448 "
       ]
      },
      {
       "output_type": "stream",
       "stream": "stdout",
       "text": [
        "449 "
       ]
      },
      {
       "output_type": "stream",
       "stream": "stdout",
       "text": [
        "450 "
       ]
      },
      {
       "output_type": "stream",
       "stream": "stdout",
       "text": [
        "451 "
       ]
      },
      {
       "output_type": "stream",
       "stream": "stdout",
       "text": [
        "452 "
       ]
      },
      {
       "output_type": "stream",
       "stream": "stdout",
       "text": [
        "453 "
       ]
      },
      {
       "output_type": "stream",
       "stream": "stdout",
       "text": [
        "454 "
       ]
      },
      {
       "output_type": "stream",
       "stream": "stdout",
       "text": [
        "455 "
       ]
      },
      {
       "output_type": "stream",
       "stream": "stdout",
       "text": [
        "456 "
       ]
      },
      {
       "output_type": "stream",
       "stream": "stdout",
       "text": [
        "457 "
       ]
      },
      {
       "output_type": "stream",
       "stream": "stdout",
       "text": [
        "458 "
       ]
      },
      {
       "output_type": "stream",
       "stream": "stdout",
       "text": [
        "459 "
       ]
      },
      {
       "output_type": "stream",
       "stream": "stdout",
       "text": [
        "460 "
       ]
      },
      {
       "output_type": "stream",
       "stream": "stdout",
       "text": [
        "461 "
       ]
      },
      {
       "output_type": "stream",
       "stream": "stdout",
       "text": [
        "462 "
       ]
      },
      {
       "output_type": "stream",
       "stream": "stdout",
       "text": [
        "463 "
       ]
      },
      {
       "output_type": "stream",
       "stream": "stdout",
       "text": [
        "464 "
       ]
      },
      {
       "output_type": "stream",
       "stream": "stdout",
       "text": [
        "465 "
       ]
      },
      {
       "output_type": "stream",
       "stream": "stdout",
       "text": [
        "466 "
       ]
      },
      {
       "output_type": "stream",
       "stream": "stdout",
       "text": [
        "467 "
       ]
      },
      {
       "output_type": "stream",
       "stream": "stdout",
       "text": [
        "468 "
       ]
      },
      {
       "output_type": "stream",
       "stream": "stdout",
       "text": [
        "469 "
       ]
      },
      {
       "output_type": "stream",
       "stream": "stdout",
       "text": [
        "470 "
       ]
      },
      {
       "output_type": "stream",
       "stream": "stdout",
       "text": [
        "471 "
       ]
      },
      {
       "output_type": "stream",
       "stream": "stdout",
       "text": [
        "472 "
       ]
      },
      {
       "output_type": "stream",
       "stream": "stdout",
       "text": [
        "473 "
       ]
      },
      {
       "output_type": "stream",
       "stream": "stdout",
       "text": [
        "474 "
       ]
      },
      {
       "output_type": "stream",
       "stream": "stdout",
       "text": [
        "475 "
       ]
      },
      {
       "output_type": "stream",
       "stream": "stdout",
       "text": [
        "476 "
       ]
      },
      {
       "output_type": "stream",
       "stream": "stdout",
       "text": [
        "477 "
       ]
      },
      {
       "output_type": "stream",
       "stream": "stdout",
       "text": [
        "478 "
       ]
      },
      {
       "output_type": "stream",
       "stream": "stdout",
       "text": [
        "479 "
       ]
      },
      {
       "output_type": "stream",
       "stream": "stdout",
       "text": [
        "480 "
       ]
      },
      {
       "output_type": "stream",
       "stream": "stdout",
       "text": [
        "481 "
       ]
      },
      {
       "output_type": "stream",
       "stream": "stdout",
       "text": [
        "482 "
       ]
      },
      {
       "output_type": "stream",
       "stream": "stdout",
       "text": [
        "483 "
       ]
      },
      {
       "output_type": "stream",
       "stream": "stdout",
       "text": [
        "484 "
       ]
      },
      {
       "output_type": "stream",
       "stream": "stdout",
       "text": [
        "485 "
       ]
      },
      {
       "output_type": "stream",
       "stream": "stdout",
       "text": [
        "486 "
       ]
      },
      {
       "output_type": "stream",
       "stream": "stdout",
       "text": [
        "487 "
       ]
      },
      {
       "output_type": "stream",
       "stream": "stdout",
       "text": [
        "488 "
       ]
      },
      {
       "output_type": "stream",
       "stream": "stdout",
       "text": [
        "489 "
       ]
      },
      {
       "output_type": "stream",
       "stream": "stdout",
       "text": [
        "490 "
       ]
      },
      {
       "output_type": "stream",
       "stream": "stdout",
       "text": [
        "491 "
       ]
      },
      {
       "output_type": "stream",
       "stream": "stdout",
       "text": [
        "492 "
       ]
      },
      {
       "output_type": "stream",
       "stream": "stdout",
       "text": [
        "493 "
       ]
      },
      {
       "output_type": "stream",
       "stream": "stdout",
       "text": [
        "494 "
       ]
      },
      {
       "output_type": "stream",
       "stream": "stdout",
       "text": [
        "495 "
       ]
      },
      {
       "output_type": "stream",
       "stream": "stdout",
       "text": [
        "496 "
       ]
      },
      {
       "output_type": "stream",
       "stream": "stdout",
       "text": [
        "497 "
       ]
      },
      {
       "output_type": "stream",
       "stream": "stdout",
       "text": [
        "498 "
       ]
      },
      {
       "output_type": "stream",
       "stream": "stdout",
       "text": [
        "499 "
       ]
      },
      {
       "output_type": "stream",
       "stream": "stdout",
       "text": [
        "500 "
       ]
      },
      {
       "output_type": "stream",
       "stream": "stdout",
       "text": [
        "501 "
       ]
      },
      {
       "output_type": "stream",
       "stream": "stdout",
       "text": [
        "502 "
       ]
      },
      {
       "output_type": "stream",
       "stream": "stdout",
       "text": [
        "503 "
       ]
      },
      {
       "output_type": "stream",
       "stream": "stdout",
       "text": [
        "504 "
       ]
      },
      {
       "output_type": "stream",
       "stream": "stdout",
       "text": [
        "505 "
       ]
      },
      {
       "output_type": "stream",
       "stream": "stdout",
       "text": [
        "506 "
       ]
      },
      {
       "output_type": "stream",
       "stream": "stdout",
       "text": [
        "507 "
       ]
      },
      {
       "output_type": "stream",
       "stream": "stdout",
       "text": [
        "508 "
       ]
      },
      {
       "output_type": "stream",
       "stream": "stdout",
       "text": [
        "509 "
       ]
      },
      {
       "output_type": "stream",
       "stream": "stdout",
       "text": [
        "510 "
       ]
      },
      {
       "output_type": "stream",
       "stream": "stdout",
       "text": [
        "511 "
       ]
      },
      {
       "output_type": "stream",
       "stream": "stdout",
       "text": [
        "512 "
       ]
      },
      {
       "output_type": "stream",
       "stream": "stdout",
       "text": [
        "513 "
       ]
      },
      {
       "output_type": "stream",
       "stream": "stdout",
       "text": [
        "514 "
       ]
      },
      {
       "output_type": "stream",
       "stream": "stdout",
       "text": [
        "515 "
       ]
      },
      {
       "output_type": "stream",
       "stream": "stdout",
       "text": [
        "516 "
       ]
      },
      {
       "output_type": "stream",
       "stream": "stdout",
       "text": [
        "517 "
       ]
      },
      {
       "output_type": "stream",
       "stream": "stdout",
       "text": [
        "518 "
       ]
      },
      {
       "output_type": "stream",
       "stream": "stdout",
       "text": [
        "519 "
       ]
      },
      {
       "output_type": "stream",
       "stream": "stdout",
       "text": [
        "520 "
       ]
      },
      {
       "output_type": "stream",
       "stream": "stdout",
       "text": [
        "521 "
       ]
      },
      {
       "output_type": "stream",
       "stream": "stdout",
       "text": [
        "522 "
       ]
      },
      {
       "output_type": "stream",
       "stream": "stdout",
       "text": [
        "523 "
       ]
      },
      {
       "output_type": "stream",
       "stream": "stdout",
       "text": [
        "524 "
       ]
      },
      {
       "output_type": "stream",
       "stream": "stdout",
       "text": [
        "525 "
       ]
      },
      {
       "output_type": "stream",
       "stream": "stdout",
       "text": [
        "526 "
       ]
      },
      {
       "output_type": "stream",
       "stream": "stdout",
       "text": [
        "527 "
       ]
      },
      {
       "output_type": "stream",
       "stream": "stdout",
       "text": [
        "528 "
       ]
      },
      {
       "output_type": "stream",
       "stream": "stdout",
       "text": [
        "529 "
       ]
      },
      {
       "output_type": "stream",
       "stream": "stdout",
       "text": [
        "530 "
       ]
      },
      {
       "output_type": "stream",
       "stream": "stdout",
       "text": [
        "531 "
       ]
      },
      {
       "output_type": "stream",
       "stream": "stdout",
       "text": [
        "532 "
       ]
      },
      {
       "output_type": "stream",
       "stream": "stdout",
       "text": [
        "533 "
       ]
      },
      {
       "output_type": "stream",
       "stream": "stdout",
       "text": [
        "534 "
       ]
      },
      {
       "output_type": "stream",
       "stream": "stdout",
       "text": [
        "535 "
       ]
      },
      {
       "output_type": "stream",
       "stream": "stdout",
       "text": [
        "536 "
       ]
      },
      {
       "output_type": "stream",
       "stream": "stdout",
       "text": [
        "537 "
       ]
      },
      {
       "output_type": "stream",
       "stream": "stdout",
       "text": [
        "538 "
       ]
      },
      {
       "output_type": "stream",
       "stream": "stdout",
       "text": [
        "539 "
       ]
      },
      {
       "output_type": "stream",
       "stream": "stdout",
       "text": [
        "540 "
       ]
      },
      {
       "output_type": "stream",
       "stream": "stdout",
       "text": [
        "541 "
       ]
      },
      {
       "output_type": "stream",
       "stream": "stdout",
       "text": [
        "542 "
       ]
      },
      {
       "output_type": "stream",
       "stream": "stdout",
       "text": [
        "543 "
       ]
      },
      {
       "output_type": "stream",
       "stream": "stdout",
       "text": [
        "544 "
       ]
      },
      {
       "output_type": "stream",
       "stream": "stdout",
       "text": [
        "545 "
       ]
      },
      {
       "output_type": "stream",
       "stream": "stdout",
       "text": [
        "546 "
       ]
      },
      {
       "output_type": "stream",
       "stream": "stdout",
       "text": [
        "547 "
       ]
      },
      {
       "output_type": "stream",
       "stream": "stdout",
       "text": [
        "548 "
       ]
      },
      {
       "output_type": "stream",
       "stream": "stdout",
       "text": [
        "549 "
       ]
      },
      {
       "output_type": "stream",
       "stream": "stdout",
       "text": [
        "550 "
       ]
      },
      {
       "output_type": "stream",
       "stream": "stdout",
       "text": [
        "551 "
       ]
      },
      {
       "output_type": "stream",
       "stream": "stdout",
       "text": [
        "552 "
       ]
      },
      {
       "output_type": "stream",
       "stream": "stdout",
       "text": [
        "553 "
       ]
      },
      {
       "output_type": "stream",
       "stream": "stdout",
       "text": [
        "554 "
       ]
      },
      {
       "output_type": "stream",
       "stream": "stdout",
       "text": [
        "555 "
       ]
      },
      {
       "output_type": "stream",
       "stream": "stdout",
       "text": [
        "556 "
       ]
      },
      {
       "output_type": "stream",
       "stream": "stdout",
       "text": [
        "557 "
       ]
      },
      {
       "output_type": "stream",
       "stream": "stdout",
       "text": [
        "558 "
       ]
      },
      {
       "output_type": "stream",
       "stream": "stdout",
       "text": [
        "559 "
       ]
      },
      {
       "output_type": "stream",
       "stream": "stdout",
       "text": [
        "560 "
       ]
      },
      {
       "output_type": "stream",
       "stream": "stdout",
       "text": [
        "561 "
       ]
      },
      {
       "output_type": "stream",
       "stream": "stdout",
       "text": [
        "562 "
       ]
      },
      {
       "output_type": "stream",
       "stream": "stdout",
       "text": [
        "563 "
       ]
      },
      {
       "output_type": "stream",
       "stream": "stdout",
       "text": [
        "564 "
       ]
      },
      {
       "output_type": "stream",
       "stream": "stdout",
       "text": [
        "565 "
       ]
      },
      {
       "output_type": "stream",
       "stream": "stdout",
       "text": [
        "566 "
       ]
      },
      {
       "output_type": "stream",
       "stream": "stdout",
       "text": [
        "567 "
       ]
      },
      {
       "output_type": "stream",
       "stream": "stdout",
       "text": [
        "568 "
       ]
      },
      {
       "output_type": "stream",
       "stream": "stdout",
       "text": [
        "569 "
       ]
      },
      {
       "output_type": "stream",
       "stream": "stdout",
       "text": [
        "570 "
       ]
      },
      {
       "output_type": "stream",
       "stream": "stdout",
       "text": [
        "571 "
       ]
      },
      {
       "output_type": "stream",
       "stream": "stdout",
       "text": [
        "572 "
       ]
      },
      {
       "output_type": "stream",
       "stream": "stdout",
       "text": [
        "573 "
       ]
      },
      {
       "output_type": "stream",
       "stream": "stdout",
       "text": [
        "574 "
       ]
      },
      {
       "output_type": "stream",
       "stream": "stdout",
       "text": [
        "575 "
       ]
      },
      {
       "output_type": "stream",
       "stream": "stdout",
       "text": [
        "576 "
       ]
      },
      {
       "output_type": "stream",
       "stream": "stdout",
       "text": [
        "577 "
       ]
      },
      {
       "output_type": "stream",
       "stream": "stdout",
       "text": [
        "578 "
       ]
      },
      {
       "output_type": "stream",
       "stream": "stdout",
       "text": [
        "579 "
       ]
      },
      {
       "output_type": "stream",
       "stream": "stdout",
       "text": [
        "580 "
       ]
      },
      {
       "output_type": "stream",
       "stream": "stdout",
       "text": [
        "581 "
       ]
      },
      {
       "output_type": "stream",
       "stream": "stdout",
       "text": [
        "582 "
       ]
      },
      {
       "output_type": "stream",
       "stream": "stdout",
       "text": [
        "583 "
       ]
      },
      {
       "output_type": "stream",
       "stream": "stdout",
       "text": [
        "584 "
       ]
      },
      {
       "output_type": "stream",
       "stream": "stdout",
       "text": [
        "585 "
       ]
      },
      {
       "output_type": "stream",
       "stream": "stdout",
       "text": [
        "586 "
       ]
      },
      {
       "output_type": "stream",
       "stream": "stdout",
       "text": [
        "587 "
       ]
      },
      {
       "output_type": "stream",
       "stream": "stdout",
       "text": [
        "588 "
       ]
      },
      {
       "output_type": "stream",
       "stream": "stdout",
       "text": [
        "589 "
       ]
      },
      {
       "output_type": "stream",
       "stream": "stdout",
       "text": [
        "590 "
       ]
      },
      {
       "output_type": "stream",
       "stream": "stdout",
       "text": [
        "591 "
       ]
      },
      {
       "output_type": "stream",
       "stream": "stdout",
       "text": [
        "592 "
       ]
      },
      {
       "output_type": "stream",
       "stream": "stdout",
       "text": [
        "593 "
       ]
      },
      {
       "output_type": "stream",
       "stream": "stdout",
       "text": [
        "594 "
       ]
      },
      {
       "output_type": "stream",
       "stream": "stdout",
       "text": [
        "595 "
       ]
      },
      {
       "output_type": "stream",
       "stream": "stdout",
       "text": [
        "596 "
       ]
      },
      {
       "output_type": "stream",
       "stream": "stdout",
       "text": [
        "597 "
       ]
      },
      {
       "output_type": "stream",
       "stream": "stdout",
       "text": [
        "598 "
       ]
      },
      {
       "output_type": "stream",
       "stream": "stdout",
       "text": [
        "599 "
       ]
      },
      {
       "output_type": "stream",
       "stream": "stdout",
       "text": [
        "600 "
       ]
      },
      {
       "output_type": "stream",
       "stream": "stdout",
       "text": [
        "601 "
       ]
      },
      {
       "output_type": "stream",
       "stream": "stdout",
       "text": [
        "602 "
       ]
      },
      {
       "output_type": "stream",
       "stream": "stdout",
       "text": [
        "603 "
       ]
      },
      {
       "output_type": "stream",
       "stream": "stdout",
       "text": [
        "604 "
       ]
      },
      {
       "output_type": "stream",
       "stream": "stdout",
       "text": [
        "605 "
       ]
      },
      {
       "output_type": "stream",
       "stream": "stdout",
       "text": [
        "606 "
       ]
      },
      {
       "output_type": "stream",
       "stream": "stdout",
       "text": [
        "607 "
       ]
      },
      {
       "output_type": "stream",
       "stream": "stdout",
       "text": [
        "608 "
       ]
      },
      {
       "output_type": "stream",
       "stream": "stdout",
       "text": [
        "609 "
       ]
      },
      {
       "output_type": "stream",
       "stream": "stdout",
       "text": [
        "610 "
       ]
      },
      {
       "output_type": "stream",
       "stream": "stdout",
       "text": [
        "611 "
       ]
      },
      {
       "output_type": "stream",
       "stream": "stdout",
       "text": [
        "612 "
       ]
      },
      {
       "output_type": "stream",
       "stream": "stdout",
       "text": [
        "613 "
       ]
      },
      {
       "output_type": "stream",
       "stream": "stdout",
       "text": [
        "614 "
       ]
      },
      {
       "output_type": "stream",
       "stream": "stdout",
       "text": [
        "615 "
       ]
      },
      {
       "output_type": "stream",
       "stream": "stdout",
       "text": [
        "616 "
       ]
      },
      {
       "output_type": "stream",
       "stream": "stdout",
       "text": [
        "617 "
       ]
      },
      {
       "output_type": "stream",
       "stream": "stdout",
       "text": [
        "618 "
       ]
      },
      {
       "output_type": "stream",
       "stream": "stdout",
       "text": [
        "619 "
       ]
      },
      {
       "output_type": "stream",
       "stream": "stdout",
       "text": [
        "620 "
       ]
      },
      {
       "output_type": "stream",
       "stream": "stdout",
       "text": [
        "621 "
       ]
      },
      {
       "output_type": "stream",
       "stream": "stdout",
       "text": [
        "622 "
       ]
      },
      {
       "output_type": "stream",
       "stream": "stdout",
       "text": [
        "623 "
       ]
      },
      {
       "output_type": "stream",
       "stream": "stdout",
       "text": [
        "624 "
       ]
      },
      {
       "output_type": "stream",
       "stream": "stdout",
       "text": [
        "625 "
       ]
      },
      {
       "output_type": "stream",
       "stream": "stdout",
       "text": [
        "626 "
       ]
      },
      {
       "output_type": "stream",
       "stream": "stdout",
       "text": [
        "627 "
       ]
      },
      {
       "output_type": "stream",
       "stream": "stdout",
       "text": [
        "628 "
       ]
      },
      {
       "output_type": "stream",
       "stream": "stdout",
       "text": [
        "629 "
       ]
      },
      {
       "output_type": "stream",
       "stream": "stdout",
       "text": [
        "630 "
       ]
      },
      {
       "output_type": "stream",
       "stream": "stdout",
       "text": [
        "631 "
       ]
      },
      {
       "output_type": "stream",
       "stream": "stdout",
       "text": [
        "632 "
       ]
      },
      {
       "output_type": "stream",
       "stream": "stdout",
       "text": [
        "633 "
       ]
      },
      {
       "output_type": "stream",
       "stream": "stdout",
       "text": [
        "634 "
       ]
      },
      {
       "output_type": "stream",
       "stream": "stdout",
       "text": [
        "635 "
       ]
      },
      {
       "output_type": "stream",
       "stream": "stdout",
       "text": [
        "636 "
       ]
      },
      {
       "output_type": "stream",
       "stream": "stdout",
       "text": [
        "637 "
       ]
      },
      {
       "output_type": "stream",
       "stream": "stdout",
       "text": [
        "638 "
       ]
      },
      {
       "output_type": "stream",
       "stream": "stdout",
       "text": [
        "639 "
       ]
      },
      {
       "output_type": "stream",
       "stream": "stdout",
       "text": [
        "640 "
       ]
      },
      {
       "output_type": "stream",
       "stream": "stdout",
       "text": [
        "641 "
       ]
      },
      {
       "output_type": "stream",
       "stream": "stdout",
       "text": [
        "642 "
       ]
      },
      {
       "output_type": "stream",
       "stream": "stdout",
       "text": [
        "643 "
       ]
      },
      {
       "output_type": "stream",
       "stream": "stdout",
       "text": [
        "644 "
       ]
      },
      {
       "output_type": "stream",
       "stream": "stdout",
       "text": [
        "645 "
       ]
      },
      {
       "output_type": "stream",
       "stream": "stdout",
       "text": [
        "646 "
       ]
      },
      {
       "output_type": "stream",
       "stream": "stdout",
       "text": [
        "647 "
       ]
      },
      {
       "output_type": "stream",
       "stream": "stdout",
       "text": [
        "648 "
       ]
      },
      {
       "output_type": "stream",
       "stream": "stdout",
       "text": [
        "649 "
       ]
      },
      {
       "output_type": "stream",
       "stream": "stdout",
       "text": [
        "650 "
       ]
      },
      {
       "output_type": "stream",
       "stream": "stdout",
       "text": [
        "651 "
       ]
      },
      {
       "output_type": "stream",
       "stream": "stdout",
       "text": [
        "652 "
       ]
      },
      {
       "output_type": "stream",
       "stream": "stdout",
       "text": [
        "653 "
       ]
      },
      {
       "output_type": "stream",
       "stream": "stdout",
       "text": [
        "654 "
       ]
      },
      {
       "output_type": "stream",
       "stream": "stdout",
       "text": [
        "655 "
       ]
      },
      {
       "output_type": "stream",
       "stream": "stdout",
       "text": [
        "656 "
       ]
      },
      {
       "output_type": "stream",
       "stream": "stdout",
       "text": [
        "657 "
       ]
      },
      {
       "output_type": "stream",
       "stream": "stdout",
       "text": [
        "658 "
       ]
      },
      {
       "output_type": "stream",
       "stream": "stdout",
       "text": [
        "659 "
       ]
      },
      {
       "output_type": "stream",
       "stream": "stdout",
       "text": [
        "660 "
       ]
      },
      {
       "output_type": "stream",
       "stream": "stdout",
       "text": [
        "661 "
       ]
      },
      {
       "output_type": "stream",
       "stream": "stdout",
       "text": [
        "662 "
       ]
      },
      {
       "output_type": "stream",
       "stream": "stdout",
       "text": [
        "663 "
       ]
      },
      {
       "output_type": "stream",
       "stream": "stdout",
       "text": [
        "664 "
       ]
      },
      {
       "output_type": "stream",
       "stream": "stdout",
       "text": [
        "665 "
       ]
      },
      {
       "output_type": "stream",
       "stream": "stdout",
       "text": [
        "666 "
       ]
      },
      {
       "output_type": "stream",
       "stream": "stdout",
       "text": [
        "667 "
       ]
      },
      {
       "output_type": "stream",
       "stream": "stdout",
       "text": [
        "668 "
       ]
      },
      {
       "output_type": "stream",
       "stream": "stdout",
       "text": [
        "669 "
       ]
      },
      {
       "output_type": "stream",
       "stream": "stdout",
       "text": [
        "670 "
       ]
      },
      {
       "output_type": "stream",
       "stream": "stdout",
       "text": [
        "671 "
       ]
      },
      {
       "output_type": "stream",
       "stream": "stdout",
       "text": [
        "672 "
       ]
      },
      {
       "output_type": "stream",
       "stream": "stdout",
       "text": [
        "673 "
       ]
      },
      {
       "output_type": "stream",
       "stream": "stdout",
       "text": [
        "674 "
       ]
      },
      {
       "output_type": "stream",
       "stream": "stdout",
       "text": [
        "675 "
       ]
      },
      {
       "output_type": "stream",
       "stream": "stdout",
       "text": [
        "676 "
       ]
      },
      {
       "output_type": "stream",
       "stream": "stdout",
       "text": [
        "677 "
       ]
      },
      {
       "output_type": "stream",
       "stream": "stdout",
       "text": [
        "678 "
       ]
      },
      {
       "output_type": "stream",
       "stream": "stdout",
       "text": [
        "679 "
       ]
      },
      {
       "output_type": "stream",
       "stream": "stdout",
       "text": [
        "680 "
       ]
      },
      {
       "output_type": "stream",
       "stream": "stdout",
       "text": [
        "681 "
       ]
      },
      {
       "output_type": "stream",
       "stream": "stdout",
       "text": [
        "682 "
       ]
      },
      {
       "output_type": "stream",
       "stream": "stdout",
       "text": [
        "683 "
       ]
      },
      {
       "output_type": "stream",
       "stream": "stdout",
       "text": [
        "684 "
       ]
      },
      {
       "output_type": "stream",
       "stream": "stdout",
       "text": [
        "685 "
       ]
      },
      {
       "output_type": "stream",
       "stream": "stdout",
       "text": [
        "686 "
       ]
      },
      {
       "output_type": "stream",
       "stream": "stdout",
       "text": [
        "687 "
       ]
      },
      {
       "output_type": "stream",
       "stream": "stdout",
       "text": [
        "688 "
       ]
      },
      {
       "output_type": "stream",
       "stream": "stdout",
       "text": [
        "689 "
       ]
      },
      {
       "output_type": "stream",
       "stream": "stdout",
       "text": [
        "690 "
       ]
      },
      {
       "output_type": "stream",
       "stream": "stdout",
       "text": [
        "691 "
       ]
      },
      {
       "output_type": "stream",
       "stream": "stdout",
       "text": [
        "692 "
       ]
      },
      {
       "output_type": "stream",
       "stream": "stdout",
       "text": [
        "693 "
       ]
      },
      {
       "output_type": "stream",
       "stream": "stdout",
       "text": [
        "694 "
       ]
      },
      {
       "output_type": "stream",
       "stream": "stdout",
       "text": [
        "695 "
       ]
      },
      {
       "output_type": "stream",
       "stream": "stdout",
       "text": [
        "696 "
       ]
      },
      {
       "output_type": "stream",
       "stream": "stdout",
       "text": [
        "697 "
       ]
      },
      {
       "output_type": "stream",
       "stream": "stdout",
       "text": [
        "698 "
       ]
      },
      {
       "output_type": "stream",
       "stream": "stdout",
       "text": [
        "699 "
       ]
      },
      {
       "output_type": "stream",
       "stream": "stdout",
       "text": [
        "700 "
       ]
      },
      {
       "output_type": "stream",
       "stream": "stdout",
       "text": [
        "701 "
       ]
      },
      {
       "output_type": "stream",
       "stream": "stdout",
       "text": [
        "702 "
       ]
      },
      {
       "output_type": "stream",
       "stream": "stdout",
       "text": [
        "703 "
       ]
      },
      {
       "output_type": "stream",
       "stream": "stdout",
       "text": [
        "704 "
       ]
      },
      {
       "output_type": "stream",
       "stream": "stdout",
       "text": [
        "705 "
       ]
      },
      {
       "output_type": "stream",
       "stream": "stdout",
       "text": [
        "706 "
       ]
      },
      {
       "output_type": "stream",
       "stream": "stdout",
       "text": [
        "707 "
       ]
      },
      {
       "output_type": "stream",
       "stream": "stdout",
       "text": [
        "708 "
       ]
      },
      {
       "output_type": "stream",
       "stream": "stdout",
       "text": [
        "709 "
       ]
      },
      {
       "output_type": "stream",
       "stream": "stdout",
       "text": [
        "710 "
       ]
      },
      {
       "output_type": "stream",
       "stream": "stdout",
       "text": [
        "711 "
       ]
      },
      {
       "output_type": "stream",
       "stream": "stdout",
       "text": [
        "712 "
       ]
      },
      {
       "output_type": "stream",
       "stream": "stdout",
       "text": [
        "713 "
       ]
      },
      {
       "output_type": "stream",
       "stream": "stdout",
       "text": [
        "714 "
       ]
      },
      {
       "output_type": "stream",
       "stream": "stdout",
       "text": [
        "715 "
       ]
      },
      {
       "output_type": "stream",
       "stream": "stdout",
       "text": [
        "716 "
       ]
      },
      {
       "output_type": "stream",
       "stream": "stdout",
       "text": [
        "717 "
       ]
      },
      {
       "output_type": "stream",
       "stream": "stdout",
       "text": [
        "718 "
       ]
      },
      {
       "output_type": "stream",
       "stream": "stdout",
       "text": [
        "719 "
       ]
      },
      {
       "output_type": "stream",
       "stream": "stdout",
       "text": [
        "720 "
       ]
      },
      {
       "output_type": "stream",
       "stream": "stdout",
       "text": [
        "721 "
       ]
      },
      {
       "output_type": "stream",
       "stream": "stdout",
       "text": [
        "722 "
       ]
      },
      {
       "output_type": "stream",
       "stream": "stdout",
       "text": [
        "723 "
       ]
      },
      {
       "output_type": "stream",
       "stream": "stdout",
       "text": [
        "724 "
       ]
      },
      {
       "output_type": "stream",
       "stream": "stdout",
       "text": [
        "725 "
       ]
      },
      {
       "output_type": "stream",
       "stream": "stdout",
       "text": [
        "726 "
       ]
      },
      {
       "output_type": "stream",
       "stream": "stdout",
       "text": [
        "727 "
       ]
      },
      {
       "output_type": "stream",
       "stream": "stdout",
       "text": [
        "728 "
       ]
      },
      {
       "output_type": "stream",
       "stream": "stdout",
       "text": [
        "729 "
       ]
      },
      {
       "output_type": "stream",
       "stream": "stdout",
       "text": [
        "730 "
       ]
      },
      {
       "output_type": "stream",
       "stream": "stdout",
       "text": [
        "731 "
       ]
      },
      {
       "output_type": "stream",
       "stream": "stdout",
       "text": [
        "732 "
       ]
      },
      {
       "output_type": "stream",
       "stream": "stdout",
       "text": [
        "733 "
       ]
      },
      {
       "output_type": "stream",
       "stream": "stdout",
       "text": [
        "734 "
       ]
      },
      {
       "output_type": "stream",
       "stream": "stdout",
       "text": [
        "735 "
       ]
      },
      {
       "output_type": "stream",
       "stream": "stdout",
       "text": [
        "736 "
       ]
      },
      {
       "output_type": "stream",
       "stream": "stdout",
       "text": [
        "737 "
       ]
      },
      {
       "output_type": "stream",
       "stream": "stdout",
       "text": [
        "738 "
       ]
      },
      {
       "output_type": "stream",
       "stream": "stdout",
       "text": [
        "739 "
       ]
      },
      {
       "output_type": "stream",
       "stream": "stdout",
       "text": [
        "740 "
       ]
      },
      {
       "output_type": "stream",
       "stream": "stdout",
       "text": [
        "741 "
       ]
      },
      {
       "output_type": "stream",
       "stream": "stdout",
       "text": [
        "742 "
       ]
      },
      {
       "output_type": "stream",
       "stream": "stdout",
       "text": [
        "743 "
       ]
      },
      {
       "output_type": "stream",
       "stream": "stdout",
       "text": [
        "744 "
       ]
      },
      {
       "output_type": "stream",
       "stream": "stdout",
       "text": [
        "745 "
       ]
      },
      {
       "output_type": "stream",
       "stream": "stdout",
       "text": [
        "746 "
       ]
      },
      {
       "output_type": "stream",
       "stream": "stdout",
       "text": [
        "747 "
       ]
      },
      {
       "output_type": "stream",
       "stream": "stdout",
       "text": [
        "748 "
       ]
      },
      {
       "output_type": "stream",
       "stream": "stdout",
       "text": [
        "749 "
       ]
      },
      {
       "output_type": "stream",
       "stream": "stdout",
       "text": [
        "750 "
       ]
      },
      {
       "output_type": "stream",
       "stream": "stdout",
       "text": [
        "751 "
       ]
      },
      {
       "output_type": "stream",
       "stream": "stdout",
       "text": [
        "752 "
       ]
      },
      {
       "output_type": "stream",
       "stream": "stdout",
       "text": [
        "753 "
       ]
      },
      {
       "output_type": "stream",
       "stream": "stdout",
       "text": [
        "754 "
       ]
      },
      {
       "output_type": "stream",
       "stream": "stdout",
       "text": [
        "755 "
       ]
      },
      {
       "output_type": "stream",
       "stream": "stdout",
       "text": [
        "756 "
       ]
      },
      {
       "output_type": "stream",
       "stream": "stdout",
       "text": [
        "757 "
       ]
      },
      {
       "output_type": "stream",
       "stream": "stdout",
       "text": [
        "758 "
       ]
      },
      {
       "output_type": "stream",
       "stream": "stdout",
       "text": [
        "759 "
       ]
      },
      {
       "output_type": "stream",
       "stream": "stdout",
       "text": [
        "760 "
       ]
      },
      {
       "output_type": "stream",
       "stream": "stdout",
       "text": [
        "761 "
       ]
      },
      {
       "output_type": "stream",
       "stream": "stdout",
       "text": [
        "762 "
       ]
      },
      {
       "output_type": "stream",
       "stream": "stdout",
       "text": [
        "763 "
       ]
      },
      {
       "output_type": "stream",
       "stream": "stdout",
       "text": [
        "764 "
       ]
      },
      {
       "output_type": "stream",
       "stream": "stdout",
       "text": [
        "765 "
       ]
      },
      {
       "output_type": "stream",
       "stream": "stdout",
       "text": [
        "766 "
       ]
      },
      {
       "output_type": "stream",
       "stream": "stdout",
       "text": [
        "767 "
       ]
      },
      {
       "output_type": "stream",
       "stream": "stdout",
       "text": [
        "768 "
       ]
      },
      {
       "output_type": "stream",
       "stream": "stdout",
       "text": [
        "769 "
       ]
      },
      {
       "output_type": "stream",
       "stream": "stdout",
       "text": [
        "770 "
       ]
      },
      {
       "output_type": "stream",
       "stream": "stdout",
       "text": [
        "771 "
       ]
      },
      {
       "output_type": "stream",
       "stream": "stdout",
       "text": [
        "772 "
       ]
      },
      {
       "output_type": "stream",
       "stream": "stdout",
       "text": [
        "773 "
       ]
      },
      {
       "output_type": "stream",
       "stream": "stdout",
       "text": [
        "774 "
       ]
      },
      {
       "output_type": "stream",
       "stream": "stdout",
       "text": [
        "775 "
       ]
      },
      {
       "output_type": "stream",
       "stream": "stdout",
       "text": [
        "776 "
       ]
      },
      {
       "output_type": "stream",
       "stream": "stdout",
       "text": [
        "777 "
       ]
      },
      {
       "output_type": "stream",
       "stream": "stdout",
       "text": [
        "778 "
       ]
      },
      {
       "output_type": "stream",
       "stream": "stdout",
       "text": [
        "779 "
       ]
      },
      {
       "output_type": "stream",
       "stream": "stdout",
       "text": [
        "780 "
       ]
      },
      {
       "output_type": "stream",
       "stream": "stdout",
       "text": [
        "781 "
       ]
      },
      {
       "output_type": "stream",
       "stream": "stdout",
       "text": [
        "782 "
       ]
      },
      {
       "output_type": "stream",
       "stream": "stdout",
       "text": [
        "783 "
       ]
      },
      {
       "output_type": "stream",
       "stream": "stdout",
       "text": [
        "784 "
       ]
      },
      {
       "output_type": "stream",
       "stream": "stdout",
       "text": [
        "785 "
       ]
      },
      {
       "output_type": "stream",
       "stream": "stdout",
       "text": [
        "786 "
       ]
      },
      {
       "output_type": "stream",
       "stream": "stdout",
       "text": [
        "787 "
       ]
      },
      {
       "output_type": "stream",
       "stream": "stdout",
       "text": [
        "788 "
       ]
      },
      {
       "output_type": "stream",
       "stream": "stdout",
       "text": [
        "789 "
       ]
      },
      {
       "output_type": "stream",
       "stream": "stdout",
       "text": [
        "790 "
       ]
      },
      {
       "output_type": "stream",
       "stream": "stdout",
       "text": [
        "791 "
       ]
      },
      {
       "output_type": "stream",
       "stream": "stdout",
       "text": [
        "792 "
       ]
      },
      {
       "output_type": "stream",
       "stream": "stdout",
       "text": [
        "793 "
       ]
      },
      {
       "output_type": "stream",
       "stream": "stdout",
       "text": [
        "794 "
       ]
      },
      {
       "output_type": "stream",
       "stream": "stdout",
       "text": [
        "795 "
       ]
      },
      {
       "output_type": "stream",
       "stream": "stdout",
       "text": [
        "796 "
       ]
      },
      {
       "output_type": "stream",
       "stream": "stdout",
       "text": [
        "797 "
       ]
      },
      {
       "output_type": "stream",
       "stream": "stdout",
       "text": [
        "798 "
       ]
      },
      {
       "output_type": "stream",
       "stream": "stdout",
       "text": [
        "799 "
       ]
      },
      {
       "output_type": "stream",
       "stream": "stdout",
       "text": [
        "800 "
       ]
      },
      {
       "output_type": "stream",
       "stream": "stdout",
       "text": [
        "801 "
       ]
      },
      {
       "output_type": "stream",
       "stream": "stdout",
       "text": [
        "802 "
       ]
      },
      {
       "output_type": "stream",
       "stream": "stdout",
       "text": [
        "803 "
       ]
      },
      {
       "output_type": "stream",
       "stream": "stdout",
       "text": [
        "804 "
       ]
      },
      {
       "output_type": "stream",
       "stream": "stdout",
       "text": [
        "805 "
       ]
      },
      {
       "output_type": "stream",
       "stream": "stdout",
       "text": [
        "806 "
       ]
      },
      {
       "output_type": "stream",
       "stream": "stdout",
       "text": [
        "807 "
       ]
      },
      {
       "output_type": "stream",
       "stream": "stdout",
       "text": [
        "808 "
       ]
      },
      {
       "output_type": "stream",
       "stream": "stdout",
       "text": [
        "809 "
       ]
      },
      {
       "output_type": "stream",
       "stream": "stdout",
       "text": [
        "810 "
       ]
      },
      {
       "output_type": "stream",
       "stream": "stdout",
       "text": [
        "811 "
       ]
      },
      {
       "output_type": "stream",
       "stream": "stdout",
       "text": [
        "812 "
       ]
      },
      {
       "output_type": "stream",
       "stream": "stdout",
       "text": [
        "813 "
       ]
      },
      {
       "output_type": "stream",
       "stream": "stdout",
       "text": [
        "814 "
       ]
      },
      {
       "output_type": "stream",
       "stream": "stdout",
       "text": [
        "815 "
       ]
      },
      {
       "output_type": "stream",
       "stream": "stdout",
       "text": [
        "816 "
       ]
      },
      {
       "output_type": "stream",
       "stream": "stdout",
       "text": [
        "817 "
       ]
      },
      {
       "output_type": "stream",
       "stream": "stdout",
       "text": [
        "818 "
       ]
      },
      {
       "output_type": "stream",
       "stream": "stdout",
       "text": [
        "819 "
       ]
      },
      {
       "output_type": "stream",
       "stream": "stdout",
       "text": [
        "820 "
       ]
      },
      {
       "output_type": "stream",
       "stream": "stdout",
       "text": [
        "821 "
       ]
      },
      {
       "output_type": "stream",
       "stream": "stdout",
       "text": [
        "822 "
       ]
      },
      {
       "output_type": "stream",
       "stream": "stdout",
       "text": [
        "823 "
       ]
      },
      {
       "output_type": "stream",
       "stream": "stdout",
       "text": [
        "824 "
       ]
      },
      {
       "output_type": "stream",
       "stream": "stdout",
       "text": [
        "825 "
       ]
      },
      {
       "output_type": "stream",
       "stream": "stdout",
       "text": [
        "826 "
       ]
      },
      {
       "output_type": "stream",
       "stream": "stdout",
       "text": [
        "827 "
       ]
      },
      {
       "output_type": "stream",
       "stream": "stdout",
       "text": [
        "828 "
       ]
      },
      {
       "output_type": "stream",
       "stream": "stdout",
       "text": [
        "829 "
       ]
      },
      {
       "output_type": "stream",
       "stream": "stdout",
       "text": [
        "830 "
       ]
      },
      {
       "output_type": "stream",
       "stream": "stdout",
       "text": [
        "831 "
       ]
      },
      {
       "output_type": "stream",
       "stream": "stdout",
       "text": [
        "832 "
       ]
      },
      {
       "output_type": "stream",
       "stream": "stdout",
       "text": [
        "833 "
       ]
      },
      {
       "output_type": "stream",
       "stream": "stdout",
       "text": [
        "834 "
       ]
      },
      {
       "output_type": "stream",
       "stream": "stdout",
       "text": [
        "835 "
       ]
      },
      {
       "output_type": "stream",
       "stream": "stdout",
       "text": [
        "836 "
       ]
      },
      {
       "output_type": "stream",
       "stream": "stdout",
       "text": [
        "837 "
       ]
      },
      {
       "output_type": "stream",
       "stream": "stdout",
       "text": [
        "838 "
       ]
      },
      {
       "output_type": "stream",
       "stream": "stdout",
       "text": [
        "839 "
       ]
      },
      {
       "output_type": "stream",
       "stream": "stdout",
       "text": [
        "840 "
       ]
      },
      {
       "output_type": "stream",
       "stream": "stdout",
       "text": [
        "841 "
       ]
      },
      {
       "output_type": "stream",
       "stream": "stdout",
       "text": [
        "842 "
       ]
      },
      {
       "output_type": "stream",
       "stream": "stdout",
       "text": [
        "843 "
       ]
      },
      {
       "output_type": "stream",
       "stream": "stdout",
       "text": [
        "844 "
       ]
      },
      {
       "output_type": "stream",
       "stream": "stdout",
       "text": [
        "845 "
       ]
      },
      {
       "output_type": "stream",
       "stream": "stdout",
       "text": [
        "846 "
       ]
      },
      {
       "output_type": "stream",
       "stream": "stdout",
       "text": [
        "847 "
       ]
      },
      {
       "output_type": "stream",
       "stream": "stdout",
       "text": [
        "848 "
       ]
      },
      {
       "output_type": "stream",
       "stream": "stdout",
       "text": [
        "849 "
       ]
      },
      {
       "output_type": "stream",
       "stream": "stdout",
       "text": [
        "850 "
       ]
      },
      {
       "output_type": "stream",
       "stream": "stdout",
       "text": [
        "851 "
       ]
      },
      {
       "output_type": "stream",
       "stream": "stdout",
       "text": [
        "852 "
       ]
      },
      {
       "output_type": "stream",
       "stream": "stdout",
       "text": [
        "853 "
       ]
      },
      {
       "output_type": "stream",
       "stream": "stdout",
       "text": [
        "854 "
       ]
      },
      {
       "output_type": "stream",
       "stream": "stdout",
       "text": [
        "855 "
       ]
      },
      {
       "output_type": "stream",
       "stream": "stdout",
       "text": [
        "856 "
       ]
      },
      {
       "output_type": "stream",
       "stream": "stdout",
       "text": [
        "857 "
       ]
      },
      {
       "output_type": "stream",
       "stream": "stdout",
       "text": [
        "858 "
       ]
      },
      {
       "output_type": "stream",
       "stream": "stdout",
       "text": [
        "859 "
       ]
      },
      {
       "output_type": "stream",
       "stream": "stdout",
       "text": [
        "860 "
       ]
      },
      {
       "output_type": "stream",
       "stream": "stdout",
       "text": [
        "861 "
       ]
      },
      {
       "output_type": "stream",
       "stream": "stdout",
       "text": [
        "862 "
       ]
      },
      {
       "output_type": "stream",
       "stream": "stdout",
       "text": [
        "863 "
       ]
      },
      {
       "output_type": "stream",
       "stream": "stdout",
       "text": [
        "864 "
       ]
      },
      {
       "output_type": "stream",
       "stream": "stdout",
       "text": [
        "865 "
       ]
      },
      {
       "output_type": "stream",
       "stream": "stdout",
       "text": [
        "866 "
       ]
      },
      {
       "output_type": "stream",
       "stream": "stdout",
       "text": [
        "867 "
       ]
      },
      {
       "output_type": "stream",
       "stream": "stdout",
       "text": [
        "868 "
       ]
      },
      {
       "output_type": "stream",
       "stream": "stdout",
       "text": [
        "869 "
       ]
      },
      {
       "output_type": "stream",
       "stream": "stdout",
       "text": [
        "870 "
       ]
      },
      {
       "output_type": "stream",
       "stream": "stdout",
       "text": [
        "871 "
       ]
      },
      {
       "output_type": "stream",
       "stream": "stdout",
       "text": [
        "872 "
       ]
      },
      {
       "output_type": "stream",
       "stream": "stdout",
       "text": [
        "873 "
       ]
      },
      {
       "output_type": "stream",
       "stream": "stdout",
       "text": [
        "874 "
       ]
      },
      {
       "output_type": "stream",
       "stream": "stdout",
       "text": [
        "875 "
       ]
      },
      {
       "output_type": "stream",
       "stream": "stdout",
       "text": [
        "876 "
       ]
      },
      {
       "output_type": "stream",
       "stream": "stdout",
       "text": [
        "877 "
       ]
      },
      {
       "output_type": "stream",
       "stream": "stdout",
       "text": [
        "878 "
       ]
      },
      {
       "output_type": "stream",
       "stream": "stdout",
       "text": [
        "879 "
       ]
      },
      {
       "output_type": "stream",
       "stream": "stdout",
       "text": [
        "880 "
       ]
      },
      {
       "output_type": "stream",
       "stream": "stdout",
       "text": [
        "881 "
       ]
      },
      {
       "output_type": "stream",
       "stream": "stdout",
       "text": [
        "882 "
       ]
      },
      {
       "output_type": "stream",
       "stream": "stdout",
       "text": [
        "883 "
       ]
      },
      {
       "output_type": "stream",
       "stream": "stdout",
       "text": [
        "884 "
       ]
      },
      {
       "output_type": "stream",
       "stream": "stdout",
       "text": [
        "885 "
       ]
      },
      {
       "output_type": "stream",
       "stream": "stdout",
       "text": [
        "886 "
       ]
      },
      {
       "output_type": "stream",
       "stream": "stdout",
       "text": [
        "887 "
       ]
      },
      {
       "output_type": "stream",
       "stream": "stdout",
       "text": [
        "888 "
       ]
      },
      {
       "output_type": "stream",
       "stream": "stdout",
       "text": [
        "889 "
       ]
      },
      {
       "output_type": "stream",
       "stream": "stdout",
       "text": [
        "890 "
       ]
      },
      {
       "output_type": "stream",
       "stream": "stdout",
       "text": [
        "891 "
       ]
      },
      {
       "output_type": "stream",
       "stream": "stdout",
       "text": [
        "892 "
       ]
      },
      {
       "output_type": "stream",
       "stream": "stdout",
       "text": [
        "893 "
       ]
      },
      {
       "output_type": "stream",
       "stream": "stdout",
       "text": [
        "894 "
       ]
      },
      {
       "output_type": "stream",
       "stream": "stdout",
       "text": [
        "895 "
       ]
      },
      {
       "output_type": "stream",
       "stream": "stdout",
       "text": [
        "896 "
       ]
      },
      {
       "output_type": "stream",
       "stream": "stdout",
       "text": [
        "897 "
       ]
      },
      {
       "output_type": "stream",
       "stream": "stdout",
       "text": [
        "898 "
       ]
      },
      {
       "output_type": "stream",
       "stream": "stdout",
       "text": [
        "899 "
       ]
      },
      {
       "output_type": "stream",
       "stream": "stdout",
       "text": [
        "900 "
       ]
      },
      {
       "output_type": "stream",
       "stream": "stdout",
       "text": [
        "901 "
       ]
      },
      {
       "output_type": "stream",
       "stream": "stdout",
       "text": [
        "902 "
       ]
      },
      {
       "output_type": "stream",
       "stream": "stdout",
       "text": [
        "903 "
       ]
      },
      {
       "output_type": "stream",
       "stream": "stdout",
       "text": [
        "904 "
       ]
      },
      {
       "output_type": "stream",
       "stream": "stdout",
       "text": [
        "905 "
       ]
      },
      {
       "output_type": "stream",
       "stream": "stdout",
       "text": [
        "906 "
       ]
      },
      {
       "output_type": "stream",
       "stream": "stdout",
       "text": [
        "907 "
       ]
      },
      {
       "output_type": "stream",
       "stream": "stdout",
       "text": [
        "908 "
       ]
      },
      {
       "output_type": "stream",
       "stream": "stdout",
       "text": [
        "909 "
       ]
      },
      {
       "output_type": "stream",
       "stream": "stdout",
       "text": [
        "910 "
       ]
      },
      {
       "output_type": "stream",
       "stream": "stdout",
       "text": [
        "911 "
       ]
      },
      {
       "output_type": "stream",
       "stream": "stdout",
       "text": [
        "912 "
       ]
      },
      {
       "output_type": "stream",
       "stream": "stdout",
       "text": [
        "913 "
       ]
      },
      {
       "output_type": "stream",
       "stream": "stdout",
       "text": [
        "914 "
       ]
      },
      {
       "output_type": "stream",
       "stream": "stdout",
       "text": [
        "915 "
       ]
      },
      {
       "output_type": "stream",
       "stream": "stdout",
       "text": [
        "916 "
       ]
      },
      {
       "output_type": "stream",
       "stream": "stdout",
       "text": [
        "917 "
       ]
      },
      {
       "output_type": "stream",
       "stream": "stdout",
       "text": [
        "918 "
       ]
      },
      {
       "output_type": "stream",
       "stream": "stdout",
       "text": [
        "919 "
       ]
      },
      {
       "output_type": "stream",
       "stream": "stdout",
       "text": [
        "920 "
       ]
      },
      {
       "output_type": "stream",
       "stream": "stdout",
       "text": [
        "921 "
       ]
      },
      {
       "output_type": "stream",
       "stream": "stdout",
       "text": [
        "922 "
       ]
      },
      {
       "output_type": "stream",
       "stream": "stdout",
       "text": [
        "923 "
       ]
      },
      {
       "output_type": "stream",
       "stream": "stdout",
       "text": [
        "924 "
       ]
      },
      {
       "output_type": "stream",
       "stream": "stdout",
       "text": [
        "925 "
       ]
      },
      {
       "output_type": "stream",
       "stream": "stdout",
       "text": [
        "926 "
       ]
      },
      {
       "output_type": "stream",
       "stream": "stdout",
       "text": [
        "927 "
       ]
      },
      {
       "output_type": "stream",
       "stream": "stdout",
       "text": [
        "928 "
       ]
      },
      {
       "output_type": "stream",
       "stream": "stdout",
       "text": [
        "929 "
       ]
      },
      {
       "output_type": "stream",
       "stream": "stdout",
       "text": [
        "930 "
       ]
      },
      {
       "output_type": "stream",
       "stream": "stdout",
       "text": [
        "931 "
       ]
      },
      {
       "output_type": "stream",
       "stream": "stdout",
       "text": [
        "932 "
       ]
      },
      {
       "output_type": "stream",
       "stream": "stdout",
       "text": [
        "933 "
       ]
      },
      {
       "output_type": "stream",
       "stream": "stdout",
       "text": [
        "934 "
       ]
      },
      {
       "output_type": "stream",
       "stream": "stdout",
       "text": [
        "935 "
       ]
      },
      {
       "output_type": "stream",
       "stream": "stdout",
       "text": [
        "936 "
       ]
      },
      {
       "output_type": "stream",
       "stream": "stdout",
       "text": [
        "937 "
       ]
      },
      {
       "output_type": "stream",
       "stream": "stdout",
       "text": [
        "938 "
       ]
      },
      {
       "output_type": "stream",
       "stream": "stdout",
       "text": [
        "939 "
       ]
      },
      {
       "output_type": "stream",
       "stream": "stdout",
       "text": [
        "940 "
       ]
      },
      {
       "output_type": "stream",
       "stream": "stdout",
       "text": [
        "941 "
       ]
      },
      {
       "output_type": "stream",
       "stream": "stdout",
       "text": [
        "942 "
       ]
      },
      {
       "output_type": "stream",
       "stream": "stdout",
       "text": [
        "943 "
       ]
      },
      {
       "output_type": "stream",
       "stream": "stdout",
       "text": [
        "944 "
       ]
      },
      {
       "output_type": "stream",
       "stream": "stdout",
       "text": [
        "945 "
       ]
      },
      {
       "output_type": "stream",
       "stream": "stdout",
       "text": [
        "946 "
       ]
      },
      {
       "output_type": "stream",
       "stream": "stdout",
       "text": [
        "947 "
       ]
      },
      {
       "output_type": "stream",
       "stream": "stdout",
       "text": [
        "948 "
       ]
      },
      {
       "output_type": "stream",
       "stream": "stdout",
       "text": [
        "949 "
       ]
      },
      {
       "output_type": "stream",
       "stream": "stdout",
       "text": [
        "950 "
       ]
      },
      {
       "output_type": "stream",
       "stream": "stdout",
       "text": [
        "951 "
       ]
      },
      {
       "output_type": "stream",
       "stream": "stdout",
       "text": [
        "952 "
       ]
      },
      {
       "output_type": "stream",
       "stream": "stdout",
       "text": [
        "953 "
       ]
      },
      {
       "output_type": "stream",
       "stream": "stdout",
       "text": [
        "954 "
       ]
      },
      {
       "output_type": "stream",
       "stream": "stdout",
       "text": [
        "955 "
       ]
      },
      {
       "output_type": "stream",
       "stream": "stdout",
       "text": [
        "956 "
       ]
      },
      {
       "output_type": "stream",
       "stream": "stdout",
       "text": [
        "957 "
       ]
      },
      {
       "output_type": "stream",
       "stream": "stdout",
       "text": [
        "958 "
       ]
      },
      {
       "output_type": "stream",
       "stream": "stdout",
       "text": [
        "959 "
       ]
      },
      {
       "output_type": "stream",
       "stream": "stdout",
       "text": [
        "960 "
       ]
      },
      {
       "output_type": "stream",
       "stream": "stdout",
       "text": [
        "961 "
       ]
      },
      {
       "output_type": "stream",
       "stream": "stdout",
       "text": [
        "962 "
       ]
      },
      {
       "output_type": "stream",
       "stream": "stdout",
       "text": [
        "963 "
       ]
      },
      {
       "output_type": "stream",
       "stream": "stdout",
       "text": [
        "964 "
       ]
      },
      {
       "output_type": "stream",
       "stream": "stdout",
       "text": [
        "965 "
       ]
      },
      {
       "output_type": "stream",
       "stream": "stdout",
       "text": [
        "966 "
       ]
      },
      {
       "output_type": "stream",
       "stream": "stdout",
       "text": [
        "967 "
       ]
      },
      {
       "output_type": "stream",
       "stream": "stdout",
       "text": [
        "968 "
       ]
      },
      {
       "output_type": "stream",
       "stream": "stdout",
       "text": [
        "969 "
       ]
      },
      {
       "output_type": "stream",
       "stream": "stdout",
       "text": [
        "970 "
       ]
      },
      {
       "output_type": "stream",
       "stream": "stdout",
       "text": [
        "971 "
       ]
      },
      {
       "output_type": "stream",
       "stream": "stdout",
       "text": [
        "972 "
       ]
      },
      {
       "output_type": "stream",
       "stream": "stdout",
       "text": [
        "973 "
       ]
      },
      {
       "output_type": "stream",
       "stream": "stdout",
       "text": [
        "974 "
       ]
      },
      {
       "output_type": "stream",
       "stream": "stdout",
       "text": [
        "975 "
       ]
      },
      {
       "output_type": "stream",
       "stream": "stdout",
       "text": [
        "976 "
       ]
      },
      {
       "output_type": "stream",
       "stream": "stdout",
       "text": [
        "977 "
       ]
      },
      {
       "output_type": "stream",
       "stream": "stdout",
       "text": [
        "978 "
       ]
      },
      {
       "output_type": "stream",
       "stream": "stdout",
       "text": [
        "979 "
       ]
      },
      {
       "output_type": "stream",
       "stream": "stdout",
       "text": [
        "980 "
       ]
      },
      {
       "output_type": "stream",
       "stream": "stdout",
       "text": [
        "981 "
       ]
      },
      {
       "output_type": "stream",
       "stream": "stdout",
       "text": [
        "982 "
       ]
      },
      {
       "output_type": "stream",
       "stream": "stdout",
       "text": [
        "983 "
       ]
      },
      {
       "output_type": "stream",
       "stream": "stdout",
       "text": [
        "984 "
       ]
      },
      {
       "output_type": "stream",
       "stream": "stdout",
       "text": [
        "985 "
       ]
      },
      {
       "output_type": "stream",
       "stream": "stdout",
       "text": [
        "986 "
       ]
      },
      {
       "output_type": "stream",
       "stream": "stdout",
       "text": [
        "987 "
       ]
      },
      {
       "output_type": "stream",
       "stream": "stdout",
       "text": [
        "988 "
       ]
      },
      {
       "output_type": "stream",
       "stream": "stdout",
       "text": [
        "989 "
       ]
      },
      {
       "output_type": "stream",
       "stream": "stdout",
       "text": [
        "990 "
       ]
      },
      {
       "output_type": "stream",
       "stream": "stdout",
       "text": [
        "991 "
       ]
      },
      {
       "output_type": "stream",
       "stream": "stdout",
       "text": [
        "992 "
       ]
      },
      {
       "output_type": "stream",
       "stream": "stdout",
       "text": [
        "993 "
       ]
      },
      {
       "output_type": "stream",
       "stream": "stdout",
       "text": [
        "994 "
       ]
      },
      {
       "output_type": "stream",
       "stream": "stdout",
       "text": [
        "995 "
       ]
      },
      {
       "output_type": "stream",
       "stream": "stdout",
       "text": [
        "996 "
       ]
      },
      {
       "output_type": "stream",
       "stream": "stdout",
       "text": [
        "997 "
       ]
      },
      {
       "output_type": "stream",
       "stream": "stdout",
       "text": [
        "998 "
       ]
      },
      {
       "output_type": "stream",
       "stream": "stdout",
       "text": [
        "999\n"
       ]
      }
     ],
     "prompt_number": 186
    },
    {
     "cell_type": "code",
     "collapsed": false,
     "input": [
      "result_file = open('generation_result_with_pre_rank.txt', 'a')\n",
      "for i, (incorrect, correct) in enumerate(ppairs_test[:1000]):\n",
      "    print i,\n",
      "    test_pairs = [(incorrect, candidate) for candidate in set(dictionary[:20000] + [correct])]\n",
      "    pr = [editdistance.eval(*test_pair) for test_pair in test_pairs]\n",
      "    cr = zip(pr, test_pairs)\n",
      "    cr = sorted(cr, key=lambda x: (x[0], dictionary_rank.get(x[1][1], dictionary_length)))\n",
      "    new_candidates = [candidate[1][1] for candidate in cr[:1000]]\n",
      "    \n",
      "    test_pairs = [(incorrect, candidate) for candidate in new_candidates]\n",
      "    gx_test = fe.transform(test_pairs)\n",
      "    pr = m.predict_proba(gx_test)\n",
      "    cr = zip(pr, test_pairs)\n",
      "    cr = sorted(cr, key=lambda x: -x[0][0])\n",
      "    result_file.write('{} {} {}\\n'.format(incorrect, correct,\n",
      "                      [(candidate[1][1], '{:.5f}'.format(candidate[0][0])) for candidate in cr[:1000]]))\n",
      "    result_file.flush()"
     ],
     "language": "python",
     "metadata": {},
     "outputs": [
      {
       "output_type": "stream",
       "stream": "stdout",
       "text": [
        "0 "
       ]
      },
      {
       "output_type": "stream",
       "stream": "stdout",
       "text": [
        "1 "
       ]
      },
      {
       "output_type": "stream",
       "stream": "stdout",
       "text": [
        "2 "
       ]
      },
      {
       "output_type": "stream",
       "stream": "stdout",
       "text": [
        "3 "
       ]
      },
      {
       "output_type": "stream",
       "stream": "stdout",
       "text": [
        "4 "
       ]
      },
      {
       "output_type": "stream",
       "stream": "stdout",
       "text": [
        "5 "
       ]
      },
      {
       "output_type": "stream",
       "stream": "stdout",
       "text": [
        "6 "
       ]
      },
      {
       "output_type": "stream",
       "stream": "stdout",
       "text": [
        "7 "
       ]
      },
      {
       "output_type": "stream",
       "stream": "stdout",
       "text": [
        "8 "
       ]
      },
      {
       "output_type": "stream",
       "stream": "stdout",
       "text": [
        "9 "
       ]
      },
      {
       "output_type": "stream",
       "stream": "stdout",
       "text": [
        "10 "
       ]
      },
      {
       "output_type": "stream",
       "stream": "stdout",
       "text": [
        "11 "
       ]
      },
      {
       "output_type": "stream",
       "stream": "stdout",
       "text": [
        "12 "
       ]
      },
      {
       "output_type": "stream",
       "stream": "stdout",
       "text": [
        "13 "
       ]
      },
      {
       "output_type": "stream",
       "stream": "stdout",
       "text": [
        "14 "
       ]
      },
      {
       "output_type": "stream",
       "stream": "stdout",
       "text": [
        "15 "
       ]
      },
      {
       "output_type": "stream",
       "stream": "stdout",
       "text": [
        "16 "
       ]
      },
      {
       "output_type": "stream",
       "stream": "stdout",
       "text": [
        "17 "
       ]
      },
      {
       "output_type": "stream",
       "stream": "stdout",
       "text": [
        "18 "
       ]
      },
      {
       "output_type": "stream",
       "stream": "stdout",
       "text": [
        "19 "
       ]
      },
      {
       "output_type": "stream",
       "stream": "stdout",
       "text": [
        "20 "
       ]
      },
      {
       "output_type": "stream",
       "stream": "stdout",
       "text": [
        "21 "
       ]
      },
      {
       "output_type": "stream",
       "stream": "stdout",
       "text": [
        "22 "
       ]
      },
      {
       "output_type": "stream",
       "stream": "stdout",
       "text": [
        "23 "
       ]
      },
      {
       "output_type": "stream",
       "stream": "stdout",
       "text": [
        "24 "
       ]
      },
      {
       "output_type": "stream",
       "stream": "stdout",
       "text": [
        "25 "
       ]
      },
      {
       "output_type": "stream",
       "stream": "stdout",
       "text": [
        "26 "
       ]
      },
      {
       "output_type": "stream",
       "stream": "stdout",
       "text": [
        "27 "
       ]
      },
      {
       "output_type": "stream",
       "stream": "stdout",
       "text": [
        "28 "
       ]
      },
      {
       "output_type": "stream",
       "stream": "stdout",
       "text": [
        "29 "
       ]
      },
      {
       "output_type": "stream",
       "stream": "stdout",
       "text": [
        "30 "
       ]
      },
      {
       "output_type": "stream",
       "stream": "stdout",
       "text": [
        "31 "
       ]
      },
      {
       "output_type": "stream",
       "stream": "stdout",
       "text": [
        "32 "
       ]
      },
      {
       "output_type": "stream",
       "stream": "stdout",
       "text": [
        "33 "
       ]
      },
      {
       "output_type": "stream",
       "stream": "stdout",
       "text": [
        "34 "
       ]
      },
      {
       "output_type": "stream",
       "stream": "stdout",
       "text": [
        "35 "
       ]
      },
      {
       "output_type": "stream",
       "stream": "stdout",
       "text": [
        "36 "
       ]
      },
      {
       "output_type": "stream",
       "stream": "stdout",
       "text": [
        "37 "
       ]
      },
      {
       "output_type": "stream",
       "stream": "stdout",
       "text": [
        "38 "
       ]
      },
      {
       "output_type": "stream",
       "stream": "stdout",
       "text": [
        "39 "
       ]
      },
      {
       "output_type": "stream",
       "stream": "stdout",
       "text": [
        "40 "
       ]
      },
      {
       "output_type": "stream",
       "stream": "stdout",
       "text": [
        "41 "
       ]
      },
      {
       "output_type": "stream",
       "stream": "stdout",
       "text": [
        "42 "
       ]
      },
      {
       "output_type": "stream",
       "stream": "stdout",
       "text": [
        "43 "
       ]
      },
      {
       "output_type": "stream",
       "stream": "stdout",
       "text": [
        "44 "
       ]
      },
      {
       "output_type": "stream",
       "stream": "stdout",
       "text": [
        "45 "
       ]
      },
      {
       "output_type": "stream",
       "stream": "stdout",
       "text": [
        "46 "
       ]
      },
      {
       "output_type": "stream",
       "stream": "stdout",
       "text": [
        "47 "
       ]
      },
      {
       "output_type": "stream",
       "stream": "stdout",
       "text": [
        "48 "
       ]
      },
      {
       "output_type": "stream",
       "stream": "stdout",
       "text": [
        "49 "
       ]
      },
      {
       "output_type": "stream",
       "stream": "stdout",
       "text": [
        "50 "
       ]
      },
      {
       "output_type": "stream",
       "stream": "stdout",
       "text": [
        "51 "
       ]
      },
      {
       "output_type": "stream",
       "stream": "stdout",
       "text": [
        "52 "
       ]
      },
      {
       "output_type": "stream",
       "stream": "stdout",
       "text": [
        "53 "
       ]
      },
      {
       "output_type": "stream",
       "stream": "stdout",
       "text": [
        "54 "
       ]
      },
      {
       "output_type": "stream",
       "stream": "stdout",
       "text": [
        "55 "
       ]
      },
      {
       "output_type": "stream",
       "stream": "stdout",
       "text": [
        "56 "
       ]
      },
      {
       "output_type": "stream",
       "stream": "stdout",
       "text": [
        "57 "
       ]
      },
      {
       "output_type": "stream",
       "stream": "stdout",
       "text": [
        "58 "
       ]
      },
      {
       "output_type": "stream",
       "stream": "stdout",
       "text": [
        "59 "
       ]
      },
      {
       "output_type": "stream",
       "stream": "stdout",
       "text": [
        "60 "
       ]
      },
      {
       "output_type": "stream",
       "stream": "stdout",
       "text": [
        "61 "
       ]
      },
      {
       "output_type": "stream",
       "stream": "stdout",
       "text": [
        "62 "
       ]
      },
      {
       "output_type": "stream",
       "stream": "stdout",
       "text": [
        "63 "
       ]
      },
      {
       "output_type": "stream",
       "stream": "stdout",
       "text": [
        "64 "
       ]
      },
      {
       "output_type": "stream",
       "stream": "stdout",
       "text": [
        "65 "
       ]
      },
      {
       "output_type": "stream",
       "stream": "stdout",
       "text": [
        "66 "
       ]
      },
      {
       "output_type": "stream",
       "stream": "stdout",
       "text": [
        "67 "
       ]
      },
      {
       "output_type": "stream",
       "stream": "stdout",
       "text": [
        "68 "
       ]
      },
      {
       "output_type": "stream",
       "stream": "stdout",
       "text": [
        "69 "
       ]
      },
      {
       "output_type": "stream",
       "stream": "stdout",
       "text": [
        "70 "
       ]
      },
      {
       "output_type": "stream",
       "stream": "stdout",
       "text": [
        "71 "
       ]
      },
      {
       "output_type": "stream",
       "stream": "stdout",
       "text": [
        "72 "
       ]
      },
      {
       "output_type": "stream",
       "stream": "stdout",
       "text": [
        "73 "
       ]
      },
      {
       "output_type": "stream",
       "stream": "stdout",
       "text": [
        "74 "
       ]
      },
      {
       "output_type": "stream",
       "stream": "stdout",
       "text": [
        "75 "
       ]
      },
      {
       "output_type": "stream",
       "stream": "stdout",
       "text": [
        "76 "
       ]
      },
      {
       "output_type": "stream",
       "stream": "stdout",
       "text": [
        "77 "
       ]
      },
      {
       "output_type": "stream",
       "stream": "stdout",
       "text": [
        "78 "
       ]
      },
      {
       "output_type": "stream",
       "stream": "stdout",
       "text": [
        "79 "
       ]
      },
      {
       "output_type": "stream",
       "stream": "stdout",
       "text": [
        "80 "
       ]
      },
      {
       "output_type": "stream",
       "stream": "stdout",
       "text": [
        "81 "
       ]
      },
      {
       "output_type": "stream",
       "stream": "stdout",
       "text": [
        "82 "
       ]
      },
      {
       "output_type": "stream",
       "stream": "stdout",
       "text": [
        "83 "
       ]
      },
      {
       "output_type": "stream",
       "stream": "stdout",
       "text": [
        "84 "
       ]
      },
      {
       "output_type": "stream",
       "stream": "stdout",
       "text": [
        "85 "
       ]
      },
      {
       "output_type": "stream",
       "stream": "stdout",
       "text": [
        "86 "
       ]
      },
      {
       "output_type": "stream",
       "stream": "stdout",
       "text": [
        "87 "
       ]
      },
      {
       "output_type": "stream",
       "stream": "stdout",
       "text": [
        "88 "
       ]
      },
      {
       "output_type": "stream",
       "stream": "stdout",
       "text": [
        "89 "
       ]
      },
      {
       "output_type": "stream",
       "stream": "stdout",
       "text": [
        "90 "
       ]
      },
      {
       "output_type": "stream",
       "stream": "stdout",
       "text": [
        "91 "
       ]
      },
      {
       "output_type": "stream",
       "stream": "stdout",
       "text": [
        "92 "
       ]
      },
      {
       "output_type": "stream",
       "stream": "stdout",
       "text": [
        "93 "
       ]
      },
      {
       "output_type": "stream",
       "stream": "stdout",
       "text": [
        "94 "
       ]
      },
      {
       "output_type": "stream",
       "stream": "stdout",
       "text": [
        "95 "
       ]
      },
      {
       "output_type": "stream",
       "stream": "stdout",
       "text": [
        "96 "
       ]
      },
      {
       "output_type": "stream",
       "stream": "stdout",
       "text": [
        "97 "
       ]
      },
      {
       "output_type": "stream",
       "stream": "stdout",
       "text": [
        "98 "
       ]
      },
      {
       "output_type": "stream",
       "stream": "stdout",
       "text": [
        "99 "
       ]
      },
      {
       "output_type": "stream",
       "stream": "stdout",
       "text": [
        "100 "
       ]
      },
      {
       "output_type": "stream",
       "stream": "stdout",
       "text": [
        "101 "
       ]
      },
      {
       "output_type": "stream",
       "stream": "stdout",
       "text": [
        "102 "
       ]
      },
      {
       "output_type": "stream",
       "stream": "stdout",
       "text": [
        "103 "
       ]
      },
      {
       "output_type": "stream",
       "stream": "stdout",
       "text": [
        "104 "
       ]
      },
      {
       "output_type": "stream",
       "stream": "stdout",
       "text": [
        "105 "
       ]
      },
      {
       "output_type": "stream",
       "stream": "stdout",
       "text": [
        "106 "
       ]
      },
      {
       "output_type": "stream",
       "stream": "stdout",
       "text": [
        "107 "
       ]
      },
      {
       "output_type": "stream",
       "stream": "stdout",
       "text": [
        "108 "
       ]
      },
      {
       "output_type": "stream",
       "stream": "stdout",
       "text": [
        "109 "
       ]
      },
      {
       "output_type": "stream",
       "stream": "stdout",
       "text": [
        "110 "
       ]
      },
      {
       "output_type": "stream",
       "stream": "stdout",
       "text": [
        "111 "
       ]
      },
      {
       "output_type": "stream",
       "stream": "stdout",
       "text": [
        "112 "
       ]
      },
      {
       "output_type": "stream",
       "stream": "stdout",
       "text": [
        "113 "
       ]
      },
      {
       "output_type": "stream",
       "stream": "stdout",
       "text": [
        "114 "
       ]
      },
      {
       "output_type": "stream",
       "stream": "stdout",
       "text": [
        "115 "
       ]
      },
      {
       "output_type": "stream",
       "stream": "stdout",
       "text": [
        "116 "
       ]
      },
      {
       "output_type": "stream",
       "stream": "stdout",
       "text": [
        "117 "
       ]
      },
      {
       "output_type": "stream",
       "stream": "stdout",
       "text": [
        "118 "
       ]
      },
      {
       "output_type": "stream",
       "stream": "stdout",
       "text": [
        "119 "
       ]
      },
      {
       "output_type": "stream",
       "stream": "stdout",
       "text": [
        "120 "
       ]
      },
      {
       "output_type": "stream",
       "stream": "stdout",
       "text": [
        "121 "
       ]
      },
      {
       "output_type": "stream",
       "stream": "stdout",
       "text": [
        "122 "
       ]
      },
      {
       "output_type": "stream",
       "stream": "stdout",
       "text": [
        "123 "
       ]
      },
      {
       "output_type": "stream",
       "stream": "stdout",
       "text": [
        "124 "
       ]
      },
      {
       "output_type": "stream",
       "stream": "stdout",
       "text": [
        "125 "
       ]
      },
      {
       "output_type": "stream",
       "stream": "stdout",
       "text": [
        "126 "
       ]
      },
      {
       "output_type": "stream",
       "stream": "stdout",
       "text": [
        "127 "
       ]
      },
      {
       "output_type": "stream",
       "stream": "stdout",
       "text": [
        "128 "
       ]
      },
      {
       "output_type": "stream",
       "stream": "stdout",
       "text": [
        "129 "
       ]
      },
      {
       "output_type": "stream",
       "stream": "stdout",
       "text": [
        "130 "
       ]
      },
      {
       "output_type": "stream",
       "stream": "stdout",
       "text": [
        "131 "
       ]
      },
      {
       "output_type": "stream",
       "stream": "stdout",
       "text": [
        "132 "
       ]
      },
      {
       "output_type": "stream",
       "stream": "stdout",
       "text": [
        "133 "
       ]
      },
      {
       "output_type": "stream",
       "stream": "stdout",
       "text": [
        "134 "
       ]
      },
      {
       "output_type": "stream",
       "stream": "stdout",
       "text": [
        "135 "
       ]
      },
      {
       "output_type": "stream",
       "stream": "stdout",
       "text": [
        "136 "
       ]
      },
      {
       "output_type": "stream",
       "stream": "stdout",
       "text": [
        "137 "
       ]
      },
      {
       "output_type": "stream",
       "stream": "stdout",
       "text": [
        "138 "
       ]
      },
      {
       "output_type": "stream",
       "stream": "stdout",
       "text": [
        "139 "
       ]
      },
      {
       "output_type": "stream",
       "stream": "stdout",
       "text": [
        "140 "
       ]
      },
      {
       "output_type": "stream",
       "stream": "stdout",
       "text": [
        "141 "
       ]
      },
      {
       "output_type": "stream",
       "stream": "stdout",
       "text": [
        "142 "
       ]
      },
      {
       "output_type": "stream",
       "stream": "stdout",
       "text": [
        "143 "
       ]
      },
      {
       "output_type": "stream",
       "stream": "stdout",
       "text": [
        "144 "
       ]
      },
      {
       "output_type": "stream",
       "stream": "stdout",
       "text": [
        "145 "
       ]
      },
      {
       "output_type": "stream",
       "stream": "stdout",
       "text": [
        "146 "
       ]
      },
      {
       "output_type": "stream",
       "stream": "stdout",
       "text": [
        "147 "
       ]
      },
      {
       "output_type": "stream",
       "stream": "stdout",
       "text": [
        "148 "
       ]
      },
      {
       "output_type": "stream",
       "stream": "stdout",
       "text": [
        "149 "
       ]
      },
      {
       "output_type": "stream",
       "stream": "stdout",
       "text": [
        "150 "
       ]
      },
      {
       "output_type": "stream",
       "stream": "stdout",
       "text": [
        "151 "
       ]
      },
      {
       "output_type": "stream",
       "stream": "stdout",
       "text": [
        "152 "
       ]
      },
      {
       "output_type": "stream",
       "stream": "stdout",
       "text": [
        "153 "
       ]
      },
      {
       "output_type": "stream",
       "stream": "stdout",
       "text": [
        "154 "
       ]
      },
      {
       "output_type": "stream",
       "stream": "stdout",
       "text": [
        "155 "
       ]
      },
      {
       "output_type": "stream",
       "stream": "stdout",
       "text": [
        "156 "
       ]
      },
      {
       "output_type": "stream",
       "stream": "stdout",
       "text": [
        "157 "
       ]
      },
      {
       "output_type": "stream",
       "stream": "stdout",
       "text": [
        "158 "
       ]
      },
      {
       "output_type": "stream",
       "stream": "stdout",
       "text": [
        "159 "
       ]
      },
      {
       "output_type": "stream",
       "stream": "stdout",
       "text": [
        "160 "
       ]
      },
      {
       "output_type": "stream",
       "stream": "stdout",
       "text": [
        "161 "
       ]
      },
      {
       "output_type": "stream",
       "stream": "stdout",
       "text": [
        "162 "
       ]
      },
      {
       "output_type": "stream",
       "stream": "stdout",
       "text": [
        "163 "
       ]
      },
      {
       "output_type": "stream",
       "stream": "stdout",
       "text": [
        "164 "
       ]
      },
      {
       "output_type": "stream",
       "stream": "stdout",
       "text": [
        "165 "
       ]
      },
      {
       "output_type": "stream",
       "stream": "stdout",
       "text": [
        "166 "
       ]
      },
      {
       "output_type": "stream",
       "stream": "stdout",
       "text": [
        "167 "
       ]
      },
      {
       "output_type": "stream",
       "stream": "stdout",
       "text": [
        "168 "
       ]
      },
      {
       "output_type": "stream",
       "stream": "stdout",
       "text": [
        "169 "
       ]
      },
      {
       "output_type": "stream",
       "stream": "stdout",
       "text": [
        "170 "
       ]
      },
      {
       "output_type": "stream",
       "stream": "stdout",
       "text": [
        "171 "
       ]
      },
      {
       "output_type": "stream",
       "stream": "stdout",
       "text": [
        "172 "
       ]
      },
      {
       "output_type": "stream",
       "stream": "stdout",
       "text": [
        "173 "
       ]
      },
      {
       "output_type": "stream",
       "stream": "stdout",
       "text": [
        "174 "
       ]
      },
      {
       "output_type": "stream",
       "stream": "stdout",
       "text": [
        "175 "
       ]
      },
      {
       "output_type": "stream",
       "stream": "stdout",
       "text": [
        "176 "
       ]
      },
      {
       "output_type": "stream",
       "stream": "stdout",
       "text": [
        "177 "
       ]
      },
      {
       "output_type": "stream",
       "stream": "stdout",
       "text": [
        "178 "
       ]
      },
      {
       "output_type": "stream",
       "stream": "stdout",
       "text": [
        "179 "
       ]
      },
      {
       "output_type": "stream",
       "stream": "stdout",
       "text": [
        "180 "
       ]
      },
      {
       "output_type": "stream",
       "stream": "stdout",
       "text": [
        "181 "
       ]
      },
      {
       "output_type": "stream",
       "stream": "stdout",
       "text": [
        "182 "
       ]
      },
      {
       "output_type": "stream",
       "stream": "stdout",
       "text": [
        "183 "
       ]
      },
      {
       "output_type": "stream",
       "stream": "stdout",
       "text": [
        "184 "
       ]
      },
      {
       "output_type": "stream",
       "stream": "stdout",
       "text": [
        "185 "
       ]
      },
      {
       "output_type": "stream",
       "stream": "stdout",
       "text": [
        "186 "
       ]
      },
      {
       "output_type": "stream",
       "stream": "stdout",
       "text": [
        "187 "
       ]
      },
      {
       "output_type": "stream",
       "stream": "stdout",
       "text": [
        "188 "
       ]
      },
      {
       "output_type": "stream",
       "stream": "stdout",
       "text": [
        "189 "
       ]
      },
      {
       "output_type": "stream",
       "stream": "stdout",
       "text": [
        "190 "
       ]
      },
      {
       "output_type": "stream",
       "stream": "stdout",
       "text": [
        "191 "
       ]
      },
      {
       "output_type": "stream",
       "stream": "stdout",
       "text": [
        "192 "
       ]
      },
      {
       "output_type": "stream",
       "stream": "stdout",
       "text": [
        "193 "
       ]
      },
      {
       "output_type": "stream",
       "stream": "stdout",
       "text": [
        "194 "
       ]
      },
      {
       "output_type": "stream",
       "stream": "stdout",
       "text": [
        "195 "
       ]
      },
      {
       "output_type": "stream",
       "stream": "stdout",
       "text": [
        "196 "
       ]
      },
      {
       "output_type": "stream",
       "stream": "stdout",
       "text": [
        "197 "
       ]
      },
      {
       "output_type": "stream",
       "stream": "stdout",
       "text": [
        "198 "
       ]
      },
      {
       "output_type": "stream",
       "stream": "stdout",
       "text": [
        "199 "
       ]
      },
      {
       "output_type": "stream",
       "stream": "stdout",
       "text": [
        "200 "
       ]
      },
      {
       "output_type": "stream",
       "stream": "stdout",
       "text": [
        "201 "
       ]
      },
      {
       "output_type": "stream",
       "stream": "stdout",
       "text": [
        "202 "
       ]
      },
      {
       "output_type": "stream",
       "stream": "stdout",
       "text": [
        "203 "
       ]
      },
      {
       "output_type": "stream",
       "stream": "stdout",
       "text": [
        "204 "
       ]
      },
      {
       "output_type": "stream",
       "stream": "stdout",
       "text": [
        "205 "
       ]
      },
      {
       "output_type": "stream",
       "stream": "stdout",
       "text": [
        "206 "
       ]
      },
      {
       "output_type": "stream",
       "stream": "stdout",
       "text": [
        "207 "
       ]
      },
      {
       "output_type": "stream",
       "stream": "stdout",
       "text": [
        "208 "
       ]
      },
      {
       "output_type": "stream",
       "stream": "stdout",
       "text": [
        "209 "
       ]
      },
      {
       "output_type": "stream",
       "stream": "stdout",
       "text": [
        "210 "
       ]
      },
      {
       "output_type": "stream",
       "stream": "stdout",
       "text": [
        "211 "
       ]
      },
      {
       "output_type": "stream",
       "stream": "stdout",
       "text": [
        "212 "
       ]
      },
      {
       "output_type": "stream",
       "stream": "stdout",
       "text": [
        "213 "
       ]
      },
      {
       "output_type": "stream",
       "stream": "stdout",
       "text": [
        "214 "
       ]
      },
      {
       "output_type": "stream",
       "stream": "stdout",
       "text": [
        "215 "
       ]
      },
      {
       "output_type": "stream",
       "stream": "stdout",
       "text": [
        "216 "
       ]
      },
      {
       "output_type": "stream",
       "stream": "stdout",
       "text": [
        "217 "
       ]
      },
      {
       "output_type": "stream",
       "stream": "stdout",
       "text": [
        "218 "
       ]
      },
      {
       "output_type": "stream",
       "stream": "stdout",
       "text": [
        "219 "
       ]
      },
      {
       "output_type": "stream",
       "stream": "stdout",
       "text": [
        "220 "
       ]
      },
      {
       "output_type": "stream",
       "stream": "stdout",
       "text": [
        "221 "
       ]
      },
      {
       "output_type": "stream",
       "stream": "stdout",
       "text": [
        "222 "
       ]
      },
      {
       "output_type": "stream",
       "stream": "stdout",
       "text": [
        "223 "
       ]
      },
      {
       "output_type": "stream",
       "stream": "stdout",
       "text": [
        "224 "
       ]
      },
      {
       "output_type": "stream",
       "stream": "stdout",
       "text": [
        "225 "
       ]
      },
      {
       "output_type": "stream",
       "stream": "stdout",
       "text": [
        "226 "
       ]
      },
      {
       "output_type": "stream",
       "stream": "stdout",
       "text": [
        "227 "
       ]
      },
      {
       "output_type": "stream",
       "stream": "stdout",
       "text": [
        "228 "
       ]
      },
      {
       "output_type": "stream",
       "stream": "stdout",
       "text": [
        "229 "
       ]
      },
      {
       "output_type": "stream",
       "stream": "stdout",
       "text": [
        "230 "
       ]
      },
      {
       "output_type": "stream",
       "stream": "stdout",
       "text": [
        "231 "
       ]
      },
      {
       "output_type": "stream",
       "stream": "stdout",
       "text": [
        "232 "
       ]
      },
      {
       "output_type": "stream",
       "stream": "stdout",
       "text": [
        "233 "
       ]
      },
      {
       "output_type": "stream",
       "stream": "stdout",
       "text": [
        "234 "
       ]
      },
      {
       "output_type": "stream",
       "stream": "stdout",
       "text": [
        "235 "
       ]
      },
      {
       "output_type": "stream",
       "stream": "stdout",
       "text": [
        "236 "
       ]
      },
      {
       "output_type": "stream",
       "stream": "stdout",
       "text": [
        "237 "
       ]
      },
      {
       "output_type": "stream",
       "stream": "stdout",
       "text": [
        "238 "
       ]
      },
      {
       "output_type": "stream",
       "stream": "stdout",
       "text": [
        "239 "
       ]
      },
      {
       "output_type": "stream",
       "stream": "stdout",
       "text": [
        "240 "
       ]
      },
      {
       "output_type": "stream",
       "stream": "stdout",
       "text": [
        "241 "
       ]
      },
      {
       "output_type": "stream",
       "stream": "stdout",
       "text": [
        "242 "
       ]
      },
      {
       "output_type": "stream",
       "stream": "stdout",
       "text": [
        "243 "
       ]
      },
      {
       "output_type": "stream",
       "stream": "stdout",
       "text": [
        "244 "
       ]
      },
      {
       "output_type": "stream",
       "stream": "stdout",
       "text": [
        "245 "
       ]
      },
      {
       "output_type": "stream",
       "stream": "stdout",
       "text": [
        "246 "
       ]
      },
      {
       "output_type": "stream",
       "stream": "stdout",
       "text": [
        "247 "
       ]
      },
      {
       "output_type": "stream",
       "stream": "stdout",
       "text": [
        "248 "
       ]
      },
      {
       "output_type": "stream",
       "stream": "stdout",
       "text": [
        "249 "
       ]
      },
      {
       "output_type": "stream",
       "stream": "stdout",
       "text": [
        "250 "
       ]
      },
      {
       "output_type": "stream",
       "stream": "stdout",
       "text": [
        "251 "
       ]
      },
      {
       "output_type": "stream",
       "stream": "stdout",
       "text": [
        "252 "
       ]
      },
      {
       "output_type": "stream",
       "stream": "stdout",
       "text": [
        "253 "
       ]
      },
      {
       "output_type": "stream",
       "stream": "stdout",
       "text": [
        "254 "
       ]
      },
      {
       "output_type": "stream",
       "stream": "stdout",
       "text": [
        "255 "
       ]
      },
      {
       "output_type": "stream",
       "stream": "stdout",
       "text": [
        "256 "
       ]
      },
      {
       "output_type": "stream",
       "stream": "stdout",
       "text": [
        "257 "
       ]
      },
      {
       "output_type": "stream",
       "stream": "stdout",
       "text": [
        "258 "
       ]
      },
      {
       "output_type": "stream",
       "stream": "stdout",
       "text": [
        "259 "
       ]
      },
      {
       "output_type": "stream",
       "stream": "stdout",
       "text": [
        "260 "
       ]
      },
      {
       "output_type": "stream",
       "stream": "stdout",
       "text": [
        "261 "
       ]
      },
      {
       "output_type": "stream",
       "stream": "stdout",
       "text": [
        "262 "
       ]
      },
      {
       "output_type": "stream",
       "stream": "stdout",
       "text": [
        "263 "
       ]
      },
      {
       "output_type": "stream",
       "stream": "stdout",
       "text": [
        "264 "
       ]
      },
      {
       "output_type": "stream",
       "stream": "stdout",
       "text": [
        "265 "
       ]
      },
      {
       "output_type": "stream",
       "stream": "stdout",
       "text": [
        "266 "
       ]
      },
      {
       "output_type": "stream",
       "stream": "stdout",
       "text": [
        "267 "
       ]
      },
      {
       "output_type": "stream",
       "stream": "stdout",
       "text": [
        "268 "
       ]
      },
      {
       "output_type": "stream",
       "stream": "stdout",
       "text": [
        "269 "
       ]
      },
      {
       "output_type": "stream",
       "stream": "stdout",
       "text": [
        "270 "
       ]
      },
      {
       "output_type": "stream",
       "stream": "stdout",
       "text": [
        "271 "
       ]
      },
      {
       "output_type": "stream",
       "stream": "stdout",
       "text": [
        "272 "
       ]
      },
      {
       "output_type": "stream",
       "stream": "stdout",
       "text": [
        "273 "
       ]
      },
      {
       "output_type": "stream",
       "stream": "stdout",
       "text": [
        "274 "
       ]
      },
      {
       "output_type": "stream",
       "stream": "stdout",
       "text": [
        "275 "
       ]
      },
      {
       "output_type": "stream",
       "stream": "stdout",
       "text": [
        "276 "
       ]
      },
      {
       "output_type": "stream",
       "stream": "stdout",
       "text": [
        "277 "
       ]
      },
      {
       "output_type": "stream",
       "stream": "stdout",
       "text": [
        "278 "
       ]
      },
      {
       "output_type": "stream",
       "stream": "stdout",
       "text": [
        "279 "
       ]
      },
      {
       "output_type": "stream",
       "stream": "stdout",
       "text": [
        "280 "
       ]
      },
      {
       "output_type": "stream",
       "stream": "stdout",
       "text": [
        "281 "
       ]
      },
      {
       "output_type": "stream",
       "stream": "stdout",
       "text": [
        "282 "
       ]
      },
      {
       "output_type": "stream",
       "stream": "stdout",
       "text": [
        "283 "
       ]
      },
      {
       "output_type": "stream",
       "stream": "stdout",
       "text": [
        "284 "
       ]
      },
      {
       "output_type": "stream",
       "stream": "stdout",
       "text": [
        "285 "
       ]
      },
      {
       "output_type": "stream",
       "stream": "stdout",
       "text": [
        "286 "
       ]
      },
      {
       "output_type": "stream",
       "stream": "stdout",
       "text": [
        "287 "
       ]
      },
      {
       "output_type": "stream",
       "stream": "stdout",
       "text": [
        "288 "
       ]
      },
      {
       "output_type": "stream",
       "stream": "stdout",
       "text": [
        "289 "
       ]
      },
      {
       "output_type": "stream",
       "stream": "stdout",
       "text": [
        "290 "
       ]
      },
      {
       "output_type": "stream",
       "stream": "stdout",
       "text": [
        "291 "
       ]
      },
      {
       "output_type": "stream",
       "stream": "stdout",
       "text": [
        "292 "
       ]
      },
      {
       "output_type": "stream",
       "stream": "stdout",
       "text": [
        "293 "
       ]
      },
      {
       "output_type": "stream",
       "stream": "stdout",
       "text": [
        "294 "
       ]
      },
      {
       "output_type": "stream",
       "stream": "stdout",
       "text": [
        "295 "
       ]
      },
      {
       "output_type": "stream",
       "stream": "stdout",
       "text": [
        "296 "
       ]
      },
      {
       "output_type": "stream",
       "stream": "stdout",
       "text": [
        "297 "
       ]
      },
      {
       "output_type": "stream",
       "stream": "stdout",
       "text": [
        "298 "
       ]
      },
      {
       "output_type": "stream",
       "stream": "stdout",
       "text": [
        "299 "
       ]
      },
      {
       "output_type": "stream",
       "stream": "stdout",
       "text": [
        "300 "
       ]
      },
      {
       "output_type": "stream",
       "stream": "stdout",
       "text": [
        "301 "
       ]
      },
      {
       "output_type": "stream",
       "stream": "stdout",
       "text": [
        "302 "
       ]
      },
      {
       "output_type": "stream",
       "stream": "stdout",
       "text": [
        "303 "
       ]
      },
      {
       "output_type": "stream",
       "stream": "stdout",
       "text": [
        "304 "
       ]
      },
      {
       "output_type": "stream",
       "stream": "stdout",
       "text": [
        "305 "
       ]
      },
      {
       "output_type": "stream",
       "stream": "stdout",
       "text": [
        "306 "
       ]
      },
      {
       "output_type": "stream",
       "stream": "stdout",
       "text": [
        "307 "
       ]
      },
      {
       "output_type": "stream",
       "stream": "stdout",
       "text": [
        "308 "
       ]
      },
      {
       "output_type": "stream",
       "stream": "stdout",
       "text": [
        "309 "
       ]
      },
      {
       "output_type": "stream",
       "stream": "stdout",
       "text": [
        "310 "
       ]
      },
      {
       "output_type": "stream",
       "stream": "stdout",
       "text": [
        "311 "
       ]
      },
      {
       "output_type": "stream",
       "stream": "stdout",
       "text": [
        "312 "
       ]
      },
      {
       "output_type": "stream",
       "stream": "stdout",
       "text": [
        "313 "
       ]
      },
      {
       "output_type": "stream",
       "stream": "stdout",
       "text": [
        "314 "
       ]
      },
      {
       "output_type": "stream",
       "stream": "stdout",
       "text": [
        "315 "
       ]
      },
      {
       "output_type": "stream",
       "stream": "stdout",
       "text": [
        "316 "
       ]
      },
      {
       "output_type": "stream",
       "stream": "stdout",
       "text": [
        "317 "
       ]
      },
      {
       "output_type": "stream",
       "stream": "stdout",
       "text": [
        "318 "
       ]
      },
      {
       "output_type": "stream",
       "stream": "stdout",
       "text": [
        "319 "
       ]
      },
      {
       "output_type": "stream",
       "stream": "stdout",
       "text": [
        "320 "
       ]
      },
      {
       "output_type": "stream",
       "stream": "stdout",
       "text": [
        "321 "
       ]
      },
      {
       "output_type": "stream",
       "stream": "stdout",
       "text": [
        "322 "
       ]
      },
      {
       "output_type": "stream",
       "stream": "stdout",
       "text": [
        "323 "
       ]
      },
      {
       "output_type": "stream",
       "stream": "stdout",
       "text": [
        "324 "
       ]
      },
      {
       "output_type": "stream",
       "stream": "stdout",
       "text": [
        "325 "
       ]
      },
      {
       "output_type": "stream",
       "stream": "stdout",
       "text": [
        "326 "
       ]
      },
      {
       "output_type": "stream",
       "stream": "stdout",
       "text": [
        "327 "
       ]
      },
      {
       "output_type": "stream",
       "stream": "stdout",
       "text": [
        "328 "
       ]
      },
      {
       "output_type": "stream",
       "stream": "stdout",
       "text": [
        "329 "
       ]
      },
      {
       "output_type": "stream",
       "stream": "stdout",
       "text": [
        "330 "
       ]
      },
      {
       "output_type": "stream",
       "stream": "stdout",
       "text": [
        "331 "
       ]
      },
      {
       "output_type": "stream",
       "stream": "stdout",
       "text": [
        "332 "
       ]
      },
      {
       "output_type": "stream",
       "stream": "stdout",
       "text": [
        "333 "
       ]
      },
      {
       "output_type": "stream",
       "stream": "stdout",
       "text": [
        "334 "
       ]
      },
      {
       "output_type": "stream",
       "stream": "stdout",
       "text": [
        "335 "
       ]
      },
      {
       "output_type": "stream",
       "stream": "stdout",
       "text": [
        "336 "
       ]
      },
      {
       "output_type": "stream",
       "stream": "stdout",
       "text": [
        "337 "
       ]
      },
      {
       "output_type": "stream",
       "stream": "stdout",
       "text": [
        "338 "
       ]
      },
      {
       "output_type": "stream",
       "stream": "stdout",
       "text": [
        "339 "
       ]
      },
      {
       "output_type": "stream",
       "stream": "stdout",
       "text": [
        "340 "
       ]
      },
      {
       "output_type": "stream",
       "stream": "stdout",
       "text": [
        "341 "
       ]
      },
      {
       "output_type": "stream",
       "stream": "stdout",
       "text": [
        "342 "
       ]
      },
      {
       "output_type": "stream",
       "stream": "stdout",
       "text": [
        "343 "
       ]
      },
      {
       "output_type": "stream",
       "stream": "stdout",
       "text": [
        "344 "
       ]
      },
      {
       "output_type": "stream",
       "stream": "stdout",
       "text": [
        "345 "
       ]
      },
      {
       "output_type": "stream",
       "stream": "stdout",
       "text": [
        "346 "
       ]
      },
      {
       "output_type": "stream",
       "stream": "stdout",
       "text": [
        "347 "
       ]
      },
      {
       "output_type": "stream",
       "stream": "stdout",
       "text": [
        "348 "
       ]
      },
      {
       "output_type": "stream",
       "stream": "stdout",
       "text": [
        "349 "
       ]
      },
      {
       "output_type": "stream",
       "stream": "stdout",
       "text": [
        "350 "
       ]
      },
      {
       "output_type": "stream",
       "stream": "stdout",
       "text": [
        "351 "
       ]
      },
      {
       "output_type": "stream",
       "stream": "stdout",
       "text": [
        "352 "
       ]
      },
      {
       "output_type": "stream",
       "stream": "stdout",
       "text": [
        "353 "
       ]
      },
      {
       "output_type": "stream",
       "stream": "stdout",
       "text": [
        "354 "
       ]
      },
      {
       "output_type": "stream",
       "stream": "stdout",
       "text": [
        "355 "
       ]
      },
      {
       "output_type": "stream",
       "stream": "stdout",
       "text": [
        "356 "
       ]
      },
      {
       "output_type": "stream",
       "stream": "stdout",
       "text": [
        "357 "
       ]
      },
      {
       "output_type": "stream",
       "stream": "stdout",
       "text": [
        "358 "
       ]
      },
      {
       "output_type": "stream",
       "stream": "stdout",
       "text": [
        "359 "
       ]
      },
      {
       "output_type": "stream",
       "stream": "stdout",
       "text": [
        "360 "
       ]
      },
      {
       "output_type": "stream",
       "stream": "stdout",
       "text": [
        "361 "
       ]
      },
      {
       "output_type": "stream",
       "stream": "stdout",
       "text": [
        "362 "
       ]
      },
      {
       "output_type": "stream",
       "stream": "stdout",
       "text": [
        "363 "
       ]
      },
      {
       "output_type": "stream",
       "stream": "stdout",
       "text": [
        "364 "
       ]
      },
      {
       "output_type": "stream",
       "stream": "stdout",
       "text": [
        "365 "
       ]
      },
      {
       "output_type": "stream",
       "stream": "stdout",
       "text": [
        "366 "
       ]
      },
      {
       "output_type": "stream",
       "stream": "stdout",
       "text": [
        "367 "
       ]
      },
      {
       "output_type": "stream",
       "stream": "stdout",
       "text": [
        "368 "
       ]
      },
      {
       "output_type": "stream",
       "stream": "stdout",
       "text": [
        "369 "
       ]
      },
      {
       "output_type": "stream",
       "stream": "stdout",
       "text": [
        "370 "
       ]
      },
      {
       "output_type": "stream",
       "stream": "stdout",
       "text": [
        "371 "
       ]
      },
      {
       "output_type": "stream",
       "stream": "stdout",
       "text": [
        "372 "
       ]
      },
      {
       "output_type": "stream",
       "stream": "stdout",
       "text": [
        "373 "
       ]
      },
      {
       "output_type": "stream",
       "stream": "stdout",
       "text": [
        "374 "
       ]
      },
      {
       "output_type": "stream",
       "stream": "stdout",
       "text": [
        "375 "
       ]
      },
      {
       "output_type": "stream",
       "stream": "stdout",
       "text": [
        "376 "
       ]
      },
      {
       "output_type": "stream",
       "stream": "stdout",
       "text": [
        "377 "
       ]
      },
      {
       "output_type": "stream",
       "stream": "stdout",
       "text": [
        "378 "
       ]
      },
      {
       "output_type": "stream",
       "stream": "stdout",
       "text": [
        "379 "
       ]
      },
      {
       "output_type": "stream",
       "stream": "stdout",
       "text": [
        "380 "
       ]
      },
      {
       "output_type": "stream",
       "stream": "stdout",
       "text": [
        "381 "
       ]
      },
      {
       "output_type": "stream",
       "stream": "stdout",
       "text": [
        "382 "
       ]
      },
      {
       "output_type": "stream",
       "stream": "stdout",
       "text": [
        "383 "
       ]
      },
      {
       "output_type": "stream",
       "stream": "stdout",
       "text": [
        "384 "
       ]
      },
      {
       "output_type": "stream",
       "stream": "stdout",
       "text": [
        "385 "
       ]
      },
      {
       "output_type": "stream",
       "stream": "stdout",
       "text": [
        "386 "
       ]
      },
      {
       "output_type": "stream",
       "stream": "stdout",
       "text": [
        "387 "
       ]
      },
      {
       "output_type": "stream",
       "stream": "stdout",
       "text": [
        "388 "
       ]
      },
      {
       "output_type": "stream",
       "stream": "stdout",
       "text": [
        "389 "
       ]
      },
      {
       "output_type": "stream",
       "stream": "stdout",
       "text": [
        "390 "
       ]
      },
      {
       "output_type": "stream",
       "stream": "stdout",
       "text": [
        "391 "
       ]
      },
      {
       "output_type": "stream",
       "stream": "stdout",
       "text": [
        "392 "
       ]
      },
      {
       "output_type": "stream",
       "stream": "stdout",
       "text": [
        "393 "
       ]
      },
      {
       "output_type": "stream",
       "stream": "stdout",
       "text": [
        "394 "
       ]
      },
      {
       "output_type": "stream",
       "stream": "stdout",
       "text": [
        "395 "
       ]
      },
      {
       "output_type": "stream",
       "stream": "stdout",
       "text": [
        "396 "
       ]
      },
      {
       "output_type": "stream",
       "stream": "stdout",
       "text": [
        "397 "
       ]
      },
      {
       "output_type": "stream",
       "stream": "stdout",
       "text": [
        "398 "
       ]
      },
      {
       "output_type": "stream",
       "stream": "stdout",
       "text": [
        "399 "
       ]
      },
      {
       "output_type": "stream",
       "stream": "stdout",
       "text": [
        "400 "
       ]
      },
      {
       "output_type": "stream",
       "stream": "stdout",
       "text": [
        "401 "
       ]
      },
      {
       "output_type": "stream",
       "stream": "stdout",
       "text": [
        "402 "
       ]
      },
      {
       "output_type": "stream",
       "stream": "stdout",
       "text": [
        "403 "
       ]
      },
      {
       "output_type": "stream",
       "stream": "stdout",
       "text": [
        "404 "
       ]
      },
      {
       "output_type": "stream",
       "stream": "stdout",
       "text": [
        "405 "
       ]
      },
      {
       "output_type": "stream",
       "stream": "stdout",
       "text": [
        "406 "
       ]
      },
      {
       "output_type": "stream",
       "stream": "stdout",
       "text": [
        "407 "
       ]
      },
      {
       "output_type": "stream",
       "stream": "stdout",
       "text": [
        "408 "
       ]
      },
      {
       "output_type": "stream",
       "stream": "stdout",
       "text": [
        "409 "
       ]
      },
      {
       "output_type": "stream",
       "stream": "stdout",
       "text": [
        "410 "
       ]
      },
      {
       "output_type": "stream",
       "stream": "stdout",
       "text": [
        "411 "
       ]
      },
      {
       "output_type": "stream",
       "stream": "stdout",
       "text": [
        "412 "
       ]
      },
      {
       "output_type": "stream",
       "stream": "stdout",
       "text": [
        "413 "
       ]
      },
      {
       "output_type": "stream",
       "stream": "stdout",
       "text": [
        "414 "
       ]
      },
      {
       "output_type": "stream",
       "stream": "stdout",
       "text": [
        "415 "
       ]
      },
      {
       "output_type": "stream",
       "stream": "stdout",
       "text": [
        "416 "
       ]
      },
      {
       "output_type": "stream",
       "stream": "stdout",
       "text": [
        "417 "
       ]
      },
      {
       "output_type": "stream",
       "stream": "stdout",
       "text": [
        "418 "
       ]
      },
      {
       "output_type": "stream",
       "stream": "stdout",
       "text": [
        "419 "
       ]
      },
      {
       "output_type": "stream",
       "stream": "stdout",
       "text": [
        "420 "
       ]
      },
      {
       "output_type": "stream",
       "stream": "stdout",
       "text": [
        "421 "
       ]
      },
      {
       "output_type": "stream",
       "stream": "stdout",
       "text": [
        "422 "
       ]
      },
      {
       "output_type": "stream",
       "stream": "stdout",
       "text": [
        "423 "
       ]
      },
      {
       "output_type": "stream",
       "stream": "stdout",
       "text": [
        "424 "
       ]
      },
      {
       "output_type": "stream",
       "stream": "stdout",
       "text": [
        "425 "
       ]
      },
      {
       "output_type": "stream",
       "stream": "stdout",
       "text": [
        "426 "
       ]
      },
      {
       "output_type": "stream",
       "stream": "stdout",
       "text": [
        "427 "
       ]
      },
      {
       "output_type": "stream",
       "stream": "stdout",
       "text": [
        "428 "
       ]
      },
      {
       "output_type": "stream",
       "stream": "stdout",
       "text": [
        "429 "
       ]
      },
      {
       "output_type": "stream",
       "stream": "stdout",
       "text": [
        "430 "
       ]
      },
      {
       "output_type": "stream",
       "stream": "stdout",
       "text": [
        "431 "
       ]
      },
      {
       "output_type": "stream",
       "stream": "stdout",
       "text": [
        "432 "
       ]
      },
      {
       "output_type": "stream",
       "stream": "stdout",
       "text": [
        "433 "
       ]
      },
      {
       "output_type": "stream",
       "stream": "stdout",
       "text": [
        "434 "
       ]
      },
      {
       "output_type": "stream",
       "stream": "stdout",
       "text": [
        "435 "
       ]
      },
      {
       "output_type": "stream",
       "stream": "stdout",
       "text": [
        "436 "
       ]
      },
      {
       "output_type": "stream",
       "stream": "stdout",
       "text": [
        "437 "
       ]
      },
      {
       "output_type": "stream",
       "stream": "stdout",
       "text": [
        "438 "
       ]
      },
      {
       "output_type": "stream",
       "stream": "stdout",
       "text": [
        "439 "
       ]
      },
      {
       "output_type": "stream",
       "stream": "stdout",
       "text": [
        "440 "
       ]
      },
      {
       "output_type": "stream",
       "stream": "stdout",
       "text": [
        "441 "
       ]
      },
      {
       "output_type": "stream",
       "stream": "stdout",
       "text": [
        "442 "
       ]
      },
      {
       "output_type": "stream",
       "stream": "stdout",
       "text": [
        "443 "
       ]
      },
      {
       "output_type": "stream",
       "stream": "stdout",
       "text": [
        "444 "
       ]
      },
      {
       "output_type": "stream",
       "stream": "stdout",
       "text": [
        "445 "
       ]
      },
      {
       "output_type": "stream",
       "stream": "stdout",
       "text": [
        "446 "
       ]
      },
      {
       "output_type": "stream",
       "stream": "stdout",
       "text": [
        "447 "
       ]
      },
      {
       "output_type": "stream",
       "stream": "stdout",
       "text": [
        "448 "
       ]
      },
      {
       "output_type": "stream",
       "stream": "stdout",
       "text": [
        "449 "
       ]
      },
      {
       "output_type": "stream",
       "stream": "stdout",
       "text": [
        "450 "
       ]
      },
      {
       "output_type": "stream",
       "stream": "stdout",
       "text": [
        "451 "
       ]
      },
      {
       "output_type": "stream",
       "stream": "stdout",
       "text": [
        "452 "
       ]
      },
      {
       "output_type": "stream",
       "stream": "stdout",
       "text": [
        "453 "
       ]
      },
      {
       "output_type": "stream",
       "stream": "stdout",
       "text": [
        "454 "
       ]
      },
      {
       "output_type": "stream",
       "stream": "stdout",
       "text": [
        "455 "
       ]
      },
      {
       "output_type": "stream",
       "stream": "stdout",
       "text": [
        "456 "
       ]
      },
      {
       "output_type": "stream",
       "stream": "stdout",
       "text": [
        "457 "
       ]
      },
      {
       "output_type": "stream",
       "stream": "stdout",
       "text": [
        "458 "
       ]
      },
      {
       "output_type": "stream",
       "stream": "stdout",
       "text": [
        "459 "
       ]
      },
      {
       "output_type": "stream",
       "stream": "stdout",
       "text": [
        "460 "
       ]
      },
      {
       "output_type": "stream",
       "stream": "stdout",
       "text": [
        "461 "
       ]
      },
      {
       "output_type": "stream",
       "stream": "stdout",
       "text": [
        "462 "
       ]
      },
      {
       "output_type": "stream",
       "stream": "stdout",
       "text": [
        "463 "
       ]
      },
      {
       "output_type": "stream",
       "stream": "stdout",
       "text": [
        "464 "
       ]
      },
      {
       "output_type": "stream",
       "stream": "stdout",
       "text": [
        "465 "
       ]
      },
      {
       "output_type": "stream",
       "stream": "stdout",
       "text": [
        "466 "
       ]
      },
      {
       "output_type": "stream",
       "stream": "stdout",
       "text": [
        "467 "
       ]
      },
      {
       "output_type": "stream",
       "stream": "stdout",
       "text": [
        "468 "
       ]
      },
      {
       "output_type": "stream",
       "stream": "stdout",
       "text": [
        "469 "
       ]
      },
      {
       "output_type": "stream",
       "stream": "stdout",
       "text": [
        "470 "
       ]
      },
      {
       "output_type": "stream",
       "stream": "stdout",
       "text": [
        "471 "
       ]
      },
      {
       "output_type": "stream",
       "stream": "stdout",
       "text": [
        "472 "
       ]
      },
      {
       "output_type": "stream",
       "stream": "stdout",
       "text": [
        "473 "
       ]
      },
      {
       "output_type": "stream",
       "stream": "stdout",
       "text": [
        "474 "
       ]
      },
      {
       "output_type": "stream",
       "stream": "stdout",
       "text": [
        "475 "
       ]
      },
      {
       "output_type": "stream",
       "stream": "stdout",
       "text": [
        "476 "
       ]
      },
      {
       "output_type": "stream",
       "stream": "stdout",
       "text": [
        "477 "
       ]
      },
      {
       "output_type": "stream",
       "stream": "stdout",
       "text": [
        "478 "
       ]
      },
      {
       "output_type": "stream",
       "stream": "stdout",
       "text": [
        "479 "
       ]
      },
      {
       "output_type": "stream",
       "stream": "stdout",
       "text": [
        "480 "
       ]
      },
      {
       "output_type": "stream",
       "stream": "stdout",
       "text": [
        "481 "
       ]
      },
      {
       "output_type": "stream",
       "stream": "stdout",
       "text": [
        "482 "
       ]
      },
      {
       "output_type": "stream",
       "stream": "stdout",
       "text": [
        "483 "
       ]
      },
      {
       "output_type": "stream",
       "stream": "stdout",
       "text": [
        "484 "
       ]
      },
      {
       "output_type": "stream",
       "stream": "stdout",
       "text": [
        "485 "
       ]
      },
      {
       "output_type": "stream",
       "stream": "stdout",
       "text": [
        "486 "
       ]
      },
      {
       "output_type": "stream",
       "stream": "stdout",
       "text": [
        "487 "
       ]
      },
      {
       "output_type": "stream",
       "stream": "stdout",
       "text": [
        "488 "
       ]
      },
      {
       "output_type": "stream",
       "stream": "stdout",
       "text": [
        "489 "
       ]
      },
      {
       "output_type": "stream",
       "stream": "stdout",
       "text": [
        "490 "
       ]
      },
      {
       "output_type": "stream",
       "stream": "stdout",
       "text": [
        "491 "
       ]
      },
      {
       "output_type": "stream",
       "stream": "stdout",
       "text": [
        "492 "
       ]
      },
      {
       "output_type": "stream",
       "stream": "stdout",
       "text": [
        "493 "
       ]
      },
      {
       "output_type": "stream",
       "stream": "stdout",
       "text": [
        "494 "
       ]
      },
      {
       "output_type": "stream",
       "stream": "stdout",
       "text": [
        "495 "
       ]
      },
      {
       "output_type": "stream",
       "stream": "stdout",
       "text": [
        "496 "
       ]
      },
      {
       "output_type": "stream",
       "stream": "stdout",
       "text": [
        "497 "
       ]
      },
      {
       "output_type": "stream",
       "stream": "stdout",
       "text": [
        "498 "
       ]
      },
      {
       "output_type": "stream",
       "stream": "stdout",
       "text": [
        "499 "
       ]
      },
      {
       "output_type": "stream",
       "stream": "stdout",
       "text": [
        "500 "
       ]
      },
      {
       "output_type": "stream",
       "stream": "stdout",
       "text": [
        "501 "
       ]
      },
      {
       "output_type": "stream",
       "stream": "stdout",
       "text": [
        "502 "
       ]
      },
      {
       "output_type": "stream",
       "stream": "stdout",
       "text": [
        "503 "
       ]
      },
      {
       "output_type": "stream",
       "stream": "stdout",
       "text": [
        "504 "
       ]
      },
      {
       "output_type": "stream",
       "stream": "stdout",
       "text": [
        "505 "
       ]
      },
      {
       "output_type": "stream",
       "stream": "stdout",
       "text": [
        "506 "
       ]
      },
      {
       "output_type": "stream",
       "stream": "stdout",
       "text": [
        "507 "
       ]
      },
      {
       "output_type": "stream",
       "stream": "stdout",
       "text": [
        "508 "
       ]
      },
      {
       "output_type": "stream",
       "stream": "stdout",
       "text": [
        "509 "
       ]
      },
      {
       "output_type": "stream",
       "stream": "stdout",
       "text": [
        "510 "
       ]
      },
      {
       "output_type": "stream",
       "stream": "stdout",
       "text": [
        "511 "
       ]
      },
      {
       "output_type": "stream",
       "stream": "stdout",
       "text": [
        "512 "
       ]
      },
      {
       "output_type": "stream",
       "stream": "stdout",
       "text": [
        "513 "
       ]
      },
      {
       "output_type": "stream",
       "stream": "stdout",
       "text": [
        "514 "
       ]
      },
      {
       "output_type": "stream",
       "stream": "stdout",
       "text": [
        "515 "
       ]
      },
      {
       "output_type": "stream",
       "stream": "stdout",
       "text": [
        "516 "
       ]
      },
      {
       "output_type": "stream",
       "stream": "stdout",
       "text": [
        "517 "
       ]
      },
      {
       "output_type": "stream",
       "stream": "stdout",
       "text": [
        "518 "
       ]
      },
      {
       "output_type": "stream",
       "stream": "stdout",
       "text": [
        "519 "
       ]
      },
      {
       "output_type": "stream",
       "stream": "stdout",
       "text": [
        "520 "
       ]
      },
      {
       "output_type": "stream",
       "stream": "stdout",
       "text": [
        "521 "
       ]
      },
      {
       "output_type": "stream",
       "stream": "stdout",
       "text": [
        "522 "
       ]
      },
      {
       "output_type": "stream",
       "stream": "stdout",
       "text": [
        "523 "
       ]
      },
      {
       "output_type": "stream",
       "stream": "stdout",
       "text": [
        "524 "
       ]
      },
      {
       "output_type": "stream",
       "stream": "stdout",
       "text": [
        "525 "
       ]
      },
      {
       "output_type": "stream",
       "stream": "stdout",
       "text": [
        "526 "
       ]
      },
      {
       "output_type": "stream",
       "stream": "stdout",
       "text": [
        "527 "
       ]
      },
      {
       "output_type": "stream",
       "stream": "stdout",
       "text": [
        "528 "
       ]
      },
      {
       "output_type": "stream",
       "stream": "stdout",
       "text": [
        "529 "
       ]
      },
      {
       "output_type": "stream",
       "stream": "stdout",
       "text": [
        "530 "
       ]
      },
      {
       "output_type": "stream",
       "stream": "stdout",
       "text": [
        "531 "
       ]
      },
      {
       "output_type": "stream",
       "stream": "stdout",
       "text": [
        "532 "
       ]
      },
      {
       "output_type": "stream",
       "stream": "stdout",
       "text": [
        "533 "
       ]
      },
      {
       "output_type": "stream",
       "stream": "stdout",
       "text": [
        "534 "
       ]
      },
      {
       "output_type": "stream",
       "stream": "stdout",
       "text": [
        "535 "
       ]
      },
      {
       "output_type": "stream",
       "stream": "stdout",
       "text": [
        "536 "
       ]
      },
      {
       "output_type": "stream",
       "stream": "stdout",
       "text": [
        "537 "
       ]
      },
      {
       "output_type": "stream",
       "stream": "stdout",
       "text": [
        "538 "
       ]
      },
      {
       "output_type": "stream",
       "stream": "stdout",
       "text": [
        "539 "
       ]
      },
      {
       "output_type": "stream",
       "stream": "stdout",
       "text": [
        "540 "
       ]
      },
      {
       "output_type": "stream",
       "stream": "stdout",
       "text": [
        "541 "
       ]
      },
      {
       "output_type": "stream",
       "stream": "stdout",
       "text": [
        "542 "
       ]
      },
      {
       "output_type": "stream",
       "stream": "stdout",
       "text": [
        "543 "
       ]
      },
      {
       "output_type": "stream",
       "stream": "stdout",
       "text": [
        "544 "
       ]
      },
      {
       "output_type": "stream",
       "stream": "stdout",
       "text": [
        "545 "
       ]
      },
      {
       "output_type": "stream",
       "stream": "stdout",
       "text": [
        "546 "
       ]
      },
      {
       "output_type": "stream",
       "stream": "stdout",
       "text": [
        "547 "
       ]
      },
      {
       "output_type": "stream",
       "stream": "stdout",
       "text": [
        "548 "
       ]
      },
      {
       "output_type": "stream",
       "stream": "stdout",
       "text": [
        "549 "
       ]
      },
      {
       "output_type": "stream",
       "stream": "stdout",
       "text": [
        "550 "
       ]
      },
      {
       "output_type": "stream",
       "stream": "stdout",
       "text": [
        "551 "
       ]
      },
      {
       "output_type": "stream",
       "stream": "stdout",
       "text": [
        "552 "
       ]
      },
      {
       "output_type": "stream",
       "stream": "stdout",
       "text": [
        "553 "
       ]
      },
      {
       "output_type": "stream",
       "stream": "stdout",
       "text": [
        "554 "
       ]
      },
      {
       "output_type": "stream",
       "stream": "stdout",
       "text": [
        "555 "
       ]
      },
      {
       "output_type": "stream",
       "stream": "stdout",
       "text": [
        "556 "
       ]
      },
      {
       "output_type": "stream",
       "stream": "stdout",
       "text": [
        "557 "
       ]
      },
      {
       "output_type": "stream",
       "stream": "stdout",
       "text": [
        "558 "
       ]
      },
      {
       "output_type": "stream",
       "stream": "stdout",
       "text": [
        "559 "
       ]
      },
      {
       "output_type": "stream",
       "stream": "stdout",
       "text": [
        "560 "
       ]
      },
      {
       "output_type": "stream",
       "stream": "stdout",
       "text": [
        "561 "
       ]
      },
      {
       "output_type": "stream",
       "stream": "stdout",
       "text": [
        "562 "
       ]
      },
      {
       "output_type": "stream",
       "stream": "stdout",
       "text": [
        "563 "
       ]
      },
      {
       "output_type": "stream",
       "stream": "stdout",
       "text": [
        "564 "
       ]
      },
      {
       "output_type": "stream",
       "stream": "stdout",
       "text": [
        "565 "
       ]
      },
      {
       "output_type": "stream",
       "stream": "stdout",
       "text": [
        "566 "
       ]
      },
      {
       "output_type": "stream",
       "stream": "stdout",
       "text": [
        "567 "
       ]
      },
      {
       "output_type": "stream",
       "stream": "stdout",
       "text": [
        "568 "
       ]
      },
      {
       "output_type": "stream",
       "stream": "stdout",
       "text": [
        "569 "
       ]
      },
      {
       "output_type": "stream",
       "stream": "stdout",
       "text": [
        "570 "
       ]
      },
      {
       "output_type": "stream",
       "stream": "stdout",
       "text": [
        "571 "
       ]
      },
      {
       "output_type": "stream",
       "stream": "stdout",
       "text": [
        "572 "
       ]
      },
      {
       "output_type": "stream",
       "stream": "stdout",
       "text": [
        "573 "
       ]
      },
      {
       "output_type": "stream",
       "stream": "stdout",
       "text": [
        "574 "
       ]
      },
      {
       "output_type": "stream",
       "stream": "stdout",
       "text": [
        "575 "
       ]
      },
      {
       "output_type": "stream",
       "stream": "stdout",
       "text": [
        "576 "
       ]
      },
      {
       "output_type": "stream",
       "stream": "stdout",
       "text": [
        "577 "
       ]
      },
      {
       "output_type": "stream",
       "stream": "stdout",
       "text": [
        "578 "
       ]
      },
      {
       "output_type": "stream",
       "stream": "stdout",
       "text": [
        "579 "
       ]
      },
      {
       "output_type": "stream",
       "stream": "stdout",
       "text": [
        "580 "
       ]
      },
      {
       "output_type": "stream",
       "stream": "stdout",
       "text": [
        "581 "
       ]
      },
      {
       "output_type": "stream",
       "stream": "stdout",
       "text": [
        "582 "
       ]
      },
      {
       "output_type": "stream",
       "stream": "stdout",
       "text": [
        "583 "
       ]
      },
      {
       "output_type": "stream",
       "stream": "stdout",
       "text": [
        "584 "
       ]
      },
      {
       "output_type": "stream",
       "stream": "stdout",
       "text": [
        "585 "
       ]
      },
      {
       "output_type": "stream",
       "stream": "stdout",
       "text": [
        "586 "
       ]
      },
      {
       "output_type": "stream",
       "stream": "stdout",
       "text": [
        "587 "
       ]
      },
      {
       "output_type": "stream",
       "stream": "stdout",
       "text": [
        "588 "
       ]
      },
      {
       "output_type": "stream",
       "stream": "stdout",
       "text": [
        "589 "
       ]
      },
      {
       "output_type": "stream",
       "stream": "stdout",
       "text": [
        "590 "
       ]
      },
      {
       "output_type": "stream",
       "stream": "stdout",
       "text": [
        "591 "
       ]
      },
      {
       "output_type": "stream",
       "stream": "stdout",
       "text": [
        "592 "
       ]
      },
      {
       "output_type": "stream",
       "stream": "stdout",
       "text": [
        "593 "
       ]
      },
      {
       "output_type": "stream",
       "stream": "stdout",
       "text": [
        "594 "
       ]
      },
      {
       "output_type": "stream",
       "stream": "stdout",
       "text": [
        "595 "
       ]
      },
      {
       "output_type": "stream",
       "stream": "stdout",
       "text": [
        "596 "
       ]
      },
      {
       "output_type": "stream",
       "stream": "stdout",
       "text": [
        "597 "
       ]
      },
      {
       "output_type": "stream",
       "stream": "stdout",
       "text": [
        "598 "
       ]
      },
      {
       "output_type": "stream",
       "stream": "stdout",
       "text": [
        "599 "
       ]
      },
      {
       "output_type": "stream",
       "stream": "stdout",
       "text": [
        "600 "
       ]
      },
      {
       "output_type": "stream",
       "stream": "stdout",
       "text": [
        "601 "
       ]
      },
      {
       "output_type": "stream",
       "stream": "stdout",
       "text": [
        "602 "
       ]
      },
      {
       "output_type": "stream",
       "stream": "stdout",
       "text": [
        "603 "
       ]
      },
      {
       "output_type": "stream",
       "stream": "stdout",
       "text": [
        "604 "
       ]
      },
      {
       "output_type": "stream",
       "stream": "stdout",
       "text": [
        "605 "
       ]
      },
      {
       "output_type": "stream",
       "stream": "stdout",
       "text": [
        "606 "
       ]
      },
      {
       "output_type": "stream",
       "stream": "stdout",
       "text": [
        "607 "
       ]
      },
      {
       "output_type": "stream",
       "stream": "stdout",
       "text": [
        "608 "
       ]
      },
      {
       "output_type": "stream",
       "stream": "stdout",
       "text": [
        "609 "
       ]
      },
      {
       "output_type": "stream",
       "stream": "stdout",
       "text": [
        "610 "
       ]
      },
      {
       "output_type": "stream",
       "stream": "stdout",
       "text": [
        "611 "
       ]
      },
      {
       "output_type": "stream",
       "stream": "stdout",
       "text": [
        "612 "
       ]
      },
      {
       "output_type": "stream",
       "stream": "stdout",
       "text": [
        "613 "
       ]
      },
      {
       "output_type": "stream",
       "stream": "stdout",
       "text": [
        "614 "
       ]
      },
      {
       "output_type": "stream",
       "stream": "stdout",
       "text": [
        "615 "
       ]
      },
      {
       "output_type": "stream",
       "stream": "stdout",
       "text": [
        "616 "
       ]
      },
      {
       "output_type": "stream",
       "stream": "stdout",
       "text": [
        "617 "
       ]
      },
      {
       "output_type": "stream",
       "stream": "stdout",
       "text": [
        "618 "
       ]
      },
      {
       "output_type": "stream",
       "stream": "stdout",
       "text": [
        "619 "
       ]
      },
      {
       "output_type": "stream",
       "stream": "stdout",
       "text": [
        "620 "
       ]
      },
      {
       "output_type": "stream",
       "stream": "stdout",
       "text": [
        "621 "
       ]
      },
      {
       "output_type": "stream",
       "stream": "stdout",
       "text": [
        "622 "
       ]
      },
      {
       "output_type": "stream",
       "stream": "stdout",
       "text": [
        "623 "
       ]
      },
      {
       "output_type": "stream",
       "stream": "stdout",
       "text": [
        "624 "
       ]
      },
      {
       "output_type": "stream",
       "stream": "stdout",
       "text": [
        "625 "
       ]
      },
      {
       "output_type": "stream",
       "stream": "stdout",
       "text": [
        "626 "
       ]
      },
      {
       "output_type": "stream",
       "stream": "stdout",
       "text": [
        "627 "
       ]
      },
      {
       "output_type": "stream",
       "stream": "stdout",
       "text": [
        "628 "
       ]
      },
      {
       "output_type": "stream",
       "stream": "stdout",
       "text": [
        "629 "
       ]
      },
      {
       "output_type": "stream",
       "stream": "stdout",
       "text": [
        "630 "
       ]
      },
      {
       "output_type": "stream",
       "stream": "stdout",
       "text": [
        "631 "
       ]
      },
      {
       "output_type": "stream",
       "stream": "stdout",
       "text": [
        "632 "
       ]
      },
      {
       "output_type": "stream",
       "stream": "stdout",
       "text": [
        "633 "
       ]
      },
      {
       "output_type": "stream",
       "stream": "stdout",
       "text": [
        "634 "
       ]
      },
      {
       "output_type": "stream",
       "stream": "stdout",
       "text": [
        "635 "
       ]
      },
      {
       "output_type": "stream",
       "stream": "stdout",
       "text": [
        "636 "
       ]
      },
      {
       "output_type": "stream",
       "stream": "stdout",
       "text": [
        "637 "
       ]
      },
      {
       "output_type": "stream",
       "stream": "stdout",
       "text": [
        "638 "
       ]
      },
      {
       "output_type": "stream",
       "stream": "stdout",
       "text": [
        "639 "
       ]
      },
      {
       "output_type": "stream",
       "stream": "stdout",
       "text": [
        "640 "
       ]
      },
      {
       "output_type": "stream",
       "stream": "stdout",
       "text": [
        "641 "
       ]
      },
      {
       "output_type": "stream",
       "stream": "stdout",
       "text": [
        "642 "
       ]
      },
      {
       "output_type": "stream",
       "stream": "stdout",
       "text": [
        "643 "
       ]
      },
      {
       "output_type": "stream",
       "stream": "stdout",
       "text": [
        "644 "
       ]
      },
      {
       "output_type": "stream",
       "stream": "stdout",
       "text": [
        "645 "
       ]
      },
      {
       "output_type": "stream",
       "stream": "stdout",
       "text": [
        "646 "
       ]
      },
      {
       "output_type": "stream",
       "stream": "stdout",
       "text": [
        "647 "
       ]
      },
      {
       "output_type": "stream",
       "stream": "stdout",
       "text": [
        "648 "
       ]
      },
      {
       "output_type": "stream",
       "stream": "stdout",
       "text": [
        "649 "
       ]
      },
      {
       "output_type": "stream",
       "stream": "stdout",
       "text": [
        "650 "
       ]
      },
      {
       "output_type": "stream",
       "stream": "stdout",
       "text": [
        "651 "
       ]
      },
      {
       "output_type": "stream",
       "stream": "stdout",
       "text": [
        "652 "
       ]
      },
      {
       "output_type": "stream",
       "stream": "stdout",
       "text": [
        "653 "
       ]
      },
      {
       "output_type": "stream",
       "stream": "stdout",
       "text": [
        "654 "
       ]
      },
      {
       "output_type": "stream",
       "stream": "stdout",
       "text": [
        "655 "
       ]
      },
      {
       "output_type": "stream",
       "stream": "stdout",
       "text": [
        "656 "
       ]
      },
      {
       "output_type": "stream",
       "stream": "stdout",
       "text": [
        "657 "
       ]
      },
      {
       "output_type": "stream",
       "stream": "stdout",
       "text": [
        "658 "
       ]
      },
      {
       "output_type": "stream",
       "stream": "stdout",
       "text": [
        "659 "
       ]
      },
      {
       "output_type": "stream",
       "stream": "stdout",
       "text": [
        "660 "
       ]
      },
      {
       "output_type": "stream",
       "stream": "stdout",
       "text": [
        "661 "
       ]
      },
      {
       "output_type": "stream",
       "stream": "stdout",
       "text": [
        "662 "
       ]
      },
      {
       "output_type": "stream",
       "stream": "stdout",
       "text": [
        "663 "
       ]
      },
      {
       "output_type": "stream",
       "stream": "stdout",
       "text": [
        "664 "
       ]
      },
      {
       "output_type": "stream",
       "stream": "stdout",
       "text": [
        "665 "
       ]
      },
      {
       "output_type": "stream",
       "stream": "stdout",
       "text": [
        "666 "
       ]
      },
      {
       "output_type": "stream",
       "stream": "stdout",
       "text": [
        "667 "
       ]
      },
      {
       "output_type": "stream",
       "stream": "stdout",
       "text": [
        "668 "
       ]
      },
      {
       "output_type": "stream",
       "stream": "stdout",
       "text": [
        "669 "
       ]
      },
      {
       "output_type": "stream",
       "stream": "stdout",
       "text": [
        "670 "
       ]
      },
      {
       "output_type": "stream",
       "stream": "stdout",
       "text": [
        "671 "
       ]
      },
      {
       "output_type": "stream",
       "stream": "stdout",
       "text": [
        "672 "
       ]
      },
      {
       "output_type": "stream",
       "stream": "stdout",
       "text": [
        "673 "
       ]
      },
      {
       "output_type": "stream",
       "stream": "stdout",
       "text": [
        "674 "
       ]
      },
      {
       "output_type": "stream",
       "stream": "stdout",
       "text": [
        "675 "
       ]
      },
      {
       "output_type": "stream",
       "stream": "stdout",
       "text": [
        "676 "
       ]
      },
      {
       "output_type": "stream",
       "stream": "stdout",
       "text": [
        "677 "
       ]
      },
      {
       "output_type": "stream",
       "stream": "stdout",
       "text": [
        "678 "
       ]
      },
      {
       "output_type": "stream",
       "stream": "stdout",
       "text": [
        "679 "
       ]
      },
      {
       "output_type": "stream",
       "stream": "stdout",
       "text": [
        "680 "
       ]
      },
      {
       "output_type": "stream",
       "stream": "stdout",
       "text": [
        "681 "
       ]
      },
      {
       "output_type": "stream",
       "stream": "stdout",
       "text": [
        "682 "
       ]
      },
      {
       "output_type": "stream",
       "stream": "stdout",
       "text": [
        "683 "
       ]
      },
      {
       "output_type": "stream",
       "stream": "stdout",
       "text": [
        "684 "
       ]
      },
      {
       "output_type": "stream",
       "stream": "stdout",
       "text": [
        "685 "
       ]
      },
      {
       "output_type": "stream",
       "stream": "stdout",
       "text": [
        "686 "
       ]
      },
      {
       "output_type": "stream",
       "stream": "stdout",
       "text": [
        "687 "
       ]
      },
      {
       "output_type": "stream",
       "stream": "stdout",
       "text": [
        "688 "
       ]
      },
      {
       "output_type": "stream",
       "stream": "stdout",
       "text": [
        "689 "
       ]
      },
      {
       "output_type": "stream",
       "stream": "stdout",
       "text": [
        "690 "
       ]
      },
      {
       "output_type": "stream",
       "stream": "stdout",
       "text": [
        "691 "
       ]
      },
      {
       "output_type": "stream",
       "stream": "stdout",
       "text": [
        "692 "
       ]
      },
      {
       "output_type": "stream",
       "stream": "stdout",
       "text": [
        "693 "
       ]
      },
      {
       "output_type": "stream",
       "stream": "stdout",
       "text": [
        "694 "
       ]
      },
      {
       "output_type": "stream",
       "stream": "stdout",
       "text": [
        "695 "
       ]
      },
      {
       "output_type": "stream",
       "stream": "stdout",
       "text": [
        "696 "
       ]
      },
      {
       "output_type": "stream",
       "stream": "stdout",
       "text": [
        "697 "
       ]
      },
      {
       "output_type": "stream",
       "stream": "stdout",
       "text": [
        "698 "
       ]
      },
      {
       "output_type": "stream",
       "stream": "stdout",
       "text": [
        "699 "
       ]
      },
      {
       "output_type": "stream",
       "stream": "stdout",
       "text": [
        "700 "
       ]
      },
      {
       "output_type": "stream",
       "stream": "stdout",
       "text": [
        "701 "
       ]
      },
      {
       "output_type": "stream",
       "stream": "stdout",
       "text": [
        "702 "
       ]
      },
      {
       "output_type": "stream",
       "stream": "stdout",
       "text": [
        "703 "
       ]
      },
      {
       "output_type": "stream",
       "stream": "stdout",
       "text": [
        "704 "
       ]
      },
      {
       "output_type": "stream",
       "stream": "stdout",
       "text": [
        "705 "
       ]
      },
      {
       "output_type": "stream",
       "stream": "stdout",
       "text": [
        "706 "
       ]
      },
      {
       "output_type": "stream",
       "stream": "stdout",
       "text": [
        "707 "
       ]
      },
      {
       "output_type": "stream",
       "stream": "stdout",
       "text": [
        "708 "
       ]
      },
      {
       "output_type": "stream",
       "stream": "stdout",
       "text": [
        "709 "
       ]
      },
      {
       "output_type": "stream",
       "stream": "stdout",
       "text": [
        "710 "
       ]
      },
      {
       "output_type": "stream",
       "stream": "stdout",
       "text": [
        "711 "
       ]
      },
      {
       "output_type": "stream",
       "stream": "stdout",
       "text": [
        "712 "
       ]
      },
      {
       "output_type": "stream",
       "stream": "stdout",
       "text": [
        "713 "
       ]
      },
      {
       "output_type": "stream",
       "stream": "stdout",
       "text": [
        "714 "
       ]
      },
      {
       "output_type": "stream",
       "stream": "stdout",
       "text": [
        "715 "
       ]
      },
      {
       "output_type": "stream",
       "stream": "stdout",
       "text": [
        "716 "
       ]
      },
      {
       "output_type": "stream",
       "stream": "stdout",
       "text": [
        "717 "
       ]
      },
      {
       "output_type": "stream",
       "stream": "stdout",
       "text": [
        "718 "
       ]
      },
      {
       "output_type": "stream",
       "stream": "stdout",
       "text": [
        "719 "
       ]
      },
      {
       "output_type": "stream",
       "stream": "stdout",
       "text": [
        "720 "
       ]
      },
      {
       "output_type": "stream",
       "stream": "stdout",
       "text": [
        "721 "
       ]
      },
      {
       "output_type": "stream",
       "stream": "stdout",
       "text": [
        "722 "
       ]
      },
      {
       "output_type": "stream",
       "stream": "stdout",
       "text": [
        "723 "
       ]
      },
      {
       "output_type": "stream",
       "stream": "stdout",
       "text": [
        "724 "
       ]
      },
      {
       "output_type": "stream",
       "stream": "stdout",
       "text": [
        "725 "
       ]
      },
      {
       "output_type": "stream",
       "stream": "stdout",
       "text": [
        "726 "
       ]
      },
      {
       "output_type": "stream",
       "stream": "stdout",
       "text": [
        "727 "
       ]
      },
      {
       "output_type": "stream",
       "stream": "stdout",
       "text": [
        "728 "
       ]
      },
      {
       "output_type": "stream",
       "stream": "stdout",
       "text": [
        "729 "
       ]
      },
      {
       "output_type": "stream",
       "stream": "stdout",
       "text": [
        "730 "
       ]
      },
      {
       "output_type": "stream",
       "stream": "stdout",
       "text": [
        "731 "
       ]
      },
      {
       "output_type": "stream",
       "stream": "stdout",
       "text": [
        "732 "
       ]
      },
      {
       "output_type": "stream",
       "stream": "stdout",
       "text": [
        "733 "
       ]
      },
      {
       "output_type": "stream",
       "stream": "stdout",
       "text": [
        "734 "
       ]
      },
      {
       "output_type": "stream",
       "stream": "stdout",
       "text": [
        "735 "
       ]
      },
      {
       "output_type": "stream",
       "stream": "stdout",
       "text": [
        "736 "
       ]
      },
      {
       "output_type": "stream",
       "stream": "stdout",
       "text": [
        "737 "
       ]
      },
      {
       "output_type": "stream",
       "stream": "stdout",
       "text": [
        "738 "
       ]
      },
      {
       "output_type": "stream",
       "stream": "stdout",
       "text": [
        "739 "
       ]
      },
      {
       "output_type": "stream",
       "stream": "stdout",
       "text": [
        "740 "
       ]
      },
      {
       "output_type": "stream",
       "stream": "stdout",
       "text": [
        "741 "
       ]
      },
      {
       "output_type": "stream",
       "stream": "stdout",
       "text": [
        "742 "
       ]
      },
      {
       "output_type": "stream",
       "stream": "stdout",
       "text": [
        "743 "
       ]
      },
      {
       "output_type": "stream",
       "stream": "stdout",
       "text": [
        "744 "
       ]
      },
      {
       "output_type": "stream",
       "stream": "stdout",
       "text": [
        "745 "
       ]
      },
      {
       "output_type": "stream",
       "stream": "stdout",
       "text": [
        "746 "
       ]
      },
      {
       "output_type": "stream",
       "stream": "stdout",
       "text": [
        "747 "
       ]
      },
      {
       "output_type": "stream",
       "stream": "stdout",
       "text": [
        "748 "
       ]
      },
      {
       "output_type": "stream",
       "stream": "stdout",
       "text": [
        "749 "
       ]
      },
      {
       "output_type": "stream",
       "stream": "stdout",
       "text": [
        "750 "
       ]
      },
      {
       "output_type": "stream",
       "stream": "stdout",
       "text": [
        "751 "
       ]
      },
      {
       "output_type": "stream",
       "stream": "stdout",
       "text": [
        "752 "
       ]
      },
      {
       "output_type": "stream",
       "stream": "stdout",
       "text": [
        "753 "
       ]
      },
      {
       "output_type": "stream",
       "stream": "stdout",
       "text": [
        "754 "
       ]
      },
      {
       "output_type": "stream",
       "stream": "stdout",
       "text": [
        "755 "
       ]
      },
      {
       "output_type": "stream",
       "stream": "stdout",
       "text": [
        "756 "
       ]
      },
      {
       "output_type": "stream",
       "stream": "stdout",
       "text": [
        "757 "
       ]
      },
      {
       "output_type": "stream",
       "stream": "stdout",
       "text": [
        "758 "
       ]
      },
      {
       "output_type": "stream",
       "stream": "stdout",
       "text": [
        "759 "
       ]
      },
      {
       "output_type": "stream",
       "stream": "stdout",
       "text": [
        "760 "
       ]
      },
      {
       "output_type": "stream",
       "stream": "stdout",
       "text": [
        "761 "
       ]
      },
      {
       "output_type": "stream",
       "stream": "stdout",
       "text": [
        "762 "
       ]
      },
      {
       "output_type": "stream",
       "stream": "stdout",
       "text": [
        "763 "
       ]
      },
      {
       "output_type": "stream",
       "stream": "stdout",
       "text": [
        "764 "
       ]
      },
      {
       "output_type": "stream",
       "stream": "stdout",
       "text": [
        "765 "
       ]
      },
      {
       "output_type": "stream",
       "stream": "stdout",
       "text": [
        "766 "
       ]
      },
      {
       "output_type": "stream",
       "stream": "stdout",
       "text": [
        "767 "
       ]
      },
      {
       "output_type": "stream",
       "stream": "stdout",
       "text": [
        "768 "
       ]
      },
      {
       "output_type": "stream",
       "stream": "stdout",
       "text": [
        "769 "
       ]
      },
      {
       "output_type": "stream",
       "stream": "stdout",
       "text": [
        "770 "
       ]
      },
      {
       "output_type": "stream",
       "stream": "stdout",
       "text": [
        "771 "
       ]
      },
      {
       "output_type": "stream",
       "stream": "stdout",
       "text": [
        "772 "
       ]
      },
      {
       "output_type": "stream",
       "stream": "stdout",
       "text": [
        "773 "
       ]
      },
      {
       "output_type": "stream",
       "stream": "stdout",
       "text": [
        "774 "
       ]
      },
      {
       "output_type": "stream",
       "stream": "stdout",
       "text": [
        "775 "
       ]
      },
      {
       "output_type": "stream",
       "stream": "stdout",
       "text": [
        "776 "
       ]
      },
      {
       "output_type": "stream",
       "stream": "stdout",
       "text": [
        "777 "
       ]
      },
      {
       "output_type": "stream",
       "stream": "stdout",
       "text": [
        "778 "
       ]
      },
      {
       "output_type": "stream",
       "stream": "stdout",
       "text": [
        "779 "
       ]
      },
      {
       "output_type": "stream",
       "stream": "stdout",
       "text": [
        "780 "
       ]
      },
      {
       "output_type": "stream",
       "stream": "stdout",
       "text": [
        "781 "
       ]
      },
      {
       "output_type": "stream",
       "stream": "stdout",
       "text": [
        "782 "
       ]
      },
      {
       "output_type": "stream",
       "stream": "stdout",
       "text": [
        "783 "
       ]
      },
      {
       "output_type": "stream",
       "stream": "stdout",
       "text": [
        "784 "
       ]
      },
      {
       "output_type": "stream",
       "stream": "stdout",
       "text": [
        "785 "
       ]
      },
      {
       "output_type": "stream",
       "stream": "stdout",
       "text": [
        "786 "
       ]
      },
      {
       "output_type": "stream",
       "stream": "stdout",
       "text": [
        "787 "
       ]
      },
      {
       "output_type": "stream",
       "stream": "stdout",
       "text": [
        "788 "
       ]
      },
      {
       "output_type": "stream",
       "stream": "stdout",
       "text": [
        "789 "
       ]
      },
      {
       "output_type": "stream",
       "stream": "stdout",
       "text": [
        "790 "
       ]
      },
      {
       "output_type": "stream",
       "stream": "stdout",
       "text": [
        "791 "
       ]
      },
      {
       "output_type": "stream",
       "stream": "stdout",
       "text": [
        "792 "
       ]
      },
      {
       "output_type": "stream",
       "stream": "stdout",
       "text": [
        "793 "
       ]
      },
      {
       "output_type": "stream",
       "stream": "stdout",
       "text": [
        "794 "
       ]
      },
      {
       "output_type": "stream",
       "stream": "stdout",
       "text": [
        "795 "
       ]
      },
      {
       "output_type": "stream",
       "stream": "stdout",
       "text": [
        "796 "
       ]
      },
      {
       "output_type": "stream",
       "stream": "stdout",
       "text": [
        "797 "
       ]
      },
      {
       "output_type": "stream",
       "stream": "stdout",
       "text": [
        "798 "
       ]
      },
      {
       "output_type": "stream",
       "stream": "stdout",
       "text": [
        "799 "
       ]
      },
      {
       "output_type": "stream",
       "stream": "stdout",
       "text": [
        "800 "
       ]
      },
      {
       "output_type": "stream",
       "stream": "stdout",
       "text": [
        "801 "
       ]
      },
      {
       "output_type": "stream",
       "stream": "stdout",
       "text": [
        "802 "
       ]
      },
      {
       "output_type": "stream",
       "stream": "stdout",
       "text": [
        "803 "
       ]
      },
      {
       "output_type": "stream",
       "stream": "stdout",
       "text": [
        "804 "
       ]
      },
      {
       "output_type": "stream",
       "stream": "stdout",
       "text": [
        "805 "
       ]
      },
      {
       "output_type": "stream",
       "stream": "stdout",
       "text": [
        "806 "
       ]
      },
      {
       "output_type": "stream",
       "stream": "stdout",
       "text": [
        "807 "
       ]
      },
      {
       "output_type": "stream",
       "stream": "stdout",
       "text": [
        "808 "
       ]
      },
      {
       "output_type": "stream",
       "stream": "stdout",
       "text": [
        "809 "
       ]
      },
      {
       "output_type": "stream",
       "stream": "stdout",
       "text": [
        "810 "
       ]
      },
      {
       "output_type": "stream",
       "stream": "stdout",
       "text": [
        "811 "
       ]
      },
      {
       "output_type": "stream",
       "stream": "stdout",
       "text": [
        "812 "
       ]
      },
      {
       "output_type": "stream",
       "stream": "stdout",
       "text": [
        "813 "
       ]
      },
      {
       "output_type": "stream",
       "stream": "stdout",
       "text": [
        "814 "
       ]
      },
      {
       "output_type": "stream",
       "stream": "stdout",
       "text": [
        "815 "
       ]
      },
      {
       "output_type": "stream",
       "stream": "stdout",
       "text": [
        "816 "
       ]
      },
      {
       "output_type": "stream",
       "stream": "stdout",
       "text": [
        "817 "
       ]
      },
      {
       "output_type": "stream",
       "stream": "stdout",
       "text": [
        "818 "
       ]
      },
      {
       "output_type": "stream",
       "stream": "stdout",
       "text": [
        "819 "
       ]
      },
      {
       "output_type": "stream",
       "stream": "stdout",
       "text": [
        "820 "
       ]
      },
      {
       "output_type": "stream",
       "stream": "stdout",
       "text": [
        "821 "
       ]
      },
      {
       "output_type": "stream",
       "stream": "stdout",
       "text": [
        "822 "
       ]
      },
      {
       "output_type": "stream",
       "stream": "stdout",
       "text": [
        "823 "
       ]
      },
      {
       "output_type": "stream",
       "stream": "stdout",
       "text": [
        "824 "
       ]
      },
      {
       "output_type": "stream",
       "stream": "stdout",
       "text": [
        "825 "
       ]
      },
      {
       "output_type": "stream",
       "stream": "stdout",
       "text": [
        "826 "
       ]
      },
      {
       "output_type": "stream",
       "stream": "stdout",
       "text": [
        "827 "
       ]
      },
      {
       "output_type": "stream",
       "stream": "stdout",
       "text": [
        "828 "
       ]
      },
      {
       "output_type": "stream",
       "stream": "stdout",
       "text": [
        "829 "
       ]
      },
      {
       "output_type": "stream",
       "stream": "stdout",
       "text": [
        "830 "
       ]
      },
      {
       "output_type": "stream",
       "stream": "stdout",
       "text": [
        "831 "
       ]
      },
      {
       "output_type": "stream",
       "stream": "stdout",
       "text": [
        "832 "
       ]
      },
      {
       "output_type": "stream",
       "stream": "stdout",
       "text": [
        "833 "
       ]
      },
      {
       "output_type": "stream",
       "stream": "stdout",
       "text": [
        "834 "
       ]
      },
      {
       "output_type": "stream",
       "stream": "stdout",
       "text": [
        "835 "
       ]
      },
      {
       "output_type": "stream",
       "stream": "stdout",
       "text": [
        "836 "
       ]
      },
      {
       "output_type": "stream",
       "stream": "stdout",
       "text": [
        "837 "
       ]
      },
      {
       "output_type": "stream",
       "stream": "stdout",
       "text": [
        "838 "
       ]
      },
      {
       "output_type": "stream",
       "stream": "stdout",
       "text": [
        "839 "
       ]
      },
      {
       "output_type": "stream",
       "stream": "stdout",
       "text": [
        "840 "
       ]
      },
      {
       "output_type": "stream",
       "stream": "stdout",
       "text": [
        "841 "
       ]
      },
      {
       "output_type": "stream",
       "stream": "stdout",
       "text": [
        "842 "
       ]
      },
      {
       "output_type": "stream",
       "stream": "stdout",
       "text": [
        "843 "
       ]
      },
      {
       "output_type": "stream",
       "stream": "stdout",
       "text": [
        "844 "
       ]
      },
      {
       "output_type": "stream",
       "stream": "stdout",
       "text": [
        "845 "
       ]
      },
      {
       "output_type": "stream",
       "stream": "stdout",
       "text": [
        "846 "
       ]
      },
      {
       "output_type": "stream",
       "stream": "stdout",
       "text": [
        "847 "
       ]
      },
      {
       "output_type": "stream",
       "stream": "stdout",
       "text": [
        "848 "
       ]
      },
      {
       "output_type": "stream",
       "stream": "stdout",
       "text": [
        "849 "
       ]
      },
      {
       "output_type": "stream",
       "stream": "stdout",
       "text": [
        "850 "
       ]
      },
      {
       "output_type": "stream",
       "stream": "stdout",
       "text": [
        "851 "
       ]
      },
      {
       "output_type": "stream",
       "stream": "stdout",
       "text": [
        "852 "
       ]
      },
      {
       "output_type": "stream",
       "stream": "stdout",
       "text": [
        "853 "
       ]
      },
      {
       "output_type": "stream",
       "stream": "stdout",
       "text": [
        "854 "
       ]
      },
      {
       "output_type": "stream",
       "stream": "stdout",
       "text": [
        "855 "
       ]
      },
      {
       "output_type": "stream",
       "stream": "stdout",
       "text": [
        "856 "
       ]
      },
      {
       "output_type": "stream",
       "stream": "stdout",
       "text": [
        "857 "
       ]
      },
      {
       "output_type": "stream",
       "stream": "stdout",
       "text": [
        "858 "
       ]
      },
      {
       "output_type": "stream",
       "stream": "stdout",
       "text": [
        "859 "
       ]
      },
      {
       "output_type": "stream",
       "stream": "stdout",
       "text": [
        "860 "
       ]
      },
      {
       "output_type": "stream",
       "stream": "stdout",
       "text": [
        "861 "
       ]
      },
      {
       "output_type": "stream",
       "stream": "stdout",
       "text": [
        "862 "
       ]
      },
      {
       "output_type": "stream",
       "stream": "stdout",
       "text": [
        "863 "
       ]
      },
      {
       "output_type": "stream",
       "stream": "stdout",
       "text": [
        "864 "
       ]
      },
      {
       "output_type": "stream",
       "stream": "stdout",
       "text": [
        "865 "
       ]
      },
      {
       "output_type": "stream",
       "stream": "stdout",
       "text": [
        "866 "
       ]
      },
      {
       "output_type": "stream",
       "stream": "stdout",
       "text": [
        "867 "
       ]
      },
      {
       "output_type": "stream",
       "stream": "stdout",
       "text": [
        "868 "
       ]
      },
      {
       "output_type": "stream",
       "stream": "stdout",
       "text": [
        "869 "
       ]
      },
      {
       "output_type": "stream",
       "stream": "stdout",
       "text": [
        "870 "
       ]
      },
      {
       "output_type": "stream",
       "stream": "stdout",
       "text": [
        "871 "
       ]
      },
      {
       "output_type": "stream",
       "stream": "stdout",
       "text": [
        "872 "
       ]
      },
      {
       "output_type": "stream",
       "stream": "stdout",
       "text": [
        "873 "
       ]
      },
      {
       "output_type": "stream",
       "stream": "stdout",
       "text": [
        "874 "
       ]
      },
      {
       "output_type": "stream",
       "stream": "stdout",
       "text": [
        "875 "
       ]
      },
      {
       "output_type": "stream",
       "stream": "stdout",
       "text": [
        "876 "
       ]
      },
      {
       "output_type": "stream",
       "stream": "stdout",
       "text": [
        "877 "
       ]
      },
      {
       "output_type": "stream",
       "stream": "stdout",
       "text": [
        "878 "
       ]
      },
      {
       "output_type": "stream",
       "stream": "stdout",
       "text": [
        "879 "
       ]
      },
      {
       "output_type": "stream",
       "stream": "stdout",
       "text": [
        "880 "
       ]
      },
      {
       "output_type": "stream",
       "stream": "stdout",
       "text": [
        "881 "
       ]
      },
      {
       "output_type": "stream",
       "stream": "stdout",
       "text": [
        "882 "
       ]
      },
      {
       "output_type": "stream",
       "stream": "stdout",
       "text": [
        "883 "
       ]
      },
      {
       "output_type": "stream",
       "stream": "stdout",
       "text": [
        "884 "
       ]
      },
      {
       "output_type": "stream",
       "stream": "stdout",
       "text": [
        "885 "
       ]
      },
      {
       "output_type": "stream",
       "stream": "stdout",
       "text": [
        "886 "
       ]
      },
      {
       "output_type": "stream",
       "stream": "stdout",
       "text": [
        "887 "
       ]
      },
      {
       "output_type": "stream",
       "stream": "stdout",
       "text": [
        "888 "
       ]
      },
      {
       "output_type": "stream",
       "stream": "stdout",
       "text": [
        "889 "
       ]
      },
      {
       "output_type": "stream",
       "stream": "stdout",
       "text": [
        "890 "
       ]
      },
      {
       "output_type": "stream",
       "stream": "stdout",
       "text": [
        "891 "
       ]
      },
      {
       "output_type": "stream",
       "stream": "stdout",
       "text": [
        "892 "
       ]
      },
      {
       "output_type": "stream",
       "stream": "stdout",
       "text": [
        "893 "
       ]
      },
      {
       "output_type": "stream",
       "stream": "stdout",
       "text": [
        "894 "
       ]
      },
      {
       "output_type": "stream",
       "stream": "stdout",
       "text": [
        "895 "
       ]
      },
      {
       "output_type": "stream",
       "stream": "stdout",
       "text": [
        "896 "
       ]
      },
      {
       "output_type": "stream",
       "stream": "stdout",
       "text": [
        "897 "
       ]
      },
      {
       "output_type": "stream",
       "stream": "stdout",
       "text": [
        "898 "
       ]
      },
      {
       "output_type": "stream",
       "stream": "stdout",
       "text": [
        "899 "
       ]
      },
      {
       "output_type": "stream",
       "stream": "stdout",
       "text": [
        "900 "
       ]
      },
      {
       "output_type": "stream",
       "stream": "stdout",
       "text": [
        "901 "
       ]
      },
      {
       "output_type": "stream",
       "stream": "stdout",
       "text": [
        "902 "
       ]
      },
      {
       "output_type": "stream",
       "stream": "stdout",
       "text": [
        "903 "
       ]
      },
      {
       "output_type": "stream",
       "stream": "stdout",
       "text": [
        "904 "
       ]
      },
      {
       "output_type": "stream",
       "stream": "stdout",
       "text": [
        "905 "
       ]
      },
      {
       "output_type": "stream",
       "stream": "stdout",
       "text": [
        "906 "
       ]
      },
      {
       "output_type": "stream",
       "stream": "stdout",
       "text": [
        "907 "
       ]
      },
      {
       "output_type": "stream",
       "stream": "stdout",
       "text": [
        "908 "
       ]
      },
      {
       "output_type": "stream",
       "stream": "stdout",
       "text": [
        "909 "
       ]
      },
      {
       "output_type": "stream",
       "stream": "stdout",
       "text": [
        "910 "
       ]
      },
      {
       "output_type": "stream",
       "stream": "stdout",
       "text": [
        "911 "
       ]
      },
      {
       "output_type": "stream",
       "stream": "stdout",
       "text": [
        "912 "
       ]
      },
      {
       "output_type": "stream",
       "stream": "stdout",
       "text": [
        "913 "
       ]
      },
      {
       "output_type": "stream",
       "stream": "stdout",
       "text": [
        "914 "
       ]
      },
      {
       "output_type": "stream",
       "stream": "stdout",
       "text": [
        "915 "
       ]
      },
      {
       "output_type": "stream",
       "stream": "stdout",
       "text": [
        "916 "
       ]
      },
      {
       "output_type": "stream",
       "stream": "stdout",
       "text": [
        "917 "
       ]
      },
      {
       "output_type": "stream",
       "stream": "stdout",
       "text": [
        "918 "
       ]
      },
      {
       "output_type": "stream",
       "stream": "stdout",
       "text": [
        "919 "
       ]
      },
      {
       "output_type": "stream",
       "stream": "stdout",
       "text": [
        "920 "
       ]
      },
      {
       "output_type": "stream",
       "stream": "stdout",
       "text": [
        "921 "
       ]
      },
      {
       "output_type": "stream",
       "stream": "stdout",
       "text": [
        "922 "
       ]
      },
      {
       "output_type": "stream",
       "stream": "stdout",
       "text": [
        "923 "
       ]
      },
      {
       "output_type": "stream",
       "stream": "stdout",
       "text": [
        "924 "
       ]
      },
      {
       "output_type": "stream",
       "stream": "stdout",
       "text": [
        "925 "
       ]
      },
      {
       "output_type": "stream",
       "stream": "stdout",
       "text": [
        "926 "
       ]
      },
      {
       "output_type": "stream",
       "stream": "stdout",
       "text": [
        "927 "
       ]
      },
      {
       "output_type": "stream",
       "stream": "stdout",
       "text": [
        "928 "
       ]
      },
      {
       "output_type": "stream",
       "stream": "stdout",
       "text": [
        "929 "
       ]
      },
      {
       "output_type": "stream",
       "stream": "stdout",
       "text": [
        "930 "
       ]
      },
      {
       "output_type": "stream",
       "stream": "stdout",
       "text": [
        "931 "
       ]
      },
      {
       "output_type": "stream",
       "stream": "stdout",
       "text": [
        "932 "
       ]
      },
      {
       "output_type": "stream",
       "stream": "stdout",
       "text": [
        "933 "
       ]
      },
      {
       "output_type": "stream",
       "stream": "stdout",
       "text": [
        "934 "
       ]
      },
      {
       "output_type": "stream",
       "stream": "stdout",
       "text": [
        "935 "
       ]
      },
      {
       "output_type": "stream",
       "stream": "stdout",
       "text": [
        "936 "
       ]
      },
      {
       "output_type": "stream",
       "stream": "stdout",
       "text": [
        "937 "
       ]
      },
      {
       "output_type": "stream",
       "stream": "stdout",
       "text": [
        "938 "
       ]
      },
      {
       "output_type": "stream",
       "stream": "stdout",
       "text": [
        "939 "
       ]
      },
      {
       "output_type": "stream",
       "stream": "stdout",
       "text": [
        "940 "
       ]
      },
      {
       "output_type": "stream",
       "stream": "stdout",
       "text": [
        "941 "
       ]
      },
      {
       "output_type": "stream",
       "stream": "stdout",
       "text": [
        "942 "
       ]
      },
      {
       "output_type": "stream",
       "stream": "stdout",
       "text": [
        "943 "
       ]
      },
      {
       "output_type": "stream",
       "stream": "stdout",
       "text": [
        "944 "
       ]
      },
      {
       "output_type": "stream",
       "stream": "stdout",
       "text": [
        "945 "
       ]
      },
      {
       "output_type": "stream",
       "stream": "stdout",
       "text": [
        "946 "
       ]
      },
      {
       "output_type": "stream",
       "stream": "stdout",
       "text": [
        "947 "
       ]
      },
      {
       "output_type": "stream",
       "stream": "stdout",
       "text": [
        "948 "
       ]
      },
      {
       "output_type": "stream",
       "stream": "stdout",
       "text": [
        "949 "
       ]
      },
      {
       "output_type": "stream",
       "stream": "stdout",
       "text": [
        "950 "
       ]
      },
      {
       "output_type": "stream",
       "stream": "stdout",
       "text": [
        "951 "
       ]
      },
      {
       "output_type": "stream",
       "stream": "stdout",
       "text": [
        "952 "
       ]
      },
      {
       "output_type": "stream",
       "stream": "stdout",
       "text": [
        "953 "
       ]
      },
      {
       "output_type": "stream",
       "stream": "stdout",
       "text": [
        "954 "
       ]
      },
      {
       "output_type": "stream",
       "stream": "stdout",
       "text": [
        "955 "
       ]
      },
      {
       "output_type": "stream",
       "stream": "stdout",
       "text": [
        "956 "
       ]
      },
      {
       "output_type": "stream",
       "stream": "stdout",
       "text": [
        "957 "
       ]
      },
      {
       "output_type": "stream",
       "stream": "stdout",
       "text": [
        "958 "
       ]
      },
      {
       "output_type": "stream",
       "stream": "stdout",
       "text": [
        "959 "
       ]
      },
      {
       "output_type": "stream",
       "stream": "stdout",
       "text": [
        "960 "
       ]
      },
      {
       "output_type": "stream",
       "stream": "stdout",
       "text": [
        "961 "
       ]
      },
      {
       "output_type": "stream",
       "stream": "stdout",
       "text": [
        "962 "
       ]
      },
      {
       "output_type": "stream",
       "stream": "stdout",
       "text": [
        "963 "
       ]
      },
      {
       "output_type": "stream",
       "stream": "stdout",
       "text": [
        "964 "
       ]
      },
      {
       "output_type": "stream",
       "stream": "stdout",
       "text": [
        "965 "
       ]
      },
      {
       "output_type": "stream",
       "stream": "stdout",
       "text": [
        "966 "
       ]
      },
      {
       "output_type": "stream",
       "stream": "stdout",
       "text": [
        "967 "
       ]
      },
      {
       "output_type": "stream",
       "stream": "stdout",
       "text": [
        "968 "
       ]
      },
      {
       "output_type": "stream",
       "stream": "stdout",
       "text": [
        "969 "
       ]
      },
      {
       "output_type": "stream",
       "stream": "stdout",
       "text": [
        "970 "
       ]
      },
      {
       "output_type": "stream",
       "stream": "stdout",
       "text": [
        "971 "
       ]
      },
      {
       "output_type": "stream",
       "stream": "stdout",
       "text": [
        "972 "
       ]
      },
      {
       "output_type": "stream",
       "stream": "stdout",
       "text": [
        "973 "
       ]
      },
      {
       "output_type": "stream",
       "stream": "stdout",
       "text": [
        "974 "
       ]
      },
      {
       "output_type": "stream",
       "stream": "stdout",
       "text": [
        "975 "
       ]
      },
      {
       "output_type": "stream",
       "stream": "stdout",
       "text": [
        "976 "
       ]
      },
      {
       "output_type": "stream",
       "stream": "stdout",
       "text": [
        "977 "
       ]
      },
      {
       "output_type": "stream",
       "stream": "stdout",
       "text": [
        "978 "
       ]
      },
      {
       "output_type": "stream",
       "stream": "stdout",
       "text": [
        "979 "
       ]
      },
      {
       "output_type": "stream",
       "stream": "stdout",
       "text": [
        "980 "
       ]
      },
      {
       "output_type": "stream",
       "stream": "stdout",
       "text": [
        "981 "
       ]
      },
      {
       "output_type": "stream",
       "stream": "stdout",
       "text": [
        "982 "
       ]
      },
      {
       "output_type": "stream",
       "stream": "stdout",
       "text": [
        "983 "
       ]
      },
      {
       "output_type": "stream",
       "stream": "stdout",
       "text": [
        "984 "
       ]
      },
      {
       "output_type": "stream",
       "stream": "stdout",
       "text": [
        "985 "
       ]
      },
      {
       "output_type": "stream",
       "stream": "stdout",
       "text": [
        "986 "
       ]
      },
      {
       "output_type": "stream",
       "stream": "stdout",
       "text": [
        "987 "
       ]
      },
      {
       "output_type": "stream",
       "stream": "stdout",
       "text": [
        "988 "
       ]
      },
      {
       "output_type": "stream",
       "stream": "stdout",
       "text": [
        "989 "
       ]
      },
      {
       "output_type": "stream",
       "stream": "stdout",
       "text": [
        "990 "
       ]
      },
      {
       "output_type": "stream",
       "stream": "stdout",
       "text": [
        "991 "
       ]
      },
      {
       "output_type": "stream",
       "stream": "stdout",
       "text": [
        "992 "
       ]
      },
      {
       "output_type": "stream",
       "stream": "stdout",
       "text": [
        "993 "
       ]
      },
      {
       "output_type": "stream",
       "stream": "stdout",
       "text": [
        "994 "
       ]
      },
      {
       "output_type": "stream",
       "stream": "stdout",
       "text": [
        "995 "
       ]
      },
      {
       "output_type": "stream",
       "stream": "stdout",
       "text": [
        "996 "
       ]
      },
      {
       "output_type": "stream",
       "stream": "stdout",
       "text": [
        "997 "
       ]
      },
      {
       "output_type": "stream",
       "stream": "stdout",
       "text": [
        "998 "
       ]
      },
      {
       "output_type": "stream",
       "stream": "stdout",
       "text": [
        "999\n"
       ]
      }
     ],
     "prompt_number": 38
    },
    {
     "cell_type": "markdown",
     "metadata": {},
     "source": [
      "#### Tabulate"
     ]
    },
    {
     "cell_type": "code",
     "collapsed": false,
     "input": [
      "cutoffs = [1, 3, 20, 100, 1000]\n",
      "print '{:30} {}'.format('Method', '  '.join(['{:4d}'.format(cutoff) for cutoff in cutoffs]))\n",
      "for method, result_file in [('Levenshtein', 'levenshtein_generation_result.txt'), \n",
      "                            ('Levenshtein rank', 'levenshtein_generation_result_using_rank.txt'), \n",
      "                            ('Hacrf no transition', 'generation_result.txt'),\n",
      "                            ('Hacrf no transition (pre-rank)', 'generation_result_with_pre_rank_no_transition.txt'),\n",
      "                            ('Hacrf transition (pre-rank)', 'generation_result_with_pre_rank.txt')]:\n",
      "    results = [line.split() for line in open(result_file, 'r').readlines()[:588]]\n",
      "    results = [(line[1], [candidate[0] for candidate in eval(''.join(line[2:]))]) for line in results]\n",
      "    result_indices = [line[1].index(line[0]) if line[0] in line[1] else 1001 for line in results]\n",
      "    print '{:30} {}'.format(method, '  '.join(['{:.2f}'.format(sum([1.0 if res < cutoff else 0.0 for res in result_indices]) / len(result_indices))\n",
      "                   for cutoff in cutoffs]))"
     ],
     "language": "python",
     "metadata": {},
     "outputs": [
      {
       "output_type": "stream",
       "stream": "stdout",
       "text": [
        "Method                            1     3    20   100  1000\n",
        "Levenshtein                    0.38  0.54  0.71  0.78  0.90"
       ]
      },
      {
       "output_type": "stream",
       "stream": "stdout",
       "text": [
        "\n",
        "Levenshtein rank               0.47  0.61  0.74  0.82  0.91"
       ]
      },
      {
       "output_type": "stream",
       "stream": "stdout",
       "text": [
        "\n",
        "Hacrf no transition            0.51  0.67  0.82  0.93  0.98"
       ]
      },
      {
       "output_type": "stream",
       "stream": "stdout",
       "text": [
        "\n",
        "Hacrf no transition (pre-rank) 0.54  0.67  0.82  0.88  0.91"
       ]
      },
      {
       "output_type": "stream",
       "stream": "stdout",
       "text": [
        "\n",
        "Hacrf transition (pre-rank)    0.49  0.65  0.84  0.90  0.91"
       ]
      },
      {
       "output_type": "stream",
       "stream": "stdout",
       "text": [
        "\n"
       ]
      }
     ],
     "prompt_number": 89
    }
   ],
   "metadata": {}
  }
 ]
}